{
 "cells": [
  {
   "cell_type": "markdown",
   "id": "6a027c7a-0b21-4d8a-b138-6f883f1193d7",
   "metadata": {},
   "source": [
    "# Predict calorie expenditure"
   ]
  },
  {
   "cell_type": "code",
   "execution_count": 1,
   "id": "a07354a6-9096-4eeb-8ea4-55b104811870",
   "metadata": {},
   "outputs": [],
   "source": [
    "# Libraries\n",
    "\n",
    "## Basic libraries\n",
    "import numpy as np\n",
    "import pandas as pd\n",
    "import seaborn as sns\n",
    "\n",
    "import math\n",
    "\n",
    "## Plotting\n",
    "import matplotlib.pyplot as plt\n",
    "\n",
    "# Basic cleaning\n",
    "## Variance\n",
    "from sklearn.feature_selection import VarianceThreshold\n",
    "from sklearn.model_selection import cross_val_score, RepeatedStratifiedKFold\n",
    "from sklearn.metrics import mean_squared_log_error, make_scorer, mean_squared_error\n",
    "from scipy.stats import iqr\n",
    "\n",
    "from sklearn.linear_model import LinearRegression\n",
    "from sklearn.ensemble import RandomForestRegressor\n",
    "from sklearn.model_selection import train_test_split \n",
    "from sklearn.preprocessing import OneHotEncoder, MinMaxScaler, RobustScaler\n",
    "from sklearn.pipeline import make_pipeline, make_union\n",
    "from sklearn.compose import make_column_transformer, TransformedTargetRegressor"
   ]
  },
  {
   "cell_type": "markdown",
   "id": "e25fa85f-3770-42da-91eb-3c9335faef8a",
   "metadata": {},
   "source": [
    "## Load dataset"
   ]
  },
  {
   "cell_type": "code",
   "execution_count": 2,
   "id": "1c95af44-015b-48c4-a19f-99dd7b54db93",
   "metadata": {},
   "outputs": [
    {
     "data": {
      "text/plain": [
       "'Shape of data : (750000, 8)'"
      ]
     },
     "metadata": {},
     "output_type": "display_data"
    }
   ],
   "source": [
    "# Load datasets\n",
    "\n",
    "# Paths\n",
    "calorie_train_data_path = \"../data/raw_data/train.csv\"\n",
    "\n",
    "# Read train data\n",
    "data=pd.read_csv(calorie_train_data_path,index_col='id')\n",
    "display(f\"Shape of data : {data.shape}\")"
   ]
  },
  {
   "cell_type": "code",
   "execution_count": 3,
   "id": "2226769c-4d0f-47c5-8878-9c96845204c3",
   "metadata": {},
   "outputs": [],
   "source": [
    "# Copy of datasets\n",
    "data_copy = data.copy()"
   ]
  },
  {
   "cell_type": "markdown",
   "id": "65586ef1-d438-4fc0-96d7-5f70c46d25a0",
   "metadata": {},
   "source": [
    "## Quick exploration"
   ]
  },
  {
   "cell_type": "code",
   "execution_count": 4,
   "id": "8116a2ea-7c7e-4264-8c1d-3d81b94dbab4",
   "metadata": {},
   "outputs": [
    {
     "data": {
      "text/html": [
       "<div>\n",
       "<style scoped>\n",
       "    .dataframe tbody tr th:only-of-type {\n",
       "        vertical-align: middle;\n",
       "    }\n",
       "\n",
       "    .dataframe tbody tr th {\n",
       "        vertical-align: top;\n",
       "    }\n",
       "\n",
       "    .dataframe thead th {\n",
       "        text-align: right;\n",
       "    }\n",
       "</style>\n",
       "<table border=\"1\" class=\"dataframe\">\n",
       "  <thead>\n",
       "    <tr style=\"text-align: right;\">\n",
       "      <th></th>\n",
       "      <th>Sex</th>\n",
       "      <th>Age</th>\n",
       "      <th>Height</th>\n",
       "      <th>Weight</th>\n",
       "      <th>Duration</th>\n",
       "      <th>Heart_Rate</th>\n",
       "      <th>Body_Temp</th>\n",
       "      <th>Calories</th>\n",
       "    </tr>\n",
       "    <tr>\n",
       "      <th>id</th>\n",
       "      <th></th>\n",
       "      <th></th>\n",
       "      <th></th>\n",
       "      <th></th>\n",
       "      <th></th>\n",
       "      <th></th>\n",
       "      <th></th>\n",
       "      <th></th>\n",
       "    </tr>\n",
       "  </thead>\n",
       "  <tbody>\n",
       "    <tr>\n",
       "      <th>0</th>\n",
       "      <td>male</td>\n",
       "      <td>36</td>\n",
       "      <td>189.0</td>\n",
       "      <td>82.0</td>\n",
       "      <td>26.0</td>\n",
       "      <td>101.0</td>\n",
       "      <td>41.0</td>\n",
       "      <td>150.0</td>\n",
       "    </tr>\n",
       "    <tr>\n",
       "      <th>1</th>\n",
       "      <td>female</td>\n",
       "      <td>64</td>\n",
       "      <td>163.0</td>\n",
       "      <td>60.0</td>\n",
       "      <td>8.0</td>\n",
       "      <td>85.0</td>\n",
       "      <td>39.7</td>\n",
       "      <td>34.0</td>\n",
       "    </tr>\n",
       "  </tbody>\n",
       "</table>\n",
       "</div>"
      ],
      "text/plain": [
       "       Sex  Age  Height  Weight  Duration  Heart_Rate  Body_Temp  Calories\n",
       "id                                                                        \n",
       "0     male   36   189.0    82.0      26.0       101.0       41.0     150.0\n",
       "1   female   64   163.0    60.0       8.0        85.0       39.7      34.0"
      ]
     },
     "execution_count": 4,
     "metadata": {},
     "output_type": "execute_result"
    }
   ],
   "source": [
    "# Overview of the first lines\n",
    "data.head(2)"
   ]
  },
  {
   "cell_type": "code",
   "execution_count": 5,
   "id": "de70de27-a03c-4f92-a1bc-9897728fa72b",
   "metadata": {},
   "outputs": [
    {
     "name": "stdout",
     "output_type": "stream",
     "text": [
      "<class 'pandas.core.frame.DataFrame'>\n",
      "Index: 750000 entries, 0 to 749999\n",
      "Data columns (total 8 columns):\n",
      " #   Column      Non-Null Count   Dtype  \n",
      "---  ------      --------------   -----  \n",
      " 0   Sex         750000 non-null  object \n",
      " 1   Age         750000 non-null  int64  \n",
      " 2   Height      750000 non-null  float64\n",
      " 3   Weight      750000 non-null  float64\n",
      " 4   Duration    750000 non-null  float64\n",
      " 5   Heart_Rate  750000 non-null  float64\n",
      " 6   Body_Temp   750000 non-null  float64\n",
      " 7   Calories    750000 non-null  float64\n",
      "dtypes: float64(6), int64(1), object(1)\n",
      "memory usage: 51.5+ MB\n"
     ]
    }
   ],
   "source": [
    "# Data info\n",
    "data.info()"
   ]
  },
  {
   "cell_type": "code",
   "execution_count": 6,
   "id": "41f223be-c68a-4719-8899-5590588a3de7",
   "metadata": {},
   "outputs": [
    {
     "data": {
      "text/html": [
       "<div>\n",
       "<style scoped>\n",
       "    .dataframe tbody tr th:only-of-type {\n",
       "        vertical-align: middle;\n",
       "    }\n",
       "\n",
       "    .dataframe tbody tr th {\n",
       "        vertical-align: top;\n",
       "    }\n",
       "\n",
       "    .dataframe thead th {\n",
       "        text-align: right;\n",
       "    }\n",
       "</style>\n",
       "<table border=\"1\" class=\"dataframe\">\n",
       "  <thead>\n",
       "    <tr style=\"text-align: right;\">\n",
       "      <th></th>\n",
       "      <th>Age</th>\n",
       "      <th>Height</th>\n",
       "      <th>Weight</th>\n",
       "      <th>Duration</th>\n",
       "      <th>Heart_Rate</th>\n",
       "      <th>Body_Temp</th>\n",
       "      <th>Calories</th>\n",
       "    </tr>\n",
       "  </thead>\n",
       "  <tbody>\n",
       "    <tr>\n",
       "      <th>count</th>\n",
       "      <td>750000.000000</td>\n",
       "      <td>750000.000000</td>\n",
       "      <td>750000.000000</td>\n",
       "      <td>750000.000000</td>\n",
       "      <td>750000.000000</td>\n",
       "      <td>750000.000000</td>\n",
       "      <td>750000.000000</td>\n",
       "    </tr>\n",
       "    <tr>\n",
       "      <th>mean</th>\n",
       "      <td>41.420404</td>\n",
       "      <td>174.697685</td>\n",
       "      <td>75.145668</td>\n",
       "      <td>15.421015</td>\n",
       "      <td>95.483995</td>\n",
       "      <td>40.036253</td>\n",
       "      <td>88.282781</td>\n",
       "    </tr>\n",
       "    <tr>\n",
       "      <th>std</th>\n",
       "      <td>15.175049</td>\n",
       "      <td>12.824496</td>\n",
       "      <td>13.982704</td>\n",
       "      <td>8.354095</td>\n",
       "      <td>9.449845</td>\n",
       "      <td>0.779875</td>\n",
       "      <td>62.395349</td>\n",
       "    </tr>\n",
       "    <tr>\n",
       "      <th>min</th>\n",
       "      <td>20.000000</td>\n",
       "      <td>126.000000</td>\n",
       "      <td>36.000000</td>\n",
       "      <td>1.000000</td>\n",
       "      <td>67.000000</td>\n",
       "      <td>37.100000</td>\n",
       "      <td>1.000000</td>\n",
       "    </tr>\n",
       "    <tr>\n",
       "      <th>25%</th>\n",
       "      <td>28.000000</td>\n",
       "      <td>164.000000</td>\n",
       "      <td>63.000000</td>\n",
       "      <td>8.000000</td>\n",
       "      <td>88.000000</td>\n",
       "      <td>39.600000</td>\n",
       "      <td>34.000000</td>\n",
       "    </tr>\n",
       "    <tr>\n",
       "      <th>50%</th>\n",
       "      <td>40.000000</td>\n",
       "      <td>174.000000</td>\n",
       "      <td>74.000000</td>\n",
       "      <td>15.000000</td>\n",
       "      <td>95.000000</td>\n",
       "      <td>40.300000</td>\n",
       "      <td>77.000000</td>\n",
       "    </tr>\n",
       "    <tr>\n",
       "      <th>75%</th>\n",
       "      <td>52.000000</td>\n",
       "      <td>185.000000</td>\n",
       "      <td>87.000000</td>\n",
       "      <td>23.000000</td>\n",
       "      <td>103.000000</td>\n",
       "      <td>40.700000</td>\n",
       "      <td>136.000000</td>\n",
       "    </tr>\n",
       "    <tr>\n",
       "      <th>max</th>\n",
       "      <td>79.000000</td>\n",
       "      <td>222.000000</td>\n",
       "      <td>132.000000</td>\n",
       "      <td>30.000000</td>\n",
       "      <td>128.000000</td>\n",
       "      <td>41.500000</td>\n",
       "      <td>314.000000</td>\n",
       "    </tr>\n",
       "  </tbody>\n",
       "</table>\n",
       "</div>"
      ],
      "text/plain": [
       "                 Age         Height         Weight       Duration  \\\n",
       "count  750000.000000  750000.000000  750000.000000  750000.000000   \n",
       "mean       41.420404     174.697685      75.145668      15.421015   \n",
       "std        15.175049      12.824496      13.982704       8.354095   \n",
       "min        20.000000     126.000000      36.000000       1.000000   \n",
       "25%        28.000000     164.000000      63.000000       8.000000   \n",
       "50%        40.000000     174.000000      74.000000      15.000000   \n",
       "75%        52.000000     185.000000      87.000000      23.000000   \n",
       "max        79.000000     222.000000     132.000000      30.000000   \n",
       "\n",
       "          Heart_Rate      Body_Temp       Calories  \n",
       "count  750000.000000  750000.000000  750000.000000  \n",
       "mean       95.483995      40.036253      88.282781  \n",
       "std         9.449845       0.779875      62.395349  \n",
       "min        67.000000      37.100000       1.000000  \n",
       "25%        88.000000      39.600000      34.000000  \n",
       "50%        95.000000      40.300000      77.000000  \n",
       "75%       103.000000      40.700000     136.000000  \n",
       "max       128.000000      41.500000     314.000000  "
      ]
     },
     "execution_count": 6,
     "metadata": {},
     "output_type": "execute_result"
    }
   ],
   "source": [
    "# Descriptive statistics\n",
    "data.describe()"
   ]
  },
  {
   "cell_type": "code",
   "execution_count": 7,
   "id": "798015ab-2145-486b-94ac-498be323c770",
   "metadata": {},
   "outputs": [],
   "source": [
    "def plot_histplot_sns(df):\n",
    "    \"\"\"\n",
    "    Plots Seaborn histograms of numerical columns\n",
    "    Args:\n",
    "        df (DataFrame): Raw data\n",
    "    Returns:\n",
    "        Subplot grids of numerical columns\n",
    "    \"\"\"\n",
    "    #Only select numerical features \n",
    "    num_df = df.select_dtypes(include='number')\n",
    "        \n",
    "    vars = num_df.columns\n",
    "    n = len(num_df.columns)\n",
    "    cols = 3\n",
    "    rows = math.ceil(n / cols)\n",
    "\n",
    "    fig, axes = plt.subplots(rows, cols, figsize=(cols*5, rows*4))\n",
    "    axes = axes.flatten()\n",
    "\n",
    "    for i, var in enumerate(vars):\n",
    "        sns.histplot(data=num_df,kde=True, x=var, ax=axes[i])\n",
    "        axes[i].set_title(var)\n",
    "\n",
    "    # Delete unused subplots\n",
    "    for j in range(i+1, len(axes)):\n",
    "        fig.delaxes(axes[j])\n",
    "\n",
    "    plt.tight_layout()\n",
    "    plt.show()"
   ]
  },
  {
   "cell_type": "code",
   "execution_count": 8,
   "id": "0a3625e1-2d3c-4871-8808-0872fe60f51c",
   "metadata": {},
   "outputs": [
    {
     "ename": "KeyboardInterrupt",
     "evalue": "",
     "output_type": "error",
     "traceback": [
      "\u001b[0;31m---------------------------------------------------------------------------\u001b[0m",
      "\u001b[0;31mKeyboardInterrupt\u001b[0m                         Traceback (most recent call last)",
      "Cell \u001b[0;32mIn [8], line 2\u001b[0m\n\u001b[1;32m      1\u001b[0m \u001b[38;5;66;03m# Display hist plots for numerical features.\u001b[39;00m\n\u001b[0;32m----> 2\u001b[0m \u001b[43mplot_histplot_sns\u001b[49m\u001b[43m(\u001b[49m\u001b[43mdata\u001b[49m\u001b[43m)\u001b[49m\n",
      "Cell \u001b[0;32mIn [7], line 21\u001b[0m, in \u001b[0;36mplot_histplot_sns\u001b[0;34m(df)\u001b[0m\n\u001b[1;32m     18\u001b[0m axes \u001b[38;5;241m=\u001b[39m axes\u001b[38;5;241m.\u001b[39mflatten()\n\u001b[1;32m     20\u001b[0m \u001b[38;5;28;01mfor\u001b[39;00m i, var \u001b[38;5;129;01min\u001b[39;00m \u001b[38;5;28menumerate\u001b[39m(\u001b[38;5;28mvars\u001b[39m):\n\u001b[0;32m---> 21\u001b[0m     \u001b[43msns\u001b[49m\u001b[38;5;241;43m.\u001b[39;49m\u001b[43mhistplot\u001b[49m\u001b[43m(\u001b[49m\u001b[43mdata\u001b[49m\u001b[38;5;241;43m=\u001b[39;49m\u001b[43mnum_df\u001b[49m\u001b[43m,\u001b[49m\u001b[43mkde\u001b[49m\u001b[38;5;241;43m=\u001b[39;49m\u001b[38;5;28;43;01mTrue\u001b[39;49;00m\u001b[43m,\u001b[49m\u001b[43m \u001b[49m\u001b[43mx\u001b[49m\u001b[38;5;241;43m=\u001b[39;49m\u001b[43mvar\u001b[49m\u001b[43m,\u001b[49m\u001b[43m \u001b[49m\u001b[43max\u001b[49m\u001b[38;5;241;43m=\u001b[39;49m\u001b[43maxes\u001b[49m\u001b[43m[\u001b[49m\u001b[43mi\u001b[49m\u001b[43m]\u001b[49m\u001b[43m)\u001b[49m\n\u001b[1;32m     22\u001b[0m     axes[i]\u001b[38;5;241m.\u001b[39mset_title(var)\n\u001b[1;32m     24\u001b[0m \u001b[38;5;66;03m# Delete unused subplots\u001b[39;00m\n",
      "File \u001b[0;32m~/.pyenv/versions/3.10.6/envs/fresh_env/lib/python3.10/site-packages/seaborn/distributions.py:1416\u001b[0m, in \u001b[0;36mhistplot\u001b[0;34m(data, x, y, hue, weights, stat, bins, binwidth, binrange, discrete, cumulative, common_bins, common_norm, multiple, element, fill, shrink, kde, kde_kws, line_kws, thresh, pthresh, pmax, cbar, cbar_ax, cbar_kws, palette, hue_order, hue_norm, color, log_scale, legend, ax, **kwargs)\u001b[0m\n\u001b[1;32m   1405\u001b[0m estimate_kws \u001b[38;5;241m=\u001b[39m \u001b[38;5;28mdict\u001b[39m(\n\u001b[1;32m   1406\u001b[0m     stat\u001b[38;5;241m=\u001b[39mstat,\n\u001b[1;32m   1407\u001b[0m     bins\u001b[38;5;241m=\u001b[39mbins,\n\u001b[0;32m   (...)\u001b[0m\n\u001b[1;32m   1411\u001b[0m     cumulative\u001b[38;5;241m=\u001b[39mcumulative,\n\u001b[1;32m   1412\u001b[0m )\n\u001b[1;32m   1414\u001b[0m \u001b[38;5;28;01mif\u001b[39;00m p\u001b[38;5;241m.\u001b[39munivariate:\n\u001b[0;32m-> 1416\u001b[0m     \u001b[43mp\u001b[49m\u001b[38;5;241;43m.\u001b[39;49m\u001b[43mplot_univariate_histogram\u001b[49m\u001b[43m(\u001b[49m\n\u001b[1;32m   1417\u001b[0m \u001b[43m        \u001b[49m\u001b[43mmultiple\u001b[49m\u001b[38;5;241;43m=\u001b[39;49m\u001b[43mmultiple\u001b[49m\u001b[43m,\u001b[49m\n\u001b[1;32m   1418\u001b[0m \u001b[43m        \u001b[49m\u001b[43melement\u001b[49m\u001b[38;5;241;43m=\u001b[39;49m\u001b[43melement\u001b[49m\u001b[43m,\u001b[49m\n\u001b[1;32m   1419\u001b[0m \u001b[43m        \u001b[49m\u001b[43mfill\u001b[49m\u001b[38;5;241;43m=\u001b[39;49m\u001b[43mfill\u001b[49m\u001b[43m,\u001b[49m\n\u001b[1;32m   1420\u001b[0m \u001b[43m        \u001b[49m\u001b[43mshrink\u001b[49m\u001b[38;5;241;43m=\u001b[39;49m\u001b[43mshrink\u001b[49m\u001b[43m,\u001b[49m\n\u001b[1;32m   1421\u001b[0m \u001b[43m        \u001b[49m\u001b[43mcommon_norm\u001b[49m\u001b[38;5;241;43m=\u001b[39;49m\u001b[43mcommon_norm\u001b[49m\u001b[43m,\u001b[49m\n\u001b[1;32m   1422\u001b[0m \u001b[43m        \u001b[49m\u001b[43mcommon_bins\u001b[49m\u001b[38;5;241;43m=\u001b[39;49m\u001b[43mcommon_bins\u001b[49m\u001b[43m,\u001b[49m\n\u001b[1;32m   1423\u001b[0m \u001b[43m        \u001b[49m\u001b[43mkde\u001b[49m\u001b[38;5;241;43m=\u001b[39;49m\u001b[43mkde\u001b[49m\u001b[43m,\u001b[49m\n\u001b[1;32m   1424\u001b[0m \u001b[43m        \u001b[49m\u001b[43mkde_kws\u001b[49m\u001b[38;5;241;43m=\u001b[39;49m\u001b[43mkde_kws\u001b[49m\u001b[43m,\u001b[49m\n\u001b[1;32m   1425\u001b[0m \u001b[43m        \u001b[49m\u001b[43mcolor\u001b[49m\u001b[38;5;241;43m=\u001b[39;49m\u001b[43mcolor\u001b[49m\u001b[43m,\u001b[49m\n\u001b[1;32m   1426\u001b[0m \u001b[43m        \u001b[49m\u001b[43mlegend\u001b[49m\u001b[38;5;241;43m=\u001b[39;49m\u001b[43mlegend\u001b[49m\u001b[43m,\u001b[49m\n\u001b[1;32m   1427\u001b[0m \u001b[43m        \u001b[49m\u001b[43mestimate_kws\u001b[49m\u001b[38;5;241;43m=\u001b[39;49m\u001b[43mestimate_kws\u001b[49m\u001b[43m,\u001b[49m\n\u001b[1;32m   1428\u001b[0m \u001b[43m        \u001b[49m\u001b[43mline_kws\u001b[49m\u001b[38;5;241;43m=\u001b[39;49m\u001b[43mline_kws\u001b[49m\u001b[43m,\u001b[49m\n\u001b[1;32m   1429\u001b[0m \u001b[43m        \u001b[49m\u001b[38;5;241;43m*\u001b[39;49m\u001b[38;5;241;43m*\u001b[39;49m\u001b[43mkwargs\u001b[49m\u001b[43m,\u001b[49m\n\u001b[1;32m   1430\u001b[0m \u001b[43m    \u001b[49m\u001b[43m)\u001b[49m\n\u001b[1;32m   1432\u001b[0m \u001b[38;5;28;01melse\u001b[39;00m:\n\u001b[1;32m   1434\u001b[0m     p\u001b[38;5;241m.\u001b[39mplot_bivariate_histogram(\n\u001b[1;32m   1435\u001b[0m         common_bins\u001b[38;5;241m=\u001b[39mcommon_bins,\n\u001b[1;32m   1436\u001b[0m         common_norm\u001b[38;5;241m=\u001b[39mcommon_norm,\n\u001b[0;32m   (...)\u001b[0m\n\u001b[1;32m   1446\u001b[0m         \u001b[38;5;241m*\u001b[39m\u001b[38;5;241m*\u001b[39mkwargs,\n\u001b[1;32m   1447\u001b[0m     )\n",
      "File \u001b[0;32m~/.pyenv/versions/3.10.6/envs/fresh_env/lib/python3.10/site-packages/seaborn/distributions.py:447\u001b[0m, in \u001b[0;36m_DistributionPlotter.plot_univariate_histogram\u001b[0;34m(self, multiple, element, fill, common_norm, common_bins, shrink, kde, kde_kws, color, legend, line_kws, estimate_kws, **plot_kws)\u001b[0m\n\u001b[1;32m    445\u001b[0m     kde_kws\u001b[38;5;241m.\u001b[39msetdefault(\u001b[38;5;124m\"\u001b[39m\u001b[38;5;124mcut\u001b[39m\u001b[38;5;124m\"\u001b[39m, \u001b[38;5;241m0\u001b[39m)\n\u001b[1;32m    446\u001b[0m     kde_kws[\u001b[38;5;124m\"\u001b[39m\u001b[38;5;124mcumulative\u001b[39m\u001b[38;5;124m\"\u001b[39m] \u001b[38;5;241m=\u001b[39m estimate_kws[\u001b[38;5;124m\"\u001b[39m\u001b[38;5;124mcumulative\u001b[39m\u001b[38;5;124m\"\u001b[39m]\n\u001b[0;32m--> 447\u001b[0m     densities \u001b[38;5;241m=\u001b[39m \u001b[38;5;28;43mself\u001b[39;49m\u001b[38;5;241;43m.\u001b[39;49m\u001b[43m_compute_univariate_density\u001b[49m\u001b[43m(\u001b[49m\n\u001b[1;32m    448\u001b[0m \u001b[43m        \u001b[49m\u001b[38;5;28;43mself\u001b[39;49m\u001b[38;5;241;43m.\u001b[39;49m\u001b[43mdata_variable\u001b[49m\u001b[43m,\u001b[49m\n\u001b[1;32m    449\u001b[0m \u001b[43m        \u001b[49m\u001b[43mcommon_norm\u001b[49m\u001b[43m,\u001b[49m\n\u001b[1;32m    450\u001b[0m \u001b[43m        \u001b[49m\u001b[43mcommon_bins\u001b[49m\u001b[43m,\u001b[49m\n\u001b[1;32m    451\u001b[0m \u001b[43m        \u001b[49m\u001b[43mkde_kws\u001b[49m\u001b[43m,\u001b[49m\n\u001b[1;32m    452\u001b[0m \u001b[43m        \u001b[49m\u001b[43mwarn_singular\u001b[49m\u001b[38;5;241;43m=\u001b[39;49m\u001b[38;5;28;43;01mFalse\u001b[39;49;00m\u001b[43m,\u001b[49m\n\u001b[1;32m    453\u001b[0m \u001b[43m    \u001b[49m\u001b[43m)\u001b[49m\n\u001b[1;32m    455\u001b[0m \u001b[38;5;66;03m# First pass through the data to compute the histograms\u001b[39;00m\n\u001b[1;32m    456\u001b[0m \u001b[38;5;28;01mfor\u001b[39;00m sub_vars, sub_data \u001b[38;5;129;01min\u001b[39;00m \u001b[38;5;28mself\u001b[39m\u001b[38;5;241m.\u001b[39miter_data(\u001b[38;5;124m\"\u001b[39m\u001b[38;5;124mhue\u001b[39m\u001b[38;5;124m\"\u001b[39m, from_comp_data\u001b[38;5;241m=\u001b[39m\u001b[38;5;28;01mTrue\u001b[39;00m):\n\u001b[1;32m    457\u001b[0m \n\u001b[1;32m    458\u001b[0m     \u001b[38;5;66;03m# Prepare the relevant data\u001b[39;00m\n",
      "File \u001b[0;32m~/.pyenv/versions/3.10.6/envs/fresh_env/lib/python3.10/site-packages/seaborn/distributions.py:345\u001b[0m, in \u001b[0;36m_DistributionPlotter._compute_univariate_density\u001b[0;34m(self, data_variable, common_norm, common_grid, estimate_kws, warn_singular)\u001b[0m\n\u001b[1;32m    341\u001b[0m \u001b[38;5;28;01mtry\u001b[39;00m:\n\u001b[1;32m    342\u001b[0m     \u001b[38;5;28;01mif\u001b[39;00m \u001b[38;5;129;01mnot\u001b[39;00m singular:\n\u001b[1;32m    343\u001b[0m         \u001b[38;5;66;03m# Convoluted approach needed because numerical failures\u001b[39;00m\n\u001b[1;32m    344\u001b[0m         \u001b[38;5;66;03m# can manifest in a few different ways.\u001b[39;00m\n\u001b[0;32m--> 345\u001b[0m         density, support \u001b[38;5;241m=\u001b[39m \u001b[43mestimator\u001b[49m\u001b[43m(\u001b[49m\u001b[43mobservations\u001b[49m\u001b[43m,\u001b[49m\u001b[43m \u001b[49m\u001b[43mweights\u001b[49m\u001b[38;5;241;43m=\u001b[39;49m\u001b[43mweights\u001b[49m\u001b[43m)\u001b[49m\n\u001b[1;32m    346\u001b[0m \u001b[38;5;28;01mexcept\u001b[39;00m np\u001b[38;5;241m.\u001b[39mlinalg\u001b[38;5;241m.\u001b[39mLinAlgError:\n\u001b[1;32m    347\u001b[0m     singular \u001b[38;5;241m=\u001b[39m \u001b[38;5;28;01mTrue\u001b[39;00m\n",
      "File \u001b[0;32m~/.pyenv/versions/3.10.6/envs/fresh_env/lib/python3.10/site-packages/seaborn/_statistics.py:193\u001b[0m, in \u001b[0;36mKDE.__call__\u001b[0;34m(self, x1, x2, weights)\u001b[0m\n\u001b[1;32m    191\u001b[0m \u001b[38;5;124;03m\"\"\"Fit and evaluate on univariate or bivariate data.\"\"\"\u001b[39;00m\n\u001b[1;32m    192\u001b[0m \u001b[38;5;28;01mif\u001b[39;00m x2 \u001b[38;5;129;01mis\u001b[39;00m \u001b[38;5;28;01mNone\u001b[39;00m:\n\u001b[0;32m--> 193\u001b[0m     \u001b[38;5;28;01mreturn\u001b[39;00m \u001b[38;5;28;43mself\u001b[39;49m\u001b[38;5;241;43m.\u001b[39;49m\u001b[43m_eval_univariate\u001b[49m\u001b[43m(\u001b[49m\u001b[43mx1\u001b[49m\u001b[43m,\u001b[49m\u001b[43m \u001b[49m\u001b[43mweights\u001b[49m\u001b[43m)\u001b[49m\n\u001b[1;32m    194\u001b[0m \u001b[38;5;28;01melse\u001b[39;00m:\n\u001b[1;32m    195\u001b[0m     \u001b[38;5;28;01mreturn\u001b[39;00m \u001b[38;5;28mself\u001b[39m\u001b[38;5;241m.\u001b[39m_eval_bivariate(x1, x2, weights)\n",
      "File \u001b[0;32m~/.pyenv/versions/3.10.6/envs/fresh_env/lib/python3.10/site-packages/seaborn/_statistics.py:162\u001b[0m, in \u001b[0;36mKDE._eval_univariate\u001b[0;34m(self, x, weights)\u001b[0m\n\u001b[1;32m    158\u001b[0m     density \u001b[38;5;241m=\u001b[39m np\u001b[38;5;241m.\u001b[39marray([\n\u001b[1;32m    159\u001b[0m         kde\u001b[38;5;241m.\u001b[39mintegrate_box_1d(s_0, s_i) \u001b[38;5;28;01mfor\u001b[39;00m s_i \u001b[38;5;129;01min\u001b[39;00m support\n\u001b[1;32m    160\u001b[0m     ])\n\u001b[1;32m    161\u001b[0m \u001b[38;5;28;01melse\u001b[39;00m:\n\u001b[0;32m--> 162\u001b[0m     density \u001b[38;5;241m=\u001b[39m \u001b[43mkde\u001b[49m\u001b[43m(\u001b[49m\u001b[43msupport\u001b[49m\u001b[43m)\u001b[49m\n\u001b[1;32m    164\u001b[0m \u001b[38;5;28;01mreturn\u001b[39;00m density, support\n",
      "File \u001b[0;32m~/.pyenv/versions/3.10.6/envs/fresh_env/lib/python3.10/site-packages/scipy/stats/_kde.py:271\u001b[0m, in \u001b[0;36mgaussian_kde.evaluate\u001b[0;34m(self, points)\u001b[0m\n\u001b[1;32m    268\u001b[0m         \u001b[38;5;28;01mraise\u001b[39;00m \u001b[38;5;167;01mValueError\u001b[39;00m(msg)\n\u001b[1;32m    270\u001b[0m output_dtype, spec \u001b[38;5;241m=\u001b[39m _get_output_dtype(\u001b[38;5;28mself\u001b[39m\u001b[38;5;241m.\u001b[39mcovariance, points)\n\u001b[0;32m--> 271\u001b[0m result \u001b[38;5;241m=\u001b[39m \u001b[43mgaussian_kernel_estimate\u001b[49m\u001b[43m[\u001b[49m\u001b[43mspec\u001b[49m\u001b[43m]\u001b[49m\u001b[43m(\u001b[49m\n\u001b[1;32m    272\u001b[0m \u001b[43m    \u001b[49m\u001b[38;5;28;43mself\u001b[39;49m\u001b[38;5;241;43m.\u001b[39;49m\u001b[43mdataset\u001b[49m\u001b[38;5;241;43m.\u001b[39;49m\u001b[43mT\u001b[49m\u001b[43m,\u001b[49m\u001b[43m \u001b[49m\u001b[38;5;28;43mself\u001b[39;49m\u001b[38;5;241;43m.\u001b[39;49m\u001b[43mweights\u001b[49m\u001b[43m[\u001b[49m\u001b[43m:\u001b[49m\u001b[43m,\u001b[49m\u001b[43m \u001b[49m\u001b[38;5;28;43;01mNone\u001b[39;49;00m\u001b[43m]\u001b[49m\u001b[43m,\u001b[49m\n\u001b[1;32m    273\u001b[0m \u001b[43m    \u001b[49m\u001b[43mpoints\u001b[49m\u001b[38;5;241;43m.\u001b[39;49m\u001b[43mT\u001b[49m\u001b[43m,\u001b[49m\u001b[43m \u001b[49m\u001b[38;5;28;43mself\u001b[39;49m\u001b[38;5;241;43m.\u001b[39;49m\u001b[43mcho_cov\u001b[49m\u001b[43m,\u001b[49m\u001b[43m \u001b[49m\u001b[43moutput_dtype\u001b[49m\u001b[43m)\u001b[49m\n\u001b[1;32m    275\u001b[0m \u001b[38;5;28;01mreturn\u001b[39;00m result[:, \u001b[38;5;241m0\u001b[39m]\n",
      "\u001b[0;31mKeyboardInterrupt\u001b[0m: "
     ]
    },
    {
     "data": {
      "image/png": "[encoded data removed]",
      "text/plain": [
       "<Figure size 1500x1200 with 9 Axes>"
      ]
     },
     "metadata": {},
     "output_type": "display_data"
    }
   ],
   "source": [
    "# Display hist plots for numerical features.\n",
    "plot_histplot_sns(data)"
   ]
  },
  {
   "cell_type": "code",
   "execution_count": null,
   "id": "b42f7b99-ae53-48be-bc35-46cb51f631d2",
   "metadata": {},
   "outputs": [],
   "source": [
    "# visualize a uniform quantile transform of the sonar dataset \n",
    "from sklearn.preprocessing import QuantileTransformer \n",
    "from matplotlib import pyplot\n",
    "\n",
    "# # retrieve just the numeric input values \n",
    "# data = dataset.values[:, :-1]\n",
    "\n",
    "num_data = data.drop(columns=['Sex'])\n",
    "# perform a uniform quantile transform of the dataset\n",
    "trans = QuantileTransformer(n_quantiles=100, output_distribution='uniform') \n",
    "num_data_transformed = trans.fit_transform(num_data)\n",
    "num_data_transformed = pd.DataFrame(num_data_transformed, columns=num_data.columns, index=num_data.index)"
   ]
  },
  {
   "cell_type": "code",
   "execution_count": null,
   "id": "0982531e-a4e3-4813-bdd1-32bd370f91d7",
   "metadata": {},
   "outputs": [],
   "source": [
    "# Display hist plots for numerical features.\n",
    "plot_histplot_sns(num_data_transformed)"
   ]
  },
  {
   "cell_type": "code",
   "execution_count": null,
   "id": "58f29108-0fee-4de5-9423-181b25800e0a",
   "metadata": {},
   "outputs": [],
   "source": [
    "def plot_boxplot_sns(df):\n",
    "    \"\"\"\n",
    "    Plots Seaborn histograms of numerical columns\n",
    "    Args:\n",
    "        df (DataFrame): Raw data\n",
    "    Returns:\n",
    "        Subplot grids of numerical columns\n",
    "    \"\"\"\n",
    "    #Only select numerical features \n",
    "    num_df = df.select_dtypes(include='number')\n",
    "        \n",
    "    vars = num_df.columns\n",
    "    n = len(num_df.columns)\n",
    "    cols = 3\n",
    "    rows = math.ceil(n / cols)\n",
    "\n",
    "    fig, axes = plt.subplots(rows, cols, figsize=(cols*5, rows*4))\n",
    "    axes = axes.flatten()\n",
    "\n",
    "    for i, var in enumerate(vars):\n",
    "        sns.boxplot(data=num_df, x=var, ax=axes[i])\n",
    "        axes[i].set_title(var)\n",
    "\n",
    "    # Delete unused subplots\n",
    "    for j in range(i+1, len(axes)):\n",
    "        fig.delaxes(axes[j])\n",
    "\n",
    "    plt.tight_layout()\n",
    "    plt.show()"
   ]
  },
  {
   "cell_type": "code",
   "execution_count": null,
   "id": "3c9addd7-82be-4502-aa2c-c3ac85c067ea",
   "metadata": {},
   "outputs": [],
   "source": [
    "# Display box plots for numerical features.\n",
    "plot_boxplot_sns(num_data_transformed)"
   ]
  },
  {
   "cell_type": "code",
   "execution_count": null,
   "id": "ae213f9f-e83b-4fd1-915e-2a0aaae484f0",
   "metadata": {},
   "outputs": [],
   "source": []
  },
  {
   "cell_type": "code",
   "execution_count": null,
   "id": "ad0ab354-cc96-48ad-b13c-aa10fa84b252",
   "metadata": {},
   "outputs": [],
   "source": []
  },
  {
   "cell_type": "code",
   "execution_count": null,
   "id": "75e71246-8138-454a-a8d1-b7ef09c0bb91",
   "metadata": {},
   "outputs": [],
   "source": [
    "print i "
   ]
  },
  {
   "cell_type": "code",
   "execution_count": null,
   "id": "ad43c6c8-d5e4-41c7-a67a-abea9b9d7919",
   "metadata": {},
   "outputs": [],
   "source": [
    "def plot_countplot_sns(df):\n",
    "        \"\"\"\n",
    "    Plots Seaborn countplots of categorical columns\n",
    "    Args:\n",
    "        df (DataFrame): Raw data\n",
    "    Returns:\n",
    "        Subplot grids of categorical columns\n",
    "    \"\"\"\n",
    "        #Only select categorical features         \n",
    "        cat_df = df.select_dtypes(exclude='number')\n",
    "\n",
    "        vars = cat_df.columns\n",
    "        n = len(cat_df.columns)\n",
    "        cols = 3\n",
    "        rows = math.ceil(n / cols)\n",
    "\n",
    "        fig, axes = plt.subplots(rows, cols, figsize=(cols*5, rows*4))\n",
    "        axes = axes.flatten()\n",
    "\n",
    "        for i, var in enumerate(vars):\n",
    "            sns.countplot(data=cat_df, x=var, ax=axes[i])\n",
    "            axes[i].set_title(var)\n",
    "\n",
    "        # Delete unused subplots\n",
    "        for j in range(i+1, len(axes)):\n",
    "            fig.delaxes(axes[j])\n",
    "\n",
    "        plt.tight_layout()\n",
    "        plt.show()"
   ]
  },
  {
   "cell_type": "code",
   "execution_count": null,
   "id": "4105851c-86ae-43ed-a921-0ff14ed7d31c",
   "metadata": {},
   "outputs": [],
   "source": [
    "# Display count plots for non-numerical features.\n",
    "plot_countplot_sns(data)"
   ]
  },
  {
   "cell_type": "code",
   "execution_count": null,
   "id": "2e359ffc-abbd-499f-9bb5-2866a71c95a4",
   "metadata": {},
   "outputs": [],
   "source": [
    "def plot_boxplot_sns(df):\n",
    "    \"\"\"\n",
    "    Plots Seaborn histograms of numerical columns\n",
    "    Args:\n",
    "        df (DataFrame): Raw data\n",
    "    Returns:\n",
    "        Subplot grids of numerical columns\n",
    "    \"\"\"\n",
    "    #Only select numerical features \n",
    "    num_df = df.select_dtypes(include='number')\n",
    "        \n",
    "    vars = num_df.columns\n",
    "    n = len(num_df.columns)\n",
    "    cols = 3\n",
    "    rows = math.ceil(n / cols)\n",
    "\n",
    "    fig, axes = plt.subplots(rows, cols, figsize=(cols*5, rows*4))\n",
    "    axes = axes.flatten()\n",
    "\n",
    "    for i, var in enumerate(vars):\n",
    "        sns.boxplot(data=num_df, x=var, ax=axes[i])\n",
    "        axes[i].set_title(var)\n",
    "\n",
    "    # Delete unused subplots\n",
    "    for j in range(i+1, len(axes)):\n",
    "        fig.delaxes(axes[j])\n",
    "\n",
    "    plt.tight_layout()\n",
    "    plt.show()"
   ]
  },
  {
   "cell_type": "code",
   "execution_count": null,
   "id": "5209ff46-a0bd-4412-b707-c5cb0c106da2",
   "metadata": {},
   "outputs": [],
   "source": [
    "# Display box plots for numerical features.\n",
    "plot_boxplot_sns(data)"
   ]
  },
  {
   "cell_type": "markdown",
   "id": "996daa3a-5d20-4abb-9605-3f66b1a25f01",
   "metadata": {},
   "source": [
    "## Data cleaning"
   ]
  },
  {
   "cell_type": "markdown",
   "id": "9b98efed-c3a7-4a3a-b9dc-431d7c5e1ab6",
   "metadata": {},
   "source": [
    "### Basic data cleaning"
   ]
  },
  {
   "cell_type": "markdown",
   "id": "41b61962-2019-4eae-8640-13484bbaa967",
   "metadata": {},
   "source": [
    "🔍 **Why Data Cleaning Matters**\n",
    "- Essential in every ML project; often skipped at a cost.\n",
    "- Prevents model failure and misleading performance results.\n",
    "- Helps prepare trustworthy, high-quality datasets."
   ]
  },
  {
   "cell_type": "markdown",
   "id": "dddd3070-bd1c-4b4d-99cc-70d871a58506",
   "metadata": {},
   "source": [
    "#### Identify Columns That Contain a Single Value"
   ]
  },
  {
   "cell_type": "markdown",
   "id": "62f34103-ebc8-4b88-a5a3-0a4458a8713a",
   "metadata": {},
   "source": [
    "🧮 **Identify Columns with a Single Unique Value**\n",
    "- **Problem**: Zero-variance predictors (e.g., all values = 1.0).\n",
    "- **Detection**: Use .nunique() or NumPy’s unique() function.\n",
    "- **Action**: Remove these columns—they add no information and can cause errors."
   ]
  },
  {
   "cell_type": "code",
   "execution_count": null,
   "id": "6cf4909c-e521-4824-b466-c3ca679da6a6",
   "metadata": {},
   "outputs": [],
   "source": [
    "# Summurize the number of unique values in each column\n",
    "data.nunique()"
   ]
  },
  {
   "cell_type": "markdown",
   "id": "da0e2766-f4c7-41bd-8267-c65447fb284b",
   "metadata": {},
   "source": [
    "#### Delete Columns That Contain a Single Value"
   ]
  },
  {
   "cell_type": "markdown",
   "id": "0e302996-fceb-4b7e-bfb4-6a0542bf5b4e",
   "metadata": {},
   "source": [
    "🗑️ **Delete Columns with a Single Value**\n",
    "- Use Pandas drop() after identifying the column(s)."
   ]
  },
  {
   "cell_type": "code",
   "execution_count": null,
   "id": "d849c099-cdc5-4097-8a7b-f93232e461c2",
   "metadata": {},
   "outputs": [],
   "source": [
    "# Create a function to drop columns that have a single value\n",
    "def drop_single_value_columns(df : pd.DataFrame) -> pd.DataFrame:\n",
    "        \"\"\"\n",
    "    Drop columns with a single unique value \n",
    "    Args:\n",
    "        df (DataFrame): Raw data\n",
    "    Returns:\n",
    "        df (DataFrame) with no single value columns\n",
    "    \"\"\" \n",
    "        print(f\"Shape BEFORE dropping single value columns: {df.shape}\") \n",
    "        \n",
    "        # get number of unique values for each column \n",
    "        counts = df.nunique()\n",
    "        \n",
    "        # record columns to delete (i.e columns that only contain a unique value)\n",
    "        to_del = [i for i,v in enumerate(counts) if v == 1]\n",
    "    \n",
    "        print(f\"Names of single value columns: {to_del}\") \n",
    "        \n",
    "        # drop useless columns \n",
    "        df.drop(to_del, axis=1, inplace=True) \n",
    "        \n",
    "        print(f\"Shape AFTER dropping single value columns: {df.shape}\") \n",
    "        return df"
   ]
  },
  {
   "cell_type": "code",
   "execution_count": null,
   "id": "4b74f63b-3e1a-4500-b624-105107d83fbe",
   "metadata": {},
   "outputs": [],
   "source": [
    "data = drop_single_value_columns(data)"
   ]
  },
  {
   "cell_type": "markdown",
   "id": "0facd956-ca56-4190-96a4-5bf6a2354d80",
   "metadata": {},
   "source": [
    "#### Consider Columns That Have Very Few Values"
   ]
  },
  {
   "cell_type": "markdown",
   "id": "49147c93-364c-4ea9-abf0-d323efea1465",
   "metadata": {},
   "source": [
    "🤔 **Consider Columns with Very Few Unique Values**\n",
    "- Known as near-zero variance predictors.\n",
    "- These may be:<br>\n",
    "o\tCategorical in disguise.<br>\n",
    "o\tIndicators needing encoding (ordinal/categorical).\n",
    "- Check: Unique values as % of total rows (e.g., <1%).\n"
   ]
  },
  {
   "cell_type": "code",
   "execution_count": null,
   "id": "84413a14-4476-446a-b5f0-aaceb579367f",
   "metadata": {},
   "outputs": [],
   "source": [
    "# Create a function that print index, number of unique values and percentage of unique values per column in regard to total number of rows per column\n",
    "def show_unique_values_percentage(df : pd.DataFrame):\n",
    "    \"\"\"\n",
    "    Print index, number of unique values and percentage of unique values \n",
    "    per column in regard to total number of rows per column\n",
    "    Args:\n",
    "        - df (DataFrame): Raw data\n",
    "    \"\"\"  \n",
    "    for i in range(df.shape[1]):\n",
    "        num = df.nunique().values[i]\n",
    "        percentage = float(num) / df.shape[0] * 100\n",
    "        print(f\"{i}, {df.columns[i]}, {num}, {round(percentage,5)}%\")"
   ]
  },
  {
   "cell_type": "code",
   "execution_count": null,
   "id": "4967072a-2605-4a35-b554-0a6812ea73ce",
   "metadata": {},
   "outputs": [],
   "source": [
    "show_unique_values_percentage(data)"
   ]
  },
  {
   "cell_type": "markdown",
   "id": "5dc69db4-e0c0-4644-8b24-947b4b5c9a37",
   "metadata": {},
   "source": [
    "All columns have very few unique values in regards to the total number of instances. <br> **For the moment, we keep them all.**"
   ]
  },
  {
   "cell_type": "markdown",
   "id": "dd6a2fc5-ca40-4da1-a693-3aea6619cc8e",
   "metadata": {},
   "source": [
    "#### Remove columns that have a low variance"
   ]
  },
  {
   "cell_type": "markdown",
   "id": "3b436df5-6bc6-4a8e-a461-11bd0e9e208e",
   "metadata": {},
   "source": [
    "✂️ **Remove Columns with Low Variance**\n",
    "- Use **VarianceThreshold** from sklearn.feature_selection.\n",
    "- **Threshold Tuning**: Try 0.0 to 0.5; see feature reduction effects.\n",
    "- Lower variance = less informational value, possibly noise.\n",
    "- Helps dimensionality reduction while retaining meaningful features."
   ]
  },
  {
   "cell_type": "code",
   "execution_count": null,
   "id": "f4898173-93b9-4e6d-b6a7-23e4442ddc4b",
   "metadata": {},
   "outputs": [],
   "source": [
    "# explore the effect of the variance thresholds on the number of selected features \n",
    "def explore_variance_threshold_effects(df : pd.DataFrame, range : np.arange):\n",
    "    \"\"\"\n",
    "    Explore the effect of the variance thresholds on \n",
    "    the number of selected features from numpy import arange \n",
    "    Args:\n",
    "        - df (DataFrame): Raw data\n",
    "        - range (np.arange) : variance range to check\n",
    "    Returns:\n",
    "        - Print number of features whose variance is over the considered threshold\n",
    "        - Plot the number of features whose variance is over the considered threshold\n",
    "    \"\"\" \n",
    "    \n",
    "    # apply transform with each threshold \n",
    "    results = list() \n",
    "\n",
    "    for t in range: \n",
    "        # define the transform \n",
    "        transform = VarianceThreshold(threshold=t) \n",
    "        \n",
    "        # transform the input data \n",
    "        df_sel = transform.fit_transform(df) \n",
    "        \n",
    "        # determine the number of input features \n",
    "        n_features = df_sel.shape[1] \n",
    "        \n",
    "        print(f\">Threshold={round(t,2)}, Features={n_features}\")\n",
    "        \n",
    "        # store the result \n",
    "        results.append(n_features) \n",
    "        \n",
    "    # plot the threshold vs the number of selected features \n",
    "    plt.plot(range, results) \n",
    "    plt.show()"
   ]
  },
  {
   "cell_type": "code",
   "execution_count": null,
   "id": "4578448f-3e6d-4b76-a035-e5512f055cec",
   "metadata": {},
   "outputs": [],
   "source": [
    "# split data into inputs (ONLY NUMERICAL FOR NOW) and outputs \n",
    "data_num = data.select_dtypes(include=\"number\")\n",
    "\n",
    "data_val = data_num.values \n",
    "X = data_val[:, :-1] \n",
    "y = data_val[:, -1] \n",
    "print(X.shape, y.shape) \n",
    "\n",
    "# define variance thresholds to check \n",
    "# thresholds = np.arange(0.0, 0.55, 0.05) \n",
    "thresholds = np.arange(0.0, 0.5, 0.05) \n",
    "\n",
    "explore_variance_threshold_effects(X, thresholds)"
   ]
  },
  {
   "cell_type": "markdown",
   "id": "d2cabf53-e0da-4d1c-8ba0-cf1b756f6753",
   "metadata": {},
   "source": [
    "**Conclusion** : The numerical features all have a **variance > 0.5**.<br> **We keep them all for the moment.**"
   ]
  },
  {
   "cell_type": "markdown",
   "id": "f9ead5d2-abb7-4d92-b5ac-0ec21f7eb8b6",
   "metadata": {},
   "source": [
    "#### Identify rows that contain duplicate data"
   ]
  },
  {
   "cell_type": "markdown",
   "id": "e20a99f9-38c3-4d4c-8c9a-0e21632dc477",
   "metadata": {},
   "source": [
    "🧍 **Identify Duplicate Rows**\n",
    "- **Problem**: Inflated priors, biased evaluation (e.g., in cross-validation).\n",
    "- **Action**: Check .duplicated() in Pandas.\n",
    "- **Best Practice**: Test model performance with/without duplicates."
   ]
  },
  {
   "cell_type": "code",
   "execution_count": null,
   "id": "c90e785a-21c7-4dca-99f4-9b8effaca30d",
   "metadata": {},
   "outputs": [],
   "source": [
    "# calculate duplicates \n",
    "dups = data.duplicated() \n",
    "\n",
    "# report if there are any duplicates \n",
    "print(dups.any()) \n",
    "\n",
    "# list all duplicate rows \n",
    "print(data[dups])"
   ]
  },
  {
   "cell_type": "markdown",
   "id": "28212d80-4b5c-459b-aa8f-caa85f8c6a44",
   "metadata": {},
   "source": [
    "#### Delete rows thtat contain duplicate data"
   ]
  },
  {
   "cell_type": "code",
   "execution_count": null,
   "id": "171ce712-c441-4bb7-b436-b97b3854f6ec",
   "metadata": {},
   "outputs": [],
   "source": [
    "def check_duplicates(df):\n",
    "    \"\"\"\n",
    "    Counts duplicated rows. If any, function drops duplicated rows.\n",
    "    Args:\n",
    "        df (DataFrame): Raw data\n",
    "    Returns:\n",
    "        - df (Dataframe) without duplicated rows, a string otherwise.\n",
    "    \"\"\"\n",
    "\n",
    "    # Check number of rows before removing duplicates\n",
    "    print(f\"Number of rows : {len(df)}\")\n",
    "\n",
    "    # Compute the number of duplicated rows\n",
    "    num_dups = df.duplicated().sum()\n",
    "    \n",
    "    print(f\"Number of duplicated rows : {num_dups}\")\n",
    "\n",
    "    if df.duplicated().any():\n",
    "        # Remove duplicates\n",
    "        df_no_duplicates = df.drop_duplicates()\n",
    "        print(f\"{num_dups} duplicated row(s) removed\")\n",
    "        return df_no_duplicates\n",
    "    else:\n",
    "        return \"No duplicated rows found !\"    "
   ]
  },
  {
   "cell_type": "code",
   "execution_count": null,
   "id": "7c6f6efb-8a79-4e84-bba5-b099f8243d62",
   "metadata": {},
   "outputs": [],
   "source": [
    "# Check for duplicates ; if found, duplicates are dropped.\n",
    "data_no_dups = check_duplicates(data)"
   ]
  },
  {
   "cell_type": "markdown",
   "id": "d5cd939d-149f-4517-b67e-dd34daf7d2f2",
   "metadata": {},
   "source": [
    "### Outlier Identification and Removal"
   ]
  },
  {
   "cell_type": "markdown",
   "id": "05b389b7-301d-44de-9da6-633c7fcf558c",
   "metadata": {},
   "source": [
    "✅ **Why Care About Outliers**?\n",
    "- Outliers = observations significantly different from others.\n",
    "- Can distort models, reduce performance.\n",
    "- Causes: measurement error, data corruption, or genuine anomaly."
   ]
  },
  {
   "cell_type": "markdown",
   "id": "657166c3-2c78-49cc-9e5d-263c852fcc11",
   "metadata": {},
   "source": [
    "📌 **Best Practices**\n",
    "- Always visualize outliers (scatter plots, boxplots).\n",
    "- Understand domain before deciding to remove outliers.\n",
    "- Test model performance before/after removal.\n",
    "- Combine statistical and model-based methods when needed."
   ]
  },
  {
   "cell_type": "code",
   "execution_count": null,
   "id": "90643745-b862-4175-a1d0-b205e42ba4ae",
   "metadata": {},
   "outputs": [],
   "source": [
    "# Display box plots for numerical features.\n",
    "plot_boxplot_sns(data_no_dups)"
   ]
  },
  {
   "cell_type": "markdown",
   "id": "fe98f00c-8ac4-4bb3-be7f-25119f5df880",
   "metadata": {},
   "source": [
    "**At the moment, based on the domain of expertise, we do not get rid of outliers.**"
   ]
  },
  {
   "cell_type": "markdown",
   "id": "ffa17ffd-d051-4f2b-9a5e-80a20a9d1168",
   "metadata": {},
   "source": [
    "### How to Mark and Remove Missing Data"
   ]
  },
  {
   "cell_type": "markdown",
   "id": "1857c413-fc0e-4b97-8182-30c493485446",
   "metadata": {},
   "source": [
    "🔍 **Understanding Missing Data in ML**\n",
    "- Real-world datasets often contain **missing or corrupt** values (e.g., due to non-recording or corruption).\n",
    "- Many machine learning algorithms **cannot handle missing values** and will raise errors."
   ]
  },
  {
   "cell_type": "markdown",
   "id": "a1dfc3e5-40ee-4c33-8397-b1d9a4a3d903",
   "metadata": {},
   "source": [
    "📌 **Key Takeaways for Data Scientists**\n",
    "- Use **domain knowledge** to identify invalid values\n",
    "- Replace invalid values with **NaN** to mark them\n",
    "- Understand which algorithms are **sensitive to NaNs**\n",
    "- Start with **row removal**, but consider **imputation** in practice"
   ]
  },
  {
   "cell_type": "code",
   "execution_count": null,
   "id": "d9877d25-e0f9-4ca1-81b0-da0e3c155d2c",
   "metadata": {},
   "outputs": [],
   "source": [
    "# Check the sum of Nan values in the dataset\n",
    "data_no_dups.isnull().sum()"
   ]
  },
  {
   "cell_type": "markdown",
   "id": "669b26f3-4eb6-4447-9cc0-50c176d1d286",
   "metadata": {},
   "source": [
    "There ar no nan values in the train dataset (with no duplicates). <br> No zero values that can be considered odd or nan.<br> **We do not need to take action here.**"
   ]
  },
  {
   "cell_type": "markdown",
   "id": "fb057ee7-85b4-43fb-82d6-93f993d11aff",
   "metadata": {},
   "source": [
    "## Baseline modeling"
   ]
  },
  {
   "cell_type": "code",
   "execution_count": null,
   "id": "fa1402bf-ee23-4972-a96b-6375a1da0a79",
   "metadata": {},
   "outputs": [],
   "source": [
    "def check_duplicates(df):\n",
    "    \"\"\"\n",
    "    Counts duplicated rows. If any, function drops duplicated rows.\n",
    "    Args:\n",
    "        df (DataFrame): Raw data\n",
    "    Returns:\n",
    "        - df (Dataframe) without duplicated rows, a string otherwise.\n",
    "    \"\"\"\n",
    "\n",
    "    # Check number of rows before removing duplicates\n",
    "    print(f\"Number of rows : {len(df)}\")\n",
    "\n",
    "    # Compute the number of duplicated rows\n",
    "    num_dups = df.duplicated().sum()\n",
    "    \n",
    "    print(f\"Number of duplicated rows : {num_dups}\")\n",
    "\n",
    "    if df.duplicated().any():\n",
    "        # Remove duplicates\n",
    "        df_no_duplicates = df.drop_duplicates()\n",
    "        print(f\"{num_dups} duplicated row(s) removed\")\n",
    "        return df_no_duplicates\n",
    "    else:\n",
    "        return \"No duplicated rows found !\"    "
   ]
  },
  {
   "cell_type": "code",
   "execution_count": null,
   "id": "9ad34f24-5560-4ea2-88a8-da92045f84fe",
   "metadata": {},
   "outputs": [],
   "source": [
    "# load the dataset\n",
    "def load_dataset(filename, target):\n",
    "    \"\"\"\n",
    "    - Load dataset as a Pandas dataframe\n",
    "    - Counts duplicated rows. If any, function drops duplicated rows.\n",
    "    - Create X (features) and y (target)\n",
    "    Args:\n",
    "        df (DataFrame): Raw data\n",
    "    Returns:\n",
    "        - X and y (as Pandas dataframes)\n",
    "    \"\"\"\n",
    "    # load the dataset\n",
    "    data = pd.read_csv(filename, index_col='id') \n",
    "\n",
    "    #Check duplicates (Any duplicated rows are dropped)\n",
    "    data_no_dups = check_duplicates(data)\n",
    "    \n",
    "    # split into input and output variables\n",
    "    X = data_no_dups.drop(columns=[target])\n",
    "    y = data_no_dups[[target]]\n",
    "    \n",
    "    return X, y"
   ]
  },
  {
   "cell_type": "code",
   "execution_count": null,
   "id": "f7552793-8773-4bc6-a9ab-67082a37e607",
   "metadata": {},
   "outputs": [],
   "source": [
    "# prepare input data\n",
    "def prepare_inputs(X_train, X_test, column): \n",
    "    \"\"\"\n",
    "    - Prepare input features\n",
    "    - One Hot Encoding of the only categorical feature\n",
    "    Args:\n",
    "        - X_train (Dataframe)\n",
    "        - X_test (Dataframe)\n",
    "        - Column (list) : Name of the categorical feature\n",
    "    Returns:\n",
    "        - X_train_scaled and X_test_scaled (as Pandas dataframes)\n",
    "    \"\"\"\n",
    "    preproc_categorical = make_pipeline(OneHotEncoder(drop='if_binary', sparse_output=False))\n",
    "    preproc = make_column_transformer((preproc_categorical,column), remainder='passthrough')\n",
    "\n",
    "    preproc.fit(X_train)\n",
    "    X_train_enc = preproc.transform(X_train)\n",
    "    X_test_enc = preproc.transform(X_test)\n",
    "\n",
    "    # Transform to dataframes\n",
    "    X_train_enc = pd.DataFrame(X_train_enc, columns=preproc.get_feature_names_out())\n",
    "    X_test_enc = pd.DataFrame(X_test_enc, columns=preproc.get_feature_names_out())\n",
    "    \n",
    "    return X_train_enc, X_test_enc"
   ]
  },
  {
   "cell_type": "code",
   "execution_count": null,
   "id": "7c5004aa-7a79-44e6-a12a-c9b43184a933",
   "metadata": {},
   "outputs": [],
   "source": [
    "# prepare input data\n",
    "def prepare_inputs_global(X_train, X_test): \n",
    "    \"\"\"\n",
    "    - Prepare input features\n",
    "    Args:\n",
    "            XXXX\n",
    "    Returns:\n",
    "        - X_train_scaled and X_test_scaled (as Pandas dataframes)\n",
    "    \"\"\"\n",
    "    # Prepare pipelines\n",
    "    preproc_categorical = make_pipeline(OneHotEncoder(drop='if_binary', sparse_output=False))\n",
    "    preproc_numerical = make_pipeline(MinMaxScaler())\n",
    "\n",
    "    # Prepare features columns names\n",
    "    categorical_columns = X_train.select_dtypes(exclude='number').columns.tolist()\n",
    "    numerical_columns = X_train.select_dtypes(include='number').columns.tolist()\n",
    "\n",
    "    # Prepare column transformer\n",
    "    preproc = make_column_transformer((preproc_categorical,categorical_columns), \n",
    "                                      (preproc_numerical, numerical_columns))\n",
    "\n",
    "    preproc_test=preproc\n",
    "    \n",
    "    # Fit column transformer on data\n",
    "    preproc.fit(X_train)\n",
    "\n",
    "    # Tranform data via fitted column transformer \n",
    "    X_train_enc = preproc.transform(X_train)\n",
    "    X_test_enc = preproc.transform(X_test)\n",
    "\n",
    "    # Transform to dataframes\n",
    "    X_train_enc = pd.DataFrame(X_train_enc, columns=preproc.get_feature_names_out())\n",
    "    X_test_enc = pd.DataFrame(X_test_enc, columns=preproc.get_feature_names_out())\n",
    "    \n",
    "    return X_train_enc, X_test_enc, preproc"
   ]
  },
  {
   "cell_type": "code",
   "execution_count": null,
   "id": "0aa0f575-95d8-43a0-979c-84b5db997bcf",
   "metadata": {},
   "outputs": [],
   "source": [
    "# Define the root mean squared logaritmic error\n",
    "def root_mean_squared_log_error(y_true, y_pred):\n",
    "    return np.sqrt(mean_squared_log_error(y_true, y_pred, squared=True))\n",
    "\n",
    "# Define a RMSLE scorer\n",
    "rmsle_scorer = make_scorer(root_mean_squared_log_error, greater_is_better=False)"
   ]
  },
  {
   "cell_type": "code",
   "execution_count": null,
   "id": "45e3ea84-ade9-42ee-966f-7343df6ce2e0",
   "metadata": {},
   "outputs": [],
   "source": [
    "def rmsle_manually(y_true, y_pred):\n",
    "    squared_log_errors = (np.log(y_pred + 1) - np.log(y_true + 1))**2\n",
    "    return np.sqrt(np.mean(squared_log_errors))\n",
    "\n",
    "# Define a RMSLE scorer\n",
    "rmsle_scorer_manually = make_scorer(rmsle_manually, greater_is_better=False)"
   ]
  },
  {
   "cell_type": "code",
   "execution_count": null,
   "id": "0b091ab9-64c7-443e-81db-59108289bf51",
   "metadata": {},
   "outputs": [],
   "source": [
    "def safe_rmsle(y_true, y_pred):\n",
    "    return np.sqrt(np.mean(np.square(np.log1p(y_pred) - np.log1p(y_true))))\n",
    "\n",
    "# Define a RMSLE scorer\n",
    "safe_rmsle_scorer_manually = make_scorer(safe_rmsle, greater_is_better=False) "
   ]
  },
  {
   "cell_type": "code",
   "execution_count": null,
   "id": "9665bc49-639e-431d-9e8c-b93a33eb99e2",
   "metadata": {},
   "outputs": [],
   "source": [
    "# numerical_columns_w_outliers, numerical_columns_no_outliers = extract_cols_outliers(X_train)"
   ]
  },
  {
   "cell_type": "code",
   "execution_count": null,
   "id": "146785c8-6347-4381-9113-147d69b4c199",
   "metadata": {},
   "outputs": [],
   "source": [
    "# # Paths\n",
    "# calorie_train_data_path = \"../data/raw_data/train.csv\"\n",
    "# target_name = \"Calories\"\n",
    "\n",
    "# # Load dataset\n",
    "# X,y = load_dataset(calorie_train_data_path,target_name)\n",
    "\n",
    "# # split into train and test sets\n",
    "# X_train, X_test, y_train, y_test = train_test_split(X, y, test_size=0.33, random_state=1) \n",
    "\n",
    "# # Prepare pipelines\n",
    "# preproc_categorical = make_pipeline(OneHotEncoder(drop='if_binary', sparse_output=False))\n",
    "# preproc_numerical = make_pipeline(MinMaxScaler())\n",
    "\n",
    "# # Prepare features columns names\n",
    "# categorical_columns = X_train.select_dtypes(exclude='number').columns.tolist()\n",
    "# numerical_columns = X_train.select_dtypes(include='number').columns.tolist()\n",
    "\n",
    "# preproc = make_column_transformer((OneHotEncoder(drop='if_binary', sparse_output=False),categorical_columns),\n",
    "#                                  (MinMaxScaler(), numerical_columns))\n",
    "\n",
    "# # define and configure the model\n",
    "# model = RandomForestRegressor()\n",
    "# pipeline = make_pipeline(preproc,model)\n",
    "\n",
    "# display(pipeline)\n",
    "# type(y_train)\n",
    "\n",
    "# # evaluate the model\n",
    "# cv = RepeatedStratifiedKFold(n_splits=10, n_repeats=3, random_state=1)\n",
    "# n_scores = cross_val_score(pipeline, X_train, y_train.to_numpy(), scoring=rmsle_scorer, cv=cv, n_jobs=-1)\n",
    "\n",
    "# # # report model performance\n",
    "# # print('Accuracy: %.3f (%.3f)' % (np.mean(n_scores), np.std(n_scores)))"
   ]
  },
  {
   "cell_type": "code",
   "execution_count": null,
   "id": "3432668f-57e9-4c59-8a6d-96f8853dc775",
   "metadata": {},
   "outputs": [],
   "source": [
    "# y_train.to_numpy()"
   ]
  },
  {
   "cell_type": "code",
   "execution_count": null,
   "id": "db496d73-80f9-45df-9cbe-3cbd45308c39",
   "metadata": {},
   "outputs": [],
   "source": []
  },
  {
   "cell_type": "code",
   "execution_count": null,
   "id": "349364d7-724d-4baa-abfd-b7d4d55da259",
   "metadata": {},
   "outputs": [],
   "source": []
  },
  {
   "cell_type": "code",
   "execution_count": null,
   "id": "4122b216-46af-400f-8908-2cf160d7abad",
   "metadata": {
    "scrolled": true
   },
   "outputs": [],
   "source": [
    "# # Paths\n",
    "# calorie_train_data_path = \"../data/raw_data/train.csv\"\n",
    "# target_name = \"Calories\"\n",
    "# categorical_features = [\"Sex\"]\n",
    "\n",
    "# # Load dataset\n",
    "# X,y = load_dataset(calorie_train_data_path,target_name)\n",
    "\n",
    "# # split into train and test sets\n",
    "# X_train, X_test, y_train, y_test = train_test_split(X, y, test_size=0.33, random_state=1) \n",
    "\n",
    "# # prepare input data (encode categorical column ONLY)\n",
    "# X_train_enc, X_test_enc = prepare_inputs(X_train, X_test, categorical_features) \n",
    "\n",
    "# # define and configure the model\n",
    "# model = LinearRegression()\n",
    "\n",
    "# # evaluate the model\n",
    "# cv = RepeatedStratifiedKFold(n_splits=10, n_repeats=3, random_state=1)\n",
    "# n_scores = cross_val_score(model, X_train_enc, y_train, scoring='neg_mean_squared_log_error', cv=cv, n_jobs=-1)\n",
    "\n",
    "# # report model performance\n",
    "# print('Accuracy: %.3f (%.3f)' % (np.mean(n_scores), np.std(n_scores)))"
   ]
  }
 ],
 "metadata": {
  "kernelspec": {
   "display_name": "Python 3 (ipykernel)",
   "language": "python",
   "name": "python3"
  },
  "language_info": {
   "codemirror_mode": {
    "name": "ipython",
    "version": 3
   },
   "file_extension": ".py",
   "mimetype": "text/x-python",
   "name": "python",
   "nbconvert_exporter": "python",
   "pygments_lexer": "ipython3",
   "version": "3.10.6"
  }
 },
 "nbformat": 4,
 "nbformat_minor": 5
}
