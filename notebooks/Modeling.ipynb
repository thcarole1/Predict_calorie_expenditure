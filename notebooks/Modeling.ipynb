{
 "cells": [
  {
   "cell_type": "markdown",
   "id": "c4d1c7b7-63f2-4660-802d-803dfda16fb0",
   "metadata": {},
   "source": [
    "# Modeling"
   ]
  },
  {
   "cell_type": "code",
   "execution_count": 1,
   "id": "4b72a675-ecf1-4545-870f-66466112a636",
   "metadata": {},
   "outputs": [],
   "source": [
    "# Libraries\n",
    "## Basic libraries\n",
    "import numpy as np\n",
    "import pandas as pd\n",
    "import seaborn as sns\n",
    "\n",
    "import math\n",
    "\n",
    "## Plotting\n",
    "import matplotlib.pyplot as plt\n",
    "\n",
    "# Basic cleaning\n",
    "## Variance\n",
    "from sklearn.feature_selection import VarianceThreshold\n",
    "from sklearn.model_selection import cross_val_score, RepeatedKFold\n",
    "from sklearn.metrics import mean_squared_log_error, make_scorer, mean_squared_error\n",
    "from scipy.stats import iqr\n",
    "\n",
    "from sklearn.linear_model import LinearRegression\n",
    "from sklearn.ensemble import RandomForestRegressor\n",
    "from sklearn.model_selection import train_test_split \n",
    "from sklearn.preprocessing import OneHotEncoder, MinMaxScaler, RobustScaler\n",
    "from sklearn.pipeline import make_pipeline, make_union\n",
    "from sklearn.compose import make_column_transformer, TransformedTargetRegressor"
   ]
  },
  {
   "cell_type": "code",
   "execution_count": 2,
   "id": "180bfa60-34db-498f-a2f3-500f4b6dc4ab",
   "metadata": {},
   "outputs": [],
   "source": [
    "def check_duplicates(df):\n",
    "    # Check number of rows before removing duplicates\n",
    "    print(f\"Number of rows : {len(df)}\")\n",
    "\n",
    "    # Compute the number of duplicated rows\n",
    "    num_dups = df.duplicated().sum()\n",
    "    \n",
    "    print(f\"Number of duplicated rows : {num_dups}\")\n",
    "\n",
    "    if df.duplicated().any():\n",
    "        # Remove duplicates\n",
    "        df_no_duplicates = df.drop_duplicates()\n",
    "        print(f\"{num_dups} duplicated row(s) removed\")\n",
    "        return df_no_duplicates\n",
    "    else:\n",
    "        return \"No duplicated rows found !\"  "
   ]
  },
  {
   "cell_type": "code",
   "execution_count": 3,
   "id": "3ae1e8b4-6ee7-4045-b9a3-27e2b30cb1c2",
   "metadata": {},
   "outputs": [],
   "source": [
    "# load the dataset\n",
    "def load_dataset(filename, target):\n",
    "    # load the dataset\n",
    "    data = pd.read_csv(filename, index_col='id') \n",
    "\n",
    "    #Check duplicates (Any duplicated rows are dropped)\n",
    "    data_no_dups = check_duplicates(data)\n",
    "    \n",
    "    # split into input and output variables\n",
    "    X = data_no_dups.drop(columns=[target])\n",
    "    y = data_no_dups[[target]]\n",
    "\n",
    "    # Display shapes\n",
    "    display(f\"Shape of X : {X.shape}\")\n",
    "    display(f\"Shape of y : {y.shape}\")\n",
    "    \n",
    "    return X, y"
   ]
  },
  {
   "cell_type": "code",
   "execution_count": 4,
   "id": "f55df2b7-c74d-4950-9752-9dd081186c9f",
   "metadata": {},
   "outputs": [],
   "source": [
    "# Define the root mean squared logaritmic error\n",
    "def root_mean_squared_log_error(y_true, y_pred):\n",
    "    return np.sqrt(mean_squared_log_error(y_true, y_pred, squared=True))\n",
    "\n",
    "# Define a RMSLE scorer\n",
    "rmsle_scorer = make_scorer(root_mean_squared_log_error, greater_is_better=False)"
   ]
  },
  {
   "cell_type": "code",
   "execution_count": 5,
   "id": "9db6d5b8-b36e-44da-a6a2-9ba8ca47fa61",
   "metadata": {},
   "outputs": [],
   "source": [
    "def preprocess_input_data(X):\n",
    "    # Prepare features columns names\n",
    "    categorical_columns = X.select_dtypes(exclude='number').columns.tolist()\n",
    "    numerical_columns = X.select_dtypes(include='number').columns.tolist()\n",
    "\n",
    "    # Prepare Column Transformer (input features)\n",
    "    preproc = make_column_transformer((OneHotEncoder(drop='if_binary', sparse_output=False),categorical_columns),(MinMaxScaler(), numerical_columns))\n",
    "\n",
    "    return preproc"
   ]
  },
  {
   "cell_type": "code",
   "execution_count": 6,
   "id": "5cdaa7a1-ea43-4c94-97cd-903ed3ea62ac",
   "metadata": {},
   "outputs": [],
   "source": [
    "# def preprocess_input_data(X):\n",
    "#     # Prepare features columns names\n",
    "#     categorical_columns = X.select_dtypes(exclude='number').columns.tolist()\n",
    "#     numerical_columns = X.select_dtypes(include='number').columns.tolist()\n",
    "\n",
    "#     # Prepare Column Transformer (input features)\n",
    "#     preproc = make_column_transformer((OneHotEncoder(drop='if_binary', sparse_output=False),categorical_columns),(RobustScaler(), numerical_columns))\n",
    "\n",
    "#     return preproc"
   ]
  },
  {
   "cell_type": "code",
   "execution_count": 7,
   "id": "2c1b6ef3-da8d-4cc5-8fd4-9d5b96a39fe4",
   "metadata": {},
   "outputs": [],
   "source": [
    "# Prepare target\n",
    "def preprocess_output_data(y):\n",
    "    # Apply log1p transform to y\n",
    "    y_log = np.log1p(y)\n",
    "    return y_log"
   ]
  },
  {
   "cell_type": "code",
   "execution_count": 8,
   "id": "06cbec20-9949-4c45-b02d-4486a019179b",
   "metadata": {},
   "outputs": [],
   "source": [
    "# evaluate a given model using cross-validation \n",
    "def evaluate_model(model, X, y):\n",
    "    cv = RepeatedKFold(n_splits=10, n_repeats=3, random_state=1) \n",
    "    scores = cross_val_score(model, X, y, scoring=rmsle_scorer, cv=cv, n_jobs=-1) \n",
    "    return scores"
   ]
  },
  {
   "cell_type": "code",
   "execution_count": 9,
   "id": "d3f1e462-5de9-41f7-802a-7bf4571d4ec3",
   "metadata": {},
   "outputs": [],
   "source": [
    "def report_model_performance(scores):\n",
    "    mean_rmsle = -np.mean(n_scores)\n",
    "    std_rmsle = np.std(n_scores)\n",
    "    return mean_rmsle, std_rmsle"
   ]
  },
  {
   "cell_type": "code",
   "execution_count": 10,
   "id": "eb0dcd21-4cbc-4bfb-92ec-77c16948d564",
   "metadata": {},
   "outputs": [],
   "source": [
    "# Get model (preprocessing + actual model)\n",
    "def get_models(X_train):\n",
    "    # Preprocess input data\n",
    "    preproc = preprocess_input_data(X_train)\n",
    "\n",
    "    # define and configure the model\n",
    "    model = LinearRegression()\n",
    "    pipeline = make_pipeline(preproc,model)\n",
    "    return pipeline"
   ]
  },
  {
   "cell_type": "code",
   "execution_count": null,
   "id": "f2d3135f-6520-4202-9fa3-c1b19cdebd52",
   "metadata": {},
   "outputs": [],
   "source": [
    "# SGD Regressor\n",
    "# Lasso\n",
    "# Elasticnet\n",
    "# SVR(kernel='rbf')\n",
    "# Ridge regressor\n",
    "# SVR(kernel='linear')\n",
    "# decission tree regressor"
   ]
  },
  {
   "cell_type": "code",
   "execution_count": null,
   "id": "5416f5cf-9ed0-453a-b96b-4b8e1d9e9cf9",
   "metadata": {},
   "outputs": [],
   "source": []
  },
  {
   "cell_type": "code",
   "execution_count": 15,
   "id": "6033ff24-7abe-457b-a075-572fee8ec20a",
   "metadata": {},
   "outputs": [
    {
     "name": "stdout",
     "output_type": "stream",
     "text": [
      "Number of rows : 750000\n",
      "Number of duplicated rows : 2841\n",
      "2841 duplicated row(s) removed\n"
     ]
    },
    {
     "data": {
      "text/plain": [
       "'Shape of X : (747159, 7)'"
      ]
     },
     "metadata": {},
     "output_type": "display_data"
    },
    {
     "data": {
      "text/plain": [
       "'Shape of y : (747159, 1)'"
      ]
     },
     "metadata": {},
     "output_type": "display_data"
    },
    {
     "data": {
      "text/html": [
       "<style>#sk-container-id-1 {color: black;}#sk-container-id-1 pre{padding: 0;}#sk-container-id-1 div.sk-toggleable {background-color: white;}#sk-container-id-1 label.sk-toggleable__label {cursor: pointer;display: block;width: 100%;margin-bottom: 0;padding: 0.3em;box-sizing: border-box;text-align: center;}#sk-container-id-1 label.sk-toggleable__label-arrow:before {content: \"▸\";float: left;margin-right: 0.25em;color: #696969;}#sk-container-id-1 label.sk-toggleable__label-arrow:hover:before {color: black;}#sk-container-id-1 div.sk-estimator:hover label.sk-toggleable__label-arrow:before {color: black;}#sk-container-id-1 div.sk-toggleable__content {max-height: 0;max-width: 0;overflow: hidden;text-align: left;background-color: #f0f8ff;}#sk-container-id-1 div.sk-toggleable__content pre {margin: 0.2em;color: black;border-radius: 0.25em;background-color: #f0f8ff;}#sk-container-id-1 input.sk-toggleable__control:checked~div.sk-toggleable__content {max-height: 200px;max-width: 100%;overflow: auto;}#sk-container-id-1 input.sk-toggleable__control:checked~label.sk-toggleable__label-arrow:before {content: \"▾\";}#sk-container-id-1 div.sk-estimator input.sk-toggleable__control:checked~label.sk-toggleable__label {background-color: #d4ebff;}#sk-container-id-1 div.sk-label input.sk-toggleable__control:checked~label.sk-toggleable__label {background-color: #d4ebff;}#sk-container-id-1 input.sk-hidden--visually {border: 0;clip: rect(1px 1px 1px 1px);clip: rect(1px, 1px, 1px, 1px);height: 1px;margin: -1px;overflow: hidden;padding: 0;position: absolute;width: 1px;}#sk-container-id-1 div.sk-estimator {font-family: monospace;background-color: #f0f8ff;border: 1px dotted black;border-radius: 0.25em;box-sizing: border-box;margin-bottom: 0.5em;}#sk-container-id-1 div.sk-estimator:hover {background-color: #d4ebff;}#sk-container-id-1 div.sk-parallel-item::after {content: \"\";width: 100%;border-bottom: 1px solid gray;flex-grow: 1;}#sk-container-id-1 div.sk-label:hover label.sk-toggleable__label {background-color: #d4ebff;}#sk-container-id-1 div.sk-serial::before {content: \"\";position: absolute;border-left: 1px solid gray;box-sizing: border-box;top: 0;bottom: 0;left: 50%;z-index: 0;}#sk-container-id-1 div.sk-serial {display: flex;flex-direction: column;align-items: center;background-color: white;padding-right: 0.2em;padding-left: 0.2em;position: relative;}#sk-container-id-1 div.sk-item {position: relative;z-index: 1;}#sk-container-id-1 div.sk-parallel {display: flex;align-items: stretch;justify-content: center;background-color: white;position: relative;}#sk-container-id-1 div.sk-item::before, #sk-container-id-1 div.sk-parallel-item::before {content: \"\";position: absolute;border-left: 1px solid gray;box-sizing: border-box;top: 0;bottom: 0;left: 50%;z-index: -1;}#sk-container-id-1 div.sk-parallel-item {display: flex;flex-direction: column;z-index: 1;position: relative;background-color: white;}#sk-container-id-1 div.sk-parallel-item:first-child::after {align-self: flex-end;width: 50%;}#sk-container-id-1 div.sk-parallel-item:last-child::after {align-self: flex-start;width: 50%;}#sk-container-id-1 div.sk-parallel-item:only-child::after {width: 0;}#sk-container-id-1 div.sk-dashed-wrapped {border: 1px dashed gray;margin: 0 0.4em 0.5em 0.4em;box-sizing: border-box;padding-bottom: 0.4em;background-color: white;}#sk-container-id-1 div.sk-label label {font-family: monospace;font-weight: bold;display: inline-block;line-height: 1.2em;}#sk-container-id-1 div.sk-label-container {text-align: center;}#sk-container-id-1 div.sk-container {/* jupyter's `normalize.less` sets `[hidden] { display: none; }` but bootstrap.min.css set `[hidden] { display: none !important; }` so we also need the `!important` here to be able to override the default hidden behavior on the sphinx rendered scikit-learn.org. See: https://github.com/scikit-learn/scikit-learn/issues/21755 */display: inline-block !important;position: relative;}#sk-container-id-1 div.sk-text-repr-fallback {display: none;}</style><div id=\"sk-container-id-1\" class=\"sk-top-container\"><div class=\"sk-text-repr-fallback\"><pre>Pipeline(steps=[(&#x27;columntransformer&#x27;,\n",
       "                 ColumnTransformer(transformers=[(&#x27;onehotencoder&#x27;,\n",
       "                                                  OneHotEncoder(drop=&#x27;if_binary&#x27;,\n",
       "                                                                sparse_output=False),\n",
       "                                                  [&#x27;Sex&#x27;]),\n",
       "                                                 (&#x27;minmaxscaler&#x27;,\n",
       "                                                  MinMaxScaler(),\n",
       "                                                  [&#x27;Age&#x27;, &#x27;Height&#x27;, &#x27;Weight&#x27;,\n",
       "                                                   &#x27;Duration&#x27;, &#x27;Heart_Rate&#x27;,\n",
       "                                                   &#x27;Body_Temp&#x27;])])),\n",
       "                (&#x27;linearregression&#x27;, LinearRegression())])</pre><b>In a Jupyter environment, please rerun this cell to show the HTML representation or trust the notebook. <br />On GitHub, the HTML representation is unable to render, please try loading this page with nbviewer.org.</b></div><div class=\"sk-container\" hidden><div class=\"sk-item sk-dashed-wrapped\"><div class=\"sk-label-container\"><div class=\"sk-label sk-toggleable\"><input class=\"sk-toggleable__control sk-hidden--visually\" id=\"sk-estimator-id-1\" type=\"checkbox\" ><label for=\"sk-estimator-id-1\" class=\"sk-toggleable__label sk-toggleable__label-arrow\">Pipeline</label><div class=\"sk-toggleable__content\"><pre>Pipeline(steps=[(&#x27;columntransformer&#x27;,\n",
       "                 ColumnTransformer(transformers=[(&#x27;onehotencoder&#x27;,\n",
       "                                                  OneHotEncoder(drop=&#x27;if_binary&#x27;,\n",
       "                                                                sparse_output=False),\n",
       "                                                  [&#x27;Sex&#x27;]),\n",
       "                                                 (&#x27;minmaxscaler&#x27;,\n",
       "                                                  MinMaxScaler(),\n",
       "                                                  [&#x27;Age&#x27;, &#x27;Height&#x27;, &#x27;Weight&#x27;,\n",
       "                                                   &#x27;Duration&#x27;, &#x27;Heart_Rate&#x27;,\n",
       "                                                   &#x27;Body_Temp&#x27;])])),\n",
       "                (&#x27;linearregression&#x27;, LinearRegression())])</pre></div></div></div><div class=\"sk-serial\"><div class=\"sk-item sk-dashed-wrapped\"><div class=\"sk-label-container\"><div class=\"sk-label sk-toggleable\"><input class=\"sk-toggleable__control sk-hidden--visually\" id=\"sk-estimator-id-2\" type=\"checkbox\" ><label for=\"sk-estimator-id-2\" class=\"sk-toggleable__label sk-toggleable__label-arrow\">columntransformer: ColumnTransformer</label><div class=\"sk-toggleable__content\"><pre>ColumnTransformer(transformers=[(&#x27;onehotencoder&#x27;,\n",
       "                                 OneHotEncoder(drop=&#x27;if_binary&#x27;,\n",
       "                                               sparse_output=False),\n",
       "                                 [&#x27;Sex&#x27;]),\n",
       "                                (&#x27;minmaxscaler&#x27;, MinMaxScaler(),\n",
       "                                 [&#x27;Age&#x27;, &#x27;Height&#x27;, &#x27;Weight&#x27;, &#x27;Duration&#x27;,\n",
       "                                  &#x27;Heart_Rate&#x27;, &#x27;Body_Temp&#x27;])])</pre></div></div></div><div class=\"sk-parallel\"><div class=\"sk-parallel-item\"><div class=\"sk-item\"><div class=\"sk-label-container\"><div class=\"sk-label sk-toggleable\"><input class=\"sk-toggleable__control sk-hidden--visually\" id=\"sk-estimator-id-3\" type=\"checkbox\" ><label for=\"sk-estimator-id-3\" class=\"sk-toggleable__label sk-toggleable__label-arrow\">onehotencoder</label><div class=\"sk-toggleable__content\"><pre>[&#x27;Sex&#x27;]</pre></div></div></div><div class=\"sk-serial\"><div class=\"sk-item\"><div class=\"sk-estimator sk-toggleable\"><input class=\"sk-toggleable__control sk-hidden--visually\" id=\"sk-estimator-id-4\" type=\"checkbox\" ><label for=\"sk-estimator-id-4\" class=\"sk-toggleable__label sk-toggleable__label-arrow\">OneHotEncoder</label><div class=\"sk-toggleable__content\"><pre>OneHotEncoder(drop=&#x27;if_binary&#x27;, sparse_output=False)</pre></div></div></div></div></div></div><div class=\"sk-parallel-item\"><div class=\"sk-item\"><div class=\"sk-label-container\"><div class=\"sk-label sk-toggleable\"><input class=\"sk-toggleable__control sk-hidden--visually\" id=\"sk-estimator-id-5\" type=\"checkbox\" ><label for=\"sk-estimator-id-5\" class=\"sk-toggleable__label sk-toggleable__label-arrow\">minmaxscaler</label><div class=\"sk-toggleable__content\"><pre>[&#x27;Age&#x27;, &#x27;Height&#x27;, &#x27;Weight&#x27;, &#x27;Duration&#x27;, &#x27;Heart_Rate&#x27;, &#x27;Body_Temp&#x27;]</pre></div></div></div><div class=\"sk-serial\"><div class=\"sk-item\"><div class=\"sk-estimator sk-toggleable\"><input class=\"sk-toggleable__control sk-hidden--visually\" id=\"sk-estimator-id-6\" type=\"checkbox\" ><label for=\"sk-estimator-id-6\" class=\"sk-toggleable__label sk-toggleable__label-arrow\">MinMaxScaler</label><div class=\"sk-toggleable__content\"><pre>MinMaxScaler()</pre></div></div></div></div></div></div></div></div><div class=\"sk-item\"><div class=\"sk-estimator sk-toggleable\"><input class=\"sk-toggleable__control sk-hidden--visually\" id=\"sk-estimator-id-7\" type=\"checkbox\" ><label for=\"sk-estimator-id-7\" class=\"sk-toggleable__label sk-toggleable__label-arrow\">LinearRegression</label><div class=\"sk-toggleable__content\"><pre>LinearRegression()</pre></div></div></div></div></div></div></div>"
      ],
      "text/plain": [
       "Pipeline(steps=[('columntransformer',\n",
       "                 ColumnTransformer(transformers=[('onehotencoder',\n",
       "                                                  OneHotEncoder(drop='if_binary',\n",
       "                                                                sparse_output=False),\n",
       "                                                  ['Sex']),\n",
       "                                                 ('minmaxscaler',\n",
       "                                                  MinMaxScaler(),\n",
       "                                                  ['Age', 'Height', 'Weight',\n",
       "                                                   'Duration', 'Heart_Rate',\n",
       "                                                   'Body_Temp'])])),\n",
       "                ('linearregression', LinearRegression())])"
      ]
     },
     "metadata": {},
     "output_type": "display_data"
    }
   ],
   "source": [
    "# Paths\n",
    "calorie_train_data_path = \"../data/raw_data/train.csv\"\n",
    "target_name = \"Calories\"\n",
    "\n",
    "# Load dataset\n",
    "X,y = load_dataset(calorie_train_data_path,target_name)\n",
    "\n",
    "# split into train and test sets\n",
    "X_train, X_test, y_train, y_test = train_test_split(X, y, test_size=0.33, random_state=1) \n",
    "\n",
    "# Preprocess output data\n",
    "y_train_log = preprocess_output_data(y_train)\n",
    "\n",
    "# Define pipeline\n",
    "pipeline = get_models(X_train)\n",
    "\n",
    "display(pipeline)\n",
    "    \n",
    "# # evaluate a given model using cross-validation\n",
    "# n_scores = evaluate_model(pipeline, X_train, y_train_log)\n",
    "\n",
    "# # report model performance\n",
    "# mean_rmsle, std_rmsle = report_model_performance(n_scores)\n",
    "# print(f\"RMSLE: {mean_rmsle:.7f} ({std_rmsle:.3f})\")"
   ]
  },
  {
   "cell_type": "code",
   "execution_count": 13,
   "id": "eafea927-6a29-44bf-8a18-141a9407edf3",
   "metadata": {},
   "outputs": [],
   "source": [
    "# # Fit pipeline\n",
    "# pipeline.fit(X_train, y_train_log)\n",
    "\n",
    "# # Predict and inverse log\n",
    "# y_pred_log = pipeline.predict(X_test)\n",
    "# y_pred = np.expm1(y_pred_log)\n",
    "# y_pred = pd.DataFrame(y_pred, index=y_test.index)"
   ]
  },
  {
   "cell_type": "code",
   "execution_count": 14,
   "id": "5788c525-3c32-4985-b0e4-b06277a756dd",
   "metadata": {},
   "outputs": [],
   "source": [
    "# y_test"
   ]
  }
 ],
 "metadata": {
  "kernelspec": {
   "display_name": "Python 3 (ipykernel)",
   "language": "python",
   "name": "python3"
  },
  "language_info": {
   "codemirror_mode": {
    "name": "ipython",
    "version": 3
   },
   "file_extension": ".py",
   "mimetype": "text/x-python",
   "name": "python",
   "nbconvert_exporter": "python",
   "pygments_lexer": "ipython3",
   "version": "3.10.6"
  }
 },
 "nbformat": 4,
 "nbformat_minor": 5
}
