{
 "cells": [
  {
   "cell_type": "markdown",
   "id": "14453f85-6254-40d1-baf4-5fdb510ffe77",
   "metadata": {},
   "source": [
    "# Data transforms"
   ]
  },
  {
   "cell_type": "code",
   "execution_count": null,
   "id": "8075d1dd-0e7a-4ac3-bdca-7a7716346a49",
   "metadata": {},
   "outputs": [],
   "source": [
    "# Libraries\n",
    "\n",
    "## Basic libraries\n",
    "import numpy as np\n",
    "import pandas as pd\n",
    "import seaborn as sns\n",
    "\n",
    "import math\n",
    "from numpy import mean \n",
    "from numpy import std\n",
    "from numpy import percentile \n",
    "# from scipy.stats import iqr\n",
    "\n",
    "## Plotting\n",
    "import matplotlib.pyplot as plt\n",
    "\n",
    "from pandas import read_csv\n",
    "import pandas as pd\n",
    "from sklearn.model_selection import train_test_split \n",
    "from sklearn.preprocessing import LabelEncoder\n",
    "from sklearn.preprocessing import OrdinalEncoder \n",
    "from sklearn.feature_selection import SelectKBest \n",
    "from sklearn.feature_selection import chi2\n",
    "from matplotlib import pyplot"
   ]
  },
  {
   "cell_type": "markdown",
   "id": "8dee2151-c7cd-4518-9b5b-451e3be58292",
   "metadata": {},
   "source": [
    "## How to Scale Numerical Data"
   ]
  },
  {
   "cell_type": "markdown",
   "id": "d9833bf4-2688-4d41-8446-3eee9cc8a045",
   "metadata": {},
   "source": [
    "📌 **Why Scale Numerical Data?**\n",
    "- Many ML algorithms perform better with scaled data.\n",
    "- Algorithms affected:<br>\n",
    "o\t**Weighted-sum models**: Linear Regression, Logistic Regression, Neural Networks.<br>\n",
    "o\t**Distance-based models**: KNN, SVM.<br>\n",
    "- Algorithms unaffected: Decision Trees, Random Forests.\n",
    "- Scaling helps:<br>\n",
    "o\tPrevent instability from large weights.<br>\n",
    "o\tImprove convergence and performance.<br>\n",
    "o\tNormalize gradients in neural networks.<br>"
   ]
  },
  {
   "cell_type": "markdown",
   "id": "60fbcb7f-40f5-4fd2-b627-de97e650eb41",
   "metadata": {},
   "source": [
    "🔢 **Two Main Scaling Techniques**<br><br>\n",
    "🔹 **Normalization (Min-Max Scaling)**<br>\n",
    "- **Range**: Scales values to **[0, 1]**.\n",
    "- Formula: **y = (x - min) / (max - min)**<br>\n",
    "- Assumes known or estimable min and max.\n",
    "- Sensitive to **outliers**.\n",
    "- Use **MinMaxScaler** from scikit-learn.<br><br>\n",
    "  \n",
    "🔹 **Standardization (Z-score Scaling)**<br>\n",
    "- **Range**: Mean = 0, Standard Deviation = 1.\n",
    "- Formula: **y = (x - mean) / standard_deviation**<br>\n",
    "- More **robust** to outliers.\n",
    "- Assumes **Gaussian distribution** (but works without it).\n",
    "- Use **StandardScaler** from scikit-learn."
   ]
  },
  {
   "cell_type": "markdown",
   "id": "d573a75c-a64b-494e-bb3e-c8cabeaf4e8d",
   "metadata": {},
   "source": [
    "🛠️ **How to Apply Scaling (Best Practice)**<br>\n",
    "1. **Fit** the scaler on **training data** only.\n",
    "2.\t**Transform** the training and future data.\n",
    "3.\tOptionally **inverse transform** for interpretation."
   ]
  },
  {
   "cell_type": "markdown",
   "id": "a06e1838-4b1c-40b3-8763-ddeee9b57b7c",
   "metadata": {},
   "source": [
    "❓ **Common Questions**<br>\n",
    "- **Normalize vs Standardize?**<br>\n",
    "o\tNormalize if distribution is unknown or not Gaussian.<br>\n",
    "o\tStandardize if distribution is Gaussian or spread is wide.<br><br>\n",
    "- **Standardize then Normalize?**<br>\n",
    "o\tOptional. Useful if mixing scaled data types or using distance-based models.<br><br>\n",
    "- **Which is best?**<br>\n",
    "o\tNo universal answer. Test both and compare performance.<br><br>\n",
    "- **Out-of-bounds values?**<br>\n",
    "o\tClamp to training min/max or set bounds manually."
   ]
  },
  {
   "cell_type": "markdown",
   "id": "364e1659-9ef7-4bad-9cc5-333749fdb9fb",
   "metadata": {},
   "source": [
    "✅ **Key Takeaways**\n",
    "- **Scaling improves model performance and stability.**\n",
    "- **Choose scaling based on data characteristics and model type.**\n",
    "- Always **evaluate impact of scaling on performance.**"
   ]
  },
  {
   "cell_type": "markdown",
   "id": "4d662404-cb34-49a0-a305-217cec270ba2",
   "metadata": {},
   "source": [
    "### Diabetes Dataset"
   ]
  },
  {
   "cell_type": "code",
   "execution_count": 3,
   "id": "2af9e0f3-764b-4450-8986-eb72dbd07af6",
   "metadata": {},
   "outputs": [
    {
     "name": "stdout",
     "output_type": "stream",
     "text": [
      "(768, 9)\n",
      "                0           1           2           3           4           5  \\\n",
      "count  768.000000  768.000000  768.000000  768.000000  768.000000  768.000000   \n",
      "mean     3.845052  120.894531   69.105469   20.536458   79.799479   31.992578   \n",
      "std      3.369578   31.972618   19.355807   15.952218  115.244002    7.884160   \n",
      "min      0.000000    0.000000    0.000000    0.000000    0.000000    0.000000   \n",
      "25%      1.000000   99.000000   62.000000    0.000000    0.000000   27.300000   \n",
      "50%      3.000000  117.000000   72.000000   23.000000   30.500000   32.000000   \n",
      "75%      6.000000  140.250000   80.000000   32.000000  127.250000   36.600000   \n",
      "max     17.000000  199.000000  122.000000   99.000000  846.000000   67.100000   \n",
      "\n",
      "                6           7           8  \n",
      "count  768.000000  768.000000  768.000000  \n",
      "mean     0.471876   33.240885    0.348958  \n",
      "std      0.331329   11.760232    0.476951  \n",
      "min      0.078000   21.000000    0.000000  \n",
      "25%      0.243750   24.000000    0.000000  \n",
      "50%      0.372500   29.000000    0.000000  \n",
      "75%      0.626250   41.000000    1.000000  \n",
      "max      2.420000   81.000000    1.000000  \n"
     ]
    },
    {
     "data": {
      "image/png": "[encoded data removed]",
      "text/plain": [
       "<Figure size 640x480 with 9 Axes>"
      ]
     },
     "metadata": {},
     "output_type": "display_data"
    }
   ],
   "source": [
    "# load and summarize the diabetes dataset \n",
    "from pandas import read_csv\n",
    "from matplotlib import pyplot \n",
    "\n",
    "# load the dataset\n",
    "path_diabetes= \"https://raw.githubusercontent.com/jbrownlee/Datasets/master/pima-indians-diabetes.csv\"\n",
    "dataset = read_csv(path_diabetes, header=None) \n",
    "\n",
    "# summarize the shape of the dataset\n",
    "print(dataset.shape)\n",
    "\n",
    "# summarize each variable \n",
    "print(dataset.describe())\n",
    "\n",
    "# histograms of the variables\n",
    "fig = dataset.hist(xlabelsize=4, ylabelsize=4) \n",
    "[x.title.set_size(4)  for  x  in  fig.ravel()]\n",
    "\n",
    "# show the plot \n",
    "pyplot.show()"
   ]
  },
  {
   "cell_type": "markdown",
   "id": "31300747-1404-4462-8879-83268fee8add",
   "metadata": {},
   "source": [
    "Next, let’s fit and evaluate a machine learning model on the raw dataset. We will use a k-nearest neighbor algorithm with default hyperparameters and evaluate it using repeated stratified k-fold cross-validation. The complete example is listed below."
   ]
  },
  {
   "cell_type": "code",
   "execution_count": 4,
   "id": "44408ea3-d83b-4166-a8ea-0a51518695ce",
   "metadata": {},
   "outputs": [
    {
     "name": "stdout",
     "output_type": "stream",
     "text": [
      "Accuracy: 0.717 (0.040)\n"
     ]
    }
   ],
   "source": [
    "# evaluate knn on the raw diabetes dataset \n",
    "from numpy import mean\n",
    "from numpy import std\n",
    "from pandas import read_csv\n",
    "from sklearn.model_selection import cross_val_score\n",
    "from sklearn.model_selection import RepeatedStratifiedKFold \n",
    "from sklearn.neighbors import KNeighborsClassifier\n",
    "from sklearn.preprocessing import LabelEncoder \n",
    "\n",
    "# load the dataset\n",
    "path_diabetes= \"https://raw.githubusercontent.com/jbrownlee/Datasets/master/pima-indians-diabetes.csv\"\n",
    "dataset = read_csv(path_diabetes, header=None) \n",
    "data = dataset.values\n",
    "\n",
    "# separate into input and output columns \n",
    "X, y = data[:, :-1], data[:, -1]\n",
    "\n",
    "# ensure inputs are floats and output is an integer label\n",
    "X = X.astype('float32')\n",
    "y  =  LabelEncoder().fit_transform(y.astype('str'))\n",
    "\n",
    "# define and configure the model\n",
    "model = KNeighborsClassifier() \n",
    "\n",
    "# evaluate the model\n",
    "cv = RepeatedStratifiedKFold(n_splits=10, n_repeats=3, random_state=1)\n",
    "n_scores = cross_val_score(model, X, y, scoring='accuracy', cv=cv, n_jobs=-1)\n",
    "\n",
    "# report model performance\n",
    "print('Accuracy: %.3f (%.3f)' % (mean(n_scores), std(n_scores)))"
   ]
  },
  {
   "cell_type": "markdown",
   "id": "3739be8f-1ea1-448c-bf5f-eb0ace8961f2",
   "metadata": {},
   "source": [
    "### MinMaxScaler Transform"
   ]
  },
  {
   "cell_type": "markdown",
   "id": "ec863543-97d7-4dc6-bdc9-847271cfa049",
   "metadata": {},
   "source": [
    "🔹 **Normalization (Min-Max Scaling)**<br>\n",
    "- **Range**: Scales values to **[0, 1]**.\n",
    "- Formula: **y = (x - min) / (max - min)**<br>\n",
    "- Assumes known or estimable min and max.\n",
    "- Sensitive to **outliers**.\n",
    "- Use **MinMaxScaler** from scikit-learn.<br><br>"
   ]
  },
  {
   "cell_type": "code",
   "execution_count": 5,
   "id": "a85b6878-a484-422d-9433-662c61f98dd8",
   "metadata": {
    "scrolled": true
   },
   "outputs": [
    {
     "name": "stdout",
     "output_type": "stream",
     "text": [
      "                0           1           2           3           4           5  \\\n",
      "count  768.000000  768.000000  768.000000  768.000000  768.000000  768.000000   \n",
      "mean     0.226180    0.607510    0.566438    0.207439    0.094326    0.476790   \n",
      "std      0.198210    0.160666    0.158654    0.161134    0.136222    0.117499   \n",
      "min      0.000000    0.000000    0.000000    0.000000    0.000000    0.000000   \n",
      "25%      0.058824    0.497487    0.508197    0.000000    0.000000    0.406855   \n",
      "50%      0.176471    0.587940    0.590164    0.232323    0.036052    0.476900   \n",
      "75%      0.352941    0.704774    0.655738    0.323232    0.150414    0.545455   \n",
      "max      1.000000    1.000000    1.000000    1.000000    1.000000    1.000000   \n",
      "\n",
      "                6           7  \n",
      "count  768.000000  768.000000  \n",
      "mean     0.168179    0.204015  \n",
      "std      0.141473    0.196004  \n",
      "min      0.000000    0.000000  \n",
      "25%      0.070773    0.050000  \n",
      "50%      0.125747    0.133333  \n",
      "75%      0.234095    0.333333  \n",
      "max      1.000000    1.000000  \n"
     ]
    },
    {
     "data": {
      "image/png": "[encoded data removed]",
      "text/plain": [
       "<Figure size 640x480 with 9 Axes>"
      ]
     },
     "metadata": {},
     "output_type": "display_data"
    }
   ],
   "source": [
    "# visualize a minmax scaler transform of the diabetes dataset \n",
    "from pandas import read_csv\n",
    "from pandas import DataFrame\n",
    "from sklearn.preprocessing import MinMaxScaler \n",
    "from matplotlib import pyplot\n",
    "\n",
    "# load the dataset\n",
    "path_diabetes= \"https://raw.githubusercontent.com/jbrownlee/Datasets/master/pima-indians-diabetes.csv\"\n",
    "dataset = read_csv(path_diabetes, header=None) \n",
    "\n",
    "# retrieve just the numeric input values\n",
    "data = dataset.values[:, :-1]\n",
    "\n",
    "# perform a robust scaler transform of the dataset \n",
    "trans = MinMaxScaler()\n",
    "data = trans.fit_transform(data)\n",
    "\n",
    "# convert the array back to a dataframe \n",
    "dataset = DataFrame(data)\n",
    "\n",
    "# summarize \n",
    "print(dataset.describe())\n",
    "\n",
    "# histograms of the variables\n",
    "fig = dataset.hist(xlabelsize=4, ylabelsize=4) \n",
    "[x.title.set_size(4) for x in fig.ravel()]\n",
    "\n",
    "# show the plot \n",
    "pyplot.show()"
   ]
  },
  {
   "cell_type": "markdown",
   "id": "5fdabe65-4104-49e9-aed5-e7ae4a105e2a",
   "metadata": {},
   "source": [
    "Next, let’s evaluate the same KNN model as the previous section, but in this case, on a MinMaxScaler transform of the dataset. The complete example is listed below."
   ]
  },
  {
   "cell_type": "code",
   "execution_count": 6,
   "id": "d3b3a6ec-40ff-4b14-9779-39b8713629a4",
   "metadata": {},
   "outputs": [
    {
     "name": "stdout",
     "output_type": "stream",
     "text": [
      "Accuracy: 0.739 (0.053)\n"
     ]
    }
   ],
   "source": [
    "# evaluate knn on the diabetes dataset with minmax scaler transform \n",
    "from numpy import mean\n",
    "from numpy import std\n",
    "from pandas import read_csv\n",
    "from sklearn.model_selection import cross_val_score\n",
    "from sklearn.model_selection import RepeatedStratifiedKFold \n",
    "from sklearn.neighbors import KNeighborsClassifier\n",
    "from sklearn.preprocessing import LabelEncoder \n",
    "from sklearn.preprocessing import MinMaxScaler \n",
    "from sklearn.pipeline import Pipeline\n",
    "\n",
    "# load the dataset\n",
    "path_diabetes= \"https://raw.githubusercontent.com/jbrownlee/Datasets/master/pima-indians-diabetes.csv\"\n",
    "dataset = read_csv(path_diabetes, header=None) \n",
    "data = dataset.values\n",
    "\n",
    "# separate into input and output columns \n",
    "X, y = data[:, :-1], data[:, -1]\n",
    "\n",
    "# ensure inputs are floats and output is an integer label\n",
    "X = X.astype('float32')\n",
    "y  =  LabelEncoder().fit_transform(y.astype('str')) \n",
    "\n",
    "# define the pipeline\n",
    "trans = MinMaxScaler()\n",
    "model  =  KNeighborsClassifier()\n",
    "pipeline = Pipeline(steps=[('t', trans), ('m', model)]) \n",
    "\n",
    "# evaluate the pipeline\n",
    "cv = RepeatedStratifiedKFold(n_splits=10, n_repeats=3, random_state=1)\n",
    "n_scores = cross_val_score(pipeline, X, y, scoring='accuracy', cv=cv, n_jobs=-1) \n",
    "\n",
    "# report pipeline performance\n",
    "print('Accuracy: %.3f (%.3f)' % (mean(n_scores), std(n_scores)))"
   ]
  },
  {
   "cell_type": "markdown",
   "id": "377648f1-0695-4261-9755-986ef34efeb1",
   "metadata": {},
   "source": [
    "### StandardScaler Transform"
   ]
  },
  {
   "cell_type": "markdown",
   "id": "cf970bee-bca8-48ee-9abc-2c0a5d15cfe1",
   "metadata": {},
   "source": [
    "🔹 **Standardization (Z-score Scaling)**<br>\n",
    "- **Range**: Mean = 0, Standard Deviation = 1.\n",
    "- Formula: **y = (x - mean) / standard_deviation**<br>\n",
    "- More **robust** to outliers.\n",
    "- Assumes **Gaussian distribution** (but works without it).\n",
    "- Use **StandardScaler** from scikit-learn."
   ]
  },
  {
   "cell_type": "code",
   "execution_count": 7,
   "id": "ea005851-d153-46ac-90ee-6deb67537c03",
   "metadata": {},
   "outputs": [
    {
     "name": "stdout",
     "output_type": "stream",
     "text": [
      "                  0             1             2             3             4  \\\n",
      "count  7.680000e+02  7.680000e+02  7.680000e+02  7.680000e+02  7.680000e+02   \n",
      "mean  -6.476301e-17 -9.251859e-18  1.503427e-17  1.006140e-16 -3.006854e-17   \n",
      "std    1.000652e+00  1.000652e+00  1.000652e+00  1.000652e+00  1.000652e+00   \n",
      "min   -1.141852e+00 -3.783654e+00 -3.572597e+00 -1.288212e+00 -6.928906e-01   \n",
      "25%   -8.448851e-01 -6.852363e-01 -3.673367e-01 -1.288212e+00 -6.928906e-01   \n",
      "50%   -2.509521e-01 -1.218877e-01  1.496408e-01  1.545332e-01 -4.280622e-01   \n",
      "75%    6.399473e-01  6.057709e-01  5.632228e-01  7.190857e-01  4.120079e-01   \n",
      "max    3.906578e+00  2.444478e+00  2.734528e+00  4.921866e+00  6.652839e+00   \n",
      "\n",
      "                  5             6             7  \n",
      "count  7.680000e+02  7.680000e+02  7.680000e+02  \n",
      "mean   2.590520e-16  2.451743e-16  1.931325e-16  \n",
      "std    1.000652e+00  1.000652e+00  1.000652e+00  \n",
      "min   -4.060474e+00 -1.189553e+00 -1.041549e+00  \n",
      "25%   -5.955785e-01 -6.889685e-01 -7.862862e-01  \n",
      "50%    9.419788e-04 -3.001282e-01 -3.608474e-01  \n",
      "75%    5.847705e-01  4.662269e-01  6.602056e-01  \n",
      "max    4.455807e+00  5.883565e+00  4.063716e+00  \n"
     ]
    },
    {
     "data": {
      "image/png": "[encoded data removed]",
      "text/plain": [
       "<Figure size 640x480 with 9 Axes>"
      ]
     },
     "metadata": {},
     "output_type": "display_data"
    }
   ],
   "source": [
    "# visualize a standard scaler transform of the diabetes dataset \n",
    "from pandas import read_csv\n",
    "from pandas import DataFrame\n",
    "from sklearn.preprocessing import StandardScaler \n",
    "from matplotlib import pyplot\n",
    "\n",
    "# load the dataset\n",
    "path_diabetes= \"https://raw.githubusercontent.com/jbrownlee/Datasets/master/pima-indians-diabetes.csv\"\n",
    "dataset = read_csv(path_diabetes, header=None) \n",
    "\n",
    "# retrieve just the numeric input values\n",
    "data = dataset.values[:, :-1]\n",
    "\n",
    "# perform a robust scaler transform of the dataset\n",
    "trans = StandardScaler()\n",
    "data = trans.fit_transform(data)\n",
    "\n",
    "# convert the array back to a dataframe \n",
    "dataset = DataFrame(data)\n",
    "# summarize \n",
    "print(dataset.describe())\n",
    "\n",
    "# histograms of the variables\n",
    "fig = dataset.hist(xlabelsize=4, ylabelsize=4)\n",
    "[x.title.set_size(4) for x in fig.ravel()]\n",
    "\n",
    "# show the plot \n",
    "pyplot.show()"
   ]
  },
  {
   "cell_type": "markdown",
   "id": "f041b3a3-0a86-4e3b-b7f7-d97659c02034",
   "metadata": {},
   "source": [
    "Next, let’s evaluate the same KNN model as the previous section, but in this case, on a StandardScaler transform of the dataset. The complete example is listed below."
   ]
  },
  {
   "cell_type": "code",
   "execution_count": 8,
   "id": "33dadaa1-5814-443c-812c-c2427b49b323",
   "metadata": {},
   "outputs": [
    {
     "name": "stdout",
     "output_type": "stream",
     "text": [
      "Accuracy: 0.741 (0.050)\n"
     ]
    }
   ],
   "source": [
    "# evaluate knn on the diabetes dataset with standard scaler transform \n",
    "from numpy import mean\n",
    "from numpy import std\n",
    "from pandas import read_csv\n",
    "from sklearn.model_selection import cross_val_score\n",
    "from sklearn.model_selection import RepeatedStratifiedKFold \n",
    "from sklearn.neighbors import KNeighborsClassifier\n",
    "from sklearn.preprocessing import LabelEncoder \n",
    "from sklearn.preprocessing import StandardScaler \n",
    "from sklearn.pipeline import Pipeline\n",
    "\n",
    "# load the dataset\n",
    "path_diabetes= \"https://raw.githubusercontent.com/jbrownlee/Datasets/master/pima-indians-diabetes.csv\"\n",
    "dataset = read_csv(path_diabetes, header=None) \n",
    "data = dataset.values\n",
    "\n",
    "# separate into input and output columns \n",
    "X, y = data[:, :-1], data[:, -1]\n",
    "\n",
    "# ensure inputs are floats and output is an integer label\n",
    "X = X.astype('float32')\n",
    "y  =  LabelEncoder().fit_transform(y.astype('str')) \n",
    "\n",
    "# define the pipeline\n",
    "trans = StandardScaler()\n",
    "model  =  KNeighborsClassifier()\n",
    "pipeline = Pipeline(steps=[('t', trans), ('m', model)]) \n",
    "\n",
    "# evaluate the pipeline\n",
    "cv = RepeatedStratifiedKFold(n_splits=10, n_repeats=3, random_state=1)\n",
    "n_scores = cross_val_score(pipeline, X, y, scoring='accuracy', cv=cv, n_jobs=-1) \n",
    "\n",
    "# report pipeline performance\n",
    "print('Accuracy: %.3f (%.3f)' % (mean(n_scores), std(n_scores)))"
   ]
  },
  {
   "cell_type": "markdown",
   "id": "652b9409-1040-4989-b0ea-19a20cf3d1a5",
   "metadata": {},
   "source": [
    "## How to Scale Data With Outliers"
   ]
  },
  {
   "cell_type": "markdown",
   "id": "5d2091c0-83d8-4783-b6e7-8043a058152d",
   "metadata": {},
   "source": [
    "📌 **Why Scale Data?**\n",
    "- Many ML algorithms perform better with scaled numerical input.\n",
    "- Algorithms like linear regression, KNN, SVM, and neural networks are sensitive to feature scale.\n",
    "- Large-valued features can dominate and bias model learning."
   ]
  },
  {
   "cell_type": "markdown",
   "id": "2c1e5a16-df1a-4ffe-9e89-c6759a963f9d",
   "metadata": {},
   "source": [
    "⚠️ **Problem with Standard Scaling**\n",
    "- **Standardization** = subtract mean + divide by standard deviation.\n",
    "- Works best with normally (Gaussian) distributed features.\n",
    "- Fails with **outliers** – they skew mean and standard deviation."
   ]
  },
  {
   "cell_type": "markdown",
   "id": "0f8d27b1-de60-4bf7-bba5-b5a22d85d9c2",
   "metadata": {},
   "source": [
    "✅ **Solution: Robust Scaling**\n",
    "- Use **median** and **IQR (Interquartile Range)** instead of mean and std.\n",
    "- Called **Robust Scaling** – less sensitive to outliers.\n",
    "- Transforms:<br>\n",
    "o\tSubtract the median (centering)<br>\n",
    "o\tDivide by IQR (scaling)<br>\n",
    "- Result: distribution centered at 0, with unit-scale, preserving outliers."
   ]
  },
  {
   "cell_type": "markdown",
   "id": "24b2680c-4207-4248-88fa-658297e02083",
   "metadata": {},
   "source": [
    "🛠️ **Using RobustScaler in Python (scikit-learn)**\n",
    "- RobustScaler() available in sklearn.preprocessing.\n",
    "- Parameters:<br>\n",
    "o\t**with_centering**=True: subtract median<br>\n",
    "o\t**with_scaling**=True: divide by IQR<br>\n",
    "o\t**quantile_range**=(25, 75): default IQR range, can be customized"
   ]
  },
  {
   "cell_type": "markdown",
   "id": "34bd8740-20ce-4214-993c-3a06a8297d56",
   "metadata": {},
   "source": [
    "🧠 **Key Takeaways for Data Scientists**\n",
    "- Always consider feature scaling before training models.\n",
    "- Prefer **RobustScaler** when data has **outliers**.\n",
    "- Tune quantile_range for better performance – no one-size-fits-all.\n",
    "- Evaluate scaling impacts using cross-validation."
   ]
  },
  {
   "cell_type": "markdown",
   "id": "087cf486-0296-4b00-a22b-fd62b551695a",
   "metadata": {},
   "source": [
    "#### Diabetes Dataset"
   ]
  },
  {
   "cell_type": "code",
   "execution_count": 9,
   "id": "5660bf71-3814-4c0c-9c43-e7573a443633",
   "metadata": {},
   "outputs": [
    {
     "name": "stdout",
     "output_type": "stream",
     "text": [
      "(768, 9)\n",
      "                0           1           2           3           4           5  \\\n",
      "count  768.000000  768.000000  768.000000  768.000000  768.000000  768.000000   \n",
      "mean     3.845052  120.894531   69.105469   20.536458   79.799479   31.992578   \n",
      "std      3.369578   31.972618   19.355807   15.952218  115.244002    7.884160   \n",
      "min      0.000000    0.000000    0.000000    0.000000    0.000000    0.000000   \n",
      "25%      1.000000   99.000000   62.000000    0.000000    0.000000   27.300000   \n",
      "50%      3.000000  117.000000   72.000000   23.000000   30.500000   32.000000   \n",
      "75%      6.000000  140.250000   80.000000   32.000000  127.250000   36.600000   \n",
      "max     17.000000  199.000000  122.000000   99.000000  846.000000   67.100000   \n",
      "\n",
      "                6           7           8  \n",
      "count  768.000000  768.000000  768.000000  \n",
      "mean     0.471876   33.240885    0.348958  \n",
      "std      0.331329   11.760232    0.476951  \n",
      "min      0.078000   21.000000    0.000000  \n",
      "25%      0.243750   24.000000    0.000000  \n",
      "50%      0.372500   29.000000    0.000000  \n",
      "75%      0.626250   41.000000    1.000000  \n",
      "max      2.420000   81.000000    1.000000  \n"
     ]
    },
    {
     "data": {
      "image/png": "[encoded data removed]",
      "text/plain": [
       "<Figure size 640x480 with 9 Axes>"
      ]
     },
     "metadata": {},
     "output_type": "display_data"
    }
   ],
   "source": [
    "# load and summarize the diabetes dataset \n",
    "from pandas import read_csv\n",
    "from matplotlib import pyplot \n",
    "\n",
    "# load the dataset\n",
    "path_diabetes= \"https://raw.githubusercontent.com/jbrownlee/Datasets/master/pima-indians-diabetes.csv\"\n",
    "dataset = read_csv(path_diabetes, header=None) \n",
    "\n",
    "# summarize the shape of the dataset\n",
    "print(dataset.shape)\n",
    "\n",
    "# summarize each variable \n",
    "print(dataset.describe())\n",
    "\n",
    "# histograms of the variables\n",
    "fig = dataset.hist(xlabelsize=4, ylabelsize=4) \n",
    "[x.title.set_size(4)  for  x  in  fig.ravel()]\n",
    "\n",
    "# show the plot \n",
    "pyplot.show()"
   ]
  },
  {
   "cell_type": "markdown",
   "id": "ca34b076-10da-4a84-8348-ffdc685b1a87",
   "metadata": {},
   "source": [
    "Next, let’s fit and evaluate a machine learning model on the raw dataset. <br>We will use a k-nearest neighbor algorithm with default hyperparameters and evaluate it using repeated stratified k-fold cross-validation. <br>The complete example is listed below."
   ]
  },
  {
   "cell_type": "code",
   "execution_count": 10,
   "id": "3a57ed58-9885-498a-822e-cfaa45820792",
   "metadata": {},
   "outputs": [
    {
     "name": "stdout",
     "output_type": "stream",
     "text": [
      "Accuracy: 0.717 (0.040)\n"
     ]
    }
   ],
   "source": [
    "# evaluate knn on the raw diabetes dataset \n",
    "from numpy import mean\n",
    "from numpy import std\n",
    "from pandas import read_csv\n",
    "from sklearn.model_selection import cross_val_score\n",
    "from sklearn.model_selection import RepeatedStratifiedKFold \n",
    "from sklearn.neighbors import KNeighborsClassifier\n",
    "from sklearn.preprocessing import LabelEncoder \n",
    "\n",
    "# load the dataset\n",
    "path_diabetes= \"https://raw.githubusercontent.com/jbrownlee/Datasets/master/pima-indians-diabetes.csv\"\n",
    "dataset = read_csv(path_diabetes, header=None) \n",
    "data = dataset.values\n",
    "\n",
    "# separate into input and output columns \n",
    "X, y = data[:, :-1], data[:, -1]\n",
    "\n",
    "# ensure inputs are floats and output is an integer label\n",
    "X = X.astype('float32')\n",
    "y  =  LabelEncoder().fit_transform(y.astype('str'))\n",
    "\n",
    "# define and configure the model\n",
    "model = KNeighborsClassifier() \n",
    "\n",
    "# evaluate the model\n",
    "cv = RepeatedStratifiedKFold(n_splits=10, n_repeats=3, random_state=1)\n",
    "n_scores = cross_val_score(model, X, y, scoring='accuracy', cv=cv, n_jobs=-1)\n",
    "\n",
    "# report model performance\n",
    "print('Accuracy: %.3f (%.3f)' % (mean(n_scores), std(n_scores)))"
   ]
  },
  {
   "cell_type": "markdown",
   "id": "1e96c877-276f-4ab9-bda9-a572379ef854",
   "metadata": {},
   "source": [
    "#### IQR Robust Scaler Transform"
   ]
  },
  {
   "cell_type": "markdown",
   "id": "61aef290-17f1-4f4a-b931-7d1d38a611b2",
   "metadata": {},
   "source": [
    "✅ **Solution: Robust Scaling**\n",
    "- Use **median** and **IQR (Interquartile Range)** instead of mean and std.\n",
    "- Called **Robust Scaling** – less sensitive to outliers.\n",
    "- Transforms:<br>\n",
    "o\tSubtract the median (centering)<br>\n",
    "o\tDivide by IQR (scaling)<br>\n",
    "- Result: distribution centered at 0, with unit-scale, preserving outliers."
   ]
  },
  {
   "cell_type": "markdown",
   "id": "a142f2cd-ea08-4144-8b73-0e9f61ac3193",
   "metadata": {},
   "source": [
    "🛠️ **Using RobustScaler in Python (scikit-learn)**\n",
    "- RobustScaler() available in sklearn.preprocessing.\n",
    "- Parameters:<br>\n",
    "o\t**with_centering**=True: subtract median<br>\n",
    "o\t**with_scaling**=True: divide by IQR<br>\n",
    "o\t**quantile_range**=(25, 75): default IQR range, can be customized"
   ]
  },
  {
   "cell_type": "code",
   "execution_count": 11,
   "id": "6724e205-0cb1-4c35-a054-9422609bd24b",
   "metadata": {},
   "outputs": [
    {
     "name": "stdout",
     "output_type": "stream",
     "text": [
      "                0           1           2           3           4           5  \\\n",
      "count  768.000000  768.000000  768.000000  768.000000  768.000000  768.000000   \n",
      "mean     0.169010    0.094413   -0.160807   -0.076986    0.387422   -0.000798   \n",
      "std      0.673916    0.775094    1.075323    0.498507    0.905650    0.847759   \n",
      "min     -0.600000   -2.836364   -4.000000   -0.718750   -0.239686   -3.440860   \n",
      "25%     -0.400000   -0.436364   -0.555556   -0.718750   -0.239686   -0.505376   \n",
      "50%      0.000000    0.000000    0.000000    0.000000    0.000000    0.000000   \n",
      "75%      0.600000    0.563636    0.444444    0.281250    0.760314    0.494624   \n",
      "max      2.800000    1.987879    2.777778    2.375000    6.408644    3.774194   \n",
      "\n",
      "                6           7  \n",
      "count  768.000000  768.000000  \n",
      "mean     0.259807    0.249464  \n",
      "std      0.866219    0.691778  \n",
      "min     -0.769935   -0.470588  \n",
      "25%     -0.336601   -0.294118  \n",
      "50%      0.000000    0.000000  \n",
      "75%      0.663399    0.705882  \n",
      "max      5.352941    3.058824  \n"
     ]
    },
    {
     "data": {
      "image/png": "[encoded data removed]",
      "text/plain": [
       "<Figure size 640x480 with 9 Axes>"
      ]
     },
     "metadata": {},
     "output_type": "display_data"
    }
   ],
   "source": [
    "# visualize a robust scaler transform of the diabetes dataset \n",
    "from pandas import read_csv\n",
    "from pandas import DataFrame\n",
    "from sklearn.preprocessing import RobustScaler \n",
    "from matplotlib import pyplot\n",
    "\n",
    "# load dataset\n",
    "path_diabetes= \"https://raw.githubusercontent.com/jbrownlee/Datasets/master/pima-indians-diabetes.csv\"\n",
    "dataset = read_csv(path_diabetes, header=None) \n",
    "\n",
    "# retrieve just the numeric input values\n",
    "data = dataset.values[:, :-1]\n",
    "\n",
    "# perform a robust scaler transform of the dataset \n",
    "trans = RobustScaler()\n",
    "data = trans.fit_transform(data)\n",
    "\n",
    "# convert the array back to a dataframe\n",
    "dataset = DataFrame(data) \n",
    "\n",
    "# summarize\n",
    "print(dataset.describe())\n",
    "\n",
    "# histograms of the variables\n",
    "fig = dataset.hist(xlabelsize=4, ylabelsize=4) \n",
    "[x.title.set_size(4) for x in fig.ravel()]\n",
    "\n",
    "# show the plot \n",
    "pyplot.show()"
   ]
  },
  {
   "cell_type": "markdown",
   "id": "821e03d4-9cfc-4d39-a19d-a0df2c86d505",
   "metadata": {},
   "source": [
    "Next, let’s evaluate the same KNN model as the previous section, but in this case on a robust scaler transform of the dataset. <br>The complete example is listed below."
   ]
  },
  {
   "cell_type": "code",
   "execution_count": 12,
   "id": "cfa0bca1-f64a-4b1b-a6d5-6b634b0eeef7",
   "metadata": {},
   "outputs": [
    {
     "name": "stdout",
     "output_type": "stream",
     "text": [
      "Accuracy: 0.734 (0.044)\n"
     ]
    }
   ],
   "source": [
    "# evaluate knn on the diabetes dataset with robust scaler transform \n",
    "from numpy import mean\n",
    "from numpy import std\n",
    "from pandas import read_csv\n",
    "from sklearn.model_selection import cross_val_score\n",
    "from sklearn.model_selection import RepeatedStratifiedKFold \n",
    "from sklearn.neighbors import KNeighborsClassifier\n",
    "from sklearn.preprocessing import LabelEncoder \n",
    "from sklearn.preprocessing import RobustScaler \n",
    "from sklearn.pipeline import Pipeline\n",
    "\n",
    "# load dataset\n",
    "path_diabetes= \"https://raw.githubusercontent.com/jbrownlee/Datasets/master/pima-indians-diabetes.csv\"\n",
    "dataset = read_csv(path_diabetes, header=None) \n",
    "data = dataset.values\n",
    "\n",
    "# separate into input and output columns \n",
    "X, y = data[:, :-1], data[:, -1]\n",
    "\n",
    "# ensure inputs are floats and output is an integer label\n",
    "X = X.astype('float32')\n",
    "y  =  LabelEncoder().fit_transform(y.astype('str'))\n",
    "\n",
    "# define the pipeline\n",
    "trans = RobustScaler()\n",
    "model  =  KNeighborsClassifier()\n",
    "pipeline = Pipeline(steps=[('t', trans), ('m', model)]) \n",
    "\n",
    "# evaluate the pipeline\n",
    "cv = RepeatedStratifiedKFold(n_splits=10, n_repeats=3, random_state=1)\n",
    "n_scores = cross_val_score(pipeline, X, y, scoring='accuracy', cv=cv, n_jobs=-1) \n",
    "\n",
    "# report pipeline performance\n",
    "print('Accuracy: %.3f (%.3f)' % (mean(n_scores), std(n_scores)))"
   ]
  },
  {
   "cell_type": "markdown",
   "id": "2d8d3c17-fd44-439c-8e58-3fc884519c1d",
   "metadata": {},
   "source": [
    "Next, let’s explore the effect of different scaling ranges."
   ]
  },
  {
   "cell_type": "markdown",
   "id": "bc83adef-42b7-4863-b515-ca5df8e17549",
   "metadata": {},
   "source": [
    "#### Explore Robust Scaler Range"
   ]
  },
  {
   "cell_type": "markdown",
   "id": "103e0d2f-dd58-4e99-966b-ef15b7124bbd",
   "metadata": {},
   "source": [
    "🛠️ **Using RobustScaler in Python (scikit-learn)**\n",
    "- RobustScaler() available in sklearn.preprocessing.\n",
    "- Parameters:<br>\n",
    "o\t**with_centering**=True: subtract median<br>\n",
    "o\t**with_scaling**=True: divide by IQR<br>\n",
    "o\t**quantile_range**=(25, 75): default IQR range, can be customized"
   ]
  },
  {
   "cell_type": "code",
   "execution_count": 13,
   "id": "21b75546-f35f-48b4-832a-8b5fbc565953",
   "metadata": {},
   "outputs": [
    {
     "name": "stdout",
     "output_type": "stream",
     "text": [
      ">1 0.734 (0.054)\n",
      ">5 0.736 (0.051)\n",
      ">10 0.739 (0.047)\n",
      ">15 0.740 (0.045)\n",
      ">20 0.734 (0.050)\n",
      ">25 0.734 (0.044)\n",
      ">30 0.735 (0.042)\n"
     ]
    },
    {
     "data": {
      "image/png": "[encoded data removed]",
      "text/plain": [
       "<Figure size 640x480 with 1 Axes>"
      ]
     },
     "metadata": {},
     "output_type": "display_data"
    }
   ],
   "source": [
    "# explore the scaling range of the robust scaler transform \n",
    "from numpy import mean\n",
    "from numpy import std\n",
    "from pandas import read_csv\n",
    "from sklearn.model_selection import cross_val_score\n",
    "from sklearn.model_selection import RepeatedStratifiedKFold \n",
    "from sklearn.neighbors import KNeighborsClassifier\n",
    "from sklearn.preprocessing import RobustScaler \n",
    "from sklearn.preprocessing import LabelEncoder \n",
    "from sklearn.pipeline import Pipeline\n",
    "from matplotlib import pyplot\n",
    "\n",
    "# get the dataset \n",
    "def get_dataset():\n",
    "    # load dataset\n",
    "    path_diabetes= \"https://raw.githubusercontent.com/jbrownlee/Datasets/master/pima-indians-diabetes.csv\"\n",
    "    dataset = read_csv(path_diabetes, header=None)     \n",
    "    data = dataset.values\n",
    "    # separate into input and output columns\n",
    "    X, y = data[:, :-1], data[:, -1]\n",
    "    # ensure inputs are floats and output is an integer label\n",
    "    X = X.astype('float32')\n",
    "    y = LabelEncoder().fit_transform(y.astype('str')) \n",
    "    return X, y\n",
    "\n",
    "# get a list of models to evaluate \n",
    "def get_models():\n",
    "    models = dict()\n",
    "    for value in [1, 5, 10, 15, 20, 25, 30]:\n",
    "        # define the pipeline\n",
    "        trans = RobustScaler(quantile_range=(value, 100-value)) \n",
    "        model = KNeighborsClassifier()\n",
    "        models[str(value)] = Pipeline(steps=[('t', trans), ('m', model)]) \n",
    "    return models\n",
    "\n",
    "# evaluate a given model using cross-validation \n",
    "def evaluate_model(model, X, y):\n",
    "    cv = RepeatedStratifiedKFold(n_splits=10, n_repeats=3, random_state=1) \n",
    "    scores = cross_val_score(model, X, y, scoring='accuracy', cv=cv, n_jobs=-1) \n",
    "    return scores\n",
    "\n",
    "\n",
    "# define dataset\n",
    "X, y = get_dataset()\n",
    "\n",
    "# get the models to evaluate \n",
    "models = get_models()\n",
    "\n",
    "# evaluate the models and store results \n",
    "results, names = list(), list()\n",
    "\n",
    "for name, model in models.items():\n",
    "    scores = evaluate_model(model, X, y) \n",
    "    results.append(scores) \n",
    "    names.append(name)\n",
    "    print('>%s %.3f (%.3f)'  % (name, mean(scores), std(scores))) \n",
    "\n",
    "# plot model performance for comparison \n",
    "pyplot.boxplot(results, tick_labels=names, showmeans=True) \n",
    "pyplot.show()"
   ]
  },
  {
   "cell_type": "markdown",
   "id": "b7761090-f217-4bb6-bf8e-e551d84d4305",
   "metadata": {},
   "source": [
    "## How to Encode Categorical Data"
   ]
  },
  {
   "cell_type": "markdown",
   "id": "711c2a2b-b595-4968-b209-f75d9659299a",
   "metadata": {},
   "source": [
    "📌 **Core Principle**\n",
    "- Machine learning models require **numeric input/output**.\n",
    "- **Categorical data must be encoded** to numeric form before modeling."
   ]
  },
  {
   "cell_type": "markdown",
   "id": "37957ad6-25ad-4a76-9656-559096e8b8b4",
   "metadata": {},
   "source": [
    "📚 **Types of Variables**\n",
    "- **Nominal Variable**: Categories without order (e.g., red, green, blue).\n",
    "- **Ordinal Variable**: Categories with order/rank (e.g., low, medium, high)."
   ]
  },
  {
   "cell_type": "markdown",
   "id": "833254f9-902d-4773-8884-28c51326eac6",
   "metadata": {},
   "source": [
    "🛠️ **Encoding Techniques**<br>\n",
    "- **Ordinal Encoding**<br>\n",
    "o\tMaps categories to integers (e.g., red=1, green=2).<br>\n",
    "o\tUse **only** if categories have a **natural order**.<br>\n",
    "o\tCan be misleading for **nominal variables**.<br>\n",
    "o\tImplemented via OrdinalEncoder (scikit-learn).<br>\n",
    "o\tFor target labels: use LabelEncoder.<br><br>\n",
    "\n",
    "- **One Hot Encoding**<br>\n",
    "o\tCreates binary column for each category.<br>\n",
    "o\tSuitable for **nominal data** (no rank/order).<br>\n",
    "o\tAvoids incorrect ordinal assumptions.<br>\n",
    "o\tImplemented via OneHotEncoder.<br>\n",
    "o\tCan handle **unknown categories** with **handle_unknown='ignore'**.<br>\n",
    "o\tCan produce **sparse** matrix; **set sparse=False to get full matrix.**<br><br>\n",
    "\n",
    "\n",
    "- **Dummy Variable Encoding**<br>\n",
    "o\tLike one hot, but drops one column to avoid redundancy.<br>\n",
    "o\tUse with **regression models** (e.g., linear regression).<br>\n",
    "o\tControlled via drop='first' in OneHotEncoder.<br>"
   ]
  },
  {
   "cell_type": "markdown",
   "id": "20084611-c7fe-407a-90ac-37c1bb9daaff",
   "metadata": {},
   "source": [
    "🤔 **Common Questions**\n",
    "- **Mixed Data Types?**<br>\n",
    "o\tEncode each column separately.<br>\n",
    "o\tUse ColumnTransformer for automated handling.<br><br>\n",
    "- **High Cardinality?**<br>\n",
    "o\tOne hot encoding can still work with thousands of categories.<br>\n",
    "o\tModels can handle large feature vectors.<br><br>\n",
    "- **Best Encoding Method?**<br>\n",
    "o\t**No universal answer**—must **experiment** with each method on your dataset.<br>"
   ]
  },
  {
   "cell_type": "markdown",
   "id": "fa77f0cf-e6c7-40d6-b236-0ad71e990e8e",
   "metadata": {},
   "source": [
    "🧩 **Key Takeaways**\n",
    "- Encoding is **essential preprocessing**.\n",
    "- Match encoding method to **variable type** (ordinal vs nominal).\n",
    "- **Always test** encoding methods with your specific model and dataset."
   ]
  },
  {
   "cell_type": "markdown",
   "id": "69680c61-08f9-4397-a100-dc37417cad36",
   "metadata": {},
   "source": [
    "#### Breast Cancer Dataset"
   ]
  },
  {
   "cell_type": "code",
   "execution_count": 14,
   "id": "6d8b79a8-1af3-4031-8875-62490069d659",
   "metadata": {},
   "outputs": [
    {
     "name": "stdout",
     "output_type": "stream",
     "text": [
      "Input (286, 9)\n",
      "Output (286,)\n"
     ]
    }
   ],
   "source": [
    "# load and summarize the dataset \n",
    "from pandas import read_csv\n",
    "\n",
    "# load the dataset\n",
    "path_breast_data = \"https://raw.githubusercontent.com/jbrownlee/Datasets/master/breast-cancer.csv\"\n",
    "dataset = read_csv(path_breast_data, header=None) \n",
    "\n",
    "# retrieve the array of data\n",
    "data = dataset.values\n",
    "\n",
    "# separate into input and output columns\n",
    "X = data[:, :-1].astype(str)\n",
    "y = data[:, -1].astype(str) \n",
    "\n",
    "# summarize\n",
    "print('Input', X.shape) \n",
    "print('Output', y.shape)"
   ]
  },
  {
   "cell_type": "markdown",
   "id": "1a8c34be-4e53-4a66-b81e-353a9ee2bbca",
   "metadata": {},
   "source": [
    "#### OrdinalEncoder Transform"
   ]
  },
  {
   "cell_type": "markdown",
   "id": "23f3659f-72d2-4070-bd08-ec70d3499597",
   "metadata": {},
   "source": [
    "- **Ordinal Encoding**<br>\n",
    "o\tMaps categories to integers (e.g., red=1, green=2).<br>\n",
    "o\tUse **only** if categories have a **natural order**.<br>\n",
    "o\tCan be misleading for **nominal variables**.<br>\n",
    "o\tImplemented via **OrdinalEncoder** (scikit-learn).<br>\n",
    "o\tFor target labels: use **LabelEncoder**.<br><br>"
   ]
  },
  {
   "cell_type": "code",
   "execution_count": 15,
   "id": "1ab08f50-a03f-4834-b5f8-9f8830f9e121",
   "metadata": {},
   "outputs": [
    {
     "name": "stdout",
     "output_type": "stream",
     "text": [
      "Input (286, 9)\n",
      "[[2. 2. 2. 0. 1. 2. 1. 2. 0.]\n",
      " [3. 0. 2. 0. 0. 0. 1. 0. 0.]\n",
      " [3. 0. 6. 0. 0. 1. 0. 1. 0.]\n",
      " [2. 2. 6. 0. 1. 2. 1. 1. 1.]\n",
      " [2. 2. 5. 4. 1. 1. 0. 4. 0.]]\n",
      "Output (286,)\n",
      "[1 0 1 0 1]\n"
     ]
    }
   ],
   "source": [
    "# ordinal encode the breast cancer dataset \n",
    "from pandas import read_csv\n",
    "from sklearn.preprocessing import LabelEncoder \n",
    "from sklearn.preprocessing import OrdinalEncoder \n",
    "\n",
    "# load the dataset\n",
    "path_breast_data = \"https://raw.githubusercontent.com/jbrownlee/Datasets/master/breast-cancer.csv\"\n",
    "dataset = read_csv(path_breast_data, header=None) \n",
    "\n",
    "# retrieve the array of data\n",
    "data = dataset.values\n",
    "\n",
    "# separate into input and output columns\n",
    "X = data[:, :-1].astype(str)\n",
    "y = data[:, -1].astype(str)\n",
    "\n",
    "# ordinal encode input variables \n",
    "ordinal_encoder = OrdinalEncoder()\n",
    "X = ordinal_encoder.fit_transform(X) \n",
    "\n",
    "# ordinal encode target variable \n",
    "label_encoder = LabelEncoder()\n",
    "y = label_encoder.fit_transform(y) \n",
    "\n",
    "# summarize the transformed data \n",
    "print('Input', X.shape) \n",
    "print(X[:5, :])\n",
    "\n",
    "print('Output', y.shape) \n",
    "print(y[:5])"
   ]
  },
  {
   "cell_type": "markdown",
   "id": "0748dc25-68f3-4bd7-bf94-ecf0054777be",
   "metadata": {},
   "source": [
    "We can then fit a logistic regression algorithm on the training dataset and evaluate it on the test dataset. The complete example is listed below."
   ]
  },
  {
   "cell_type": "code",
   "execution_count": 16,
   "id": "64a849bc-cec0-489f-935c-feb1098f6378",
   "metadata": {},
   "outputs": [
    {
     "name": "stdout",
     "output_type": "stream",
     "text": [
      "Accuracy: 75.79\n"
     ]
    }
   ],
   "source": [
    "#evaluate logistic regression on the breast cancer dataset with an ordinal encoding \n",
    "from pandas import read_csv\n",
    "from sklearn.model_selection import train_test_split \n",
    "from sklearn.linear_model import LogisticRegression \n",
    "from sklearn.preprocessing import LabelEncoder\n",
    "from sklearn.preprocessing import OrdinalEncoder \n",
    "from sklearn.metrics import accuracy_score\n",
    "\n",
    "# load the dataset\n",
    "path_breast_data = \"https://raw.githubusercontent.com/jbrownlee/Datasets/master/breast-cancer.csv\"\n",
    "dataset = read_csv(path_breast_data, header=None) \n",
    "\n",
    "# retrieve the array of data\n",
    "data = dataset.values\n",
    "\n",
    "# separate into input and output columns\n",
    "X = data[:, :-1].astype(str)\n",
    "y = data[:, -1].astype(str)\n",
    "\n",
    "# split the dataset into train and test sets\n",
    "X_train, X_test, y_train, y_test = train_test_split(X, y, test_size=0.33, random_state=1) \n",
    "\n",
    "# ordinal encode input variables\n",
    "ordinal_encoder = OrdinalEncoder() \n",
    "ordinal_encoder.fit(X_train)\n",
    "X_train = ordinal_encoder.transform(X_train) \n",
    "X_test = ordinal_encoder.transform(X_test)\n",
    "\n",
    "# ordinal encode target variable \n",
    "label_encoder = LabelEncoder() \n",
    "label_encoder.fit(y_train)\n",
    "y_train = label_encoder.transform(y_train) \n",
    "y_test = label_encoder.transform(y_test)\n",
    "\n",
    "# define the model\n",
    "model = LogisticRegression() \n",
    "\n",
    "# fit on the training set\n",
    "model.fit(X_train, y_train)\n",
    "\n",
    "# predict on test set\n",
    "yhat = model.predict(X_test) \n",
    "\n",
    "# evaluate predictions\n",
    "accuracy = accuracy_score(y_test, yhat) \n",
    "print('Accuracy: %.2f' % (accuracy*100))"
   ]
  },
  {
   "cell_type": "markdown",
   "id": "027b2443-3fa8-4467-b00b-4815f4558ee7",
   "metadata": {},
   "source": [
    "#### OneHotEncoder Transform"
   ]
  },
  {
   "cell_type": "markdown",
   "id": "37e58edb-2cdb-4d03-8b79-2bcf2775022b",
   "metadata": {},
   "source": [
    "- **One Hot Encoding**<br>\n",
    "o\tCreates binary column for each category.<br>\n",
    "o\tSuitable for **nominal data** (no rank/order).<br>\n",
    "o\tAvoids incorrect ordinal assumptions.<br>\n",
    "o\tImplemented via **OneHotEncoder**.<br>\n",
    "o\tCan handle **unknown categories** with **handle_unknown='ignore'**.<br>\n",
    "o\tCan produce **sparse** matrix; **set sparse=False to get full matrix.**<br><br>"
   ]
  },
  {
   "cell_type": "code",
   "execution_count": 17,
   "id": "0fa0c585-b3b1-483a-9a94-6079b46ac9b8",
   "metadata": {},
   "outputs": [
    {
     "name": "stdout",
     "output_type": "stream",
     "text": [
      "Input (286, 43)\n",
      "[[0. 0. 1. 0. 0. 0. 0. 0. 1. 0. 0. 1. 0. 0. 0. 0. 0. 0. 0. 0. 1. 0. 0. 0.\n",
      "  0. 0. 0. 0. 1. 0. 0. 0. 1. 0. 1. 0. 0. 1. 0. 0. 0. 1. 0.]\n",
      " [0. 0. 0. 1. 0. 0. 1. 0. 0. 0. 0. 1. 0. 0. 0. 0. 0. 0. 0. 0. 1. 0. 0. 0.\n",
      "  0. 0. 0. 1. 0. 0. 1. 0. 0. 0. 1. 1. 0. 0. 0. 0. 0. 1. 0.]\n",
      " [0. 0. 0. 1. 0. 0. 1. 0. 0. 0. 0. 0. 0. 0. 0. 1. 0. 0. 0. 0. 1. 0. 0. 0.\n",
      "  0. 0. 0. 1. 0. 0. 0. 1. 0. 1. 0. 0. 1. 0. 0. 0. 0. 1. 0.]\n",
      " [0. 0. 1. 0. 0. 0. 0. 0. 1. 0. 0. 0. 0. 0. 0. 1. 0. 0. 0. 0. 1. 0. 0. 0.\n",
      "  0. 0. 0. 0. 1. 0. 0. 0. 1. 0. 1. 0. 1. 0. 0. 0. 0. 0. 1.]\n",
      " [0. 0. 1. 0. 0. 0. 0. 0. 1. 0. 0. 0. 0. 0. 1. 0. 0. 0. 0. 0. 0. 0. 0. 0.\n",
      "  1. 0. 0. 0. 1. 0. 0. 1. 0. 1. 0. 0. 0. 0. 0. 1. 0. 1. 0.]]\n"
     ]
    }
   ],
   "source": [
    "# one-hot encode the breast cancer dataset \n",
    "from pandas import read_csv\n",
    "from sklearn.preprocessing import LabelEncoder\n",
    "from sklearn.preprocessing import OneHotEncoder \n",
    "\n",
    "# load the dataset\n",
    "path_breast_data = \"https://raw.githubusercontent.com/jbrownlee/Datasets/master/breast-cancer.csv\"\n",
    "dataset = read_csv(path_breast_data, header=None) \n",
    "\n",
    "# retrieve the array of data\n",
    "data = dataset.values\n",
    "\n",
    "# separate into input and output columns\n",
    "X = data[:, :-1].astype(str)\n",
    "y = data[:, -1].astype(str)\n",
    "\n",
    "# one hot encode input variables \n",
    "onehot_encoder = OneHotEncoder(sparse_output=False)\n",
    "X = onehot_encoder.fit_transform(X) \n",
    "\n",
    "# ordinal encode target variable \n",
    "label_encoder = LabelEncoder()\n",
    "y = label_encoder.fit_transform(y) \n",
    "\n",
    "# summarize the transformed data \n",
    "print('Input', X.shape) \n",
    "print(X[:5, :])"
   ]
  },
  {
   "cell_type": "markdown",
   "id": "4aeb071d-9751-4df4-9189-903df4374eb5",
   "metadata": {},
   "source": [
    "Next, let’s evaluate machine learning on this dataset with this encoding as we did in the previous section. The encoding is fit on the training set then applied to both train and test sets as before."
   ]
  },
  {
   "cell_type": "code",
   "execution_count": 18,
   "id": "04576287-c2d5-4a4f-8e07-13d82659b093",
   "metadata": {},
   "outputs": [
    {
     "name": "stdout",
     "output_type": "stream",
     "text": [
      "Accuracy: 70.53\n"
     ]
    }
   ],
   "source": [
    "# evaluate logistic regression on the breast cancer dataset with a one-hot encoding \n",
    "from pandas import read_csv\n",
    "from sklearn.model_selection import train_test_split \n",
    "from sklearn.linear_model import LogisticRegression \n",
    "from sklearn.preprocessing import LabelEncoder\n",
    "from sklearn.preprocessing import OneHotEncoder\n",
    "from sklearn.metrics import accuracy_score\n",
    "\n",
    "# load the dataset\n",
    "path_breast_data = \"https://raw.githubusercontent.com/jbrownlee/Datasets/master/breast-cancer.csv\"\n",
    "dataset = read_csv(path_breast_data, header=None) \n",
    "\n",
    "# retrieve the array of data\n",
    "data = dataset.values\n",
    "\n",
    "# separate into input and output columns\n",
    "X = data[:, :-1].astype(str)\n",
    "y = data[:, -1].astype(str)\n",
    "\n",
    "# split the dataset into train and test sets\n",
    "X_train, X_test, y_train, y_test = train_test_split(X, y, test_size=0.33, random_state=1) \n",
    "\n",
    "# one-hot encode input variables\n",
    "onehot_encoder = OneHotEncoder() \n",
    "onehot_encoder.fit(X_train)\n",
    "X_train = onehot_encoder.transform(X_train) \n",
    "X_test = onehot_encoder.transform(X_test)\n",
    "\n",
    "# ordinal encode target variable \n",
    "label_encoder = LabelEncoder() \n",
    "label_encoder.fit(y_train)\n",
    "y_train = label_encoder.transform(y_train) \n",
    "y_test = label_encoder.transform(y_test)\n",
    "\n",
    "# define the model\n",
    "model = LogisticRegression() \n",
    "\n",
    "# fit on the training set \n",
    "model.fit(X_train,  y_train) \n",
    "\n",
    "# predict on test set\n",
    "yhat = model.predict(X_test) \n",
    "\n",
    "# evaluate predictions\n",
    "accuracy = accuracy_score(y_test, yhat) \n",
    "print('Accuracy: %.2f' % (accuracy*100))"
   ]
  },
  {
   "cell_type": "markdown",
   "id": "e9d50d1c-353f-4ce1-b669-fae5b0d751f8",
   "metadata": {},
   "source": [
    "## How to Make Distributions More Gaussian"
   ]
  },
  {
   "cell_type": "markdown",
   "id": "2cd30e27-3218-4a69-863a-cbe314987545",
   "metadata": {},
   "source": [
    "🧠 **Why Gaussian Distributions Matter** <br>\n",
    "- Many ML algorithms **assume** or perform better with **Gaussian (normal) distributions**.<br>\n",
    "o\tExamples: Linear Regression, Logistic Regression, Gaussian Naive Bayes.<br>\n",
    "- **Even nonlinear algorithms benefit from Gaussian-like input distributions.**\n",
    "- Applies to both input features and output targets (especially in regression tasks)."
   ]
  },
  {
   "cell_type": "markdown",
   "id": "ce8c18d4-45bb-4041-9057-780dd10e8b6a",
   "metadata": {},
   "source": [
    "⚙️ **What are Power Transforms?**\n",
    "- Used to **make data more Gaussian-like**.\n",
    "- Aim to **remove skew** and **stabilize variance**.\n",
    "- Automatically find the best transformation via a parameter (**λ** or **lambda**).\n",
    "- Two main types:<br>\n",
    "o\t**Box-Cox Transform**: requires strictly positive data.<br>\n",
    "o\t**Yeo-Johnson Transform**: handles both positive and negative values.<br>"
   ]
  },
  {
   "cell_type": "markdown",
   "id": "31c5dbb3-d18a-4096-838a-e6f19ee2f1f9",
   "metadata": {},
   "source": [
    "🔧 **PowerTransformer in Scikit-Learn**\n",
    "- **PowerTransformer(method='box-cox' | 'yeo-johnson')**\n",
    "- **Auto-standardizes output** (zero mean, unit variance); disable with standardize=False.\n",
    "- Saves λ parameter for consistent future transformations (e.g., on test data)."
   ]
  },
  {
   "cell_type": "markdown",
   "id": "ab54f461-7375-4a6e-948e-8be9cc977995",
   "metadata": {},
   "source": [
    "🧮 **Lambda (λ) Values in Power Transforms**\n",
    "- λ = −1.0 → reciprocal transform\n",
    "- λ = −0.5 → reciprocal square root\n",
    "- λ = 0.0 → log transform\n",
    "- λ = 0.5 → square root\n",
    "- λ = 1.0 → no transform"
   ]
  },
  {
   "cell_type": "markdown",
   "id": "ba6d6836-9ca9-44a7-afff-d67e0c9ab424",
   "metadata": {},
   "source": [
    "📈 **Box-Cox Transform**\n",
    "- **Strictly positive values only** (no 0 or negatives).\n",
    "- Error if used on raw sonar data (contains 0s).\n",
    "- Solution: Use MinMaxScaler before PowerTransformer(method='box-cox')."
   ]
  },
  {
   "cell_type": "markdown",
   "id": "49d31e2b-2628-4c5b-b857-13fdce247061",
   "metadata": {},
   "source": [
    "📉 **Yeo-Johnson Transform**\n",
    "- **Supports 0 and negative values.**\n",
    "- No need to scale before applying.\n",
    "- Further boost with standardization before Yeo-Johnson"
   ]
  },
  {
   "cell_type": "markdown",
   "id": "4cd7e364-fd79-45b4-a713-638556236d8f",
   "metadata": {},
   "source": [
    "✅ **Key Takeaways (Summary)**\n",
    "- **Gaussian-shaped data boosts model performance.**\n",
    "- **Power transforms** help achieve Gaussian-like distributions:<br>\n",
    "o\tUse **Box-Cox** for **strictly positive data.**<br>\n",
    "o\tUse **Yeo-Johnson** for **general-purpose transformation.**<br>\n",
    "- PowerTransformer in scikit-learn makes applying these easy and consistent.\n",
    "- Combine with **pipelines** for scalable, reusable data preparation workflows."
   ]
  },
  {
   "cell_type": "markdown",
   "id": "cd98e7b3-f31c-450d-bbe4-aa748aa13fee",
   "metadata": {},
   "source": [
    "#### Power transforms"
   ]
  },
  {
   "cell_type": "markdown",
   "id": "ac660b9a-cdb1-4fb8-a01b-150af383ffaa",
   "metadata": {},
   "source": [
    "⚙️ **What are Power Transforms?**\n",
    "- Used to **make data more Gaussian-like**.\n",
    "- Aim to **remove skew** and **stabilize variance**.\n",
    "- Automatically find the best transformation via a parameter (**λ** or **lambda**).\n",
    "- Two main types:<br>\n",
    "o\t**Box-Cox Transform**: requires strictly positive data.<br>\n",
    "o\t**Yeo-Johnson Transform**: handles both positive and negative values.<br>"
   ]
  },
  {
   "cell_type": "markdown",
   "id": "217a96d5-e228-4261-bd04-515b9b20cdd1",
   "metadata": {},
   "source": [
    "🔧 **PowerTransformer in Scikit-Learn**\n",
    "- **PowerTransformer(method='box-cox' | 'yeo-johnson')**\n",
    "- **Auto-standardizes output** (zero mean, unit variance); disable with standardize=False.\n",
    "- Saves λ parameter for consistent future transformations (e.g., on test data)."
   ]
  },
  {
   "cell_type": "code",
   "execution_count": 19,
   "id": "4a170d57-9976-4730-bcd1-62a78616a1ea",
   "metadata": {},
   "outputs": [
    {
     "data": {
      "image/png": "[encoded data removed]",
      "text/plain": [
       "<Figure size 640x480 with 1 Axes>"
      ]
     },
     "metadata": {},
     "output_type": "display_data"
    },
    {
     "data": {
      "image/png": "[encoded data removed]",
      "text/plain": [
       "<Figure size 640x480 with 1 Axes>"
      ]
     },
     "metadata": {},
     "output_type": "display_data"
    }
   ],
   "source": [
    "# demonstration of the power transform on data with a skew \n",
    "from numpy import exp\n",
    "from numpy.random import randn\n",
    "from sklearn.preprocessing import PowerTransformer \n",
    "from matplotlib import pyplot\n",
    "\n",
    "# generate gaussian data sample \n",
    "data = randn(1000)\n",
    "\n",
    "# add a skew to the data distribution \n",
    "data = exp(data)\n",
    "\n",
    "# histogram of the raw data with a skew \n",
    "pyplot.hist(data,  bins=25) \n",
    "pyplot.show()\n",
    "\n",
    "# reshape data to have rows and columns \n",
    "data  =  data.reshape((len(data),1))\n",
    "\n",
    "# power transform the raw data\n",
    "power = PowerTransformer(method='yeo-johnson', standardize=True) \n",
    "data_trans = power.fit_transform(data)\n",
    "\n",
    "# histogram of the transformed data\n",
    "pyplot.hist(data_trans, bins=25) \n",
    "pyplot.show()"
   ]
  },
  {
   "cell_type": "markdown",
   "id": "ecb9ed5b-a4ca-4001-9866-938892fa889e",
   "metadata": {},
   "source": [
    "#### Sonar dataset"
   ]
  },
  {
   "cell_type": "markdown",
   "id": "048243c6-d039-4242-bb86-0bae8835074f",
   "metadata": {},
   "source": [
    "The sonar dataset is a standard machine learning dataset for binary classification. It involves 60 real-valued inputs and a two-class target variable. There are 208 examples in the dataset and the classes are reasonably balanced. A baseline classification algorithm can achieve a classification accuracy of about 53.4 percent using repeated stratified 10-fold cross-validation. Top performance on this dataset is about 88 percent using repeated stratified 10-fold cross- validation. The dataset describes sonar returns of rocks or simulated mines. "
   ]
  },
  {
   "cell_type": "code",
   "execution_count": 20,
   "id": "613a8fee-641c-4d98-b4a4-4d381a277f60",
   "metadata": {},
   "outputs": [
    {
     "name": "stdout",
     "output_type": "stream",
     "text": [
      "(208, 61)\n"
     ]
    },
    {
     "data": {
      "text/html": [
       "<div>\n",
       "<style scoped>\n",
       "    .dataframe tbody tr th:only-of-type {\n",
       "        vertical-align: middle;\n",
       "    }\n",
       "\n",
       "    .dataframe tbody tr th {\n",
       "        vertical-align: top;\n",
       "    }\n",
       "\n",
       "    .dataframe thead th {\n",
       "        text-align: right;\n",
       "    }\n",
       "</style>\n",
       "<table border=\"1\" class=\"dataframe\">\n",
       "  <thead>\n",
       "    <tr style=\"text-align: right;\">\n",
       "      <th></th>\n",
       "      <th>0</th>\n",
       "      <th>1</th>\n",
       "      <th>2</th>\n",
       "      <th>3</th>\n",
       "      <th>4</th>\n",
       "      <th>5</th>\n",
       "      <th>6</th>\n",
       "      <th>7</th>\n",
       "      <th>8</th>\n",
       "      <th>9</th>\n",
       "      <th>...</th>\n",
       "      <th>50</th>\n",
       "      <th>51</th>\n",
       "      <th>52</th>\n",
       "      <th>53</th>\n",
       "      <th>54</th>\n",
       "      <th>55</th>\n",
       "      <th>56</th>\n",
       "      <th>57</th>\n",
       "      <th>58</th>\n",
       "      <th>59</th>\n",
       "    </tr>\n",
       "  </thead>\n",
       "  <tbody>\n",
       "    <tr>\n",
       "      <th>count</th>\n",
       "      <td>208.000000</td>\n",
       "      <td>208.000000</td>\n",
       "      <td>208.000000</td>\n",
       "      <td>208.000000</td>\n",
       "      <td>208.000000</td>\n",
       "      <td>208.000000</td>\n",
       "      <td>208.000000</td>\n",
       "      <td>208.000000</td>\n",
       "      <td>208.000000</td>\n",
       "      <td>208.000000</td>\n",
       "      <td>...</td>\n",
       "      <td>208.000000</td>\n",
       "      <td>208.000000</td>\n",
       "      <td>208.000000</td>\n",
       "      <td>208.000000</td>\n",
       "      <td>208.000000</td>\n",
       "      <td>208.000000</td>\n",
       "      <td>208.000000</td>\n",
       "      <td>208.000000</td>\n",
       "      <td>208.000000</td>\n",
       "      <td>208.000000</td>\n",
       "    </tr>\n",
       "    <tr>\n",
       "      <th>mean</th>\n",
       "      <td>0.029164</td>\n",
       "      <td>0.038437</td>\n",
       "      <td>0.043832</td>\n",
       "      <td>0.053892</td>\n",
       "      <td>0.075202</td>\n",
       "      <td>0.104570</td>\n",
       "      <td>0.121747</td>\n",
       "      <td>0.134799</td>\n",
       "      <td>0.178003</td>\n",
       "      <td>0.208259</td>\n",
       "      <td>...</td>\n",
       "      <td>0.016069</td>\n",
       "      <td>0.013420</td>\n",
       "      <td>0.010709</td>\n",
       "      <td>0.010941</td>\n",
       "      <td>0.009290</td>\n",
       "      <td>0.008222</td>\n",
       "      <td>0.007820</td>\n",
       "      <td>0.007949</td>\n",
       "      <td>0.007941</td>\n",
       "      <td>0.006507</td>\n",
       "    </tr>\n",
       "    <tr>\n",
       "      <th>std</th>\n",
       "      <td>0.022991</td>\n",
       "      <td>0.032960</td>\n",
       "      <td>0.038428</td>\n",
       "      <td>0.046528</td>\n",
       "      <td>0.055552</td>\n",
       "      <td>0.059105</td>\n",
       "      <td>0.061788</td>\n",
       "      <td>0.085152</td>\n",
       "      <td>0.118387</td>\n",
       "      <td>0.134416</td>\n",
       "      <td>...</td>\n",
       "      <td>0.012008</td>\n",
       "      <td>0.009634</td>\n",
       "      <td>0.007060</td>\n",
       "      <td>0.007301</td>\n",
       "      <td>0.007088</td>\n",
       "      <td>0.005736</td>\n",
       "      <td>0.005785</td>\n",
       "      <td>0.006470</td>\n",
       "      <td>0.006181</td>\n",
       "      <td>0.005031</td>\n",
       "    </tr>\n",
       "    <tr>\n",
       "      <th>min</th>\n",
       "      <td>0.001500</td>\n",
       "      <td>0.000600</td>\n",
       "      <td>0.001500</td>\n",
       "      <td>0.005800</td>\n",
       "      <td>0.006700</td>\n",
       "      <td>0.010200</td>\n",
       "      <td>0.003300</td>\n",
       "      <td>0.005500</td>\n",
       "      <td>0.007500</td>\n",
       "      <td>0.011300</td>\n",
       "      <td>...</td>\n",
       "      <td>0.000000</td>\n",
       "      <td>0.000800</td>\n",
       "      <td>0.000500</td>\n",
       "      <td>0.001000</td>\n",
       "      <td>0.000600</td>\n",
       "      <td>0.000400</td>\n",
       "      <td>0.000300</td>\n",
       "      <td>0.000300</td>\n",
       "      <td>0.000100</td>\n",
       "      <td>0.000600</td>\n",
       "    </tr>\n",
       "    <tr>\n",
       "      <th>25%</th>\n",
       "      <td>0.013350</td>\n",
       "      <td>0.016450</td>\n",
       "      <td>0.018950</td>\n",
       "      <td>0.024375</td>\n",
       "      <td>0.038050</td>\n",
       "      <td>0.067025</td>\n",
       "      <td>0.080900</td>\n",
       "      <td>0.080425</td>\n",
       "      <td>0.097025</td>\n",
       "      <td>0.111275</td>\n",
       "      <td>...</td>\n",
       "      <td>0.008425</td>\n",
       "      <td>0.007275</td>\n",
       "      <td>0.005075</td>\n",
       "      <td>0.005375</td>\n",
       "      <td>0.004150</td>\n",
       "      <td>0.004400</td>\n",
       "      <td>0.003700</td>\n",
       "      <td>0.003600</td>\n",
       "      <td>0.003675</td>\n",
       "      <td>0.003100</td>\n",
       "    </tr>\n",
       "    <tr>\n",
       "      <th>50%</th>\n",
       "      <td>0.022800</td>\n",
       "      <td>0.030800</td>\n",
       "      <td>0.034300</td>\n",
       "      <td>0.044050</td>\n",
       "      <td>0.062500</td>\n",
       "      <td>0.092150</td>\n",
       "      <td>0.106950</td>\n",
       "      <td>0.112100</td>\n",
       "      <td>0.152250</td>\n",
       "      <td>0.182400</td>\n",
       "      <td>...</td>\n",
       "      <td>0.013900</td>\n",
       "      <td>0.011400</td>\n",
       "      <td>0.009550</td>\n",
       "      <td>0.009300</td>\n",
       "      <td>0.007500</td>\n",
       "      <td>0.006850</td>\n",
       "      <td>0.005950</td>\n",
       "      <td>0.005800</td>\n",
       "      <td>0.006400</td>\n",
       "      <td>0.005300</td>\n",
       "    </tr>\n",
       "    <tr>\n",
       "      <th>75%</th>\n",
       "      <td>0.035550</td>\n",
       "      <td>0.047950</td>\n",
       "      <td>0.057950</td>\n",
       "      <td>0.064500</td>\n",
       "      <td>0.100275</td>\n",
       "      <td>0.134125</td>\n",
       "      <td>0.154000</td>\n",
       "      <td>0.169600</td>\n",
       "      <td>0.233425</td>\n",
       "      <td>0.268700</td>\n",
       "      <td>...</td>\n",
       "      <td>0.020825</td>\n",
       "      <td>0.016725</td>\n",
       "      <td>0.014900</td>\n",
       "      <td>0.014500</td>\n",
       "      <td>0.012100</td>\n",
       "      <td>0.010575</td>\n",
       "      <td>0.010425</td>\n",
       "      <td>0.010350</td>\n",
       "      <td>0.010325</td>\n",
       "      <td>0.008525</td>\n",
       "    </tr>\n",
       "    <tr>\n",
       "      <th>max</th>\n",
       "      <td>0.137100</td>\n",
       "      <td>0.233900</td>\n",
       "      <td>0.305900</td>\n",
       "      <td>0.426400</td>\n",
       "      <td>0.401000</td>\n",
       "      <td>0.382300</td>\n",
       "      <td>0.372900</td>\n",
       "      <td>0.459000</td>\n",
       "      <td>0.682800</td>\n",
       "      <td>0.710600</td>\n",
       "      <td>...</td>\n",
       "      <td>0.100400</td>\n",
       "      <td>0.070900</td>\n",
       "      <td>0.039000</td>\n",
       "      <td>0.035200</td>\n",
       "      <td>0.044700</td>\n",
       "      <td>0.039400</td>\n",
       "      <td>0.035500</td>\n",
       "      <td>0.044000</td>\n",
       "      <td>0.036400</td>\n",
       "      <td>0.043900</td>\n",
       "    </tr>\n",
       "  </tbody>\n",
       "</table>\n",
       "<p>8 rows × 60 columns</p>\n",
       "</div>"
      ],
      "text/plain": [
       "               0           1           2           3           4           5   \\\n",
       "count  208.000000  208.000000  208.000000  208.000000  208.000000  208.000000   \n",
       "mean     0.029164    0.038437    0.043832    0.053892    0.075202    0.104570   \n",
       "std      0.022991    0.032960    0.038428    0.046528    0.055552    0.059105   \n",
       "min      0.001500    0.000600    0.001500    0.005800    0.006700    0.010200   \n",
       "25%      0.013350    0.016450    0.018950    0.024375    0.038050    0.067025   \n",
       "50%      0.022800    0.030800    0.034300    0.044050    0.062500    0.092150   \n",
       "75%      0.035550    0.047950    0.057950    0.064500    0.100275    0.134125   \n",
       "max      0.137100    0.233900    0.305900    0.426400    0.401000    0.382300   \n",
       "\n",
       "               6           7           8           9   ...          50  \\\n",
       "count  208.000000  208.000000  208.000000  208.000000  ...  208.000000   \n",
       "mean     0.121747    0.134799    0.178003    0.208259  ...    0.016069   \n",
       "std      0.061788    0.085152    0.118387    0.134416  ...    0.012008   \n",
       "min      0.003300    0.005500    0.007500    0.011300  ...    0.000000   \n",
       "25%      0.080900    0.080425    0.097025    0.111275  ...    0.008425   \n",
       "50%      0.106950    0.112100    0.152250    0.182400  ...    0.013900   \n",
       "75%      0.154000    0.169600    0.233425    0.268700  ...    0.020825   \n",
       "max      0.372900    0.459000    0.682800    0.710600  ...    0.100400   \n",
       "\n",
       "               51          52          53          54          55          56  \\\n",
       "count  208.000000  208.000000  208.000000  208.000000  208.000000  208.000000   \n",
       "mean     0.013420    0.010709    0.010941    0.009290    0.008222    0.007820   \n",
       "std      0.009634    0.007060    0.007301    0.007088    0.005736    0.005785   \n",
       "min      0.000800    0.000500    0.001000    0.000600    0.000400    0.000300   \n",
       "25%      0.007275    0.005075    0.005375    0.004150    0.004400    0.003700   \n",
       "50%      0.011400    0.009550    0.009300    0.007500    0.006850    0.005950   \n",
       "75%      0.016725    0.014900    0.014500    0.012100    0.010575    0.010425   \n",
       "max      0.070900    0.039000    0.035200    0.044700    0.039400    0.035500   \n",
       "\n",
       "               57          58          59  \n",
       "count  208.000000  208.000000  208.000000  \n",
       "mean     0.007949    0.007941    0.006507  \n",
       "std      0.006470    0.006181    0.005031  \n",
       "min      0.000300    0.000100    0.000600  \n",
       "25%      0.003600    0.003675    0.003100  \n",
       "50%      0.005800    0.006400    0.005300  \n",
       "75%      0.010350    0.010325    0.008525  \n",
       "max      0.044000    0.036400    0.043900  \n",
       "\n",
       "[8 rows x 60 columns]"
      ]
     },
     "metadata": {},
     "output_type": "display_data"
    },
    {
     "data": {
      "image/png": "[encoded data removed]",
      "text/plain": [
       "<Figure size 640x480 with 64 Axes>"
      ]
     },
     "metadata": {},
     "output_type": "display_data"
    }
   ],
   "source": [
    "# load and summarize the sonar dataset \n",
    "from pandas import read_csv\n",
    "from matplotlib import pyplot \n",
    "\n",
    "# load dataset\n",
    "path_sonar_data = \"https://raw.githubusercontent.com/jbrownlee/Datasets/master/sonar.csv\"\n",
    "dataset = read_csv(path_sonar_data, header=None) \n",
    "\n",
    "# summarize the shape of the dataset \n",
    "print(dataset.shape)\n",
    "\n",
    "# summarize each variable \n",
    "display(dataset.describe())\n",
    "\n",
    "# histograms of the variables\n",
    "fig = dataset.hist(xlabelsize=4, ylabelsize=4) \n",
    "[x.title.set_size(4) for x in fig.ravel()]\n",
    "# show the plot \n",
    "pyplot.show()\n"
   ]
  },
  {
   "cell_type": "markdown",
   "id": "3f65a2f4-cbe0-419c-8eb0-1bd94b2dad7d",
   "metadata": {},
   "source": [
    "Next, let’s fit and evaluate a machine learning model on the raw dataset. <br>We will use a k-nearest neighbor algorithm with default hyperparameters and evaluate it using repeated stratified k-fold cross-validation. <br>The complete example is listed below."
   ]
  },
  {
   "cell_type": "code",
   "execution_count": 21,
   "id": "2d00d03b-8efa-49dd-b39e-17955c159756",
   "metadata": {},
   "outputs": [
    {
     "name": "stdout",
     "output_type": "stream",
     "text": [
      "Accuracy: 0.797 (0.073)\n"
     ]
    }
   ],
   "source": [
    "# evaluate knn on the raw sonar dataset \n",
    "from numpy import mean\n",
    "from numpy import std\n",
    "from pandas import read_csv\n",
    "from sklearn.model_selection import cross_val_score\n",
    "from sklearn.model_selection import RepeatedStratifiedKFold \n",
    "from sklearn.neighbors import KNeighborsClassifier\n",
    "from sklearn.preprocessing import LabelEncoder \n",
    "\n",
    "# load dataset\n",
    "path_sonar_data = \"https://raw.githubusercontent.com/jbrownlee/Datasets/master/sonar.csv\"\n",
    "dataset = read_csv(path_sonar_data, header=None) \n",
    "data = dataset.values\n",
    "\n",
    "# separate into input and output columns \n",
    "X, y = data[:, :-1], data[:, -1]\n",
    "\n",
    "# ensure inputs are floats and output is an integer label\n",
    "X = X.astype('float32')\n",
    "y  =  LabelEncoder().fit_transform(y.astype('str')) \n",
    "\n",
    "# define and configure the model\n",
    "model = KNeighborsClassifier()\n",
    "\n",
    "# evaluate the model\n",
    "cv = RepeatedStratifiedKFold(n_splits=10, n_repeats=3, random_state=1)\n",
    "n_scores = cross_val_score(model, X, y, scoring='accuracy', cv=cv, n_jobs=-1)\n",
    "\n",
    "# report model performance\n",
    "print('Accuracy: %.3f (%.3f)' % (mean(n_scores), std(n_scores)))"
   ]
  },
  {
   "cell_type": "markdown",
   "id": "99f4a680-e4b1-45bb-998a-69c63bafa040",
   "metadata": {},
   "source": [
    "#### Box-Cox Transform"
   ]
  },
  {
   "cell_type": "code",
   "execution_count": null,
   "id": "b2c2145e-c606-4a97-a9be-ab68475191ad",
   "metadata": {},
   "outputs": [],
   "source": []
  },
  {
   "cell_type": "code",
   "execution_count": null,
   "id": "6e61d85e-89c4-4b9b-a064-b9e030b1945b",
   "metadata": {},
   "outputs": [],
   "source": []
  },
  {
   "cell_type": "code",
   "execution_count": null,
   "id": "cad96617-be05-4b31-adfb-327f7ec7c9e4",
   "metadata": {},
   "outputs": [],
   "source": []
  },
  {
   "cell_type": "markdown",
   "id": "a07213e1-6cdb-4fd0-a213-c87d9fd5b2d2",
   "metadata": {},
   "source": [
    "#### Yeo-Johnson Transform"
   ]
  }
 ],
 "metadata": {
  "kernelspec": {
   "display_name": "Python 3 (ipykernel)",
   "language": "python",
   "name": "python3"
  },
  "language_info": {
   "codemirror_mode": {
    "name": "ipython",
    "version": 3
   },
   "file_extension": ".py",
   "mimetype": "text/x-python",
   "name": "python",
   "nbconvert_exporter": "python",
   "pygments_lexer": "ipython3",
   "version": "3.10.6"
  }
 },
 "nbformat": 4,
 "nbformat_minor": 5
}
