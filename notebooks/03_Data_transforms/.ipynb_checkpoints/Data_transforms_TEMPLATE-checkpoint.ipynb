{
 "cells": [
  {
   "cell_type": "markdown",
   "id": "14453f85-6254-40d1-baf4-5fdb510ffe77",
   "metadata": {},
   "source": [
    "# Data transforms"
   ]
  },
  {
   "cell_type": "code",
   "execution_count": 1,
   "id": "8075d1dd-0e7a-4ac3-bdca-7a7716346a49",
   "metadata": {},
   "outputs": [],
   "source": [
    "# Libraries\n",
    "\n",
    "## Basic libraries\n",
    "import numpy as np\n",
    "import pandas as pd\n",
    "import seaborn as sns\n",
    "\n",
    "import math\n",
    "from numpy import mean \n",
    "from numpy import std\n",
    "from numpy import percentile \n",
    "# from scipy.stats import iqr\n",
    "\n",
    "## Plotting\n",
    "import matplotlib.pyplot as plt\n",
    "\n",
    "from pandas import read_csv\n",
    "import pandas as pd\n",
    "from sklearn.model_selection import train_test_split \n",
    "from sklearn.preprocessing import LabelEncoder\n",
    "from sklearn.preprocessing import OrdinalEncoder \n",
    "from sklearn.feature_selection import SelectKBest \n",
    "from sklearn.feature_selection import chi2\n",
    "from matplotlib import pyplot"
   ]
  },
  {
   "cell_type": "markdown",
   "id": "8dee2151-c7cd-4518-9b5b-451e3be58292",
   "metadata": {},
   "source": [
    "## How to Scale Numerical Data"
   ]
  },
  {
   "cell_type": "markdown",
   "id": "d9833bf4-2688-4d41-8446-3eee9cc8a045",
   "metadata": {},
   "source": [
    "📌 **Why Scale Numerical Data?**\n",
    "- Many ML algorithms perform better with scaled data.\n",
    "- Algorithms affected:<br>\n",
    "o\t**Weighted-sum models**: Linear Regression, Logistic Regression, Neural Networks.<br>\n",
    "o\t**Distance-based models**: KNN, SVM.<br>\n",
    "- Algorithms unaffected: Decision Trees, Random Forests.\n",
    "- Scaling helps:<br>\n",
    "o\tPrevent instability from large weights.<br>\n",
    "o\tImprove convergence and performance.<br>\n",
    "o\tNormalize gradients in neural networks.<br>"
   ]
  },
  {
   "cell_type": "markdown",
   "id": "60fbcb7f-40f5-4fd2-b627-de97e650eb41",
   "metadata": {},
   "source": [
    "🔢 **Two Main Scaling Techniques**<br><br>\n",
    "🔹 **Normalization (Min-Max Scaling)**<br>\n",
    "- **Range**: Scales values to **[0, 1]**.\n",
    "- Formula: **y = (x - min) / (max - min)**<br>\n",
    "- Assumes known or estimable min and max.\n",
    "- Sensitive to **outliers**.\n",
    "- Use **MinMaxScaler** from scikit-learn.<br><br>\n",
    "  \n",
    "🔹 **Standardization (Z-score Scaling)**<br>\n",
    "- **Range**: Mean = 0, Standard Deviation = 1.\n",
    "- Formula: **y = (x - mean) / standard_deviation**<br>\n",
    "- More **robust** to outliers.\n",
    "- Assumes **Gaussian distribution** (but works without it).\n",
    "- Use **StandardScaler** from scikit-learn."
   ]
  },
  {
   "cell_type": "markdown",
   "id": "d573a75c-a64b-494e-bb3e-c8cabeaf4e8d",
   "metadata": {},
   "source": [
    "🛠️ **How to Apply Scaling (Best Practice)**<br>\n",
    "1. **Fit** the scaler on **training data** only.\n",
    "2.\t**Transform** the training and future data.\n",
    "3.\tOptionally **inverse transform** for interpretation."
   ]
  },
  {
   "cell_type": "markdown",
   "id": "a06e1838-4b1c-40b3-8763-ddeee9b57b7c",
   "metadata": {},
   "source": [
    "❓ **Common Questions**<br>\n",
    "- **Normalize vs Standardize?**<br>\n",
    "o\tNormalize if distribution is unknown or not Gaussian.<br>\n",
    "o\tStandardize if distribution is Gaussian or spread is wide.<br><br>\n",
    "- **Standardize then Normalize?**<br>\n",
    "o\tOptional. Useful if mixing scaled data types or using distance-based models.<br><br>\n",
    "- **Which is best?**<br>\n",
    "o\tNo universal answer. Test both and compare performance.<br><br>\n",
    "- **Out-of-bounds values?**<br>\n",
    "o\tClamp to training min/max or set bounds manually."
   ]
  },
  {
   "cell_type": "markdown",
   "id": "364e1659-9ef7-4bad-9cc5-333749fdb9fb",
   "metadata": {},
   "source": [
    "✅ **Key Takeaways**\n",
    "- **Scaling improves model performance and stability.**\n",
    "- **Choose scaling based on data characteristics and model type.**\n",
    "- Always **evaluate impact of scaling on performance.**"
   ]
  },
  {
   "cell_type": "markdown",
   "id": "4d662404-cb34-49a0-a305-217cec270ba2",
   "metadata": {},
   "source": [
    "### Diabetes Dataset"
   ]
  },
  {
   "cell_type": "code",
   "execution_count": 2,
   "id": "2af9e0f3-764b-4450-8986-eb72dbd07af6",
   "metadata": {},
   "outputs": [
    {
     "name": "stdout",
     "output_type": "stream",
     "text": [
      "(768, 9)\n",
      "                0           1           2           3           4           5  \\\n",
      "count  768.000000  768.000000  768.000000  768.000000  768.000000  768.000000   \n",
      "mean     3.845052  120.894531   69.105469   20.536458   79.799479   31.992578   \n",
      "std      3.369578   31.972618   19.355807   15.952218  115.244002    7.884160   \n",
      "min      0.000000    0.000000    0.000000    0.000000    0.000000    0.000000   \n",
      "25%      1.000000   99.000000   62.000000    0.000000    0.000000   27.300000   \n",
      "50%      3.000000  117.000000   72.000000   23.000000   30.500000   32.000000   \n",
      "75%      6.000000  140.250000   80.000000   32.000000  127.250000   36.600000   \n",
      "max     17.000000  199.000000  122.000000   99.000000  846.000000   67.100000   \n",
      "\n",
      "                6           7           8  \n",
      "count  768.000000  768.000000  768.000000  \n",
      "mean     0.471876   33.240885    0.348958  \n",
      "std      0.331329   11.760232    0.476951  \n",
      "min      0.078000   21.000000    0.000000  \n",
      "25%      0.243750   24.000000    0.000000  \n",
      "50%      0.372500   29.000000    0.000000  \n",
      "75%      0.626250   41.000000    1.000000  \n",
      "max      2.420000   81.000000    1.000000  \n"
     ]
    },
    {
     "data": {
      "image/png": "[encoded data removed]",
      "text/plain": [
       "<Figure size 640x480 with 9 Axes>"
      ]
     },
     "metadata": {},
     "output_type": "display_data"
    }
   ],
   "source": [
    "# load and summarize the diabetes dataset \n",
    "from pandas import read_csv\n",
    "from matplotlib import pyplot \n",
    "\n",
    "# load the dataset\n",
    "path_diabetes= \"https://raw.githubusercontent.com/jbrownlee/Datasets/master/pima-indians-diabetes.csv\"\n",
    "dataset = read_csv(path_diabetes, header=None) \n",
    "\n",
    "# summarize the shape of the dataset\n",
    "print(dataset.shape)\n",
    "\n",
    "# summarize each variable \n",
    "print(dataset.describe())\n",
    "\n",
    "# histograms of the variables\n",
    "fig = dataset.hist(xlabelsize=4, ylabelsize=4) \n",
    "[x.title.set_size(4)  for  x  in  fig.ravel()]\n",
    "\n",
    "# show the plot \n",
    "pyplot.show()"
   ]
  },
  {
   "cell_type": "markdown",
   "id": "31300747-1404-4462-8879-83268fee8add",
   "metadata": {},
   "source": [
    "Next, let’s fit and evaluate a machine learning model on the raw dataset. We will use a k-nearest neighbor algorithm with default hyperparameters and evaluate it using repeated stratified k-fold cross-validation. The complete example is listed below."
   ]
  },
  {
   "cell_type": "code",
   "execution_count": 3,
   "id": "44408ea3-d83b-4166-a8ea-0a51518695ce",
   "metadata": {},
   "outputs": [
    {
     "name": "stdout",
     "output_type": "stream",
     "text": [
      "Accuracy: 0.717 (0.040)\n"
     ]
    }
   ],
   "source": [
    "# evaluate knn on the raw diabetes dataset \n",
    "from numpy import mean\n",
    "from numpy import std\n",
    "from pandas import read_csv\n",
    "from sklearn.model_selection import cross_val_score\n",
    "from sklearn.model_selection import RepeatedStratifiedKFold \n",
    "from sklearn.neighbors import KNeighborsClassifier\n",
    "from sklearn.preprocessing import LabelEncoder \n",
    "\n",
    "# load the dataset\n",
    "path_diabetes= \"https://raw.githubusercontent.com/jbrownlee/Datasets/master/pima-indians-diabetes.csv\"\n",
    "dataset = read_csv(path_diabetes, header=None) \n",
    "data = dataset.values\n",
    "\n",
    "# separate into input and output columns \n",
    "X, y = data[:, :-1], data[:, -1]\n",
    "\n",
    "# ensure inputs are floats and output is an integer label\n",
    "X = X.astype('float32')\n",
    "y  =  LabelEncoder().fit_transform(y.astype('str'))\n",
    "\n",
    "# define and configure the model\n",
    "model = KNeighborsClassifier() \n",
    "\n",
    "# evaluate the model\n",
    "cv = RepeatedStratifiedKFold(n_splits=10, n_repeats=3, random_state=1)\n",
    "n_scores = cross_val_score(model, X, y, scoring='accuracy', cv=cv, n_jobs=-1)\n",
    "\n",
    "# report model performance\n",
    "print('Accuracy: %.3f (%.3f)' % (mean(n_scores), std(n_scores)))"
   ]
  },
  {
   "cell_type": "markdown",
   "id": "3739be8f-1ea1-448c-bf5f-eb0ace8961f2",
   "metadata": {},
   "source": [
    "### MinMaxScaler Transform"
   ]
  },
  {
   "cell_type": "markdown",
   "id": "ec863543-97d7-4dc6-bdc9-847271cfa049",
   "metadata": {},
   "source": [
    "🔹 **Normalization (Min-Max Scaling)**<br>\n",
    "- **Range**: Scales values to **[0, 1]**.\n",
    "- Formula: **y = (x - min) / (max - min)**<br>\n",
    "- Assumes known or estimable min and max.\n",
    "- Sensitive to **outliers**.\n",
    "- Use **MinMaxScaler** from scikit-learn.<br><br>"
   ]
  },
  {
   "cell_type": "code",
   "execution_count": 4,
   "id": "a85b6878-a484-422d-9433-662c61f98dd8",
   "metadata": {
    "scrolled": true
   },
   "outputs": [
    {
     "name": "stdout",
     "output_type": "stream",
     "text": [
      "                0           1           2           3           4           5  \\\n",
      "count  768.000000  768.000000  768.000000  768.000000  768.000000  768.000000   \n",
      "mean     0.226180    0.607510    0.566438    0.207439    0.094326    0.476790   \n",
      "std      0.198210    0.160666    0.158654    0.161134    0.136222    0.117499   \n",
      "min      0.000000    0.000000    0.000000    0.000000    0.000000    0.000000   \n",
      "25%      0.058824    0.497487    0.508197    0.000000    0.000000    0.406855   \n",
      "50%      0.176471    0.587940    0.590164    0.232323    0.036052    0.476900   \n",
      "75%      0.352941    0.704774    0.655738    0.323232    0.150414    0.545455   \n",
      "max      1.000000    1.000000    1.000000    1.000000    1.000000    1.000000   \n",
      "\n",
      "                6           7  \n",
      "count  768.000000  768.000000  \n",
      "mean     0.168179    0.204015  \n",
      "std      0.141473    0.196004  \n",
      "min      0.000000    0.000000  \n",
      "25%      0.070773    0.050000  \n",
      "50%      0.125747    0.133333  \n",
      "75%      0.234095    0.333333  \n",
      "max      1.000000    1.000000  \n"
     ]
    },
    {
     "data": {
      "image/png": "[encoded data removed]",
      "text/plain": [
       "<Figure size 640x480 with 9 Axes>"
      ]
     },
     "metadata": {},
     "output_type": "display_data"
    }
   ],
   "source": [
    "# visualize a minmax scaler transform of the diabetes dataset \n",
    "from pandas import read_csv\n",
    "from pandas import DataFrame\n",
    "from sklearn.preprocessing import MinMaxScaler \n",
    "from matplotlib import pyplot\n",
    "\n",
    "# load the dataset\n",
    "path_diabetes= \"https://raw.githubusercontent.com/jbrownlee/Datasets/master/pima-indians-diabetes.csv\"\n",
    "dataset = read_csv(path_diabetes, header=None) \n",
    "\n",
    "# retrieve just the numeric input values\n",
    "data = dataset.values[:, :-1]\n",
    "\n",
    "# perform a robust scaler transform of the dataset \n",
    "trans = MinMaxScaler()\n",
    "data = trans.fit_transform(data)\n",
    "\n",
    "# convert the array back to a dataframe \n",
    "dataset = DataFrame(data)\n",
    "\n",
    "# summarize \n",
    "print(dataset.describe())\n",
    "\n",
    "# histograms of the variables\n",
    "fig = dataset.hist(xlabelsize=4, ylabelsize=4) \n",
    "[x.title.set_size(4) for x in fig.ravel()]\n",
    "\n",
    "# show the plot \n",
    "pyplot.show()"
   ]
  },
  {
   "cell_type": "markdown",
   "id": "5fdabe65-4104-49e9-aed5-e7ae4a105e2a",
   "metadata": {},
   "source": [
    "Next, let’s evaluate the same KNN model as the previous section, but in this case, on a MinMaxScaler transform of the dataset. The complete example is listed below."
   ]
  },
  {
   "cell_type": "code",
   "execution_count": 5,
   "id": "d3b3a6ec-40ff-4b14-9779-39b8713629a4",
   "metadata": {},
   "outputs": [
    {
     "name": "stdout",
     "output_type": "stream",
     "text": [
      "Accuracy: 0.739 (0.053)\n"
     ]
    }
   ],
   "source": [
    "# evaluate knn on the diabetes dataset with minmax scaler transform \n",
    "from numpy import mean\n",
    "from numpy import std\n",
    "from pandas import read_csv\n",
    "from sklearn.model_selection import cross_val_score\n",
    "from sklearn.model_selection import RepeatedStratifiedKFold \n",
    "from sklearn.neighbors import KNeighborsClassifier\n",
    "from sklearn.preprocessing import LabelEncoder \n",
    "from sklearn.preprocessing import MinMaxScaler \n",
    "from sklearn.pipeline import Pipeline\n",
    "\n",
    "# load the dataset\n",
    "path_diabetes= \"https://raw.githubusercontent.com/jbrownlee/Datasets/master/pima-indians-diabetes.csv\"\n",
    "dataset = read_csv(path_diabetes, header=None) \n",
    "data = dataset.values\n",
    "\n",
    "# separate into input and output columns \n",
    "X, y = data[:, :-1], data[:, -1]\n",
    "\n",
    "# ensure inputs are floats and output is an integer label\n",
    "X = X.astype('float32')\n",
    "y  =  LabelEncoder().fit_transform(y.astype('str')) \n",
    "\n",
    "# define the pipeline\n",
    "trans = MinMaxScaler()\n",
    "model  =  KNeighborsClassifier()\n",
    "pipeline = Pipeline(steps=[('t', trans), ('m', model)]) \n",
    "\n",
    "# evaluate the pipeline\n",
    "cv = RepeatedStratifiedKFold(n_splits=10, n_repeats=3, random_state=1)\n",
    "n_scores = cross_val_score(pipeline, X, y, scoring='accuracy', cv=cv, n_jobs=-1) \n",
    "\n",
    "# report pipeline performance\n",
    "print('Accuracy: %.3f (%.3f)' % (mean(n_scores), std(n_scores)))"
   ]
  },
  {
   "cell_type": "markdown",
   "id": "377648f1-0695-4261-9755-986ef34efeb1",
   "metadata": {},
   "source": [
    "### StandardScaler Transform"
   ]
  },
  {
   "cell_type": "markdown",
   "id": "cf970bee-bca8-48ee-9abc-2c0a5d15cfe1",
   "metadata": {},
   "source": [
    "🔹 **Standardization (Z-score Scaling)**<br>\n",
    "- **Range**: Mean = 0, Standard Deviation = 1.\n",
    "- Formula: **y = (x - mean) / standard_deviation**<br>\n",
    "- More **robust** to outliers.\n",
    "- Assumes **Gaussian distribution** (but works without it).\n",
    "- Use **StandardScaler** from scikit-learn."
   ]
  },
  {
   "cell_type": "code",
   "execution_count": 6,
   "id": "ea005851-d153-46ac-90ee-6deb67537c03",
   "metadata": {},
   "outputs": [
    {
     "name": "stdout",
     "output_type": "stream",
     "text": [
      "                  0             1             2             3             4  \\\n",
      "count  7.680000e+02  7.680000e+02  7.680000e+02  7.680000e+02  7.680000e+02   \n",
      "mean  -6.476301e-17 -9.251859e-18  1.503427e-17  1.006140e-16 -3.006854e-17   \n",
      "std    1.000652e+00  1.000652e+00  1.000652e+00  1.000652e+00  1.000652e+00   \n",
      "min   -1.141852e+00 -3.783654e+00 -3.572597e+00 -1.288212e+00 -6.928906e-01   \n",
      "25%   -8.448851e-01 -6.852363e-01 -3.673367e-01 -1.288212e+00 -6.928906e-01   \n",
      "50%   -2.509521e-01 -1.218877e-01  1.496408e-01  1.545332e-01 -4.280622e-01   \n",
      "75%    6.399473e-01  6.057709e-01  5.632228e-01  7.190857e-01  4.120079e-01   \n",
      "max    3.906578e+00  2.444478e+00  2.734528e+00  4.921866e+00  6.652839e+00   \n",
      "\n",
      "                  5             6             7  \n",
      "count  7.680000e+02  7.680000e+02  7.680000e+02  \n",
      "mean   2.590520e-16  2.451743e-16  1.931325e-16  \n",
      "std    1.000652e+00  1.000652e+00  1.000652e+00  \n",
      "min   -4.060474e+00 -1.189553e+00 -1.041549e+00  \n",
      "25%   -5.955785e-01 -6.889685e-01 -7.862862e-01  \n",
      "50%    9.419788e-04 -3.001282e-01 -3.608474e-01  \n",
      "75%    5.847705e-01  4.662269e-01  6.602056e-01  \n",
      "max    4.455807e+00  5.883565e+00  4.063716e+00  \n"
     ]
    },
    {
     "data": {
      "image/png": "[encoded data removed]",
      "text/plain": [
       "<Figure size 640x480 with 9 Axes>"
      ]
     },
     "metadata": {},
     "output_type": "display_data"
    }
   ],
   "source": [
    "# visualize a standard scaler transform of the diabetes dataset \n",
    "from pandas import read_csv\n",
    "from pandas import DataFrame\n",
    "from sklearn.preprocessing import StandardScaler \n",
    "from matplotlib import pyplot\n",
    "\n",
    "# load the dataset\n",
    "path_diabetes= \"https://raw.githubusercontent.com/jbrownlee/Datasets/master/pima-indians-diabetes.csv\"\n",
    "dataset = read_csv(path_diabetes, header=None) \n",
    "\n",
    "# retrieve just the numeric input values\n",
    "data = dataset.values[:, :-1]\n",
    "\n",
    "# perform a robust scaler transform of the dataset\n",
    "trans = StandardScaler()\n",
    "data = trans.fit_transform(data)\n",
    "\n",
    "# convert the array back to a dataframe \n",
    "dataset = DataFrame(data)\n",
    "# summarize \n",
    "print(dataset.describe())\n",
    "\n",
    "# histograms of the variables\n",
    "fig = dataset.hist(xlabelsize=4, ylabelsize=4)\n",
    "[x.title.set_size(4) for x in fig.ravel()]\n",
    "\n",
    "# show the plot \n",
    "pyplot.show()"
   ]
  },
  {
   "cell_type": "markdown",
   "id": "f041b3a3-0a86-4e3b-b7f7-d97659c02034",
   "metadata": {},
   "source": [
    "Next, let’s evaluate the same KNN model as the previous section, but in this case, on a StandardScaler transform of the dataset. The complete example is listed below."
   ]
  },
  {
   "cell_type": "code",
   "execution_count": 7,
   "id": "33dadaa1-5814-443c-812c-c2427b49b323",
   "metadata": {},
   "outputs": [
    {
     "name": "stdout",
     "output_type": "stream",
     "text": [
      "Accuracy: 0.741 (0.050)\n"
     ]
    }
   ],
   "source": [
    "# evaluate knn on the diabetes dataset with standard scaler transform \n",
    "from numpy import mean\n",
    "from numpy import std\n",
    "from pandas import read_csv\n",
    "from sklearn.model_selection import cross_val_score\n",
    "from sklearn.model_selection import RepeatedStratifiedKFold \n",
    "from sklearn.neighbors import KNeighborsClassifier\n",
    "from sklearn.preprocessing import LabelEncoder \n",
    "from sklearn.preprocessing import StandardScaler \n",
    "from sklearn.pipeline import Pipeline\n",
    "\n",
    "# load the dataset\n",
    "path_diabetes= \"https://raw.githubusercontent.com/jbrownlee/Datasets/master/pima-indians-diabetes.csv\"\n",
    "dataset = read_csv(path_diabetes, header=None) \n",
    "data = dataset.values\n",
    "\n",
    "# separate into input and output columns \n",
    "X, y = data[:, :-1], data[:, -1]\n",
    "\n",
    "# ensure inputs are floats and output is an integer label\n",
    "X = X.astype('float32')\n",
    "y  =  LabelEncoder().fit_transform(y.astype('str')) \n",
    "\n",
    "# define the pipeline\n",
    "trans = StandardScaler()\n",
    "model  =  KNeighborsClassifier()\n",
    "pipeline = Pipeline(steps=[('t', trans), ('m', model)]) \n",
    "\n",
    "# evaluate the pipeline\n",
    "cv = RepeatedStratifiedKFold(n_splits=10, n_repeats=3, random_state=1)\n",
    "n_scores = cross_val_score(pipeline, X, y, scoring='accuracy', cv=cv, n_jobs=-1) \n",
    "\n",
    "# report pipeline performance\n",
    "print('Accuracy: %.3f (%.3f)' % (mean(n_scores), std(n_scores)))"
   ]
  },
  {
   "cell_type": "markdown",
   "id": "652b9409-1040-4989-b0ea-19a20cf3d1a5",
   "metadata": {},
   "source": [
    "## How to Scale Data With Outliers"
   ]
  },
  {
   "cell_type": "markdown",
   "id": "5d2091c0-83d8-4783-b6e7-8043a058152d",
   "metadata": {},
   "source": [
    "📌 **Why Scale Data?**\n",
    "- Many ML algorithms perform better with scaled numerical input.\n",
    "- Algorithms like linear regression, KNN, SVM, and neural networks are sensitive to feature scale.\n",
    "- Large-valued features can dominate and bias model learning."
   ]
  },
  {
   "cell_type": "markdown",
   "id": "2c1e5a16-df1a-4ffe-9e89-c6759a963f9d",
   "metadata": {},
   "source": [
    "⚠️ **Problem with Standard Scaling**\n",
    "- **Standardization** = subtract mean + divide by standard deviation.\n",
    "- Works best with normally (Gaussian) distributed features.\n",
    "- Fails with **outliers** – they skew mean and standard deviation."
   ]
  },
  {
   "cell_type": "markdown",
   "id": "0f8d27b1-de60-4bf7-bba5-b5a22d85d9c2",
   "metadata": {},
   "source": [
    "✅ **Solution: Robust Scaling**\n",
    "- Use **median** and **IQR (Interquartile Range)** instead of mean and std.\n",
    "- Called **Robust Scaling** – less sensitive to outliers.\n",
    "- Transforms:<br>\n",
    "o\tSubtract the median (centering)<br>\n",
    "o\tDivide by IQR (scaling)<br>\n",
    "- Result: distribution centered at 0, with unit-scale, preserving outliers."
   ]
  },
  {
   "cell_type": "markdown",
   "id": "24b2680c-4207-4248-88fa-658297e02083",
   "metadata": {},
   "source": [
    "🛠️ **Using RobustScaler in Python (scikit-learn)**\n",
    "- RobustScaler() available in sklearn.preprocessing.\n",
    "- Parameters:<br>\n",
    "o\t**with_centering**=True: subtract median<br>\n",
    "o\t**with_scaling**=True: divide by IQR<br>\n",
    "o\t**quantile_range**=(25, 75): default IQR range, can be customized"
   ]
  },
  {
   "cell_type": "markdown",
   "id": "34bd8740-20ce-4214-993c-3a06a8297d56",
   "metadata": {},
   "source": [
    "🧠 **Key Takeaways for Data Scientists**\n",
    "- Always consider feature scaling before training models.\n",
    "- Prefer **RobustScaler** when data has **outliers**.\n",
    "- Tune quantile_range for better performance – no one-size-fits-all.\n",
    "- Evaluate scaling impacts using cross-validation."
   ]
  },
  {
   "cell_type": "markdown",
   "id": "087cf486-0296-4b00-a22b-fd62b551695a",
   "metadata": {},
   "source": [
    "#### Diabetes Dataset"
   ]
  },
  {
   "cell_type": "code",
   "execution_count": 8,
   "id": "5660bf71-3814-4c0c-9c43-e7573a443633",
   "metadata": {},
   "outputs": [
    {
     "name": "stdout",
     "output_type": "stream",
     "text": [
      "(768, 9)\n",
      "                0           1           2           3           4           5  \\\n",
      "count  768.000000  768.000000  768.000000  768.000000  768.000000  768.000000   \n",
      "mean     3.845052  120.894531   69.105469   20.536458   79.799479   31.992578   \n",
      "std      3.369578   31.972618   19.355807   15.952218  115.244002    7.884160   \n",
      "min      0.000000    0.000000    0.000000    0.000000    0.000000    0.000000   \n",
      "25%      1.000000   99.000000   62.000000    0.000000    0.000000   27.300000   \n",
      "50%      3.000000  117.000000   72.000000   23.000000   30.500000   32.000000   \n",
      "75%      6.000000  140.250000   80.000000   32.000000  127.250000   36.600000   \n",
      "max     17.000000  199.000000  122.000000   99.000000  846.000000   67.100000   \n",
      "\n",
      "                6           7           8  \n",
      "count  768.000000  768.000000  768.000000  \n",
      "mean     0.471876   33.240885    0.348958  \n",
      "std      0.331329   11.760232    0.476951  \n",
      "min      0.078000   21.000000    0.000000  \n",
      "25%      0.243750   24.000000    0.000000  \n",
      "50%      0.372500   29.000000    0.000000  \n",
      "75%      0.626250   41.000000    1.000000  \n",
      "max      2.420000   81.000000    1.000000  \n"
     ]
    },
    {
     "data": {
      "image/png": "[encoded data removed]",
      "text/plain": [
       "<Figure size 640x480 with 9 Axes>"
      ]
     },
     "metadata": {},
     "output_type": "display_data"
    }
   ],
   "source": [
    "# load and summarize the diabetes dataset \n",
    "from pandas import read_csv\n",
    "from matplotlib import pyplot \n",
    "\n",
    "# load the dataset\n",
    "path_diabetes= \"https://raw.githubusercontent.com/jbrownlee/Datasets/master/pima-indians-diabetes.csv\"\n",
    "dataset = read_csv(path_diabetes, header=None) \n",
    "\n",
    "# summarize the shape of the dataset\n",
    "print(dataset.shape)\n",
    "\n",
    "# summarize each variable \n",
    "print(dataset.describe())\n",
    "\n",
    "# histograms of the variables\n",
    "fig = dataset.hist(xlabelsize=4, ylabelsize=4) \n",
    "[x.title.set_size(4)  for  x  in  fig.ravel()]\n",
    "\n",
    "# show the plot \n",
    "pyplot.show()"
   ]
  },
  {
   "cell_type": "markdown",
   "id": "ca34b076-10da-4a84-8348-ffdc685b1a87",
   "metadata": {},
   "source": [
    "Next, let’s fit and evaluate a machine learning model on the raw dataset. <br>We will use a k-nearest neighbor algorithm with default hyperparameters and evaluate it using repeated stratified k-fold cross-validation. <br>The complete example is listed below."
   ]
  },
  {
   "cell_type": "code",
   "execution_count": 9,
   "id": "3a57ed58-9885-498a-822e-cfaa45820792",
   "metadata": {},
   "outputs": [
    {
     "name": "stdout",
     "output_type": "stream",
     "text": [
      "Accuracy: 0.717 (0.040)\n"
     ]
    }
   ],
   "source": [
    "# evaluate knn on the raw diabetes dataset \n",
    "from numpy import mean\n",
    "from numpy import std\n",
    "from pandas import read_csv\n",
    "from sklearn.model_selection import cross_val_score\n",
    "from sklearn.model_selection import RepeatedStratifiedKFold \n",
    "from sklearn.neighbors import KNeighborsClassifier\n",
    "from sklearn.preprocessing import LabelEncoder \n",
    "\n",
    "# load the dataset\n",
    "path_diabetes= \"https://raw.githubusercontent.com/jbrownlee/Datasets/master/pima-indians-diabetes.csv\"\n",
    "dataset = read_csv(path_diabetes, header=None) \n",
    "data = dataset.values\n",
    "\n",
    "# separate into input and output columns \n",
    "X, y = data[:, :-1], data[:, -1]\n",
    "\n",
    "# ensure inputs are floats and output is an integer label\n",
    "X = X.astype('float32')\n",
    "y  =  LabelEncoder().fit_transform(y.astype('str'))\n",
    "\n",
    "# define and configure the model\n",
    "model = KNeighborsClassifier() \n",
    "\n",
    "# evaluate the model\n",
    "cv = RepeatedStratifiedKFold(n_splits=10, n_repeats=3, random_state=1)\n",
    "n_scores = cross_val_score(model, X, y, scoring='accuracy', cv=cv, n_jobs=-1)\n",
    "\n",
    "# report model performance\n",
    "print('Accuracy: %.3f (%.3f)' % (mean(n_scores), std(n_scores)))"
   ]
  },
  {
   "cell_type": "markdown",
   "id": "1e96c877-276f-4ab9-bda9-a572379ef854",
   "metadata": {},
   "source": [
    "#### IQR Robust Scaler Transform"
   ]
  },
  {
   "cell_type": "markdown",
   "id": "61aef290-17f1-4f4a-b931-7d1d38a611b2",
   "metadata": {},
   "source": [
    "✅ **Solution: Robust Scaling**\n",
    "- Use **median** and **IQR (Interquartile Range)** instead of mean and std.\n",
    "- Called **Robust Scaling** – less sensitive to outliers.\n",
    "- Transforms:<br>\n",
    "o\tSubtract the median (centering)<br>\n",
    "o\tDivide by IQR (scaling)<br>\n",
    "- Result: distribution centered at 0, with unit-scale, preserving outliers."
   ]
  },
  {
   "cell_type": "markdown",
   "id": "a142f2cd-ea08-4144-8b73-0e9f61ac3193",
   "metadata": {},
   "source": [
    "🛠️ **Using RobustScaler in Python (scikit-learn)**\n",
    "- RobustScaler() available in sklearn.preprocessing.\n",
    "- Parameters:<br>\n",
    "o\t**with_centering**=True: subtract median<br>\n",
    "o\t**with_scaling**=True: divide by IQR<br>\n",
    "o\t**quantile_range**=(25, 75): default IQR range, can be customized"
   ]
  },
  {
   "cell_type": "code",
   "execution_count": 10,
   "id": "6724e205-0cb1-4c35-a054-9422609bd24b",
   "metadata": {},
   "outputs": [
    {
     "name": "stdout",
     "output_type": "stream",
     "text": [
      "                0           1           2           3           4           5  \\\n",
      "count  768.000000  768.000000  768.000000  768.000000  768.000000  768.000000   \n",
      "mean     0.169010    0.094413   -0.160807   -0.076986    0.387422   -0.000798   \n",
      "std      0.673916    0.775094    1.075323    0.498507    0.905650    0.847759   \n",
      "min     -0.600000   -2.836364   -4.000000   -0.718750   -0.239686   -3.440860   \n",
      "25%     -0.400000   -0.436364   -0.555556   -0.718750   -0.239686   -0.505376   \n",
      "50%      0.000000    0.000000    0.000000    0.000000    0.000000    0.000000   \n",
      "75%      0.600000    0.563636    0.444444    0.281250    0.760314    0.494624   \n",
      "max      2.800000    1.987879    2.777778    2.375000    6.408644    3.774194   \n",
      "\n",
      "                6           7  \n",
      "count  768.000000  768.000000  \n",
      "mean     0.259807    0.249464  \n",
      "std      0.866219    0.691778  \n",
      "min     -0.769935   -0.470588  \n",
      "25%     -0.336601   -0.294118  \n",
      "50%      0.000000    0.000000  \n",
      "75%      0.663399    0.705882  \n",
      "max      5.352941    3.058824  \n"
     ]
    },
    {
     "data": {
      "image/png": "[encoded data removed]",
      "text/plain": [
       "<Figure size 640x480 with 9 Axes>"
      ]
     },
     "metadata": {},
     "output_type": "display_data"
    }
   ],
   "source": [
    "# visualize a robust scaler transform of the diabetes dataset \n",
    "from pandas import read_csv\n",
    "from pandas import DataFrame\n",
    "from sklearn.preprocessing import RobustScaler \n",
    "from matplotlib import pyplot\n",
    "\n",
    "# load dataset\n",
    "path_diabetes= \"https://raw.githubusercontent.com/jbrownlee/Datasets/master/pima-indians-diabetes.csv\"\n",
    "dataset = read_csv(path_diabetes, header=None) \n",
    "\n",
    "# retrieve just the numeric input values\n",
    "data = dataset.values[:, :-1]\n",
    "\n",
    "# perform a robust scaler transform of the dataset \n",
    "trans = RobustScaler()\n",
    "data = trans.fit_transform(data)\n",
    "\n",
    "# convert the array back to a dataframe\n",
    "dataset = DataFrame(data) \n",
    "\n",
    "# summarize\n",
    "print(dataset.describe())\n",
    "\n",
    "# histograms of the variables\n",
    "fig = dataset.hist(xlabelsize=4, ylabelsize=4) \n",
    "[x.title.set_size(4) for x in fig.ravel()]\n",
    "\n",
    "# show the plot \n",
    "pyplot.show()"
   ]
  },
  {
   "cell_type": "markdown",
   "id": "821e03d4-9cfc-4d39-a19d-a0df2c86d505",
   "metadata": {},
   "source": [
    "Next, let’s evaluate the same KNN model as the previous section, but in this case on a robust scaler transform of the dataset. <br>The complete example is listed below."
   ]
  },
  {
   "cell_type": "code",
   "execution_count": 11,
   "id": "cfa0bca1-f64a-4b1b-a6d5-6b634b0eeef7",
   "metadata": {},
   "outputs": [
    {
     "name": "stdout",
     "output_type": "stream",
     "text": [
      "Accuracy: 0.734 (0.044)\n"
     ]
    }
   ],
   "source": [
    "# evaluate knn on the diabetes dataset with robust scaler transform \n",
    "from numpy import mean\n",
    "from numpy import std\n",
    "from pandas import read_csv\n",
    "from sklearn.model_selection import cross_val_score\n",
    "from sklearn.model_selection import RepeatedStratifiedKFold \n",
    "from sklearn.neighbors import KNeighborsClassifier\n",
    "from sklearn.preprocessing import LabelEncoder \n",
    "from sklearn.preprocessing import RobustScaler \n",
    "from sklearn.pipeline import Pipeline\n",
    "\n",
    "# load dataset\n",
    "path_diabetes= \"https://raw.githubusercontent.com/jbrownlee/Datasets/master/pima-indians-diabetes.csv\"\n",
    "dataset = read_csv(path_diabetes, header=None) \n",
    "data = dataset.values\n",
    "\n",
    "# separate into input and output columns \n",
    "X, y = data[:, :-1], data[:, -1]\n",
    "\n",
    "# ensure inputs are floats and output is an integer label\n",
    "X = X.astype('float32')\n",
    "y  =  LabelEncoder().fit_transform(y.astype('str'))\n",
    "\n",
    "# define the pipeline\n",
    "trans = RobustScaler()\n",
    "model  =  KNeighborsClassifier()\n",
    "pipeline = Pipeline(steps=[('t', trans), ('m', model)]) \n",
    "\n",
    "# evaluate the pipeline\n",
    "cv = RepeatedStratifiedKFold(n_splits=10, n_repeats=3, random_state=1)\n",
    "n_scores = cross_val_score(pipeline, X, y, scoring='accuracy', cv=cv, n_jobs=-1) \n",
    "\n",
    "# report pipeline performance\n",
    "print('Accuracy: %.3f (%.3f)' % (mean(n_scores), std(n_scores)))"
   ]
  },
  {
   "cell_type": "markdown",
   "id": "2d8d3c17-fd44-439c-8e58-3fc884519c1d",
   "metadata": {},
   "source": [
    "Next, let’s explore the effect of different scaling ranges."
   ]
  },
  {
   "cell_type": "markdown",
   "id": "bc83adef-42b7-4863-b515-ca5df8e17549",
   "metadata": {},
   "source": [
    "#### Explore Robust Scaler Range"
   ]
  },
  {
   "cell_type": "markdown",
   "id": "103e0d2f-dd58-4e99-966b-ef15b7124bbd",
   "metadata": {},
   "source": [
    "🛠️ **Using RobustScaler in Python (scikit-learn)**\n",
    "- RobustScaler() available in sklearn.preprocessing.\n",
    "- Parameters:<br>\n",
    "o\t**with_centering**=True: subtract median<br>\n",
    "o\t**with_scaling**=True: divide by IQR<br>\n",
    "o\t**quantile_range**=(25, 75): default IQR range, can be customized"
   ]
  },
  {
   "cell_type": "code",
   "execution_count": 12,
   "id": "21b75546-f35f-48b4-832a-8b5fbc565953",
   "metadata": {},
   "outputs": [
    {
     "name": "stdout",
     "output_type": "stream",
     "text": [
      ">1 0.734 (0.054)\n",
      ">5 0.736 (0.051)\n",
      ">10 0.739 (0.047)\n",
      ">15 0.740 (0.045)\n",
      ">20 0.734 (0.050)\n",
      ">25 0.734 (0.044)\n",
      ">30 0.735 (0.042)\n"
     ]
    },
    {
     "data": {
      "image/png": "[encoded data removed]",
      "text/plain": [
       "<Figure size 640x480 with 1 Axes>"
      ]
     },
     "metadata": {},
     "output_type": "display_data"
    }
   ],
   "source": [
    "# explore the scaling range of the robust scaler transform \n",
    "from numpy import mean\n",
    "from numpy import std\n",
    "from pandas import read_csv\n",
    "from sklearn.model_selection import cross_val_score\n",
    "from sklearn.model_selection import RepeatedStratifiedKFold \n",
    "from sklearn.neighbors import KNeighborsClassifier\n",
    "from sklearn.preprocessing import RobustScaler \n",
    "from sklearn.preprocessing import LabelEncoder \n",
    "from sklearn.pipeline import Pipeline\n",
    "from matplotlib import pyplot\n",
    "\n",
    "# get the dataset \n",
    "def get_dataset():\n",
    "    # load dataset\n",
    "    path_diabetes= \"https://raw.githubusercontent.com/jbrownlee/Datasets/master/pima-indians-diabetes.csv\"\n",
    "    dataset = read_csv(path_diabetes, header=None)     \n",
    "    data = dataset.values\n",
    "    # separate into input and output columns\n",
    "    X, y = data[:, :-1], data[:, -1]\n",
    "    # ensure inputs are floats and output is an integer label\n",
    "    X = X.astype('float32')\n",
    "    y = LabelEncoder().fit_transform(y.astype('str')) \n",
    "    return X, y\n",
    "\n",
    "# get a list of models to evaluate \n",
    "def get_models():\n",
    "    models = dict()\n",
    "    for value in [1, 5, 10, 15, 20, 25, 30]:\n",
    "        # define the pipeline\n",
    "        trans = RobustScaler(quantile_range=(value, 100-value)) \n",
    "        model = KNeighborsClassifier()\n",
    "        models[str(value)] = Pipeline(steps=[('t', trans), ('m', model)]) \n",
    "    return models\n",
    "\n",
    "# evaluate a given model using cross-validation \n",
    "def evaluate_model(model, X, y):\n",
    "    cv = RepeatedStratifiedKFold(n_splits=10, n_repeats=3, random_state=1) \n",
    "    scores = cross_val_score(model, X, y, scoring='accuracy', cv=cv, n_jobs=-1) \n",
    "    return scores\n",
    "\n",
    "\n",
    "# define dataset\n",
    "X, y = get_dataset()\n",
    "\n",
    "# get the models to evaluate \n",
    "models = get_models()\n",
    "\n",
    "# evaluate the models and store results \n",
    "results, names = list(), list()\n",
    "\n",
    "for name, model in models.items():\n",
    "    scores = evaluate_model(model, X, y) \n",
    "    results.append(scores) \n",
    "    names.append(name)\n",
    "    print('>%s %.3f (%.3f)'  % (name, mean(scores), std(scores))) \n",
    "\n",
    "# plot model performance for comparison \n",
    "pyplot.boxplot(results, tick_labels=names, showmeans=True) \n",
    "pyplot.show()"
   ]
  },
  {
   "cell_type": "markdown",
   "id": "b7761090-f217-4bb6-bf8e-e551d84d4305",
   "metadata": {},
   "source": [
    "## How to Encode Categorical Data"
   ]
  },
  {
   "cell_type": "markdown",
   "id": "711c2a2b-b595-4968-b209-f75d9659299a",
   "metadata": {},
   "source": [
    "📌 **Core Principle**\n",
    "- Machine learning models require **numeric input/output**.\n",
    "- **Categorical data must be encoded** to numeric form before modeling."
   ]
  },
  {
   "cell_type": "markdown",
   "id": "37957ad6-25ad-4a76-9656-559096e8b8b4",
   "metadata": {},
   "source": [
    "📚 **Types of Variables**\n",
    "- **Nominal Variable**: Categories without order (e.g., red, green, blue).\n",
    "- **Ordinal Variable**: Categories with order/rank (e.g., low, medium, high)."
   ]
  },
  {
   "cell_type": "markdown",
   "id": "833254f9-902d-4773-8884-28c51326eac6",
   "metadata": {},
   "source": [
    "🛠️ **Encoding Techniques**<br>\n",
    "- **Ordinal Encoding**<br>\n",
    "o\tMaps categories to integers (e.g., red=1, green=2).<br>\n",
    "o\tUse **only** if categories have a **natural order**.<br>\n",
    "o\tCan be misleading for **nominal variables**.<br>\n",
    "o\tImplemented via OrdinalEncoder (scikit-learn).<br>\n",
    "o\tFor target labels: use LabelEncoder.<br><br>\n",
    "\n",
    "- **One Hot Encoding**<br>\n",
    "o\tCreates binary column for each category.<br>\n",
    "o\tSuitable for **nominal data** (no rank/order).<br>\n",
    "o\tAvoids incorrect ordinal assumptions.<br>\n",
    "o\tImplemented via OneHotEncoder.<br>\n",
    "o\tCan handle **unknown categories** with **handle_unknown='ignore'**.<br>\n",
    "o\tCan produce **sparse** matrix; **set sparse=False to get full matrix.**<br><br>\n",
    "\n",
    "\n",
    "- **Dummy Variable Encoding**<br>\n",
    "o\tLike one hot, but drops one column to avoid redundancy.<br>\n",
    "o\tUse with **regression models** (e.g., linear regression).<br>\n",
    "o\tControlled via drop='first' in OneHotEncoder.<br>"
   ]
  },
  {
   "cell_type": "markdown",
   "id": "20084611-c7fe-407a-90ac-37c1bb9daaff",
   "metadata": {},
   "source": [
    "🤔 **Common Questions**\n",
    "- **Mixed Data Types?**<br>\n",
    "o\tEncode each column separately.<br>\n",
    "o\tUse ColumnTransformer for automated handling.<br><br>\n",
    "- **High Cardinality?**<br>\n",
    "o\tOne hot encoding can still work with thousands of categories.<br>\n",
    "o\tModels can handle large feature vectors.<br><br>\n",
    "- **Best Encoding Method?**<br>\n",
    "o\t**No universal answer**—must **experiment** with each method on your dataset.<br>"
   ]
  },
  {
   "cell_type": "markdown",
   "id": "fa77f0cf-e6c7-40d6-b236-0ad71e990e8e",
   "metadata": {},
   "source": [
    "🧩 **Key Takeaways**\n",
    "- Encoding is **essential preprocessing**.\n",
    "- Match encoding method to **variable type** (ordinal vs nominal).\n",
    "- **Always test** encoding methods with your specific model and dataset."
   ]
  },
  {
   "cell_type": "markdown",
   "id": "69680c61-08f9-4397-a100-dc37417cad36",
   "metadata": {},
   "source": [
    "#### Breast Cancer Dataset"
   ]
  },
  {
   "cell_type": "code",
   "execution_count": 13,
   "id": "6d8b79a8-1af3-4031-8875-62490069d659",
   "metadata": {},
   "outputs": [
    {
     "name": "stdout",
     "output_type": "stream",
     "text": [
      "Input (286, 9)\n",
      "Output (286,)\n"
     ]
    }
   ],
   "source": [
    "# load and summarize the dataset \n",
    "from pandas import read_csv\n",
    "\n",
    "# load the dataset\n",
    "path_breast_data = \"https://raw.githubusercontent.com/jbrownlee/Datasets/master/breast-cancer.csv\"\n",
    "dataset = read_csv(path_breast_data, header=None) \n",
    "\n",
    "# retrieve the array of data\n",
    "data = dataset.values\n",
    "\n",
    "# separate into input and output columns\n",
    "X = data[:, :-1].astype(str)\n",
    "y = data[:, -1].astype(str) \n",
    "\n",
    "# summarize\n",
    "print('Input', X.shape) \n",
    "print('Output', y.shape)"
   ]
  },
  {
   "cell_type": "markdown",
   "id": "1a8c34be-4e53-4a66-b81e-353a9ee2bbca",
   "metadata": {},
   "source": [
    "#### OrdinalEncoder Transform"
   ]
  },
  {
   "cell_type": "markdown",
   "id": "23f3659f-72d2-4070-bd08-ec70d3499597",
   "metadata": {},
   "source": [
    "- **Ordinal Encoding**<br>\n",
    "o\tMaps categories to integers (e.g., red=1, green=2).<br>\n",
    "o\tUse **only** if categories have a **natural order**.<br>\n",
    "o\tCan be misleading for **nominal variables**.<br>\n",
    "o\tImplemented via **OrdinalEncoder** (scikit-learn).<br>\n",
    "o\tFor target labels: use **LabelEncoder**.<br><br>"
   ]
  },
  {
   "cell_type": "code",
   "execution_count": 14,
   "id": "1ab08f50-a03f-4834-b5f8-9f8830f9e121",
   "metadata": {},
   "outputs": [
    {
     "name": "stdout",
     "output_type": "stream",
     "text": [
      "Input (286, 9)\n",
      "[[2. 2. 2. 0. 1. 2. 1. 2. 0.]\n",
      " [3. 0. 2. 0. 0. 0. 1. 0. 0.]\n",
      " [3. 0. 6. 0. 0. 1. 0. 1. 0.]\n",
      " [2. 2. 6. 0. 1. 2. 1. 1. 1.]\n",
      " [2. 2. 5. 4. 1. 1. 0. 4. 0.]]\n",
      "Output (286,)\n",
      "[1 0 1 0 1]\n"
     ]
    }
   ],
   "source": [
    "# ordinal encode the breast cancer dataset \n",
    "from pandas import read_csv\n",
    "from sklearn.preprocessing import LabelEncoder \n",
    "from sklearn.preprocessing import OrdinalEncoder \n",
    "\n",
    "# load the dataset\n",
    "path_breast_data = \"https://raw.githubusercontent.com/jbrownlee/Datasets/master/breast-cancer.csv\"\n",
    "dataset = read_csv(path_breast_data, header=None) \n",
    "\n",
    "# retrieve the array of data\n",
    "data = dataset.values\n",
    "\n",
    "# separate into input and output columns\n",
    "X = data[:, :-1].astype(str)\n",
    "y = data[:, -1].astype(str)\n",
    "\n",
    "# ordinal encode input variables \n",
    "ordinal_encoder = OrdinalEncoder()\n",
    "X = ordinal_encoder.fit_transform(X) \n",
    "\n",
    "# ordinal encode target variable \n",
    "label_encoder = LabelEncoder()\n",
    "y = label_encoder.fit_transform(y) \n",
    "\n",
    "# summarize the transformed data \n",
    "print('Input', X.shape) \n",
    "print(X[:5, :])\n",
    "\n",
    "print('Output', y.shape) \n",
    "print(y[:5])"
   ]
  },
  {
   "cell_type": "markdown",
   "id": "0748dc25-68f3-4bd7-bf94-ecf0054777be",
   "metadata": {},
   "source": [
    "We can then fit a logistic regression algorithm on the training dataset and evaluate it on the test dataset. The complete example is listed below."
   ]
  },
  {
   "cell_type": "code",
   "execution_count": 15,
   "id": "64a849bc-cec0-489f-935c-feb1098f6378",
   "metadata": {},
   "outputs": [
    {
     "name": "stdout",
     "output_type": "stream",
     "text": [
      "Accuracy: 75.79\n"
     ]
    }
   ],
   "source": [
    "#evaluate logistic regression on the breast cancer dataset with an ordinal encoding \n",
    "from pandas import read_csv\n",
    "from sklearn.model_selection import train_test_split \n",
    "from sklearn.linear_model import LogisticRegression \n",
    "from sklearn.preprocessing import LabelEncoder\n",
    "from sklearn.preprocessing import OrdinalEncoder \n",
    "from sklearn.metrics import accuracy_score\n",
    "\n",
    "# load the dataset\n",
    "path_breast_data = \"https://raw.githubusercontent.com/jbrownlee/Datasets/master/breast-cancer.csv\"\n",
    "dataset = read_csv(path_breast_data, header=None) \n",
    "\n",
    "# retrieve the array of data\n",
    "data = dataset.values\n",
    "\n",
    "# separate into input and output columns\n",
    "X = data[:, :-1].astype(str)\n",
    "y = data[:, -1].astype(str)\n",
    "\n",
    "# split the dataset into train and test sets\n",
    "X_train, X_test, y_train, y_test = train_test_split(X, y, test_size=0.33, random_state=1) \n",
    "\n",
    "# ordinal encode input variables\n",
    "ordinal_encoder = OrdinalEncoder() \n",
    "ordinal_encoder.fit(X_train)\n",
    "X_train = ordinal_encoder.transform(X_train) \n",
    "X_test = ordinal_encoder.transform(X_test)\n",
    "\n",
    "# ordinal encode target variable \n",
    "label_encoder = LabelEncoder() \n",
    "label_encoder.fit(y_train)\n",
    "y_train = label_encoder.transform(y_train) \n",
    "y_test = label_encoder.transform(y_test)\n",
    "\n",
    "# define the model\n",
    "model = LogisticRegression() \n",
    "\n",
    "# fit on the training set\n",
    "model.fit(X_train, y_train)\n",
    "\n",
    "# predict on test set\n",
    "yhat = model.predict(X_test) \n",
    "\n",
    "# evaluate predictions\n",
    "accuracy = accuracy_score(y_test, yhat) \n",
    "print('Accuracy: %.2f' % (accuracy*100))"
   ]
  },
  {
   "cell_type": "markdown",
   "id": "027b2443-3fa8-4467-b00b-4815f4558ee7",
   "metadata": {},
   "source": [
    "#### OneHotEncoder Transform"
   ]
  },
  {
   "cell_type": "markdown",
   "id": "37e58edb-2cdb-4d03-8b79-2bcf2775022b",
   "metadata": {},
   "source": [
    "- **One Hot Encoding**<br>\n",
    "o\tCreates binary column for each category.<br>\n",
    "o\tSuitable for **nominal data** (no rank/order).<br>\n",
    "o\tAvoids incorrect ordinal assumptions.<br>\n",
    "o\tImplemented via **OneHotEncoder**.<br>\n",
    "o\tCan handle **unknown categories** with **handle_unknown='ignore'**.<br>\n",
    "o\tCan produce **sparse** matrix; **set sparse=False to get full matrix.**<br><br>"
   ]
  },
  {
   "cell_type": "code",
   "execution_count": 16,
   "id": "0fa0c585-b3b1-483a-9a94-6079b46ac9b8",
   "metadata": {},
   "outputs": [
    {
     "name": "stdout",
     "output_type": "stream",
     "text": [
      "Input (286, 43)\n",
      "[[0. 0. 1. 0. 0. 0. 0. 0. 1. 0. 0. 1. 0. 0. 0. 0. 0. 0. 0. 0. 1. 0. 0. 0.\n",
      "  0. 0. 0. 0. 1. 0. 0. 0. 1. 0. 1. 0. 0. 1. 0. 0. 0. 1. 0.]\n",
      " [0. 0. 0. 1. 0. 0. 1. 0. 0. 0. 0. 1. 0. 0. 0. 0. 0. 0. 0. 0. 1. 0. 0. 0.\n",
      "  0. 0. 0. 1. 0. 0. 1. 0. 0. 0. 1. 1. 0. 0. 0. 0. 0. 1. 0.]\n",
      " [0. 0. 0. 1. 0. 0. 1. 0. 0. 0. 0. 0. 0. 0. 0. 1. 0. 0. 0. 0. 1. 0. 0. 0.\n",
      "  0. 0. 0. 1. 0. 0. 0. 1. 0. 1. 0. 0. 1. 0. 0. 0. 0. 1. 0.]\n",
      " [0. 0. 1. 0. 0. 0. 0. 0. 1. 0. 0. 0. 0. 0. 0. 1. 0. 0. 0. 0. 1. 0. 0. 0.\n",
      "  0. 0. 0. 0. 1. 0. 0. 0. 1. 0. 1. 0. 1. 0. 0. 0. 0. 0. 1.]\n",
      " [0. 0. 1. 0. 0. 0. 0. 0. 1. 0. 0. 0. 0. 0. 1. 0. 0. 0. 0. 0. 0. 0. 0. 0.\n",
      "  1. 0. 0. 0. 1. 0. 0. 1. 0. 1. 0. 0. 0. 0. 0. 1. 0. 1. 0.]]\n"
     ]
    }
   ],
   "source": [
    "# one-hot encode the breast cancer dataset \n",
    "from pandas import read_csv\n",
    "from sklearn.preprocessing import LabelEncoder\n",
    "from sklearn.preprocessing import OneHotEncoder \n",
    "\n",
    "# load the dataset\n",
    "path_breast_data = \"https://raw.githubusercontent.com/jbrownlee/Datasets/master/breast-cancer.csv\"\n",
    "dataset = read_csv(path_breast_data, header=None) \n",
    "\n",
    "# retrieve the array of data\n",
    "data = dataset.values\n",
    "\n",
    "# separate into input and output columns\n",
    "X = data[:, :-1].astype(str)\n",
    "y = data[:, -1].astype(str)\n",
    "\n",
    "# one hot encode input variables \n",
    "onehot_encoder = OneHotEncoder(sparse_output=False)\n",
    "X = onehot_encoder.fit_transform(X) \n",
    "\n",
    "# ordinal encode target variable \n",
    "label_encoder = LabelEncoder()\n",
    "y = label_encoder.fit_transform(y) \n",
    "\n",
    "# summarize the transformed data \n",
    "print('Input', X.shape) \n",
    "print(X[:5, :])"
   ]
  },
  {
   "cell_type": "markdown",
   "id": "4aeb071d-9751-4df4-9189-903df4374eb5",
   "metadata": {},
   "source": [
    "Next, let’s evaluate machine learning on this dataset with this encoding as we did in the previous section. The encoding is fit on the training set then applied to both train and test sets as before."
   ]
  },
  {
   "cell_type": "code",
   "execution_count": 17,
   "id": "04576287-c2d5-4a4f-8e07-13d82659b093",
   "metadata": {},
   "outputs": [
    {
     "name": "stdout",
     "output_type": "stream",
     "text": [
      "Accuracy: 70.53\n"
     ]
    }
   ],
   "source": [
    "# evaluate logistic regression on the breast cancer dataset with a one-hot encoding \n",
    "from pandas import read_csv\n",
    "from sklearn.model_selection import train_test_split \n",
    "from sklearn.linear_model import LogisticRegression \n",
    "from sklearn.preprocessing import LabelEncoder\n",
    "from sklearn.preprocessing import OneHotEncoder\n",
    "from sklearn.metrics import accuracy_score\n",
    "\n",
    "# load the dataset\n",
    "path_breast_data = \"https://raw.githubusercontent.com/jbrownlee/Datasets/master/breast-cancer.csv\"\n",
    "dataset = read_csv(path_breast_data, header=None) \n",
    "\n",
    "# retrieve the array of data\n",
    "data = dataset.values\n",
    "\n",
    "# separate into input and output columns\n",
    "X = data[:, :-1].astype(str)\n",
    "y = data[:, -1].astype(str)\n",
    "\n",
    "# split the dataset into train and test sets\n",
    "X_train, X_test, y_train, y_test = train_test_split(X, y, test_size=0.33, random_state=1) \n",
    "\n",
    "# one-hot encode input variables\n",
    "onehot_encoder = OneHotEncoder() \n",
    "onehot_encoder.fit(X_train)\n",
    "X_train = onehot_encoder.transform(X_train) \n",
    "X_test = onehot_encoder.transform(X_test)\n",
    "\n",
    "# ordinal encode target variable \n",
    "label_encoder = LabelEncoder() \n",
    "label_encoder.fit(y_train)\n",
    "y_train = label_encoder.transform(y_train) \n",
    "y_test = label_encoder.transform(y_test)\n",
    "\n",
    "# define the model\n",
    "model = LogisticRegression() \n",
    "\n",
    "# fit on the training set \n",
    "model.fit(X_train,  y_train) \n",
    "\n",
    "# predict on test set\n",
    "yhat = model.predict(X_test) \n",
    "\n",
    "# evaluate predictions\n",
    "accuracy = accuracy_score(y_test, yhat) \n",
    "print('Accuracy: %.2f' % (accuracy*100))"
   ]
  },
  {
   "cell_type": "markdown",
   "id": "e9d50d1c-353f-4ce1-b669-fae5b0d751f8",
   "metadata": {},
   "source": [
    "## How to Make Distributions More Gaussian"
   ]
  },
  {
   "cell_type": "markdown",
   "id": "2cd30e27-3218-4a69-863a-cbe314987545",
   "metadata": {},
   "source": [
    "🧠 **Why Gaussian Distributions Matter** <br>\n",
    "- Many ML algorithms **assume** or perform better with **Gaussian (normal) distributions**.<br>\n",
    "o\tExamples: Linear Regression, Logistic Regression, Gaussian Naive Bayes.<br>\n",
    "- **Even nonlinear algorithms benefit from Gaussian-like input distributions.**\n",
    "- Applies to both input features and output targets (especially in regression tasks)."
   ]
  },
  {
   "cell_type": "markdown",
   "id": "ce8c18d4-45bb-4041-9057-780dd10e8b6a",
   "metadata": {},
   "source": [
    "⚙️ **What are Power Transforms?**\n",
    "- Used to **make data more Gaussian-like**.\n",
    "- Aim to **remove skew** and **stabilize variance**.\n",
    "- Automatically find the best transformation via a parameter (**λ** or **lambda**).\n",
    "- Two main types:<br>\n",
    "o\t**Box-Cox Transform**: requires strictly positive data.<br>\n",
    "o\t**Yeo-Johnson Transform**: handles both positive and negative values.<br>"
   ]
  },
  {
   "cell_type": "markdown",
   "id": "31c5dbb3-d18a-4096-838a-e6f19ee2f1f9",
   "metadata": {},
   "source": [
    "🔧 **PowerTransformer in Scikit-Learn**\n",
    "- **PowerTransformer(method='box-cox' | 'yeo-johnson')**\n",
    "- **Auto-standardizes output** (zero mean, unit variance); disable with standardize=False.\n",
    "- Saves λ parameter for consistent future transformations (e.g., on test data)."
   ]
  },
  {
   "cell_type": "markdown",
   "id": "ab54f461-7375-4a6e-948e-8be9cc977995",
   "metadata": {},
   "source": [
    "🧮 **Lambda (λ) Values in Power Transforms**\n",
    "- λ = −1.0 → reciprocal transform\n",
    "- λ = −0.5 → reciprocal square root\n",
    "- λ = 0.0 → log transform\n",
    "- λ = 0.5 → square root\n",
    "- λ = 1.0 → no transform"
   ]
  },
  {
   "cell_type": "markdown",
   "id": "ba6d6836-9ca9-44a7-afff-d67e0c9ab424",
   "metadata": {},
   "source": [
    "📈 **Box-Cox Transform**\n",
    "- **Strictly positive values only** (no 0 or negatives).\n",
    "- Error if used on raw sonar data (contains 0s).\n",
    "- Solution: Use MinMaxScaler before PowerTransformer(method='box-cox')."
   ]
  },
  {
   "cell_type": "markdown",
   "id": "49d31e2b-2628-4c5b-b857-13fdce247061",
   "metadata": {},
   "source": [
    "📉 **Yeo-Johnson Transform**\n",
    "- **Supports 0 and negative values.**\n",
    "- No need to scale before applying.\n",
    "- Further boost with standardization before Yeo-Johnson"
   ]
  },
  {
   "cell_type": "markdown",
   "id": "4cd7e364-fd79-45b4-a713-638556236d8f",
   "metadata": {},
   "source": [
    "✅ **Key Takeaways (Summary)**\n",
    "- **Gaussian-shaped data boosts model performance.**\n",
    "- **Power transforms** help achieve Gaussian-like distributions:<br>\n",
    "o\tUse **Box-Cox** for **strictly positive data.**<br>\n",
    "o\tUse **Yeo-Johnson** for **general-purpose transformation.**<br>\n",
    "- PowerTransformer in scikit-learn makes applying these easy and consistent.\n",
    "- Combine with **pipelines** for scalable, reusable data preparation workflows."
   ]
  },
  {
   "cell_type": "markdown",
   "id": "cd98e7b3-f31c-450d-bbe4-aa748aa13fee",
   "metadata": {},
   "source": [
    "#### Power transforms"
   ]
  },
  {
   "cell_type": "markdown",
   "id": "ac660b9a-cdb1-4fb8-a01b-150af383ffaa",
   "metadata": {},
   "source": [
    "⚙️ **What are Power Transforms?**\n",
    "- Used to **make data more Gaussian-like**.\n",
    "- Aim to **remove skew** and **stabilize variance**.\n",
    "- Automatically find the best transformation via a parameter (**λ** or **lambda**).\n",
    "- Two main types:<br>\n",
    "o\t**Box-Cox Transform**: requires strictly positive data.<br>\n",
    "o\t**Yeo-Johnson Transform**: handles both positive and negative values.<br>"
   ]
  },
  {
   "cell_type": "markdown",
   "id": "217a96d5-e228-4261-bd04-515b9b20cdd1",
   "metadata": {},
   "source": [
    "🔧 **PowerTransformer in Scikit-Learn**\n",
    "- **PowerTransformer(method='box-cox' | 'yeo-johnson')**\n",
    "- **Auto-standardizes output** (zero mean, unit variance); disable with standardize=False.\n",
    "- Saves λ parameter for consistent future transformations (e.g., on test data)."
   ]
  },
  {
   "cell_type": "code",
   "execution_count": 18,
   "id": "4a170d57-9976-4730-bcd1-62a78616a1ea",
   "metadata": {},
   "outputs": [
    {
     "data": {
      "image/png": "[encoded data removed]",
      "text/plain": [
       "<Figure size 640x480 with 1 Axes>"
      ]
     },
     "metadata": {},
     "output_type": "display_data"
    },
    {
     "data": {
      "image/png": "[encoded data removed]",
      "text/plain": [
       "<Figure size 640x480 with 1 Axes>"
      ]
     },
     "metadata": {},
     "output_type": "display_data"
    }
   ],
   "source": [
    "# demonstration of the power transform on data with a skew \n",
    "from numpy import exp\n",
    "from numpy.random import randn\n",
    "from sklearn.preprocessing import PowerTransformer \n",
    "from matplotlib import pyplot\n",
    "\n",
    "# generate gaussian data sample \n",
    "data = randn(1000)\n",
    "\n",
    "# add a skew to the data distribution \n",
    "data = exp(data)\n",
    "\n",
    "# histogram of the raw data with a skew \n",
    "pyplot.hist(data,  bins=25) \n",
    "pyplot.show()\n",
    "\n",
    "# reshape data to have rows and columns \n",
    "data  =  data.reshape((len(data),1))\n",
    "\n",
    "# power transform the raw data\n",
    "power = PowerTransformer(method='yeo-johnson', standardize=True) \n",
    "data_trans = power.fit_transform(data)\n",
    "\n",
    "# histogram of the transformed data\n",
    "pyplot.hist(data_trans, bins=25) \n",
    "pyplot.show()"
   ]
  },
  {
   "cell_type": "markdown",
   "id": "ecb9ed5b-a4ca-4001-9866-938892fa889e",
   "metadata": {},
   "source": [
    "#### Sonar dataset"
   ]
  },
  {
   "cell_type": "markdown",
   "id": "048243c6-d039-4242-bb86-0bae8835074f",
   "metadata": {},
   "source": [
    "The sonar dataset is a standard machine learning dataset for binary classification. It involves 60 real-valued inputs and a two-class target variable. There are 208 examples in the dataset and the classes are reasonably balanced. A baseline classification algorithm can achieve a classification accuracy of about 53.4 percent using repeated stratified 10-fold cross-validation. Top performance on this dataset is about 88 percent using repeated stratified 10-fold cross- validation. The dataset describes sonar returns of rocks or simulated mines. "
   ]
  },
  {
   "cell_type": "code",
   "execution_count": 19,
   "id": "613a8fee-641c-4d98-b4a4-4d381a277f60",
   "metadata": {},
   "outputs": [
    {
     "name": "stdout",
     "output_type": "stream",
     "text": [
      "(208, 61)\n"
     ]
    },
    {
     "data": {
      "text/html": [
       "<div>\n",
       "<style scoped>\n",
       "    .dataframe tbody tr th:only-of-type {\n",
       "        vertical-align: middle;\n",
       "    }\n",
       "\n",
       "    .dataframe tbody tr th {\n",
       "        vertical-align: top;\n",
       "    }\n",
       "\n",
       "    .dataframe thead th {\n",
       "        text-align: right;\n",
       "    }\n",
       "</style>\n",
       "<table border=\"1\" class=\"dataframe\">\n",
       "  <thead>\n",
       "    <tr style=\"text-align: right;\">\n",
       "      <th></th>\n",
       "      <th>0</th>\n",
       "      <th>1</th>\n",
       "      <th>2</th>\n",
       "      <th>3</th>\n",
       "      <th>4</th>\n",
       "      <th>5</th>\n",
       "      <th>6</th>\n",
       "      <th>7</th>\n",
       "      <th>8</th>\n",
       "      <th>9</th>\n",
       "      <th>...</th>\n",
       "      <th>50</th>\n",
       "      <th>51</th>\n",
       "      <th>52</th>\n",
       "      <th>53</th>\n",
       "      <th>54</th>\n",
       "      <th>55</th>\n",
       "      <th>56</th>\n",
       "      <th>57</th>\n",
       "      <th>58</th>\n",
       "      <th>59</th>\n",
       "    </tr>\n",
       "  </thead>\n",
       "  <tbody>\n",
       "    <tr>\n",
       "      <th>count</th>\n",
       "      <td>208.000000</td>\n",
       "      <td>208.000000</td>\n",
       "      <td>208.000000</td>\n",
       "      <td>208.000000</td>\n",
       "      <td>208.000000</td>\n",
       "      <td>208.000000</td>\n",
       "      <td>208.000000</td>\n",
       "      <td>208.000000</td>\n",
       "      <td>208.000000</td>\n",
       "      <td>208.000000</td>\n",
       "      <td>...</td>\n",
       "      <td>208.000000</td>\n",
       "      <td>208.000000</td>\n",
       "      <td>208.000000</td>\n",
       "      <td>208.000000</td>\n",
       "      <td>208.000000</td>\n",
       "      <td>208.000000</td>\n",
       "      <td>208.000000</td>\n",
       "      <td>208.000000</td>\n",
       "      <td>208.000000</td>\n",
       "      <td>208.000000</td>\n",
       "    </tr>\n",
       "    <tr>\n",
       "      <th>mean</th>\n",
       "      <td>0.029164</td>\n",
       "      <td>0.038437</td>\n",
       "      <td>0.043832</td>\n",
       "      <td>0.053892</td>\n",
       "      <td>0.075202</td>\n",
       "      <td>0.104570</td>\n",
       "      <td>0.121747</td>\n",
       "      <td>0.134799</td>\n",
       "      <td>0.178003</td>\n",
       "      <td>0.208259</td>\n",
       "      <td>...</td>\n",
       "      <td>0.016069</td>\n",
       "      <td>0.013420</td>\n",
       "      <td>0.010709</td>\n",
       "      <td>0.010941</td>\n",
       "      <td>0.009290</td>\n",
       "      <td>0.008222</td>\n",
       "      <td>0.007820</td>\n",
       "      <td>0.007949</td>\n",
       "      <td>0.007941</td>\n",
       "      <td>0.006507</td>\n",
       "    </tr>\n",
       "    <tr>\n",
       "      <th>std</th>\n",
       "      <td>0.022991</td>\n",
       "      <td>0.032960</td>\n",
       "      <td>0.038428</td>\n",
       "      <td>0.046528</td>\n",
       "      <td>0.055552</td>\n",
       "      <td>0.059105</td>\n",
       "      <td>0.061788</td>\n",
       "      <td>0.085152</td>\n",
       "      <td>0.118387</td>\n",
       "      <td>0.134416</td>\n",
       "      <td>...</td>\n",
       "      <td>0.012008</td>\n",
       "      <td>0.009634</td>\n",
       "      <td>0.007060</td>\n",
       "      <td>0.007301</td>\n",
       "      <td>0.007088</td>\n",
       "      <td>0.005736</td>\n",
       "      <td>0.005785</td>\n",
       "      <td>0.006470</td>\n",
       "      <td>0.006181</td>\n",
       "      <td>0.005031</td>\n",
       "    </tr>\n",
       "    <tr>\n",
       "      <th>min</th>\n",
       "      <td>0.001500</td>\n",
       "      <td>0.000600</td>\n",
       "      <td>0.001500</td>\n",
       "      <td>0.005800</td>\n",
       "      <td>0.006700</td>\n",
       "      <td>0.010200</td>\n",
       "      <td>0.003300</td>\n",
       "      <td>0.005500</td>\n",
       "      <td>0.007500</td>\n",
       "      <td>0.011300</td>\n",
       "      <td>...</td>\n",
       "      <td>0.000000</td>\n",
       "      <td>0.000800</td>\n",
       "      <td>0.000500</td>\n",
       "      <td>0.001000</td>\n",
       "      <td>0.000600</td>\n",
       "      <td>0.000400</td>\n",
       "      <td>0.000300</td>\n",
       "      <td>0.000300</td>\n",
       "      <td>0.000100</td>\n",
       "      <td>0.000600</td>\n",
       "    </tr>\n",
       "    <tr>\n",
       "      <th>25%</th>\n",
       "      <td>0.013350</td>\n",
       "      <td>0.016450</td>\n",
       "      <td>0.018950</td>\n",
       "      <td>0.024375</td>\n",
       "      <td>0.038050</td>\n",
       "      <td>0.067025</td>\n",
       "      <td>0.080900</td>\n",
       "      <td>0.080425</td>\n",
       "      <td>0.097025</td>\n",
       "      <td>0.111275</td>\n",
       "      <td>...</td>\n",
       "      <td>0.008425</td>\n",
       "      <td>0.007275</td>\n",
       "      <td>0.005075</td>\n",
       "      <td>0.005375</td>\n",
       "      <td>0.004150</td>\n",
       "      <td>0.004400</td>\n",
       "      <td>0.003700</td>\n",
       "      <td>0.003600</td>\n",
       "      <td>0.003675</td>\n",
       "      <td>0.003100</td>\n",
       "    </tr>\n",
       "    <tr>\n",
       "      <th>50%</th>\n",
       "      <td>0.022800</td>\n",
       "      <td>0.030800</td>\n",
       "      <td>0.034300</td>\n",
       "      <td>0.044050</td>\n",
       "      <td>0.062500</td>\n",
       "      <td>0.092150</td>\n",
       "      <td>0.106950</td>\n",
       "      <td>0.112100</td>\n",
       "      <td>0.152250</td>\n",
       "      <td>0.182400</td>\n",
       "      <td>...</td>\n",
       "      <td>0.013900</td>\n",
       "      <td>0.011400</td>\n",
       "      <td>0.009550</td>\n",
       "      <td>0.009300</td>\n",
       "      <td>0.007500</td>\n",
       "      <td>0.006850</td>\n",
       "      <td>0.005950</td>\n",
       "      <td>0.005800</td>\n",
       "      <td>0.006400</td>\n",
       "      <td>0.005300</td>\n",
       "    </tr>\n",
       "    <tr>\n",
       "      <th>75%</th>\n",
       "      <td>0.035550</td>\n",
       "      <td>0.047950</td>\n",
       "      <td>0.057950</td>\n",
       "      <td>0.064500</td>\n",
       "      <td>0.100275</td>\n",
       "      <td>0.134125</td>\n",
       "      <td>0.154000</td>\n",
       "      <td>0.169600</td>\n",
       "      <td>0.233425</td>\n",
       "      <td>0.268700</td>\n",
       "      <td>...</td>\n",
       "      <td>0.020825</td>\n",
       "      <td>0.016725</td>\n",
       "      <td>0.014900</td>\n",
       "      <td>0.014500</td>\n",
       "      <td>0.012100</td>\n",
       "      <td>0.010575</td>\n",
       "      <td>0.010425</td>\n",
       "      <td>0.010350</td>\n",
       "      <td>0.010325</td>\n",
       "      <td>0.008525</td>\n",
       "    </tr>\n",
       "    <tr>\n",
       "      <th>max</th>\n",
       "      <td>0.137100</td>\n",
       "      <td>0.233900</td>\n",
       "      <td>0.305900</td>\n",
       "      <td>0.426400</td>\n",
       "      <td>0.401000</td>\n",
       "      <td>0.382300</td>\n",
       "      <td>0.372900</td>\n",
       "      <td>0.459000</td>\n",
       "      <td>0.682800</td>\n",
       "      <td>0.710600</td>\n",
       "      <td>...</td>\n",
       "      <td>0.100400</td>\n",
       "      <td>0.070900</td>\n",
       "      <td>0.039000</td>\n",
       "      <td>0.035200</td>\n",
       "      <td>0.044700</td>\n",
       "      <td>0.039400</td>\n",
       "      <td>0.035500</td>\n",
       "      <td>0.044000</td>\n",
       "      <td>0.036400</td>\n",
       "      <td>0.043900</td>\n",
       "    </tr>\n",
       "  </tbody>\n",
       "</table>\n",
       "<p>8 rows × 60 columns</p>\n",
       "</div>"
      ],
      "text/plain": [
       "               0           1           2           3           4           5   \\\n",
       "count  208.000000  208.000000  208.000000  208.000000  208.000000  208.000000   \n",
       "mean     0.029164    0.038437    0.043832    0.053892    0.075202    0.104570   \n",
       "std      0.022991    0.032960    0.038428    0.046528    0.055552    0.059105   \n",
       "min      0.001500    0.000600    0.001500    0.005800    0.006700    0.010200   \n",
       "25%      0.013350    0.016450    0.018950    0.024375    0.038050    0.067025   \n",
       "50%      0.022800    0.030800    0.034300    0.044050    0.062500    0.092150   \n",
       "75%      0.035550    0.047950    0.057950    0.064500    0.100275    0.134125   \n",
       "max      0.137100    0.233900    0.305900    0.426400    0.401000    0.382300   \n",
       "\n",
       "               6           7           8           9   ...          50  \\\n",
       "count  208.000000  208.000000  208.000000  208.000000  ...  208.000000   \n",
       "mean     0.121747    0.134799    0.178003    0.208259  ...    0.016069   \n",
       "std      0.061788    0.085152    0.118387    0.134416  ...    0.012008   \n",
       "min      0.003300    0.005500    0.007500    0.011300  ...    0.000000   \n",
       "25%      0.080900    0.080425    0.097025    0.111275  ...    0.008425   \n",
       "50%      0.106950    0.112100    0.152250    0.182400  ...    0.013900   \n",
       "75%      0.154000    0.169600    0.233425    0.268700  ...    0.020825   \n",
       "max      0.372900    0.459000    0.682800    0.710600  ...    0.100400   \n",
       "\n",
       "               51          52          53          54          55          56  \\\n",
       "count  208.000000  208.000000  208.000000  208.000000  208.000000  208.000000   \n",
       "mean     0.013420    0.010709    0.010941    0.009290    0.008222    0.007820   \n",
       "std      0.009634    0.007060    0.007301    0.007088    0.005736    0.005785   \n",
       "min      0.000800    0.000500    0.001000    0.000600    0.000400    0.000300   \n",
       "25%      0.007275    0.005075    0.005375    0.004150    0.004400    0.003700   \n",
       "50%      0.011400    0.009550    0.009300    0.007500    0.006850    0.005950   \n",
       "75%      0.016725    0.014900    0.014500    0.012100    0.010575    0.010425   \n",
       "max      0.070900    0.039000    0.035200    0.044700    0.039400    0.035500   \n",
       "\n",
       "               57          58          59  \n",
       "count  208.000000  208.000000  208.000000  \n",
       "mean     0.007949    0.007941    0.006507  \n",
       "std      0.006470    0.006181    0.005031  \n",
       "min      0.000300    0.000100    0.000600  \n",
       "25%      0.003600    0.003675    0.003100  \n",
       "50%      0.005800    0.006400    0.005300  \n",
       "75%      0.010350    0.010325    0.008525  \n",
       "max      0.044000    0.036400    0.043900  \n",
       "\n",
       "[8 rows x 60 columns]"
      ]
     },
     "metadata": {},
     "output_type": "display_data"
    },
    {
     "data": {
      "image/png": "[encoded data removed]",
      "text/plain": [
       "<Figure size 640x480 with 64 Axes>"
      ]
     },
     "metadata": {},
     "output_type": "display_data"
    }
   ],
   "source": [
    "# load and summarize the sonar dataset \n",
    "from pandas import read_csv\n",
    "from matplotlib import pyplot \n",
    "\n",
    "# load dataset\n",
    "path_sonar_data = \"https://raw.githubusercontent.com/jbrownlee/Datasets/master/sonar.csv\"\n",
    "dataset = read_csv(path_sonar_data, header=None) \n",
    "\n",
    "# summarize the shape of the dataset \n",
    "print(dataset.shape)\n",
    "\n",
    "# summarize each variable \n",
    "display(dataset.describe())\n",
    "\n",
    "# histograms of the variables\n",
    "fig = dataset.hist(xlabelsize=4, ylabelsize=4) \n",
    "[x.title.set_size(4) for x in fig.ravel()]\n",
    "# show the plot \n",
    "pyplot.show()\n"
   ]
  },
  {
   "cell_type": "markdown",
   "id": "3f65a2f4-cbe0-419c-8eb0-1bd94b2dad7d",
   "metadata": {},
   "source": [
    "Next, let’s fit and evaluate a machine learning model on the raw dataset. <br>We will use a k-nearest neighbor algorithm with default hyperparameters and evaluate it using repeated stratified k-fold cross-validation. <br>The complete example is listed below."
   ]
  },
  {
   "cell_type": "code",
   "execution_count": 20,
   "id": "2d00d03b-8efa-49dd-b39e-17955c159756",
   "metadata": {},
   "outputs": [
    {
     "name": "stdout",
     "output_type": "stream",
     "text": [
      "Accuracy: 0.797 (0.073)\n"
     ]
    }
   ],
   "source": [
    "# evaluate knn on the raw sonar dataset \n",
    "from numpy import mean\n",
    "from numpy import std\n",
    "from pandas import read_csv\n",
    "from sklearn.model_selection import cross_val_score\n",
    "from sklearn.model_selection import RepeatedStratifiedKFold \n",
    "from sklearn.neighbors import KNeighborsClassifier\n",
    "from sklearn.preprocessing import LabelEncoder \n",
    "\n",
    "# load dataset\n",
    "path_sonar_data = \"https://raw.githubusercontent.com/jbrownlee/Datasets/master/sonar.csv\"\n",
    "dataset = read_csv(path_sonar_data, header=None) \n",
    "data = dataset.values\n",
    "\n",
    "# separate into input and output columns \n",
    "X, y = data[:, :-1], data[:, -1]\n",
    "\n",
    "# ensure inputs are floats and output is an integer label\n",
    "X = X.astype('float32')\n",
    "y  =  LabelEncoder().fit_transform(y.astype('str')) \n",
    "\n",
    "# define and configure the model\n",
    "model = KNeighborsClassifier()\n",
    "\n",
    "# evaluate the model\n",
    "cv = RepeatedStratifiedKFold(n_splits=10, n_repeats=3, random_state=1)\n",
    "n_scores = cross_val_score(model, X, y, scoring='accuracy', cv=cv, n_jobs=-1)\n",
    "\n",
    "# report model performance\n",
    "print('Accuracy: %.3f (%.3f)' % (mean(n_scores), std(n_scores)))"
   ]
  },
  {
   "cell_type": "markdown",
   "id": "99f4a680-e4b1-45bb-998a-69c63bafa040",
   "metadata": {},
   "source": [
    "#### Box-Cox Transform"
   ]
  },
  {
   "cell_type": "markdown",
   "id": "767c3671-e591-4ae9-b40d-14ba44f14234",
   "metadata": {},
   "source": [
    "📈 **Box-Cox Transform**\n",
    "- **Strictly positive values only** (no 0 or negatives).\n",
    "- Error if used on raw sonar data (contains 0s).\n",
    "- Solution: Use MinMaxScaler before PowerTransformer(method='box-cox')."
   ]
  },
  {
   "cell_type": "code",
   "execution_count": 21,
   "id": "6e61d85e-89c4-4b9b-a064-b9e030b1945b",
   "metadata": {},
   "outputs": [
    {
     "data": {
      "image/png": "[encoded data removed]",
      "text/plain": [
       "<Figure size 640x480 with 64 Axes>"
      ]
     },
     "metadata": {},
     "output_type": "display_data"
    }
   ],
   "source": [
    "# visualize a box-cox transform of the scaled sonar dataset \n",
    "from pandas import read_csv\n",
    "from pandas import DataFrame\n",
    "from sklearn.preprocessing import PowerTransformer \n",
    "from sklearn.preprocessing import MinMaxScaler \n",
    "from sklearn.pipeline import Pipeline\n",
    "from matplotlib import pyplot \n",
    "\n",
    "# Load dataset\n",
    "path_sonar_data = \"https://raw.githubusercontent.com/jbrownlee/Datasets/master/sonar.csv\"\n",
    "dataset = read_csv(path_sonar_data, header=None) \n",
    "\n",
    "# retrieve just the numeric input values \n",
    "data = dataset.values[:, :-1]\n",
    "\n",
    "# perform a box-cox transform of the dataset \n",
    "scaler = MinMaxScaler(feature_range=(1, 2)) \n",
    "power = PowerTransformer(method='box-cox')\n",
    "pipeline = Pipeline(steps=[('s', scaler),('p', power)]) \n",
    "data = pipeline.fit_transform(data)\n",
    "\n",
    "# convert the array back to a dataframe \n",
    "dataset = DataFrame(data)\n",
    "\n",
    "# histograms of the variables\n",
    "fig = dataset.hist(xlabelsize=4, ylabelsize=4)\n",
    "[x.title.set_size(4) for x in fig.ravel()] \n",
    "\n",
    "# show the plot\n",
    "pyplot.show()"
   ]
  },
  {
   "cell_type": "markdown",
   "id": "7a15a2a4-3501-4f76-a5ac-cc290254e441",
   "metadata": {},
   "source": [
    "Running the example transforms the dataset and plots histograms of each input variable. We can see that the shape of the histograms for each variable looks more Gaussian than the raw data."
   ]
  },
  {
   "cell_type": "markdown",
   "id": "46a9cca1-8678-46c0-8c37-49962419c19e",
   "metadata": {},
   "source": [
    "Next, let’s evaluate the same KNN model as the previous section, but in this case on a Box-Cox transform of the scaled dataset. The complete example is listed below."
   ]
  },
  {
   "cell_type": "code",
   "execution_count": 22,
   "id": "237f3ccb-962f-49e6-bdbb-9e8685317569",
   "metadata": {},
   "outputs": [
    {
     "name": "stdout",
     "output_type": "stream",
     "text": [
      "Accuracy: 0.811 (0.085)\n"
     ]
    }
   ],
   "source": [
    "# evaluate knn on the box-cox sonar dataset \n",
    "from numpy import mean\n",
    "from numpy import std\n",
    "from pandas import read_csv\n",
    "from sklearn.model_selection import cross_val_score\n",
    "from sklearn.model_selection import RepeatedStratifiedKFold \n",
    "from sklearn.neighbors import KNeighborsClassifier\n",
    "from sklearn.preprocessing import LabelEncoder \n",
    "from sklearn.preprocessing import PowerTransformer\n",
    "from sklearn.preprocessing import MinMaxScaler\n",
    "from sklearn.pipeline import Pipeline \n",
    "\n",
    "# load dataset\n",
    "path_sonar_data = \"https://raw.githubusercontent.com/jbrownlee/Datasets/master/sonar.csv\"\n",
    "dataset = read_csv(path_sonar_data, header=None) \n",
    "data = dataset.values\n",
    "\n",
    "# separate into input and output columns \n",
    "X, y = data[:, :-1], data[:, -1]\n",
    "\n",
    "# ensure inputs are floats and output is an integer label\n",
    "X = X.astype('float32')\n",
    "y  =  LabelEncoder().fit_transform(y.astype('str')) \n",
    "\n",
    "# define the pipeline\n",
    "scaler = MinMaxScaler(feature_range=(1, 2)) \n",
    "power = PowerTransformer(method='box-cox') \n",
    "model = KNeighborsClassifier()\n",
    "pipeline = Pipeline(steps=[('s', scaler),('p', power), ('m', model)]) \n",
    "\n",
    "# evaluate the pipeline\n",
    "cv = RepeatedStratifiedKFold(n_splits=10, n_repeats=3, random_state=1)\n",
    "n_scores = cross_val_score(pipeline, X, y, scoring='accuracy', cv=cv, n_jobs=-1) \n",
    "\n",
    "# report pipeline performance\n",
    "print('Accuracy: %.3f (%.3f)' % (mean(n_scores), std(n_scores)))"
   ]
  },
  {
   "cell_type": "markdown",
   "id": "834df3f3-457b-459b-b7fc-de8561f9fba8",
   "metadata": {},
   "source": [
    "Running the example, we can see that the Box-Cox transform results in a lift in performance from 79.7 percent accuracy without the transform to about 81.1 percent with the transform."
   ]
  },
  {
   "cell_type": "markdown",
   "id": "a07213e1-6cdb-4fd0-a213-c87d9fd5b2d2",
   "metadata": {},
   "source": [
    "#### Yeo-Johnson Transform"
   ]
  },
  {
   "cell_type": "markdown",
   "id": "7de99242-54d9-4d3d-83ed-5f5f8bffad7a",
   "metadata": {},
   "source": [
    "📉 **Yeo-Johnson Transform**\n",
    "- **Supports 0 and negative values.**\n",
    "- No need to scale before applying.\n",
    "- Further boost with standardization before Yeo-Johnson"
   ]
  },
  {
   "cell_type": "code",
   "execution_count": 23,
   "id": "60b5449a-e378-4e62-8ccf-c9899bdd66fa",
   "metadata": {},
   "outputs": [
    {
     "data": {
      "image/png": "[encoded data removed]",
      "text/plain": [
       "<Figure size 640x480 with 64 Axes>"
      ]
     },
     "metadata": {},
     "output_type": "display_data"
    }
   ],
   "source": [
    "# visualize a yeo-johnson transform of the sonar dataset \n",
    "from pandas import read_csv\n",
    "from pandas import DataFrame\n",
    "from sklearn.preprocessing import PowerTransformer \n",
    "from matplotlib import pyplot\n",
    "\n",
    "# Load dataset\n",
    "path_sonar_data = \"https://raw.githubusercontent.com/jbrownlee/Datasets/master/sonar.csv\"\n",
    "dataset = read_csv(path_sonar_data, header=None)\n",
    "\n",
    "# retrieve just the numeric input values \n",
    "data = dataset.values[:, :-1]\n",
    "\n",
    "# perform a yeo-johnson transform of the dataset \n",
    "pt = PowerTransformer(method='yeo-johnson')\n",
    "data = pt.fit_transform(data)\n",
    "\n",
    "# convert the array back to a dataframe \n",
    "dataset = DataFrame(data)\n",
    "\n",
    "# histograms of the variables\n",
    "fig = dataset.hist(xlabelsize=4, ylabelsize=4) \n",
    "[x.title.set_size(4)  for  x  in  fig.ravel()]\n",
    "\n",
    "# show the plot \n",
    "pyplot.show()"
   ]
  },
  {
   "cell_type": "markdown",
   "id": "4eff3ddf-2f36-4f70-b822-b7dc4eeb687f",
   "metadata": {},
   "source": [
    "Running the example transforms the dataset and plots histograms of each input variable. We can see that the shape of the histograms for each variable look more Gaussian than the raw data, much like the Box-Cox transform."
   ]
  },
  {
   "cell_type": "markdown",
   "id": "1b60109e-0bc5-4ecc-9756-a8a797b6ad87",
   "metadata": {},
   "source": [
    "Next, let’s evaluate the same KNN model as the previous section, but in this case on a Yeo-Johnson transform of the raw dataset. The complete example is listed below."
   ]
  },
  {
   "cell_type": "code",
   "execution_count": 24,
   "id": "f7135929-dc10-4f69-9c06-3ab785bad8e4",
   "metadata": {},
   "outputs": [
    {
     "name": "stdout",
     "output_type": "stream",
     "text": [
      "Accuracy: 0.808 (0.082)\n"
     ]
    }
   ],
   "source": [
    "# evaluate knn on the yeo-johnson sonar dataset \n",
    "from numpy import mean\n",
    "from numpy import std\n",
    "from pandas import read_csv\n",
    "from sklearn.model_selection import cross_val_score\n",
    "from sklearn.model_selection import RepeatedStratifiedKFold \n",
    "from sklearn.neighbors import KNeighborsClassifier\n",
    "from sklearn.preprocessing import LabelEncoder \n",
    "from sklearn.preprocessing import PowerTransformer \n",
    "from sklearn.pipeline import Pipeline\n",
    "\n",
    "# load dataset\n",
    "path_sonar_data = \"https://raw.githubusercontent.com/jbrownlee/Datasets/master/sonar.csv\"\n",
    "dataset = read_csv(path_sonar_data, header=None)\n",
    "data = dataset.values\n",
    "\n",
    "# separate into input and output columns \n",
    "X, y = data[:, :-1], data[:, -1]\n",
    "\n",
    "# ensure inputs are floats and output is an integer label\n",
    "X = X.astype('float32')\n",
    "y  =  LabelEncoder().fit_transform(y.astype('str')) \n",
    "\n",
    "# define the pipeline\n",
    "power = PowerTransformer(method='yeo-johnson') \n",
    "model = KNeighborsClassifier()\n",
    "pipeline = Pipeline(steps=[('p', power), ('m', model)])\n",
    "\n",
    "# evaluate the pipeline\n",
    "cv = RepeatedStratifiedKFold(n_splits=10, n_repeats=3, random_state=1)\n",
    "n_scores = cross_val_score(pipeline, X, y, scoring='accuracy', cv=cv, n_jobs=-1) \n",
    "\n",
    "# report pipeline performance\n",
    "print('Accuracy: %.3f (%.3f)' % (mean(n_scores), std(n_scores)))"
   ]
  },
  {
   "cell_type": "markdown",
   "id": "6246c59e-d786-400d-bc03-ea64d8695e74",
   "metadata": {},
   "source": [
    "Running the example, we can see that the Yeo-Johnson transform results in a lift in performance from 79.7 percent accuracy without the transform to about 80.8 percent with the transform, less than the Box-Cox transform that achieved about 81.1 percent."
   ]
  },
  {
   "cell_type": "markdown",
   "id": "5982b84d-889d-4f53-90d8-37bd1a24021d",
   "metadata": {},
   "source": [
    "Sometimes a lift in performance can be achieved by first standardizing the raw dataset prior to performing a Yeo-Johnson transform. We can explore this **by adding a StandardScaler** as a first step in the pipeline. The complete example is listed below."
   ]
  },
  {
   "cell_type": "code",
   "execution_count": 25,
   "id": "3b86c4e8-4afa-405f-875e-48cda44d4f0e",
   "metadata": {},
   "outputs": [
    {
     "name": "stdout",
     "output_type": "stream",
     "text": [
      "Accuracy: 0.816 (0.077)\n"
     ]
    }
   ],
   "source": [
    "#evaluate knn on the yeo-johnson standardized sonar dataset \n",
    "from numpy import mean\n",
    "from numpy import std\n",
    "from pandas import read_csv\n",
    "from sklearn.model_selection import cross_val_score\n",
    "from sklearn.model_selection import RepeatedStratifiedKFold \n",
    "from sklearn.neighbors import KNeighborsClassifier\n",
    "from sklearn.preprocessing import LabelEncoder \n",
    "from sklearn.preprocessing import PowerTransformer \n",
    "from sklearn.preprocessing import StandardScaler \n",
    "from sklearn.pipeline import Pipeline\n",
    "\n",
    "# load dataset\n",
    "path_sonar_data = \"https://raw.githubusercontent.com/jbrownlee/Datasets/master/sonar.csv\"\n",
    "dataset = read_csv(path_sonar_data, header=None)\n",
    "data = dataset.values\n",
    "\n",
    "# separate into input and output columns \n",
    "X, y = data[:, :-1], data[:, -1]\n",
    "\n",
    "# ensure inputs are floats and output is an integer label\n",
    "X = X.astype('float32')\n",
    "y  =  LabelEncoder().fit_transform(y.astype('str'))\n",
    "\n",
    "# define the pipeline\n",
    "scaler = StandardScaler()\n",
    "power = PowerTransformer(method='yeo-johnson') \n",
    "model = KNeighborsClassifier()\n",
    "pipeline = Pipeline(steps=[('s', scaler), ('p', power), ('m', model)]) \n",
    "\n",
    "# evaluate the pipeline\n",
    "cv = RepeatedStratifiedKFold(n_splits=10, n_repeats=3, random_state=1)\n",
    "n_scores = cross_val_score(pipeline, X, y, scoring='accuracy', cv=cv, n_jobs=-1) \n",
    "\n",
    "# report pipeline performance\n",
    "print('Accuracy: %.3f (%.3f)' % (mean(n_scores), std(n_scores)))"
   ]
  },
  {
   "cell_type": "markdown",
   "id": "1ab87336-0782-4665-af45-1b32327ba242",
   "metadata": {},
   "source": [
    "## How to Change Numerical Data Distributions"
   ]
  },
  {
   "cell_type": "markdown",
   "id": "1bcfc2ab-19d1-4246-bd09-55cef87038ec",
   "metadata": {},
   "source": [
    "🧠 **Core Idea**\n",
    "- **Machine learning algorithms often perform better** with **numerical features following a standard distribution**, like **Gaussian (normal)** or **uniform**."
   ]
  },
  {
   "cell_type": "markdown",
   "id": "35060330-2620-4fbf-a8d5-cde3276d5179",
   "metadata": {},
   "source": [
    "🔁 **Why Change Data Distributions?**<br>\n",
    "- Real-world data often has:<br>\n",
    "o\t**Skewed distributions** (e.g., exponential)<br>\n",
    "o\t**Outliers**<br>\n",
    "o\t**Multi-modal distributions**<br>\n",
    "- Algorithms like **linear/logistic regression** assume Gaussian inputs.\n",
    "- Even non-linear models **can benefit from normalized inputs**."
   ]
  },
  {
   "cell_type": "markdown",
   "id": "a981cb48-635c-4617-bf1e-82edc22bec27",
   "metadata": {},
   "source": [
    "🔧 **Quantile Transform**\n",
    "- **Goal**: Map any distribution to **Gaussian** or **uniform**.\n",
    "- Uses **Quantile Function (inverse CDF)**.\n",
    "- Implemented in **scikit-learn** via QuantileTransformer.<br><br>\n",
    "**Parameters**:\n",
    "- **output_distribution**: 'normal' or 'uniform'\n",
    "- **n_quantiles**: resolution of mapping (default: 1000; must be < sample size)"
   ]
  },
  {
   "cell_type": "markdown",
   "id": "02454431-e2c2-4089-a556-19af6740b51a",
   "metadata": {},
   "source": [
    "🧪 **Insights**<br>\n",
    "- **Quantile transforms**:<br>\n",
    "o\tImprove **data distribution**<br>\n",
    "o\tBoost **model performance**<br>\n",
    "- **Tuning n_quantiles** is important:<br>\n",
    "o\tLower values may yield **higher accuracy**<br>\n",
    "o\t**Explore different values & distributions**<br>"
   ]
  },
  {
   "cell_type": "markdown",
   "id": "b81c0f09-0e0e-4a0d-a866-5ccf4c67a19b",
   "metadata": {},
   "source": [
    "✅ **Key Takeaways**\n",
    "- Normalize data using quantile transforms for better learning.\n",
    "- Try both **normal** and **uniform** output distributions.\n",
    "- Always **experiment with n_quantiles** to optimize performance."
   ]
  },
  {
   "cell_type": "markdown",
   "id": "a0b01be6-582d-4a51-bd80-ce5bc6feaa75",
   "metadata": {},
   "source": [
    "#### Quantile Transforms"
   ]
  },
  {
   "cell_type": "markdown",
   "id": "4e08dbc0-d0b4-4244-b5b5-cc3a3b294638",
   "metadata": {},
   "source": [
    "🔧 **Quantile Transform**\n",
    "- **Goal**: Map any distribution to **Gaussian** or **uniform**.\n",
    "- Uses **Quantile Function (inverse CDF)**.\n",
    "- Implemented in **scikit-learn** via QuantileTransformer.<br><br>\n",
    "**Parameters**:\n",
    "- **output_distribution**: 'normal' or 'uniform'\n",
    "- **n_quantiles**: resolution of mapping (default: 1000; must be < sample size)"
   ]
  },
  {
   "cell_type": "code",
   "execution_count": 26,
   "id": "6bf5bb2c-11ea-4640-840a-3c2a5a8971f3",
   "metadata": {},
   "outputs": [
    {
     "data": {
      "image/png": "[encoded data removed]",
      "text/plain": [
       "<Figure size 640x480 with 1 Axes>"
      ]
     },
     "metadata": {},
     "output_type": "display_data"
    },
    {
     "data": {
      "image/png": "[encoded data removed]",
      "text/plain": [
       "<Figure size 640x480 with 1 Axes>"
      ]
     },
     "metadata": {},
     "output_type": "display_data"
    }
   ],
   "source": [
    "# demonstration of the quantile transform \n",
    "from numpy import exp\n",
    "from numpy.random import randn\n",
    "from sklearn.preprocessing import QuantileTransformer \n",
    "from matplotlib import pyplot\n",
    "\n",
    "# generate gaussian data sample\n",
    "data = randn(1000)\n",
    "\n",
    "# add a skew to the data distribution \n",
    "data = exp(data)\n",
    "\n",
    "# histogram of the raw data with a skew \n",
    "pyplot.hist(data,  bins=25) \n",
    "pyplot.show()\n",
    "\n",
    "# reshape data to have rows and columns \n",
    "data  =  data.reshape((len(data),1))\n",
    "\n",
    "# quantile transform the raw data\n",
    "quantile = QuantileTransformer(output_distribution='normal') \n",
    "data_trans = quantile.fit_transform(data)\n",
    "\n",
    "# histogram of the transformed data \n",
    "pyplot.hist(data_trans, bins=25) \n",
    "pyplot.show()"
   ]
  },
  {
   "cell_type": "markdown",
   "id": "a64f4a34-d003-4470-abb8-41155e6b0ec9",
   "metadata": {},
   "source": [
    "Running the example first creates a sample of 1,000 random Gaussian values and adds a skew to the dataset. A histogram is created from the skewed dataset and clearly shows the distribution pushed to the far left."
   ]
  },
  {
   "cell_type": "markdown",
   "id": "14656aba-2c59-4a35-85e2-f56a65e5a0f3",
   "metadata": {},
   "source": [
    "Then a QuantileTransformer is used to map the data to a Gaussian distribution and standardize the result, centering the values on the mean value of 0 and a standard deviation of 1.0. A histogram of the transform data is created showing a Gaussian shaped data distribution."
   ]
  },
  {
   "cell_type": "markdown",
   "id": "4f4ce7f7-33a9-4365-8428-405751ba34b7",
   "metadata": {},
   "source": [
    "#### Sonar dataset"
   ]
  },
  {
   "cell_type": "markdown",
   "id": "28957b3f-0b02-42f7-813a-5925332f7d1f",
   "metadata": {},
   "source": [
    "The sonar dataset is a standard machine learning dataset for binary classification. It involves 60 real-valued inputs and a two-class target variable. There are 208 examples in the dataset and the classes are reasonably balanced. A baseline classification algorithm can achieve a classification accuracy of about 53.4 percent using repeated stratified 10-fold cross-validation. Top performance on this dataset is about 88 percent using repeated stratified 10-fold cross- validation. The dataset describes sonar returns of rocks or simulated mines. "
   ]
  },
  {
   "cell_type": "code",
   "execution_count": 27,
   "id": "f812f729-b914-47ef-ba13-17ec6f9dbb64",
   "metadata": {},
   "outputs": [
    {
     "name": "stdout",
     "output_type": "stream",
     "text": [
      "(208, 61)\n"
     ]
    },
    {
     "data": {
      "text/html": [
       "<div>\n",
       "<style scoped>\n",
       "    .dataframe tbody tr th:only-of-type {\n",
       "        vertical-align: middle;\n",
       "    }\n",
       "\n",
       "    .dataframe tbody tr th {\n",
       "        vertical-align: top;\n",
       "    }\n",
       "\n",
       "    .dataframe thead th {\n",
       "        text-align: right;\n",
       "    }\n",
       "</style>\n",
       "<table border=\"1\" class=\"dataframe\">\n",
       "  <thead>\n",
       "    <tr style=\"text-align: right;\">\n",
       "      <th></th>\n",
       "      <th>0</th>\n",
       "      <th>1</th>\n",
       "      <th>2</th>\n",
       "      <th>3</th>\n",
       "      <th>4</th>\n",
       "      <th>5</th>\n",
       "      <th>6</th>\n",
       "      <th>7</th>\n",
       "      <th>8</th>\n",
       "      <th>9</th>\n",
       "      <th>...</th>\n",
       "      <th>50</th>\n",
       "      <th>51</th>\n",
       "      <th>52</th>\n",
       "      <th>53</th>\n",
       "      <th>54</th>\n",
       "      <th>55</th>\n",
       "      <th>56</th>\n",
       "      <th>57</th>\n",
       "      <th>58</th>\n",
       "      <th>59</th>\n",
       "    </tr>\n",
       "  </thead>\n",
       "  <tbody>\n",
       "    <tr>\n",
       "      <th>count</th>\n",
       "      <td>208.000000</td>\n",
       "      <td>208.000000</td>\n",
       "      <td>208.000000</td>\n",
       "      <td>208.000000</td>\n",
       "      <td>208.000000</td>\n",
       "      <td>208.000000</td>\n",
       "      <td>208.000000</td>\n",
       "      <td>208.000000</td>\n",
       "      <td>208.000000</td>\n",
       "      <td>208.000000</td>\n",
       "      <td>...</td>\n",
       "      <td>208.000000</td>\n",
       "      <td>208.000000</td>\n",
       "      <td>208.000000</td>\n",
       "      <td>208.000000</td>\n",
       "      <td>208.000000</td>\n",
       "      <td>208.000000</td>\n",
       "      <td>208.000000</td>\n",
       "      <td>208.000000</td>\n",
       "      <td>208.000000</td>\n",
       "      <td>208.000000</td>\n",
       "    </tr>\n",
       "    <tr>\n",
       "      <th>mean</th>\n",
       "      <td>0.029164</td>\n",
       "      <td>0.038437</td>\n",
       "      <td>0.043832</td>\n",
       "      <td>0.053892</td>\n",
       "      <td>0.075202</td>\n",
       "      <td>0.104570</td>\n",
       "      <td>0.121747</td>\n",
       "      <td>0.134799</td>\n",
       "      <td>0.178003</td>\n",
       "      <td>0.208259</td>\n",
       "      <td>...</td>\n",
       "      <td>0.016069</td>\n",
       "      <td>0.013420</td>\n",
       "      <td>0.010709</td>\n",
       "      <td>0.010941</td>\n",
       "      <td>0.009290</td>\n",
       "      <td>0.008222</td>\n",
       "      <td>0.007820</td>\n",
       "      <td>0.007949</td>\n",
       "      <td>0.007941</td>\n",
       "      <td>0.006507</td>\n",
       "    </tr>\n",
       "    <tr>\n",
       "      <th>std</th>\n",
       "      <td>0.022991</td>\n",
       "      <td>0.032960</td>\n",
       "      <td>0.038428</td>\n",
       "      <td>0.046528</td>\n",
       "      <td>0.055552</td>\n",
       "      <td>0.059105</td>\n",
       "      <td>0.061788</td>\n",
       "      <td>0.085152</td>\n",
       "      <td>0.118387</td>\n",
       "      <td>0.134416</td>\n",
       "      <td>...</td>\n",
       "      <td>0.012008</td>\n",
       "      <td>0.009634</td>\n",
       "      <td>0.007060</td>\n",
       "      <td>0.007301</td>\n",
       "      <td>0.007088</td>\n",
       "      <td>0.005736</td>\n",
       "      <td>0.005785</td>\n",
       "      <td>0.006470</td>\n",
       "      <td>0.006181</td>\n",
       "      <td>0.005031</td>\n",
       "    </tr>\n",
       "    <tr>\n",
       "      <th>min</th>\n",
       "      <td>0.001500</td>\n",
       "      <td>0.000600</td>\n",
       "      <td>0.001500</td>\n",
       "      <td>0.005800</td>\n",
       "      <td>0.006700</td>\n",
       "      <td>0.010200</td>\n",
       "      <td>0.003300</td>\n",
       "      <td>0.005500</td>\n",
       "      <td>0.007500</td>\n",
       "      <td>0.011300</td>\n",
       "      <td>...</td>\n",
       "      <td>0.000000</td>\n",
       "      <td>0.000800</td>\n",
       "      <td>0.000500</td>\n",
       "      <td>0.001000</td>\n",
       "      <td>0.000600</td>\n",
       "      <td>0.000400</td>\n",
       "      <td>0.000300</td>\n",
       "      <td>0.000300</td>\n",
       "      <td>0.000100</td>\n",
       "      <td>0.000600</td>\n",
       "    </tr>\n",
       "    <tr>\n",
       "      <th>25%</th>\n",
       "      <td>0.013350</td>\n",
       "      <td>0.016450</td>\n",
       "      <td>0.018950</td>\n",
       "      <td>0.024375</td>\n",
       "      <td>0.038050</td>\n",
       "      <td>0.067025</td>\n",
       "      <td>0.080900</td>\n",
       "      <td>0.080425</td>\n",
       "      <td>0.097025</td>\n",
       "      <td>0.111275</td>\n",
       "      <td>...</td>\n",
       "      <td>0.008425</td>\n",
       "      <td>0.007275</td>\n",
       "      <td>0.005075</td>\n",
       "      <td>0.005375</td>\n",
       "      <td>0.004150</td>\n",
       "      <td>0.004400</td>\n",
       "      <td>0.003700</td>\n",
       "      <td>0.003600</td>\n",
       "      <td>0.003675</td>\n",
       "      <td>0.003100</td>\n",
       "    </tr>\n",
       "    <tr>\n",
       "      <th>50%</th>\n",
       "      <td>0.022800</td>\n",
       "      <td>0.030800</td>\n",
       "      <td>0.034300</td>\n",
       "      <td>0.044050</td>\n",
       "      <td>0.062500</td>\n",
       "      <td>0.092150</td>\n",
       "      <td>0.106950</td>\n",
       "      <td>0.112100</td>\n",
       "      <td>0.152250</td>\n",
       "      <td>0.182400</td>\n",
       "      <td>...</td>\n",
       "      <td>0.013900</td>\n",
       "      <td>0.011400</td>\n",
       "      <td>0.009550</td>\n",
       "      <td>0.009300</td>\n",
       "      <td>0.007500</td>\n",
       "      <td>0.006850</td>\n",
       "      <td>0.005950</td>\n",
       "      <td>0.005800</td>\n",
       "      <td>0.006400</td>\n",
       "      <td>0.005300</td>\n",
       "    </tr>\n",
       "    <tr>\n",
       "      <th>75%</th>\n",
       "      <td>0.035550</td>\n",
       "      <td>0.047950</td>\n",
       "      <td>0.057950</td>\n",
       "      <td>0.064500</td>\n",
       "      <td>0.100275</td>\n",
       "      <td>0.134125</td>\n",
       "      <td>0.154000</td>\n",
       "      <td>0.169600</td>\n",
       "      <td>0.233425</td>\n",
       "      <td>0.268700</td>\n",
       "      <td>...</td>\n",
       "      <td>0.020825</td>\n",
       "      <td>0.016725</td>\n",
       "      <td>0.014900</td>\n",
       "      <td>0.014500</td>\n",
       "      <td>0.012100</td>\n",
       "      <td>0.010575</td>\n",
       "      <td>0.010425</td>\n",
       "      <td>0.010350</td>\n",
       "      <td>0.010325</td>\n",
       "      <td>0.008525</td>\n",
       "    </tr>\n",
       "    <tr>\n",
       "      <th>max</th>\n",
       "      <td>0.137100</td>\n",
       "      <td>0.233900</td>\n",
       "      <td>0.305900</td>\n",
       "      <td>0.426400</td>\n",
       "      <td>0.401000</td>\n",
       "      <td>0.382300</td>\n",
       "      <td>0.372900</td>\n",
       "      <td>0.459000</td>\n",
       "      <td>0.682800</td>\n",
       "      <td>0.710600</td>\n",
       "      <td>...</td>\n",
       "      <td>0.100400</td>\n",
       "      <td>0.070900</td>\n",
       "      <td>0.039000</td>\n",
       "      <td>0.035200</td>\n",
       "      <td>0.044700</td>\n",
       "      <td>0.039400</td>\n",
       "      <td>0.035500</td>\n",
       "      <td>0.044000</td>\n",
       "      <td>0.036400</td>\n",
       "      <td>0.043900</td>\n",
       "    </tr>\n",
       "  </tbody>\n",
       "</table>\n",
       "<p>8 rows × 60 columns</p>\n",
       "</div>"
      ],
      "text/plain": [
       "               0           1           2           3           4           5   \\\n",
       "count  208.000000  208.000000  208.000000  208.000000  208.000000  208.000000   \n",
       "mean     0.029164    0.038437    0.043832    0.053892    0.075202    0.104570   \n",
       "std      0.022991    0.032960    0.038428    0.046528    0.055552    0.059105   \n",
       "min      0.001500    0.000600    0.001500    0.005800    0.006700    0.010200   \n",
       "25%      0.013350    0.016450    0.018950    0.024375    0.038050    0.067025   \n",
       "50%      0.022800    0.030800    0.034300    0.044050    0.062500    0.092150   \n",
       "75%      0.035550    0.047950    0.057950    0.064500    0.100275    0.134125   \n",
       "max      0.137100    0.233900    0.305900    0.426400    0.401000    0.382300   \n",
       "\n",
       "               6           7           8           9   ...          50  \\\n",
       "count  208.000000  208.000000  208.000000  208.000000  ...  208.000000   \n",
       "mean     0.121747    0.134799    0.178003    0.208259  ...    0.016069   \n",
       "std      0.061788    0.085152    0.118387    0.134416  ...    0.012008   \n",
       "min      0.003300    0.005500    0.007500    0.011300  ...    0.000000   \n",
       "25%      0.080900    0.080425    0.097025    0.111275  ...    0.008425   \n",
       "50%      0.106950    0.112100    0.152250    0.182400  ...    0.013900   \n",
       "75%      0.154000    0.169600    0.233425    0.268700  ...    0.020825   \n",
       "max      0.372900    0.459000    0.682800    0.710600  ...    0.100400   \n",
       "\n",
       "               51          52          53          54          55          56  \\\n",
       "count  208.000000  208.000000  208.000000  208.000000  208.000000  208.000000   \n",
       "mean     0.013420    0.010709    0.010941    0.009290    0.008222    0.007820   \n",
       "std      0.009634    0.007060    0.007301    0.007088    0.005736    0.005785   \n",
       "min      0.000800    0.000500    0.001000    0.000600    0.000400    0.000300   \n",
       "25%      0.007275    0.005075    0.005375    0.004150    0.004400    0.003700   \n",
       "50%      0.011400    0.009550    0.009300    0.007500    0.006850    0.005950   \n",
       "75%      0.016725    0.014900    0.014500    0.012100    0.010575    0.010425   \n",
       "max      0.070900    0.039000    0.035200    0.044700    0.039400    0.035500   \n",
       "\n",
       "               57          58          59  \n",
       "count  208.000000  208.000000  208.000000  \n",
       "mean     0.007949    0.007941    0.006507  \n",
       "std      0.006470    0.006181    0.005031  \n",
       "min      0.000300    0.000100    0.000600  \n",
       "25%      0.003600    0.003675    0.003100  \n",
       "50%      0.005800    0.006400    0.005300  \n",
       "75%      0.010350    0.010325    0.008525  \n",
       "max      0.044000    0.036400    0.043900  \n",
       "\n",
       "[8 rows x 60 columns]"
      ]
     },
     "metadata": {},
     "output_type": "display_data"
    },
    {
     "data": {
      "image/png": "[encoded data removed]",
      "text/plain": [
       "<Figure size 640x480 with 64 Axes>"
      ]
     },
     "metadata": {},
     "output_type": "display_data"
    }
   ],
   "source": [
    "# load and summarize the sonar dataset \n",
    "from pandas import read_csv\n",
    "from matplotlib import pyplot \n",
    "\n",
    "# load dataset\n",
    "path_sonar_data = \"https://raw.githubusercontent.com/jbrownlee/Datasets/master/sonar.csv\"\n",
    "dataset = read_csv(path_sonar_data, header=None) \n",
    "\n",
    "# summarize the shape of the dataset \n",
    "print(dataset.shape)\n",
    "\n",
    "# summarize each variable \n",
    "display(dataset.describe())\n",
    "\n",
    "# histograms of the variables\n",
    "fig = dataset.hist(xlabelsize=4, ylabelsize=4) \n",
    "[x.title.set_size(4) for x in fig.ravel()]\n",
    "# show the plot \n",
    "pyplot.show()"
   ]
  },
  {
   "cell_type": "markdown",
   "id": "9a96ab7a-9741-40b7-b313-a3b57f232308",
   "metadata": {},
   "source": [
    "Next, let’s fit and evaluate a machine learning model on the raw dataset. <br>We will use a k-nearest neighbor algorithm with default hyperparameters and evaluate it using repeated stratified k-fold cross-validation. <br>The complete example is listed below."
   ]
  },
  {
   "cell_type": "code",
   "execution_count": 28,
   "id": "17defbba-0b9e-4d4b-91bd-27e203f6badb",
   "metadata": {},
   "outputs": [
    {
     "name": "stdout",
     "output_type": "stream",
     "text": [
      "Accuracy: 0.797 (0.073)\n"
     ]
    }
   ],
   "source": [
    "# evaluate knn on the raw sonar dataset \n",
    "from numpy import mean\n",
    "from numpy import std\n",
    "from pandas import read_csv\n",
    "from sklearn.model_selection import cross_val_score\n",
    "from sklearn.model_selection import RepeatedStratifiedKFold \n",
    "from sklearn.neighbors import KNeighborsClassifier\n",
    "from sklearn.preprocessing import LabelEncoder \n",
    "\n",
    "# load dataset\n",
    "path_sonar_data = \"https://raw.githubusercontent.com/jbrownlee/Datasets/master/sonar.csv\"\n",
    "dataset = read_csv(path_sonar_data, header=None) \n",
    "data = dataset.values\n",
    "\n",
    "# separate into input and output columns \n",
    "X, y = data[:, :-1], data[:, -1]\n",
    "\n",
    "# ensure inputs are floats and output is an integer label\n",
    "X = X.astype('float32')\n",
    "y  =  LabelEncoder().fit_transform(y.astype('str')) \n",
    "\n",
    "# define and configure the model\n",
    "model = KNeighborsClassifier()\n",
    "\n",
    "# evaluate the model\n",
    "cv = RepeatedStratifiedKFold(n_splits=10, n_repeats=3, random_state=1)\n",
    "n_scores = cross_val_score(model, X, y, scoring='accuracy', cv=cv, n_jobs=-1)\n",
    "\n",
    "# report model performance\n",
    "print('Accuracy: %.3f (%.3f)' % (mean(n_scores), std(n_scores)))"
   ]
  },
  {
   "cell_type": "markdown",
   "id": "87bc5bde-d601-4f39-a9c8-e9da552b3098",
   "metadata": {},
   "source": [
    "#### Normal Quantile Transform"
   ]
  },
  {
   "cell_type": "markdown",
   "id": "f2498f65-4c04-4657-a2d5-8e3824f533a9",
   "metadata": {},
   "source": [
    "It is often desirable to transform an input variable to have a normal probability distribu- tion to improve the modeling performance. We can apply the Quantile transform using the QuantileTransformer class and set the output distribution argument to ‘normal’. We must also set the n quantiles argument to a value less than the number of observations in the training dataset, in this case, 100. Once defined, we can call the fit transform() function and pass it to our dataset to create a quantile transformed version of our dataset."
   ]
  },
  {
   "cell_type": "code",
   "execution_count": 29,
   "id": "d2433249-d04e-4ae0-86c5-add2664d39d4",
   "metadata": {},
   "outputs": [
    {
     "data": {
      "image/png": "[encoded data removed]",
      "text/plain": [
       "<Figure size 640x480 with 64 Axes>"
      ]
     },
     "metadata": {},
     "output_type": "display_data"
    }
   ],
   "source": [
    "# visualize a normal quantile transform of the sonar dataset \n",
    "from pandas import read_csv\n",
    "from pandas import DataFrame\n",
    "from sklearn.preprocessing import QuantileTransformer \n",
    "from matplotlib import pyplot\n",
    "\n",
    "# load dataset\n",
    "path_sonar_data = \"https://raw.githubusercontent.com/jbrownlee/Datasets/master/sonar.csv\"\n",
    "dataset = read_csv(path_sonar_data, header=None) \n",
    "\n",
    "# retrieve just the numeric input values \n",
    "data = dataset.values[:, :-1]\n",
    "\n",
    "# perform a normal quantile transform of the dataset\n",
    "trans = QuantileTransformer(n_quantiles=100, output_distribution='normal') \n",
    "data = trans.fit_transform(data)\n",
    "\n",
    "# convert the array back to a dataframe\n",
    "dataset = DataFrame(data)\n",
    "\n",
    "# histograms of the variables\n",
    "fig = dataset.hist(xlabelsize=4, ylabelsize=4) \n",
    "[x.title.set_size(4) for x in fig.ravel()]\n",
    "\n",
    "# show the plot \n",
    "pyplot.show()"
   ]
  },
  {
   "cell_type": "markdown",
   "id": "f0c00a89-0bd1-4f4d-8aff-9ab90fd87e85",
   "metadata": {},
   "source": [
    "Running the example transforms the dataset and plots histograms of each input variable. We can see that the shape of the histograms for each variable looks very Gaussian as compared to the raw data."
   ]
  },
  {
   "cell_type": "markdown",
   "id": "d2fc1c9e-b2aa-4315-883e-e2851c6327fd",
   "metadata": {},
   "source": [
    "Next, let’s evaluate the same KNN model as the previous section, but in this case on a normal quantile transform of the dataset. The complete example is listed below."
   ]
  },
  {
   "cell_type": "code",
   "execution_count": 30,
   "id": "b195022f-0013-4c2d-b8d8-f1ea47104b1b",
   "metadata": {},
   "outputs": [
    {
     "name": "stdout",
     "output_type": "stream",
     "text": [
      "Accuracy: 0.817 (0.087)\n"
     ]
    }
   ],
   "source": [
    "# evaluate knn on the sonar dataset with normal quantile transform \n",
    "from numpy import mean\n",
    "from numpy import std\n",
    "from pandas import read_csv\n",
    "from sklearn.model_selection import cross_val_score\n",
    "from sklearn.model_selection import RepeatedStratifiedKFold\n",
    "from sklearn.neighbors import KNeighborsClassifier \n",
    "from sklearn.preprocessing import LabelEncoder\n",
    "from sklearn.preprocessing import QuantileTransformer \n",
    "from sklearn.pipeline import Pipeline\n",
    "\n",
    "# load dataset\n",
    "path_sonar_data = \"https://raw.githubusercontent.com/jbrownlee/Datasets/master/sonar.csv\"\n",
    "dataset = read_csv(path_sonar_data, header=None) \n",
    "data = dataset.values\n",
    "\n",
    "# separate into input and output columns \n",
    "X, y = data[:, :-1], data[:, -1]\n",
    "\n",
    "# ensure inputs are floats and output is an integer label\n",
    "X = X.astype('float32')\n",
    "y  =  LabelEncoder().fit_transform(y.astype('str')) \n",
    "\n",
    "# define the pipeline\n",
    "trans = QuantileTransformer(n_quantiles=100, output_distribution='normal')\n",
    "model = KNeighborsClassifier()\n",
    "pipeline = Pipeline(steps=[('t', trans), ('m', model)]) \n",
    "\n",
    "# evaluate the pipeline\n",
    "cv = RepeatedStratifiedKFold(n_splits=10, n_repeats=3, random_state=1)\n",
    "n_scores = cross_val_score(pipeline, X, y, scoring='accuracy', cv=cv, n_jobs=-1) \n",
    "\n",
    "# report pipeline performance\n",
    "print('Accuracy: %.3f (%.3f)' % (mean(n_scores), std(n_scores)))"
   ]
  },
  {
   "cell_type": "markdown",
   "id": "e4b961d0-aebc-4d3e-a2fd-a5350a6705d3",
   "metadata": {},
   "source": [
    "Running the example, we can see that the normal quantile transform results in a lift in performance from 79.7 percent accuracy without the transform to about 81.7 percent with the transform."
   ]
  },
  {
   "cell_type": "markdown",
   "id": "60dd18a0-d74e-4cc7-b27b-3b51e156fadc",
   "metadata": {},
   "source": [
    "#### Uniform Quantile Transform"
   ]
  },
  {
   "cell_type": "markdown",
   "id": "612b82e6-83f2-44d5-980d-e628bfc5f364",
   "metadata": {},
   "source": [
    "Sometimes it can be beneficial to transform a highly exponential or multi-modal distribution to have a uniform distribution. This is especially useful for data with a large and sparse range of values, e.g. outliers that are common rather than rare. We can apply the transform by defining a QuantileTransformer class and setting the output distribution argument to ‘uniform’ (the default)."
   ]
  },
  {
   "cell_type": "code",
   "execution_count": 31,
   "id": "f8bfdd8e-f5b7-4df3-8935-5402f4774830",
   "metadata": {},
   "outputs": [
    {
     "data": {
      "image/png": "[encoded data removed]",
      "text/plain": [
       "<Figure size 640x480 with 64 Axes>"
      ]
     },
     "metadata": {},
     "output_type": "display_data"
    }
   ],
   "source": [
    "# visualize a uniform quantile transform of the sonar dataset \n",
    "from pandas import read_csv\n",
    "from pandas import DataFrame\n",
    "from sklearn.preprocessing import QuantileTransformer \n",
    "from matplotlib import pyplot\n",
    "\n",
    "# load dataset\n",
    "path_sonar_data = \"https://raw.githubusercontent.com/jbrownlee/Datasets/master/sonar.csv\"\n",
    "dataset = read_csv(path_sonar_data, header=None) \n",
    "\n",
    "# retrieve just the numeric input values \n",
    "data = dataset.values[:, :-1]\n",
    "\n",
    "# perform a uniform quantile transform of the dataset\n",
    "trans = QuantileTransformer(n_quantiles=100, output_distribution='uniform') \n",
    "data = trans.fit_transform(data)\n",
    "\n",
    "# convert the array back to a dataframe \n",
    "dataset = DataFrame(data)\n",
    "\n",
    "# histograms of the variables\n",
    "fig = dataset.hist(xlabelsize=4, ylabelsize=4) \n",
    "[x.title.set_size(4)  for  x  in  fig.ravel()]\n",
    "\n",
    "# show the plot \n",
    "pyplot.show()"
   ]
  },
  {
   "cell_type": "markdown",
   "id": "afd5491c-c4b5-454a-9be7-ad1299417f8c",
   "metadata": {},
   "source": [
    "Running the example transforms the dataset and plots histograms of each input variable. We can see that the shape of the histograms for each variable looks very uniform compared to the raw data."
   ]
  },
  {
   "cell_type": "markdown",
   "id": "4fdd900a-fc27-4d4b-937d-451f7eac5933",
   "metadata": {},
   "source": [
    "Next, let’s evaluate the same KNN model as the previous section, but in this case on a uniform quantile transform of the raw dataset. The complete example is listed below."
   ]
  },
  {
   "cell_type": "code",
   "execution_count": 32,
   "id": "8447d4b7-f30b-4592-aac1-9c54d8ceb43e",
   "metadata": {},
   "outputs": [
    {
     "name": "stdout",
     "output_type": "stream",
     "text": [
      "Accuracy: 0.845 (0.074)\n"
     ]
    }
   ],
   "source": [
    "# evaluate knn on the sonar dataset with uniform quantile transform \n",
    "from numpy import mean\n",
    "from numpy import std\n",
    "from pandas import read_csv\n",
    "from sklearn.model_selection import cross_val_score\n",
    "from sklearn.model_selection import RepeatedStratifiedKFold \n",
    "from sklearn.neighbors import KNeighborsClassifier\n",
    "from sklearn.preprocessing import LabelEncoder\n",
    "from sklearn.preprocessing import QuantileTransformer \n",
    "from sklearn.pipeline import Pipeline\n",
    "\n",
    "# load dataset\n",
    "path_sonar_data = \"https://raw.githubusercontent.com/jbrownlee/Datasets/master/sonar.csv\"\n",
    "dataset = read_csv(path_sonar_data, header=None) \n",
    "data = dataset.values\n",
    "\n",
    "# separate into input and output columns \n",
    "X, y = data[:, :-1], data[:, -1]\n",
    "\n",
    "# ensure inputs are floats and output is an integer label\n",
    "X = X.astype('float32')\n",
    "y  =  LabelEncoder().fit_transform(y.astype('str')) \n",
    "\n",
    "# define the pipeline\n",
    "trans = QuantileTransformer(n_quantiles=100, output_distribution='uniform')\n",
    "model  =  KNeighborsClassifier()\n",
    "pipeline = Pipeline(steps=[('t', trans), ('m', model)]) \n",
    "\n",
    "# evaluate the pipeline\n",
    "cv = RepeatedStratifiedKFold(n_splits=10, n_repeats=3, random_state=1)\n",
    "n_scores = cross_val_score(pipeline, X, y, scoring='accuracy', cv=cv, n_jobs=-1) \n",
    "\n",
    "# report pipeline performance\n",
    "print('Accuracy: %.3f (%.3f)' % (mean(n_scores), std(n_scores)))"
   ]
  },
  {
   "cell_type": "markdown",
   "id": "67debd7d-48e0-48cf-bff8-16e1e5c33390",
   "metadata": {},
   "source": [
    "Running the example, we can see that the uniform transform results in a lift in performance from 79.7 percent accuracy without the transform to about 84.5 percent with the transform, better than the normal transform that achieved a score of 81.7 percent."
   ]
  },
  {
   "cell_type": "markdown",
   "id": "132e8422-0a1a-47f8-830f-31b6f987aeb3",
   "metadata": {},
   "source": [
    "We chose the number of quantiles as an arbitrary number, in this case, 100. This hyperpa- rameter can be tuned to explore the effect of the resolution of the transform on the resulting skill of the model. The example below performs this experiment and plots the mean accuracy for different n quantiles values from 1 to 99."
   ]
  },
  {
   "cell_type": "code",
   "execution_count": 33,
   "id": "ca0ede48-26ac-4025-aa1b-cd9ce8b09f8a",
   "metadata": {},
   "outputs": [
    {
     "name": "stdout",
     "output_type": "stream",
     "text": [
      ">1 0.466 (0.016)\n",
      ">2 0.813 (0.085)\n",
      ">3 0.840 (0.080)\n",
      ">4 0.854 (0.075)\n",
      ">5 0.848 (0.072)\n",
      ">6 0.851 (0.071)\n",
      ">7 0.845 (0.071)\n",
      ">8 0.848 (0.066)\n",
      ">9 0.848 (0.071)\n",
      ">10 0.843 (0.074)\n",
      ">11 0.838 (0.069)\n",
      ">12 0.838 (0.069)\n",
      ">13 0.846 (0.071)\n",
      ">14 0.842 (0.071)\n",
      ">15 0.845 (0.068)\n",
      ">16 0.841 (0.074)\n",
      ">17 0.846 (0.071)\n",
      ">18 0.842 (0.075)\n",
      ">19 0.840 (0.075)\n",
      ">20 0.838 (0.076)\n",
      ">21 0.843 (0.071)\n",
      ">22 0.845 (0.073)\n",
      ">23 0.843 (0.068)\n",
      ">24 0.845 (0.072)\n",
      ">25 0.840 (0.077)\n",
      ">26 0.843 (0.072)\n",
      ">27 0.842 (0.073)\n",
      ">28 0.840 (0.076)\n",
      ">29 0.845 (0.072)\n",
      ">30 0.840 (0.075)\n",
      ">31 0.838 (0.076)\n",
      ">32 0.842 (0.075)\n",
      ">33 0.843 (0.074)\n",
      ">34 0.843 (0.075)\n",
      ">35 0.842 (0.075)\n",
      ">36 0.843 (0.073)\n",
      ">37 0.842 (0.075)\n",
      ">38 0.843 (0.075)\n",
      ">39 0.840 (0.076)\n",
      ">40 0.845 (0.074)\n",
      ">41 0.841 (0.072)\n",
      ">42 0.842 (0.075)\n",
      ">43 0.842 (0.074)\n",
      ">44 0.843 (0.074)\n",
      ">45 0.840 (0.076)\n",
      ">46 0.842 (0.075)\n",
      ">47 0.845 (0.072)\n",
      ">48 0.842 (0.073)\n",
      ">49 0.840 (0.073)\n",
      ">50 0.842 (0.072)\n",
      ">51 0.842 (0.075)\n",
      ">52 0.845 (0.071)\n",
      ">53 0.843 (0.075)\n",
      ">54 0.845 (0.074)\n",
      ">55 0.838 (0.076)\n",
      ">56 0.846 (0.073)\n",
      ">57 0.845 (0.073)\n",
      ">58 0.845 (0.075)\n",
      ">59 0.848 (0.073)\n",
      ">60 0.845 (0.074)\n",
      ">61 0.843 (0.073)\n",
      ">62 0.843 (0.074)\n",
      ">63 0.842 (0.075)\n",
      ">64 0.843 (0.073)\n",
      ">65 0.842 (0.074)\n",
      ">66 0.845 (0.074)\n",
      ">67 0.846 (0.075)\n",
      ">68 0.846 (0.072)\n",
      ">69 0.845 (0.076)\n",
      ">70 0.846 (0.075)\n",
      ">71 0.840 (0.075)\n",
      ">72 0.842 (0.074)\n",
      ">73 0.843 (0.073)\n",
      ">74 0.843 (0.075)\n",
      ">75 0.841 (0.075)\n",
      ">76 0.845 (0.074)\n",
      ">77 0.846 (0.074)\n",
      ">78 0.845 (0.076)\n",
      ">79 0.846 (0.072)\n",
      ">80 0.845 (0.075)\n",
      ">81 0.843 (0.073)\n",
      ">82 0.840 (0.076)\n",
      ">83 0.845 (0.075)\n",
      ">84 0.845 (0.074)\n",
      ">85 0.845 (0.074)\n",
      ">86 0.845 (0.076)\n",
      ">87 0.845 (0.075)\n",
      ">88 0.843 (0.075)\n",
      ">89 0.845 (0.074)\n",
      ">90 0.843 (0.075)\n",
      ">91 0.843 (0.074)\n",
      ">92 0.846 (0.074)\n",
      ">93 0.846 (0.075)\n",
      ">94 0.845 (0.076)\n",
      ">95 0.843 (0.074)\n",
      ">96 0.845 (0.074)\n",
      ">97 0.846 (0.073)\n",
      ">98 0.843 (0.073)\n",
      ">99 0.846 (0.075)\n"
     ]
    },
    {
     "data": {
      "image/png": "[encoded data removed]",
      "text/plain": [
       "<Figure size 640x480 with 1 Axes>"
      ]
     },
     "metadata": {},
     "output_type": "display_data"
    }
   ],
   "source": [
    "# explore number of quantiles on classification accuracy \n",
    "from numpy import mean\n",
    "from numpy import std\n",
    "from pandas import read_csv\n",
    "from sklearn.model_selection import cross_val_score\n",
    "from sklearn.model_selection import RepeatedStratifiedKFold \n",
    "from sklearn.neighbors import KNeighborsClassifier\n",
    "from sklearn.preprocessing import QuantileTransformer \n",
    "from sklearn.preprocessing import LabelEncoder\n",
    "from sklearn.pipeline import Pipeline \n",
    "from matplotlib import pyplot\n",
    "\n",
    "# get the dataset\n",
    "def get_dataset(filename):\n",
    "    # load dataset\n",
    "    dataset = read_csv(filename, header=None)\n",
    "    data = dataset.values\n",
    "    # separate into input and output columns \n",
    "    X, y = data[:, :-1], data[:, -1]\n",
    "    # ensure inputs are floats and output is an integer label\n",
    "    X = X.astype('float32')\n",
    "    y = LabelEncoder().fit_transform(y.astype('str')) \n",
    "    return X, y\n",
    "\n",
    "# get a list of models to evaluate\n",
    "def get_models():\n",
    "    models = dict()\n",
    "    for i in range(1,100):\n",
    "        # define the pipeline\n",
    "        trans = QuantileTransformer(n_quantiles=i, output_distribution='uniform') \n",
    "        model = KNeighborsClassifier()\n",
    "        models[str(i)] = Pipeline(steps=[('t', trans), ('m', model)]) \n",
    "    return models\n",
    "\n",
    "# evaluate a given model using cross-validation \n",
    "def evaluate_model(model, X, y):\n",
    "    cv = RepeatedStratifiedKFold(n_splits=10, n_repeats=3, random_state=1) \n",
    "    scores = cross_val_score(model, X, y, scoring='accuracy', cv=cv, n_jobs=-1) \n",
    "    return scores\n",
    "    \n",
    "# define dataset\n",
    "path_sonar_data = \"https://raw.githubusercontent.com/jbrownlee/Datasets/master/sonar.csv\"\n",
    "X, y = get_dataset(path_sonar_data) \n",
    "\n",
    "# get the models to evaluate \n",
    "models = get_models()\n",
    "\n",
    "# evaluate the models and store results \n",
    "results = list()\n",
    "\n",
    "for name, model in models.items():\n",
    "    scores = evaluate_model(model, X, y) \n",
    "    results.append(mean(scores))\n",
    "    print('>%s %.3f (%.3f)' % (name, mean(scores), std(scores))) \n",
    "\n",
    "# plot model performance for comparison\n",
    "pyplot.plot(results) \n",
    "pyplot.show()"
   ]
  },
  {
   "cell_type": "markdown",
   "id": "5ee881d3-cf82-44e1-9c54-22c0cb27dcec",
   "metadata": {},
   "source": [
    "In this case, we can see that surprisingly smaller values resulted in better accuracy, with values such as 4 achieving an accuracy of about 85.4 percent."
   ]
  },
  {
   "cell_type": "markdown",
   "id": "e79ced44-a785-4989-902f-990fe95a0507",
   "metadata": {},
   "source": [
    "A line plot is created showing the number of quantiles used in the transform versus the classification accuracy of the resulting model. We can see a bump with values less than 10 and drop and flat performance after that. <br>**The results highlight that there is likely some benefit in exploring different distributions and number of quantiles to see if better performance can be achieved.**"
   ]
  },
  {
   "cell_type": "markdown",
   "id": "5939be99-e8ba-4463-9ecc-6fa038e71abb",
   "metadata": {},
   "source": [
    "## How to Transform Numerical to Categorical Data"
   ]
  },
  {
   "cell_type": "markdown",
   "id": "3514b2b2-88fd-4eb7-98d4-27a38f191ddc",
   "metadata": {},
   "source": [
    "🔷 **Why Transform Numerical to Categorical (Discretization)?**\n",
    "- Numerical variables may have **skewed or complex distributions** (e.g., outliers, exponential, multi-modal).\n",
    "- **ML models perform better** when inputs have **standard or discrete distributions**.\n",
    "- Some models (e.g., decision trees) prefer **ordinal or categorical inputs**."
   ]
  },
  {
   "cell_type": "markdown",
   "id": "e2c8d093-88b8-4188-92eb-c1d5d1af5351",
   "metadata": {},
   "source": [
    "🔷 **What is Discretization?**\n",
    "- Converts **numeric variables into discrete ordinal categories** (a process also known as **binning**).\n",
    "- Helps **simplify relationships** and **improve performance** of models.\n",
    "- Can be applied to **inputs or outputs** (features or targets)."
   ]
  },
  {
   "cell_type": "markdown",
   "id": "7080c4b5-b8f1-45de-b541-933fc2539a02",
   "metadata": {},
   "source": [
    "🔷**Tool: KBinsDiscretizer (scikit-learn)**\n",
    "- Transforms numerical values into **k bins** with **ordinal** or **one-hot encoding**.\n",
    "- **Parameters**:<br>\n",
    "o\t**strategy**: uniform, quantile, or kmeans<br>\n",
    "o\t**n_bins**: number of categories/groups<br>\n",
    "o\t**encode**: ordinal (default), or onehot"
   ]
  },
  {
   "cell_type": "markdown",
   "id": "892a2bf8-44b4-43f6-bb61-407f666fc7b5",
   "metadata": {},
   "source": [
    "🔷 **Discretization Strategies**\n",
    "1. **Uniform**\n",
    "- Equal-width bins across the variable’s range.\n",
    "- Preserves **distribution shape**, but simplifies it into **ordinal levels**.\n",
    "\n",
    "2. **k-Means**\n",
    "- Bins based on **clustering** similar values.\n",
    "- Good for **non-uniform** distributions.\n",
    "\n",
    "3. **Quantile**\n",
    "- Equal **number of observations** in each bin (based on percentiles).\n",
    "- Produces **uniform frequency histograms**."
   ]
  },
  {
   "cell_type": "markdown",
   "id": "fda00c03-9bdf-48a0-b9db-38979104914e",
   "metadata": {},
   "source": [
    "🔷 **Best Practices**\n",
    "- Always experiment with different **n_bins values**; optimal performance often requires tuning.\n",
    "- For ordinal relationships, **ordinal encoding** is preferred.\n",
    "- For capturing non-ordinal relationships (e.g., kmeans), **onehot encoding** may help.\n",
    "- Apply discretization **after train-test split** to avoid data leakage."
   ]
  },
  {
   "cell_type": "markdown",
   "id": "04ec0aab-661c-4fcd-b4e6-e4f5ef19b280",
   "metadata": {},
   "source": [
    "#### Discretization Transforms"
   ]
  },
  {
   "cell_type": "markdown",
   "id": "33ff9e9f-f018-4d67-9559-13ac6c74bece",
   "metadata": {},
   "source": [
    "🔷 **Discretization Strategies**\n",
    "1. **Uniform**\n",
    "- Equal-width bins across the variable’s range.\n",
    "- Preserves **distribution shape**, but simplifies it into **ordinal levels**.\n",
    "\n",
    "2. **k-Means**\n",
    "- Bins based on **clustering** similar values.\n",
    "- Good for **non-uniform** distributions.\n",
    "\n",
    "3. **Quantile**\n",
    "- Equal **number of observations** in each bin (based on percentiles).\n",
    "- Produces **uniform frequency histograms**."
   ]
  },
  {
   "cell_type": "code",
   "execution_count": 34,
   "id": "d6d2701e-e5f8-4559-9a9c-c284d1b391eb",
   "metadata": {},
   "outputs": [
    {
     "data": {
      "image/png": "[encoded data removed]",
      "text/plain": [
       "<Figure size 640x480 with 1 Axes>"
      ]
     },
     "metadata": {},
     "output_type": "display_data"
    },
    {
     "name": "stdout",
     "output_type": "stream",
     "text": [
      "[[6.]\n",
      " [6.]\n",
      " [6.]\n",
      " [3.]\n",
      " [7.]\n",
      " [4.]\n",
      " [5.]\n",
      " [6.]\n",
      " [5.]\n",
      " [3.]]\n"
     ]
    },
    {
     "data": {
      "image/png": "[encoded data removed]",
      "text/plain": [
       "<Figure size 640x480 with 1 Axes>"
      ]
     },
     "metadata": {},
     "output_type": "display_data"
    }
   ],
   "source": [
    "# demonstration of the discretization transform \n",
    "from numpy.random import randn\n",
    "from sklearn.preprocessing import KBinsDiscretizer \n",
    "from matplotlib import pyplot\n",
    "\n",
    "# generate gaussian data sample \n",
    "data = randn(1000)\n",
    "\n",
    "# histogram of the raw data \n",
    "pyplot.hist(data, bins=25) \n",
    "pyplot.show()\n",
    "\n",
    "# reshape data to have rows and columns \n",
    "data  =  data.reshape((len(data),1))\n",
    "\n",
    "# discretization transform the raw data\n",
    "kbins = KBinsDiscretizer(n_bins=10, encode='ordinal', strategy='uniform', subsample=200_000) \n",
    "data_trans = kbins.fit_transform(data)\n",
    "\n",
    "# summarize first few rows \n",
    "print(data_trans[:10, :])\n",
    "\n",
    "# histogram of the transformed data \n",
    "pyplot.hist(data_trans, bins=10) \n",
    "pyplot.show()"
   ]
  },
  {
   "cell_type": "markdown",
   "id": "ec10d75d-d3cb-4933-92be-647d7f6faa28",
   "metadata": {},
   "source": [
    "Running the example first creates a sample of 1,000 random Gaussian floating-point values and plots the data as a histogram."
   ]
  },
  {
   "cell_type": "markdown",
   "id": "d097cf53-04c5-47eb-8e2d-759b1dd54201",
   "metadata": {},
   "source": [
    "Next the KBinsDiscretizer is used to map the numerical values to categorical values. We configure the transform to create 10 categories (0 to 9), to output the result in ordinal format (integers) and to divide the range of the input data uniformly. A sample of the transformed data is printed, clearly showing the integer format of the data as expected."
   ]
  },
  {
   "cell_type": "markdown",
   "id": "90459b56-743d-4406-80d2-ee337cbb762f",
   "metadata": {},
   "source": [
    "Finally, a histogram is created showing the 10 discrete categories and how the observations are distributed across these groups, following the same pattern as the original data with a Gaussian shape."
   ]
  },
  {
   "cell_type": "markdown",
   "id": "50b93e4d-42f2-4cde-8347-9ae58da4d7d8",
   "metadata": {},
   "source": [
    "#### Sonar Dataset"
   ]
  },
  {
   "cell_type": "markdown",
   "id": "8b03c2e3-1fec-4a5b-94cf-10d1b87fe873",
   "metadata": {},
   "source": [
    "The sonar dataset is a standard machine learning dataset for binary classification. It involves 60 real-valued inputs and a two-class target variable. There are 208 examples in the dataset and the classes are reasonably balanced. A baseline classification algorithm can achieve a classification accuracy of about 53.4 percent using repeated stratified 10-fold cross-validation. Top performance on this dataset is about 88 percent using repeated stratified 10-fold cross- validation. The dataset describes sonar returns of rocks or simulated mines. "
   ]
  },
  {
   "cell_type": "code",
   "execution_count": 35,
   "id": "a3d74592-504b-4622-b704-0e7d7b8fcb78",
   "metadata": {},
   "outputs": [
    {
     "name": "stdout",
     "output_type": "stream",
     "text": [
      "(208, 61)\n"
     ]
    },
    {
     "data": {
      "text/html": [
       "<div>\n",
       "<style scoped>\n",
       "    .dataframe tbody tr th:only-of-type {\n",
       "        vertical-align: middle;\n",
       "    }\n",
       "\n",
       "    .dataframe tbody tr th {\n",
       "        vertical-align: top;\n",
       "    }\n",
       "\n",
       "    .dataframe thead th {\n",
       "        text-align: right;\n",
       "    }\n",
       "</style>\n",
       "<table border=\"1\" class=\"dataframe\">\n",
       "  <thead>\n",
       "    <tr style=\"text-align: right;\">\n",
       "      <th></th>\n",
       "      <th>0</th>\n",
       "      <th>1</th>\n",
       "      <th>2</th>\n",
       "      <th>3</th>\n",
       "      <th>4</th>\n",
       "      <th>5</th>\n",
       "      <th>6</th>\n",
       "      <th>7</th>\n",
       "      <th>8</th>\n",
       "      <th>9</th>\n",
       "      <th>...</th>\n",
       "      <th>50</th>\n",
       "      <th>51</th>\n",
       "      <th>52</th>\n",
       "      <th>53</th>\n",
       "      <th>54</th>\n",
       "      <th>55</th>\n",
       "      <th>56</th>\n",
       "      <th>57</th>\n",
       "      <th>58</th>\n",
       "      <th>59</th>\n",
       "    </tr>\n",
       "  </thead>\n",
       "  <tbody>\n",
       "    <tr>\n",
       "      <th>count</th>\n",
       "      <td>208.000000</td>\n",
       "      <td>208.000000</td>\n",
       "      <td>208.000000</td>\n",
       "      <td>208.000000</td>\n",
       "      <td>208.000000</td>\n",
       "      <td>208.000000</td>\n",
       "      <td>208.000000</td>\n",
       "      <td>208.000000</td>\n",
       "      <td>208.000000</td>\n",
       "      <td>208.000000</td>\n",
       "      <td>...</td>\n",
       "      <td>208.000000</td>\n",
       "      <td>208.000000</td>\n",
       "      <td>208.000000</td>\n",
       "      <td>208.000000</td>\n",
       "      <td>208.000000</td>\n",
       "      <td>208.000000</td>\n",
       "      <td>208.000000</td>\n",
       "      <td>208.000000</td>\n",
       "      <td>208.000000</td>\n",
       "      <td>208.000000</td>\n",
       "    </tr>\n",
       "    <tr>\n",
       "      <th>mean</th>\n",
       "      <td>0.029164</td>\n",
       "      <td>0.038437</td>\n",
       "      <td>0.043832</td>\n",
       "      <td>0.053892</td>\n",
       "      <td>0.075202</td>\n",
       "      <td>0.104570</td>\n",
       "      <td>0.121747</td>\n",
       "      <td>0.134799</td>\n",
       "      <td>0.178003</td>\n",
       "      <td>0.208259</td>\n",
       "      <td>...</td>\n",
       "      <td>0.016069</td>\n",
       "      <td>0.013420</td>\n",
       "      <td>0.010709</td>\n",
       "      <td>0.010941</td>\n",
       "      <td>0.009290</td>\n",
       "      <td>0.008222</td>\n",
       "      <td>0.007820</td>\n",
       "      <td>0.007949</td>\n",
       "      <td>0.007941</td>\n",
       "      <td>0.006507</td>\n",
       "    </tr>\n",
       "    <tr>\n",
       "      <th>std</th>\n",
       "      <td>0.022991</td>\n",
       "      <td>0.032960</td>\n",
       "      <td>0.038428</td>\n",
       "      <td>0.046528</td>\n",
       "      <td>0.055552</td>\n",
       "      <td>0.059105</td>\n",
       "      <td>0.061788</td>\n",
       "      <td>0.085152</td>\n",
       "      <td>0.118387</td>\n",
       "      <td>0.134416</td>\n",
       "      <td>...</td>\n",
       "      <td>0.012008</td>\n",
       "      <td>0.009634</td>\n",
       "      <td>0.007060</td>\n",
       "      <td>0.007301</td>\n",
       "      <td>0.007088</td>\n",
       "      <td>0.005736</td>\n",
       "      <td>0.005785</td>\n",
       "      <td>0.006470</td>\n",
       "      <td>0.006181</td>\n",
       "      <td>0.005031</td>\n",
       "    </tr>\n",
       "    <tr>\n",
       "      <th>min</th>\n",
       "      <td>0.001500</td>\n",
       "      <td>0.000600</td>\n",
       "      <td>0.001500</td>\n",
       "      <td>0.005800</td>\n",
       "      <td>0.006700</td>\n",
       "      <td>0.010200</td>\n",
       "      <td>0.003300</td>\n",
       "      <td>0.005500</td>\n",
       "      <td>0.007500</td>\n",
       "      <td>0.011300</td>\n",
       "      <td>...</td>\n",
       "      <td>0.000000</td>\n",
       "      <td>0.000800</td>\n",
       "      <td>0.000500</td>\n",
       "      <td>0.001000</td>\n",
       "      <td>0.000600</td>\n",
       "      <td>0.000400</td>\n",
       "      <td>0.000300</td>\n",
       "      <td>0.000300</td>\n",
       "      <td>0.000100</td>\n",
       "      <td>0.000600</td>\n",
       "    </tr>\n",
       "    <tr>\n",
       "      <th>25%</th>\n",
       "      <td>0.013350</td>\n",
       "      <td>0.016450</td>\n",
       "      <td>0.018950</td>\n",
       "      <td>0.024375</td>\n",
       "      <td>0.038050</td>\n",
       "      <td>0.067025</td>\n",
       "      <td>0.080900</td>\n",
       "      <td>0.080425</td>\n",
       "      <td>0.097025</td>\n",
       "      <td>0.111275</td>\n",
       "      <td>...</td>\n",
       "      <td>0.008425</td>\n",
       "      <td>0.007275</td>\n",
       "      <td>0.005075</td>\n",
       "      <td>0.005375</td>\n",
       "      <td>0.004150</td>\n",
       "      <td>0.004400</td>\n",
       "      <td>0.003700</td>\n",
       "      <td>0.003600</td>\n",
       "      <td>0.003675</td>\n",
       "      <td>0.003100</td>\n",
       "    </tr>\n",
       "    <tr>\n",
       "      <th>50%</th>\n",
       "      <td>0.022800</td>\n",
       "      <td>0.030800</td>\n",
       "      <td>0.034300</td>\n",
       "      <td>0.044050</td>\n",
       "      <td>0.062500</td>\n",
       "      <td>0.092150</td>\n",
       "      <td>0.106950</td>\n",
       "      <td>0.112100</td>\n",
       "      <td>0.152250</td>\n",
       "      <td>0.182400</td>\n",
       "      <td>...</td>\n",
       "      <td>0.013900</td>\n",
       "      <td>0.011400</td>\n",
       "      <td>0.009550</td>\n",
       "      <td>0.009300</td>\n",
       "      <td>0.007500</td>\n",
       "      <td>0.006850</td>\n",
       "      <td>0.005950</td>\n",
       "      <td>0.005800</td>\n",
       "      <td>0.006400</td>\n",
       "      <td>0.005300</td>\n",
       "    </tr>\n",
       "    <tr>\n",
       "      <th>75%</th>\n",
       "      <td>0.035550</td>\n",
       "      <td>0.047950</td>\n",
       "      <td>0.057950</td>\n",
       "      <td>0.064500</td>\n",
       "      <td>0.100275</td>\n",
       "      <td>0.134125</td>\n",
       "      <td>0.154000</td>\n",
       "      <td>0.169600</td>\n",
       "      <td>0.233425</td>\n",
       "      <td>0.268700</td>\n",
       "      <td>...</td>\n",
       "      <td>0.020825</td>\n",
       "      <td>0.016725</td>\n",
       "      <td>0.014900</td>\n",
       "      <td>0.014500</td>\n",
       "      <td>0.012100</td>\n",
       "      <td>0.010575</td>\n",
       "      <td>0.010425</td>\n",
       "      <td>0.010350</td>\n",
       "      <td>0.010325</td>\n",
       "      <td>0.008525</td>\n",
       "    </tr>\n",
       "    <tr>\n",
       "      <th>max</th>\n",
       "      <td>0.137100</td>\n",
       "      <td>0.233900</td>\n",
       "      <td>0.305900</td>\n",
       "      <td>0.426400</td>\n",
       "      <td>0.401000</td>\n",
       "      <td>0.382300</td>\n",
       "      <td>0.372900</td>\n",
       "      <td>0.459000</td>\n",
       "      <td>0.682800</td>\n",
       "      <td>0.710600</td>\n",
       "      <td>...</td>\n",
       "      <td>0.100400</td>\n",
       "      <td>0.070900</td>\n",
       "      <td>0.039000</td>\n",
       "      <td>0.035200</td>\n",
       "      <td>0.044700</td>\n",
       "      <td>0.039400</td>\n",
       "      <td>0.035500</td>\n",
       "      <td>0.044000</td>\n",
       "      <td>0.036400</td>\n",
       "      <td>0.043900</td>\n",
       "    </tr>\n",
       "  </tbody>\n",
       "</table>\n",
       "<p>8 rows × 60 columns</p>\n",
       "</div>"
      ],
      "text/plain": [
       "               0           1           2           3           4           5   \\\n",
       "count  208.000000  208.000000  208.000000  208.000000  208.000000  208.000000   \n",
       "mean     0.029164    0.038437    0.043832    0.053892    0.075202    0.104570   \n",
       "std      0.022991    0.032960    0.038428    0.046528    0.055552    0.059105   \n",
       "min      0.001500    0.000600    0.001500    0.005800    0.006700    0.010200   \n",
       "25%      0.013350    0.016450    0.018950    0.024375    0.038050    0.067025   \n",
       "50%      0.022800    0.030800    0.034300    0.044050    0.062500    0.092150   \n",
       "75%      0.035550    0.047950    0.057950    0.064500    0.100275    0.134125   \n",
       "max      0.137100    0.233900    0.305900    0.426400    0.401000    0.382300   \n",
       "\n",
       "               6           7           8           9   ...          50  \\\n",
       "count  208.000000  208.000000  208.000000  208.000000  ...  208.000000   \n",
       "mean     0.121747    0.134799    0.178003    0.208259  ...    0.016069   \n",
       "std      0.061788    0.085152    0.118387    0.134416  ...    0.012008   \n",
       "min      0.003300    0.005500    0.007500    0.011300  ...    0.000000   \n",
       "25%      0.080900    0.080425    0.097025    0.111275  ...    0.008425   \n",
       "50%      0.106950    0.112100    0.152250    0.182400  ...    0.013900   \n",
       "75%      0.154000    0.169600    0.233425    0.268700  ...    0.020825   \n",
       "max      0.372900    0.459000    0.682800    0.710600  ...    0.100400   \n",
       "\n",
       "               51          52          53          54          55          56  \\\n",
       "count  208.000000  208.000000  208.000000  208.000000  208.000000  208.000000   \n",
       "mean     0.013420    0.010709    0.010941    0.009290    0.008222    0.007820   \n",
       "std      0.009634    0.007060    0.007301    0.007088    0.005736    0.005785   \n",
       "min      0.000800    0.000500    0.001000    0.000600    0.000400    0.000300   \n",
       "25%      0.007275    0.005075    0.005375    0.004150    0.004400    0.003700   \n",
       "50%      0.011400    0.009550    0.009300    0.007500    0.006850    0.005950   \n",
       "75%      0.016725    0.014900    0.014500    0.012100    0.010575    0.010425   \n",
       "max      0.070900    0.039000    0.035200    0.044700    0.039400    0.035500   \n",
       "\n",
       "               57          58          59  \n",
       "count  208.000000  208.000000  208.000000  \n",
       "mean     0.007949    0.007941    0.006507  \n",
       "std      0.006470    0.006181    0.005031  \n",
       "min      0.000300    0.000100    0.000600  \n",
       "25%      0.003600    0.003675    0.003100  \n",
       "50%      0.005800    0.006400    0.005300  \n",
       "75%      0.010350    0.010325    0.008525  \n",
       "max      0.044000    0.036400    0.043900  \n",
       "\n",
       "[8 rows x 60 columns]"
      ]
     },
     "metadata": {},
     "output_type": "display_data"
    },
    {
     "data": {
      "image/png": "[encoded data removed]",
      "text/plain": [
       "<Figure size 640x480 with 64 Axes>"
      ]
     },
     "metadata": {},
     "output_type": "display_data"
    }
   ],
   "source": [
    "# load and summarize the sonar dataset \n",
    "from pandas import read_csv\n",
    "from matplotlib import pyplot \n",
    "\n",
    "# load dataset\n",
    "path_sonar_data = \"https://raw.githubusercontent.com/jbrownlee/Datasets/master/sonar.csv\"\n",
    "dataset = read_csv(path_sonar_data, header=None) \n",
    "\n",
    "# summarize the shape of the dataset \n",
    "print(dataset.shape)\n",
    "\n",
    "# summarize each variable \n",
    "display(dataset.describe())\n",
    "\n",
    "# histograms of the variables\n",
    "fig = dataset.hist(xlabelsize=4, ylabelsize=4) \n",
    "[x.title.set_size(4) for x in fig.ravel()]\n",
    "# show the plot \n",
    "pyplot.show()"
   ]
  },
  {
   "cell_type": "markdown",
   "id": "e6ede1b8-4aa1-40e1-b9fe-9fdb6c601558",
   "metadata": {},
   "source": [
    "Next, let’s fit and evaluate a machine learning model on the raw dataset. <br>We will use a k-nearest neighbor algorithm with default hyperparameters and evaluate it using repeated stratified k-fold cross-validation. <br>The complete example is listed below."
   ]
  },
  {
   "cell_type": "code",
   "execution_count": 36,
   "id": "fdb98cef-6c8d-4621-9429-d82f8c769a48",
   "metadata": {},
   "outputs": [
    {
     "name": "stdout",
     "output_type": "stream",
     "text": [
      "Accuracy: 0.797 (0.073)\n"
     ]
    }
   ],
   "source": [
    "# evaluate knn on the raw sonar dataset \n",
    "from numpy import mean\n",
    "from numpy import std\n",
    "from pandas import read_csv\n",
    "from sklearn.model_selection import cross_val_score\n",
    "from sklearn.model_selection import RepeatedStratifiedKFold \n",
    "from sklearn.neighbors import KNeighborsClassifier\n",
    "from sklearn.preprocessing import LabelEncoder \n",
    "\n",
    "# load dataset\n",
    "path_sonar_data = \"https://raw.githubusercontent.com/jbrownlee/Datasets/master/sonar.csv\"\n",
    "dataset = read_csv(path_sonar_data, header=None) \n",
    "data = dataset.values\n",
    "\n",
    "# separate into input and output columns \n",
    "X, y = data[:, :-1], data[:, -1]\n",
    "\n",
    "# ensure inputs are floats and output is an integer label\n",
    "X = X.astype('float32')\n",
    "y  =  LabelEncoder().fit_transform(y.astype('str')) \n",
    "\n",
    "# define and configure the model\n",
    "model = KNeighborsClassifier()\n",
    "\n",
    "# evaluate the model\n",
    "cv = RepeatedStratifiedKFold(n_splits=10, n_repeats=3, random_state=1)\n",
    "n_scores = cross_val_score(model, X, y, scoring='accuracy', cv=cv, n_jobs=-1)\n",
    "\n",
    "# report model performance\n",
    "print('Accuracy: %.3f (%.3f)' % (mean(n_scores), std(n_scores)))"
   ]
  },
  {
   "cell_type": "markdown",
   "id": "22ab4060-18bb-414d-8f92-4eb3e8d2ec49",
   "metadata": {},
   "source": [
    "#### Uniform Discretization Transform"
   ]
  },
  {
   "cell_type": "markdown",
   "id": "c0681b96-2b4a-4b62-9dae-6a78cdd07308",
   "metadata": {},
   "source": [
    "A uniform discretization transform will preserve the probability distribution of each input variable but will make it discrete with the specified number of ordinal groups or labels. We can apply the uniform discretization transform using the KBinsDiscretizer class and setting the strategy argument to ‘uniform’. We must also set the desired number of bins set via the n bins argument; in this case, we will use 10. Once defined, we can call the fit transform() function and pass it our dataset to create a discretized transformed version of our dataset."
   ]
  },
  {
   "cell_type": "code",
   "execution_count": 37,
   "id": "f6d0c097-d7b8-49a8-8c72-88ad4b0df341",
   "metadata": {},
   "outputs": [
    {
     "data": {
      "image/png": "[encoded data removed]",
      "text/plain": [
       "<Figure size 640x480 with 64 Axes>"
      ]
     },
     "metadata": {},
     "output_type": "display_data"
    }
   ],
   "source": [
    "# visualize a uniform ordinal discretization transform of the sonar dataset \n",
    "from pandas import read_csv\n",
    "from pandas import DataFrame\n",
    "from sklearn.preprocessing import KBinsDiscretizer \n",
    "from matplotlib import pyplot\n",
    "\n",
    "# load dataset\n",
    "path_sonar_data = \"https://raw.githubusercontent.com/jbrownlee/Datasets/master/sonar.csv\"\n",
    "dataset = read_csv(path_sonar_data, header=None) \n",
    "\n",
    "# retrieve just the numeric input values \n",
    "data = dataset.values[:, :-1]\n",
    "\n",
    "# perform a uniform discretization transform of the dataset\n",
    "trans = KBinsDiscretizer(n_bins=10, encode='ordinal', strategy='uniform',subsample=200_000) \n",
    "data = trans.fit_transform(data)\n",
    "\n",
    "# convert the array back to a dataframe \n",
    "dataset = DataFrame(data)\n",
    "\n",
    "# histograms of the variables\n",
    "fig = dataset.hist(xlabelsize=4, ylabelsize=4) \n",
    "[x.title.set_size(4)  for  x  in  fig.ravel()]\n",
    "\n",
    "# show the plot \n",
    "pyplot.show()"
   ]
  },
  {
   "cell_type": "markdown",
   "id": "9437340d-9739-4501-a544-1c11d9b27036",
   "metadata": {},
   "source": [
    "Running the example transforms the dataset and plots histograms of each input variable. We can see that the shape of the histograms generally matches the shape of the raw dataset, although in this case, each variable has a fixed number of 10 values or ordinal groups."
   ]
  },
  {
   "cell_type": "markdown",
   "id": "f9b92708-fe1e-4ebb-9d6f-7783dc94ba76",
   "metadata": {},
   "source": [
    "Next, let’s evaluate the same KNN model as the previous section, but in this case on a uniform discretization transform of the dataset. The complete example is listed below."
   ]
  },
  {
   "cell_type": "code",
   "execution_count": 38,
   "id": "fc1513e7-cead-4aff-9446-b446f1b83423",
   "metadata": {},
   "outputs": [
    {
     "name": "stdout",
     "output_type": "stream",
     "text": [
      "Accuracy: 0.829 (0.079)\n"
     ]
    }
   ],
   "source": [
    "# evaluate knn on the sonar dataset with uniform ordinal discretization transform \n",
    "from numpy import mean\n",
    "from numpy import std\n",
    "from pandas import read_csv\n",
    "from sklearn.model_selection import cross_val_score\n",
    "from sklearn.model_selection import RepeatedStratifiedKFold \n",
    "from sklearn.neighbors import KNeighborsClassifier\n",
    "from sklearn.preprocessing import LabelEncoder \n",
    "from sklearn.preprocessing import KBinsDiscretizer \n",
    "from sklearn.pipeline import Pipeline\n",
    "\n",
    "# load dataset\n",
    "path_sonar_data = \"https://raw.githubusercontent.com/jbrownlee/Datasets/master/sonar.csv\"\n",
    "dataset = read_csv(path_sonar_data, header=None)\n",
    "data = dataset.values\n",
    "\n",
    "# separate into input and output columns \n",
    "X, y = data[:, :-1], data[:, -1]\n",
    "\n",
    "# ensure inputs are floats and output is an integer label\n",
    "X = X.astype('float32')\n",
    "y  =  LabelEncoder().fit_transform(y.astype('str')) \n",
    "\n",
    "# define the pipeline\n",
    "trans = KBinsDiscretizer(n_bins=10, encode='ordinal', strategy='uniform',subsample=200_000)\n",
    "model  =  KNeighborsClassifier()\n",
    "pipeline = Pipeline(steps=[('t', trans), ('m', model)]) \n",
    "\n",
    "# evaluate the pipeline\n",
    "cv = RepeatedStratifiedKFold(n_splits=10, n_repeats=3, random_state=1)\n",
    "n_scores = cross_val_score(pipeline, X, y, scoring='accuracy', cv=cv, n_jobs=-1) \n",
    "\n",
    "# report pipeline performance\n",
    "print('Accuracy: %.3f (%.3f)' % (mean(n_scores), std(n_scores)))"
   ]
  },
  {
   "cell_type": "markdown",
   "id": "7e951712-7b10-4cb8-ae3f-4503afe92ea4",
   "metadata": {},
   "source": [
    "Running the example, we can see that the uniform discretization transform results in a lift in performance from 79.7 percent accuracy without the transform to about 82.7 percent with the transform."
   ]
  },
  {
   "cell_type": "markdown",
   "id": "9b7c0bc8-6e00-4f0c-a735-c7c883c5035d",
   "metadata": {},
   "source": [
    "#### k-Means Discretization Transform"
   ]
  },
  {
   "cell_type": "markdown",
   "id": "086484e4-818b-4415-96d5-86ed3f8eddd6",
   "metadata": {},
   "source": [
    "A k-means discretization transform will attempt to fit k clusters for each input variable and then assign each observation to a cluster. Unless the empirical distribution of the variable is complex, the number of clusters is likely to be small, such as 3-to-5. We can apply the k-means discretization transform using the KBinsDiscretizer class and setting the strategy argument to ‘kmeans’. We must also set the desired number of bins set via the n bins argument; in this case, we will use three. Once defined, we can call the fit transform() function and pass it to our dataset to create a discretized transformed version of our dataset."
   ]
  },
  {
   "cell_type": "code",
   "execution_count": 39,
   "id": "15ce79ec-d8da-4dda-88f1-3a6267889387",
   "metadata": {},
   "outputs": [
    {
     "data": {
      "image/png": "[encoded data removed]",
      "text/plain": [
       "<Figure size 640x480 with 64 Axes>"
      ]
     },
     "metadata": {},
     "output_type": "display_data"
    }
   ],
   "source": [
    "# visualize a k-means ordinal discretization transform of the sonar dataset \n",
    "from pandas import read_csv\n",
    "from pandas import DataFrame\n",
    "from sklearn.preprocessing import KBinsDiscretizer \n",
    "from matplotlib import pyplot\n",
    "\n",
    "# load dataset\n",
    "path_sonar_data = \"https://raw.githubusercontent.com/jbrownlee/Datasets/master/sonar.csv\"\n",
    "dataset = read_csv(path_sonar_data, header=None)\n",
    "\n",
    "# retrieve just the numeric input values\n",
    "data = dataset.values[:, :-1]\n",
    "\n",
    "# perform a k-means discretization transform of the dataset\n",
    "trans = KBinsDiscretizer(n_bins=3, encode='ordinal', strategy='kmeans',subsample=200_000) \n",
    "data = trans.fit_transform(data)\n",
    "\n",
    "# convert the array back to a dataframe \n",
    "dataset = DataFrame(data)\n",
    "\n",
    "# histograms of the variables\n",
    "fig = dataset.hist(xlabelsize=4, ylabelsize=4) \n",
    "[x.title.set_size(4) for x in fig.ravel()]\n",
    "\n",
    "# show the plot \n",
    "pyplot.show()"
   ]
  },
  {
   "cell_type": "markdown",
   "id": "7d36d842-3108-4475-9731-20c0810b679a",
   "metadata": {},
   "source": [
    "Running the example transforms the dataset and plots histograms of each input variable. We can see that the observations for each input variable are organized into one of three groups, some of which appear to be quite even in terms of observations, and others much less so."
   ]
  },
  {
   "cell_type": "markdown",
   "id": "518a3c40-2316-43f4-92ee-5c238d19a944",
   "metadata": {},
   "source": [
    "Next, let’s evaluate the same KNN model as the previous section, but in this case on a k-means discretization transform of the dataset. The complete example is listed below."
   ]
  },
  {
   "cell_type": "code",
   "execution_count": 40,
   "id": "273a29dc-2828-473f-a122-33fceb803dfb",
   "metadata": {},
   "outputs": [
    {
     "name": "stdout",
     "output_type": "stream",
     "text": [
      "Accuracy: 0.821 (0.089)\n"
     ]
    }
   ],
   "source": [
    "#evaluate knn on the sonar dataset with k-means ordinal discretization transform \n",
    "from numpy import mean\n",
    "from numpy import std\n",
    "from pandas import read_csv\n",
    "from sklearn.model_selection import cross_val_score\n",
    "from sklearn.model_selection import RepeatedStratifiedKFold \n",
    "from sklearn.neighbors import KNeighborsClassifier\n",
    "from sklearn.preprocessing import LabelEncoder \n",
    "from sklearn.preprocessing import KBinsDiscretizer \n",
    "from sklearn.pipeline import Pipeline\n",
    "\n",
    "# load dataset\n",
    "path_sonar_data = \"https://raw.githubusercontent.com/jbrownlee/Datasets/master/sonar.csv\"\n",
    "dataset = read_csv(path_sonar_data, header=None)\n",
    "data = dataset.values\n",
    "\n",
    "# separate into input and output columns \n",
    "X, y = data[:, :-1], data[:, -1]\n",
    "\n",
    "# ensure inputs are floats and output is an integer label\n",
    "X = X.astype('float32')\n",
    "y  =  LabelEncoder().fit_transform(y.astype('str'))\n",
    "\n",
    "# define the pipeline\n",
    "trans = KBinsDiscretizer(n_bins=3, encode='ordinal', strategy='kmeans',subsample=200_000)\n",
    "model = KNeighborsClassifier()\n",
    "pipeline = Pipeline(steps=[('t', trans), ('m', model)]) \n",
    "\n",
    "# evaluate the pipeline\n",
    "cv = RepeatedStratifiedKFold(n_splits=10, n_repeats=3, random_state=1)\n",
    "n_scores = cross_val_score(pipeline, X, y, scoring='accuracy', cv=cv, n_jobs=-1)\n",
    "\n",
    "# report pipeline performance\n",
    "print('Accuracy: %.3f (%.3f)' % (mean(n_scores), std(n_scores)))"
   ]
  },
  {
   "cell_type": "markdown",
   "id": "d38f0fcf-9923-487f-aa44-d7a774c59a37",
   "metadata": {},
   "source": [
    "Running the example, we can see that the k-means discretization transform results in a lift in performance from 79.7 percent accuracy without the transform to about 81.4 percent with the transform, although slightly less than the uniform distribution in the previous section."
   ]
  },
  {
   "cell_type": "markdown",
   "id": "82126387-cfbb-4982-be49-00deada7dc9a",
   "metadata": {},
   "source": [
    "#### Quantile Discretization Transform"
   ]
  },
  {
   "cell_type": "markdown",
   "id": "a7bf23e4-31ba-46ad-bc7b-15643ce51bb1",
   "metadata": {},
   "source": [
    "A quantile discretization transform will attempt to split the observations for each input variable into k groups, where the number of observations assigned to each group is approximately equal. Unless there are a large number of observations or a complex empirical distribution, the number of bins must be kept small, such as 5-10. We can apply the quantile discretization transform using the KBinsDiscretizer class and setting the strategy argument to ‘quantile’. We must also set the desired number of bins set via the n bins argument; in this case, we will use 10."
   ]
  },
  {
   "cell_type": "code",
   "execution_count": 41,
   "id": "d421ca09-ef3c-45af-8867-b84b29399d01",
   "metadata": {},
   "outputs": [
    {
     "data": {
      "image/png": "[encoded data removed]",
      "text/plain": [
       "<Figure size 640x480 with 64 Axes>"
      ]
     },
     "metadata": {},
     "output_type": "display_data"
    }
   ],
   "source": [
    "# visualize a quantile ordinal discretization transform of the sonar dataset \n",
    "from pandas import read_csv\n",
    "from pandas import DataFrame\n",
    "from sklearn.preprocessing import KBinsDiscretizer \n",
    "from matplotlib import pyplot\n",
    "\n",
    "# load dataset\n",
    "path_sonar_data = \"https://raw.githubusercontent.com/jbrownlee/Datasets/master/sonar.csv\"\n",
    "dataset = read_csv(path_sonar_data, header=None)\n",
    "\n",
    "# retrieve just the numeric input values \n",
    "data = dataset.values[:, :-1]\n",
    "\n",
    "# perform a quantile discretization transform of the dataset\n",
    "trans = KBinsDiscretizer(n_bins=10, encode='ordinal', strategy='quantile',subsample=200_000) \n",
    "data = trans.fit_transform(data)\n",
    "\n",
    "# convert the array back to a dataframe \n",
    "dataset = DataFrame(data)\n",
    "\n",
    "# histograms of the variables\n",
    "fig = dataset.hist(xlabelsize=4, ylabelsize=4) \n",
    "[x.title.set_size(4)  for  x  in  fig.ravel()]\n",
    "\n",
    "# show the plot \n",
    "pyplot.show()"
   ]
  },
  {
   "cell_type": "markdown",
   "id": "2cb5d960-9dcb-4458-929e-52c7213b0610",
   "metadata": {},
   "source": [
    "Running the example transforms the dataset and plots histograms of each input variable. We can see that the histograms all show a uniform probability distribution for each input variable, where each of the 10 groups has the same number of observations."
   ]
  },
  {
   "cell_type": "markdown",
   "id": "bc7078c2-05db-4a04-9868-27fb727de88a",
   "metadata": {},
   "source": [
    "Next, let’s evaluate the same KNN model as the previous section, but in this case, on a quantile discretization transform of the raw dataset. The complete example is listed below."
   ]
  },
  {
   "cell_type": "code",
   "execution_count": 42,
   "id": "43b068a8-a109-4440-bb7d-90b469ebe503",
   "metadata": {},
   "outputs": [
    {
     "name": "stdout",
     "output_type": "stream",
     "text": [
      "Accuracy: 0.840 (0.072)\n"
     ]
    }
   ],
   "source": [
    "# evaluate knn on the sonar dataset with quantile ordinal discretization transform \n",
    "from numpy import mean\n",
    "from numpy import std\n",
    "from pandas import read_csv\n",
    "from sklearn.model_selection import cross_val_score\n",
    "from sklearn.model_selection import RepeatedStratifiedKFold \n",
    "from sklearn.neighbors import KNeighborsClassifier\n",
    "from sklearn.preprocessing import LabelEncoder \n",
    "from sklearn.preprocessing import KBinsDiscretizer \n",
    "from sklearn.pipeline import Pipeline\n",
    "\n",
    "# load dataset\n",
    "path_sonar_data = \"https://raw.githubusercontent.com/jbrownlee/Datasets/master/sonar.csv\"\n",
    "dataset = read_csv(path_sonar_data, header=None)\n",
    "data = dataset.values\n",
    "\n",
    "# separate into input and output columns \n",
    "X, y = data[:, :-1], data[:, -1]\n",
    "\n",
    "# ensure inputs are floats and output is an integer label\n",
    "X = X.astype('float32')\n",
    "y  =  LabelEncoder().fit_transform(y.astype('str')) \n",
    "\n",
    "# define the pipeline\n",
    "trans = KBinsDiscretizer(n_bins=10, encode='ordinal', strategy='quantile',subsample=200_000)\n",
    "model  =  KNeighborsClassifier()\n",
    "pipeline = Pipeline(steps=[('t', trans), ('m', model)]) \n",
    "\n",
    "# evaluate the pipeline\n",
    "cv = RepeatedStratifiedKFold(n_splits=10, n_repeats=3, random_state=1)\n",
    "n_scores = cross_val_score(pipeline, X, y, scoring='accuracy', cv=cv, n_jobs=-1) \n",
    "\n",
    "# report pipeline performance\n",
    "print('Accuracy: %.3f (%.3f)' % (mean(n_scores), std(n_scores)))"
   ]
  },
  {
   "cell_type": "markdown",
   "id": "5d50a43a-a337-40be-8eda-5c3d3b3eff44",
   "metadata": {},
   "source": [
    "Running the example, we can see that the uniform transform results in a lift in performance from 79.7 percent accuracy without the transform to about 84.0 percent with the transform, better than the uniform and k-means methods of the previous sections."
   ]
  },
  {
   "cell_type": "markdown",
   "id": "f92edb5f-35a9-46fe-9bf0-3b6229312254",
   "metadata": {},
   "source": [
    "We chose the number of bins as an arbitrary number; in this case, 10. This hyperparameter can be tuned to explore the effect of the resolution of the transform on the resulting skill of the model. The example below performs this experiment and plots the mean accuracy for different n bins values from two to 10."
   ]
  },
  {
   "cell_type": "code",
   "execution_count": 43,
   "id": "e22fe638-5578-4958-9274-a47d2ada03b5",
   "metadata": {},
   "outputs": [
    {
     "name": "stdout",
     "output_type": "stream",
     "text": [
      ">2 0.822 (0.077)\n",
      ">3 0.878 (0.053)\n",
      ">4 0.836 (0.083)\n",
      ">5 0.840 (0.069)\n",
      ">6 0.843 (0.069)\n",
      ">7 0.854 (0.071)\n",
      ">8 0.838 (0.077)\n",
      ">9 0.841 (0.069)\n",
      ">10 0.840 (0.072)\n"
     ]
    },
    {
     "data": {
      "image/png": "[encoded data removed]",
      "text/plain": [
       "<Figure size 640x480 with 1 Axes>"
      ]
     },
     "metadata": {},
     "output_type": "display_data"
    }
   ],
   "source": [
    "# explore number of discrete bins on classification accuracy \n",
    "from numpy import mean\n",
    "from numpy import std\n",
    "from pandas import read_csv\n",
    "from sklearn.model_selection import cross_val_score\n",
    "from sklearn.model_selection import RepeatedStratifiedKFold \n",
    "from sklearn.neighbors import KNeighborsClassifier\n",
    "from sklearn.preprocessing import KBinsDiscretizer \n",
    "from sklearn.preprocessing import LabelEncoder \n",
    "from sklearn.pipeline import Pipeline\n",
    "from matplotlib import pyplot\n",
    "\n",
    "# get the dataset \n",
    "def get_dataset():\n",
    "    # load dataset\n",
    "    path_sonar_data = \"https://raw.githubusercontent.com/jbrownlee/Datasets/master/sonar.csv\"\n",
    "    dataset = read_csv(path_sonar_data, header=None)\n",
    "    data = dataset.values\n",
    "    # separate into input and output columns \n",
    "    X, y = data[:, :-1], data[:, -1]\n",
    "    # ensure inputs are floats and output is an integer label\n",
    "    X = X.astype('float32')\n",
    "    y = LabelEncoder().fit_transform(y.astype('str')) \n",
    "    return X, y\n",
    "\n",
    "# get a list of models to evaluate\n",
    "def get_models():\n",
    "    models = dict()\n",
    "    for i in range(2,11):\n",
    "        # define the pipeline\n",
    "        trans = KBinsDiscretizer(n_bins=i, encode='ordinal', strategy='quantile',subsample=200_000) \n",
    "        model = KNeighborsClassifier()\n",
    "        models[str(i)] = Pipeline(steps=[('t', trans), ('m', model)]) \n",
    "    return models\n",
    "\n",
    "# evaluate a given model using cross-validation \n",
    "def evaluate_model(model, X, y):\n",
    "    cv = RepeatedStratifiedKFold(n_splits=10, n_repeats=3, random_state=1) \n",
    "    scores = cross_val_score(model, X, y, scoring='accuracy', cv=cv, n_jobs=-1) \n",
    "    return scores\n",
    "\n",
    "# get the dataset\n",
    "X, y = get_dataset()\n",
    "\n",
    "# get the models to evaluate \n",
    "models = get_models()\n",
    "\n",
    "# evaluate the models and store results \n",
    "results, names = list(), list()\n",
    "for name, model in models.items():\n",
    "    scores = evaluate_model(model, X, y) \n",
    "    results.append(scores) \n",
    "    names.append(name)\n",
    "    print('>%s %.3f (%.3f)'  % (name, mean(scores), std(scores))) \n",
    "\n",
    "# plot model performance for comparison \n",
    "pyplot.boxplot(results, tick_labels=names, showmeans=True)\n",
    "pyplot.show()"
   ]
  },
  {
   "cell_type": "markdown",
   "id": "748e7a09-722e-4748-ae45-482435df1fb7",
   "metadata": {},
   "source": [
    "Running the example reports the mean classification accuracy for each value of the n bins\n",
    "argument."
   ]
  },
  {
   "cell_type": "markdown",
   "id": "bc4dbac4-4fba-4d0d-811b-dc25fdcaebda",
   "metadata": {},
   "source": [
    "In this case, we can see that surprisingly smaller values resulted in better accuracy, with values such as three achieving an accuracy of about 86.7 percent."
   ]
  },
  {
   "cell_type": "markdown",
   "id": "eb9c3e3a-a107-454a-8e11-f9ae446ad9c9",
   "metadata": {},
   "source": [
    "Box and whisker plots are created to summarize the classification accuracy scores for each number of discrete bins on the dataset. We can see a small bump in accuracy at three bins and the scores drop and remain flat for larger values. The results highlight that there is likely some benefit in exploring different numbers of discrete bins for the chosen method to see if better performance can be achieved."
   ]
  },
  {
   "cell_type": "markdown",
   "id": "49797789-685f-4cde-83a4-f8e590e6088b",
   "metadata": {},
   "source": [
    "## How to Derive New Input Variables"
   ]
  },
  {
   "cell_type": "markdown",
   "id": "9fabd9dc-60a8-496e-a6d4-eb6faf13d57c",
   "metadata": {},
   "source": [
    "🔷 **Purpose of Polynomial Features**\n",
    "- Helps expose **non-linear interactions** between input variables.\n",
    "- Enables **simpler models** to capture complex relationships.\n",
    "- Often improves performance of models like **Linear Regression**, **Logistic Regression**.\n",
    "- Useful in **numerical input task**s, especially **regression problems**."
   ]
  },
  {
   "cell_type": "markdown",
   "id": "74afebf3-9be9-4c92-946c-99fbfda0e939",
   "metadata": {},
   "source": [
    "🔷 **Types of Polynomial Features**\n",
    "- **Power Features**: x², x³,... of existing features.\n",
    "- **Interaction Features**: x₁ × x₂, x₁ × x₃,...\n",
    "- Includes **bias term (1.0)**."
   ]
  },
  {
   "cell_type": "markdown",
   "id": "1686436a-f8ca-4e9a-90c7-bcb81c4f5b36",
   "metadata": {},
   "source": [
    "🔷 **Benefits**\n",
    "- Makes **patterns more detectable** for some ML models.\n",
    "- Helps **linear models** behave like non-linear ones (e.g., Polynomial Regression).\n",
    "- May improve **prediction accuracy**."
   ]
  },
  {
   "cell_type": "markdown",
   "id": "4e38539e-a1f3-4767-9c85-f0fb0166f78f",
   "metadata": {},
   "source": [
    "🔷 **Trade-offs**\n",
    "- **Exponentially increases** the number of features.<br>\n",
    "o\te.g., Degree 3 on Sonar dataset: From 61 to **39,711** features.<br>\n",
    "- Risk of **overfitting**, especially at high degrees.\n",
    "- Increases **computational cost** and complexity."
   ]
  },
  {
   "cell_type": "markdown",
   "id": "aa15fcd6-5c5b-44cb-bf5c-7e0ede2ab41a",
   "metadata": {},
   "source": [
    "🔷 **scikit-learn Tool: PolynomialFeatures**\n",
    "- Part of sklearn.preprocessing.\n",
    "- **Key parameters**:<br>\n",
    "o\t**degree** – sets the max power (default=2).<br>\n",
    "o\t**include_bias** – includes constant feature (default=True).<br>\n",
    "o\t**interaction_only** – disables powers, only keeps interactions (default=False)."
   ]
  },
  {
   "cell_type": "markdown",
   "id": "7160dc88-109d-45e0-bd14-d12879dbee92",
   "metadata": {},
   "source": [
    "🔷 **Choosing Polynomial Degree**\n",
    "- Degree 1 = original data (no change).\n",
    "- Higher degree → exponentially more features:<br>\n",
    "o\tDegree 2: manageable.<br>\n",
    "o\tDegree 3+: large risk of **feature explosion**.<br>\n",
    "- Use as a **hyperparameter** – tune for optimal performance.\n",
    "- Degree 4+ often leads to **diminishing returns or overfitting**."
   ]
  },
  {
   "cell_type": "markdown",
   "id": "15028b75-0114-4313-89f5-f9afbdab9c83",
   "metadata": {},
   "source": [
    "🔷 **Best Practices**\n",
    "- Use **low-degree polynomials** (2 or 3) unless data is very small.\n",
    "- Combine with **scaling (power/Gaussian transforms)** for better results.\n",
    "- **Visualize** accuracy results (e.g., boxplots) to detect overfitting trends.\n",
    "- Always validate with **cross-validation** due to stochastic variance."
   ]
  },
  {
   "cell_type": "markdown",
   "id": "9f016be4-5c4b-4446-9d13-04ba20abc73d",
   "metadata": {},
   "source": [
    "#### Polynomial Feature Transform"
   ]
  },
  {
   "cell_type": "markdown",
   "id": "76fd117a-ef8e-4d69-ac5f-bfd72561a029",
   "metadata": {},
   "source": [
    "🔷 **Types of Polynomial Features**\n",
    "- **Power Features**: x², x³,... of existing features.\n",
    "- **Interaction Features**: x₁ × x₂, x₁ × x₃,...\n",
    "- Includes **bias term (1.0)**."
   ]
  },
  {
   "cell_type": "markdown",
   "id": "225be3d0-78ac-4137-aa0f-b994fdc7e46e",
   "metadata": {},
   "source": [
    "The polynomial features transform is available in the scikit-learn Python machine learning library via the PolynomialFeatures class. <br>The features created include:\n",
    "- The bias (the value of 1.0)\n",
    "- Values raised to a power for each degree (e.g. x1, x2, x3,…)\n",
    "- Interactions between all pairs of features (e.g. x1 × x2, x1 × x3,…)"
   ]
  },
  {
   "cell_type": "markdown",
   "id": "16e9c07d-22e8-4b03-bb5b-17482087aa74",
   "metadata": {},
   "source": [
    "For example, with two input variables with values 2 and 3 and a degree of 2, the features created would be:\n",
    "- 1 (the bias)\n",
    "- 2^1 = 2\n",
    "- 3^1 = 3\n",
    "- 2^2 = 4\n",
    "- 3^2 = 9\n",
    "- 2 × 3 = 6"
   ]
  },
  {
   "cell_type": "code",
   "execution_count": 44,
   "id": "d396605e-eaa4-4e7d-aa04-2871100ae1e3",
   "metadata": {},
   "outputs": [
    {
     "name": "stdout",
     "output_type": "stream",
     "text": [
      "[[2 3]\n",
      " [2 3]\n",
      " [2 3]]\n",
      "[[1. 2. 3. 4. 6. 9.]\n",
      " [1. 2. 3. 4. 6. 9.]\n",
      " [1. 2. 3. 4. 6. 9.]]\n"
     ]
    }
   ],
   "source": [
    "# demonstrate the types of features created \n",
    "from numpy import asarray\n",
    "from sklearn.preprocessing import PolynomialFeatures \n",
    "\n",
    "# define the dataset\n",
    "data = asarray([[2,3],[2,3],[2,3]]) \n",
    "print(data)\n",
    "\n",
    "# perform a polynomial features transform of the dataset \n",
    "trans = PolynomialFeatures(degree=2)\n",
    "data = trans.fit_transform(data)\n",
    "\n",
    "print(data)"
   ]
  },
  {
   "cell_type": "markdown",
   "id": "f936a13e-2b7c-48ff-9869-6e455ba3c146",
   "metadata": {},
   "source": [
    "Running the example first reports the raw data with two features (columns) and each feature has the same value, either 2 or 3. Then the polynomial features are created, resulting in six features, matching what was described above."
   ]
  },
  {
   "cell_type": "markdown",
   "id": "9a2e18ec-6a86-431a-a758-554d6d0732dd",
   "metadata": {},
   "source": [
    "#### Sonar Dataset"
   ]
  },
  {
   "cell_type": "markdown",
   "id": "51ce3c54-f7ca-4e68-8c26-a3bf17717e19",
   "metadata": {},
   "source": [
    "The sonar dataset is a standard machine learning dataset for binary classification. It involves 60 real-valued inputs and a two-class target variable. There are 208 examples in the dataset and the classes are reasonably balanced. A baseline classification algorithm can achieve a classification accuracy of about 53.4 percent using repeated stratified 10-fold cross-validation. Top performance on this dataset is about 88 percent using repeated stratified 10-fold cross- validation. The dataset describes sonar returns of rocks or simulated mines. "
   ]
  },
  {
   "cell_type": "code",
   "execution_count": 45,
   "id": "48e5fa4e-3e55-4684-827f-4a26a783eef2",
   "metadata": {},
   "outputs": [
    {
     "name": "stdout",
     "output_type": "stream",
     "text": [
      "(208, 61)\n"
     ]
    },
    {
     "data": {
      "text/html": [
       "<div>\n",
       "<style scoped>\n",
       "    .dataframe tbody tr th:only-of-type {\n",
       "        vertical-align: middle;\n",
       "    }\n",
       "\n",
       "    .dataframe tbody tr th {\n",
       "        vertical-align: top;\n",
       "    }\n",
       "\n",
       "    .dataframe thead th {\n",
       "        text-align: right;\n",
       "    }\n",
       "</style>\n",
       "<table border=\"1\" class=\"dataframe\">\n",
       "  <thead>\n",
       "    <tr style=\"text-align: right;\">\n",
       "      <th></th>\n",
       "      <th>0</th>\n",
       "      <th>1</th>\n",
       "      <th>2</th>\n",
       "      <th>3</th>\n",
       "      <th>4</th>\n",
       "      <th>5</th>\n",
       "      <th>6</th>\n",
       "      <th>7</th>\n",
       "      <th>8</th>\n",
       "      <th>9</th>\n",
       "      <th>...</th>\n",
       "      <th>50</th>\n",
       "      <th>51</th>\n",
       "      <th>52</th>\n",
       "      <th>53</th>\n",
       "      <th>54</th>\n",
       "      <th>55</th>\n",
       "      <th>56</th>\n",
       "      <th>57</th>\n",
       "      <th>58</th>\n",
       "      <th>59</th>\n",
       "    </tr>\n",
       "  </thead>\n",
       "  <tbody>\n",
       "    <tr>\n",
       "      <th>count</th>\n",
       "      <td>208.000000</td>\n",
       "      <td>208.000000</td>\n",
       "      <td>208.000000</td>\n",
       "      <td>208.000000</td>\n",
       "      <td>208.000000</td>\n",
       "      <td>208.000000</td>\n",
       "      <td>208.000000</td>\n",
       "      <td>208.000000</td>\n",
       "      <td>208.000000</td>\n",
       "      <td>208.000000</td>\n",
       "      <td>...</td>\n",
       "      <td>208.000000</td>\n",
       "      <td>208.000000</td>\n",
       "      <td>208.000000</td>\n",
       "      <td>208.000000</td>\n",
       "      <td>208.000000</td>\n",
       "      <td>208.000000</td>\n",
       "      <td>208.000000</td>\n",
       "      <td>208.000000</td>\n",
       "      <td>208.000000</td>\n",
       "      <td>208.000000</td>\n",
       "    </tr>\n",
       "    <tr>\n",
       "      <th>mean</th>\n",
       "      <td>0.029164</td>\n",
       "      <td>0.038437</td>\n",
       "      <td>0.043832</td>\n",
       "      <td>0.053892</td>\n",
       "      <td>0.075202</td>\n",
       "      <td>0.104570</td>\n",
       "      <td>0.121747</td>\n",
       "      <td>0.134799</td>\n",
       "      <td>0.178003</td>\n",
       "      <td>0.208259</td>\n",
       "      <td>...</td>\n",
       "      <td>0.016069</td>\n",
       "      <td>0.013420</td>\n",
       "      <td>0.010709</td>\n",
       "      <td>0.010941</td>\n",
       "      <td>0.009290</td>\n",
       "      <td>0.008222</td>\n",
       "      <td>0.007820</td>\n",
       "      <td>0.007949</td>\n",
       "      <td>0.007941</td>\n",
       "      <td>0.006507</td>\n",
       "    </tr>\n",
       "    <tr>\n",
       "      <th>std</th>\n",
       "      <td>0.022991</td>\n",
       "      <td>0.032960</td>\n",
       "      <td>0.038428</td>\n",
       "      <td>0.046528</td>\n",
       "      <td>0.055552</td>\n",
       "      <td>0.059105</td>\n",
       "      <td>0.061788</td>\n",
       "      <td>0.085152</td>\n",
       "      <td>0.118387</td>\n",
       "      <td>0.134416</td>\n",
       "      <td>...</td>\n",
       "      <td>0.012008</td>\n",
       "      <td>0.009634</td>\n",
       "      <td>0.007060</td>\n",
       "      <td>0.007301</td>\n",
       "      <td>0.007088</td>\n",
       "      <td>0.005736</td>\n",
       "      <td>0.005785</td>\n",
       "      <td>0.006470</td>\n",
       "      <td>0.006181</td>\n",
       "      <td>0.005031</td>\n",
       "    </tr>\n",
       "    <tr>\n",
       "      <th>min</th>\n",
       "      <td>0.001500</td>\n",
       "      <td>0.000600</td>\n",
       "      <td>0.001500</td>\n",
       "      <td>0.005800</td>\n",
       "      <td>0.006700</td>\n",
       "      <td>0.010200</td>\n",
       "      <td>0.003300</td>\n",
       "      <td>0.005500</td>\n",
       "      <td>0.007500</td>\n",
       "      <td>0.011300</td>\n",
       "      <td>...</td>\n",
       "      <td>0.000000</td>\n",
       "      <td>0.000800</td>\n",
       "      <td>0.000500</td>\n",
       "      <td>0.001000</td>\n",
       "      <td>0.000600</td>\n",
       "      <td>0.000400</td>\n",
       "      <td>0.000300</td>\n",
       "      <td>0.000300</td>\n",
       "      <td>0.000100</td>\n",
       "      <td>0.000600</td>\n",
       "    </tr>\n",
       "    <tr>\n",
       "      <th>25%</th>\n",
       "      <td>0.013350</td>\n",
       "      <td>0.016450</td>\n",
       "      <td>0.018950</td>\n",
       "      <td>0.024375</td>\n",
       "      <td>0.038050</td>\n",
       "      <td>0.067025</td>\n",
       "      <td>0.080900</td>\n",
       "      <td>0.080425</td>\n",
       "      <td>0.097025</td>\n",
       "      <td>0.111275</td>\n",
       "      <td>...</td>\n",
       "      <td>0.008425</td>\n",
       "      <td>0.007275</td>\n",
       "      <td>0.005075</td>\n",
       "      <td>0.005375</td>\n",
       "      <td>0.004150</td>\n",
       "      <td>0.004400</td>\n",
       "      <td>0.003700</td>\n",
       "      <td>0.003600</td>\n",
       "      <td>0.003675</td>\n",
       "      <td>0.003100</td>\n",
       "    </tr>\n",
       "    <tr>\n",
       "      <th>50%</th>\n",
       "      <td>0.022800</td>\n",
       "      <td>0.030800</td>\n",
       "      <td>0.034300</td>\n",
       "      <td>0.044050</td>\n",
       "      <td>0.062500</td>\n",
       "      <td>0.092150</td>\n",
       "      <td>0.106950</td>\n",
       "      <td>0.112100</td>\n",
       "      <td>0.152250</td>\n",
       "      <td>0.182400</td>\n",
       "      <td>...</td>\n",
       "      <td>0.013900</td>\n",
       "      <td>0.011400</td>\n",
       "      <td>0.009550</td>\n",
       "      <td>0.009300</td>\n",
       "      <td>0.007500</td>\n",
       "      <td>0.006850</td>\n",
       "      <td>0.005950</td>\n",
       "      <td>0.005800</td>\n",
       "      <td>0.006400</td>\n",
       "      <td>0.005300</td>\n",
       "    </tr>\n",
       "    <tr>\n",
       "      <th>75%</th>\n",
       "      <td>0.035550</td>\n",
       "      <td>0.047950</td>\n",
       "      <td>0.057950</td>\n",
       "      <td>0.064500</td>\n",
       "      <td>0.100275</td>\n",
       "      <td>0.134125</td>\n",
       "      <td>0.154000</td>\n",
       "      <td>0.169600</td>\n",
       "      <td>0.233425</td>\n",
       "      <td>0.268700</td>\n",
       "      <td>...</td>\n",
       "      <td>0.020825</td>\n",
       "      <td>0.016725</td>\n",
       "      <td>0.014900</td>\n",
       "      <td>0.014500</td>\n",
       "      <td>0.012100</td>\n",
       "      <td>0.010575</td>\n",
       "      <td>0.010425</td>\n",
       "      <td>0.010350</td>\n",
       "      <td>0.010325</td>\n",
       "      <td>0.008525</td>\n",
       "    </tr>\n",
       "    <tr>\n",
       "      <th>max</th>\n",
       "      <td>0.137100</td>\n",
       "      <td>0.233900</td>\n",
       "      <td>0.305900</td>\n",
       "      <td>0.426400</td>\n",
       "      <td>0.401000</td>\n",
       "      <td>0.382300</td>\n",
       "      <td>0.372900</td>\n",
       "      <td>0.459000</td>\n",
       "      <td>0.682800</td>\n",
       "      <td>0.710600</td>\n",
       "      <td>...</td>\n",
       "      <td>0.100400</td>\n",
       "      <td>0.070900</td>\n",
       "      <td>0.039000</td>\n",
       "      <td>0.035200</td>\n",
       "      <td>0.044700</td>\n",
       "      <td>0.039400</td>\n",
       "      <td>0.035500</td>\n",
       "      <td>0.044000</td>\n",
       "      <td>0.036400</td>\n",
       "      <td>0.043900</td>\n",
       "    </tr>\n",
       "  </tbody>\n",
       "</table>\n",
       "<p>8 rows × 60 columns</p>\n",
       "</div>"
      ],
      "text/plain": [
       "               0           1           2           3           4           5   \\\n",
       "count  208.000000  208.000000  208.000000  208.000000  208.000000  208.000000   \n",
       "mean     0.029164    0.038437    0.043832    0.053892    0.075202    0.104570   \n",
       "std      0.022991    0.032960    0.038428    0.046528    0.055552    0.059105   \n",
       "min      0.001500    0.000600    0.001500    0.005800    0.006700    0.010200   \n",
       "25%      0.013350    0.016450    0.018950    0.024375    0.038050    0.067025   \n",
       "50%      0.022800    0.030800    0.034300    0.044050    0.062500    0.092150   \n",
       "75%      0.035550    0.047950    0.057950    0.064500    0.100275    0.134125   \n",
       "max      0.137100    0.233900    0.305900    0.426400    0.401000    0.382300   \n",
       "\n",
       "               6           7           8           9   ...          50  \\\n",
       "count  208.000000  208.000000  208.000000  208.000000  ...  208.000000   \n",
       "mean     0.121747    0.134799    0.178003    0.208259  ...    0.016069   \n",
       "std      0.061788    0.085152    0.118387    0.134416  ...    0.012008   \n",
       "min      0.003300    0.005500    0.007500    0.011300  ...    0.000000   \n",
       "25%      0.080900    0.080425    0.097025    0.111275  ...    0.008425   \n",
       "50%      0.106950    0.112100    0.152250    0.182400  ...    0.013900   \n",
       "75%      0.154000    0.169600    0.233425    0.268700  ...    0.020825   \n",
       "max      0.372900    0.459000    0.682800    0.710600  ...    0.100400   \n",
       "\n",
       "               51          52          53          54          55          56  \\\n",
       "count  208.000000  208.000000  208.000000  208.000000  208.000000  208.000000   \n",
       "mean     0.013420    0.010709    0.010941    0.009290    0.008222    0.007820   \n",
       "std      0.009634    0.007060    0.007301    0.007088    0.005736    0.005785   \n",
       "min      0.000800    0.000500    0.001000    0.000600    0.000400    0.000300   \n",
       "25%      0.007275    0.005075    0.005375    0.004150    0.004400    0.003700   \n",
       "50%      0.011400    0.009550    0.009300    0.007500    0.006850    0.005950   \n",
       "75%      0.016725    0.014900    0.014500    0.012100    0.010575    0.010425   \n",
       "max      0.070900    0.039000    0.035200    0.044700    0.039400    0.035500   \n",
       "\n",
       "               57          58          59  \n",
       "count  208.000000  208.000000  208.000000  \n",
       "mean     0.007949    0.007941    0.006507  \n",
       "std      0.006470    0.006181    0.005031  \n",
       "min      0.000300    0.000100    0.000600  \n",
       "25%      0.003600    0.003675    0.003100  \n",
       "50%      0.005800    0.006400    0.005300  \n",
       "75%      0.010350    0.010325    0.008525  \n",
       "max      0.044000    0.036400    0.043900  \n",
       "\n",
       "[8 rows x 60 columns]"
      ]
     },
     "metadata": {},
     "output_type": "display_data"
    },
    {
     "data": {
      "image/png": "[encoded data removed]",
      "text/plain": [
       "<Figure size 640x480 with 64 Axes>"
      ]
     },
     "metadata": {},
     "output_type": "display_data"
    }
   ],
   "source": [
    "# load and summarize the sonar dataset \n",
    "from pandas import read_csv\n",
    "from matplotlib import pyplot \n",
    "\n",
    "# load dataset\n",
    "path_sonar_data = \"https://raw.githubusercontent.com/jbrownlee/Datasets/master/sonar.csv\"\n",
    "dataset = read_csv(path_sonar_data, header=None) \n",
    "\n",
    "# summarize the shape of the dataset \n",
    "print(dataset.shape)\n",
    "\n",
    "# summarize each variable \n",
    "display(dataset.describe())\n",
    "\n",
    "# histograms of the variables\n",
    "fig = dataset.hist(xlabelsize=4, ylabelsize=4) \n",
    "[x.title.set_size(4) for x in fig.ravel()]\n",
    "# show the plot \n",
    "pyplot.show()"
   ]
  },
  {
   "cell_type": "markdown",
   "id": "98bd02d3-1730-4916-a0c8-44b52f435497",
   "metadata": {},
   "source": [
    "Next, let’s fit and evaluate a machine learning model on the raw dataset. <br>We will use a k-nearest neighbor algorithm with default hyperparameters and evaluate it using repeated stratified k-fold cross-validation. <br>The complete example is listed below."
   ]
  },
  {
   "cell_type": "code",
   "execution_count": 46,
   "id": "c7f72f7a-8c69-498c-9032-fb15d82e59b1",
   "metadata": {},
   "outputs": [
    {
     "name": "stdout",
     "output_type": "stream",
     "text": [
      "Accuracy: 0.797 (0.073)\n"
     ]
    }
   ],
   "source": [
    "# evaluate knn on the raw sonar dataset \n",
    "from numpy import mean\n",
    "from numpy import std\n",
    "from pandas import read_csv\n",
    "from sklearn.model_selection import cross_val_score\n",
    "from sklearn.model_selection import RepeatedStratifiedKFold \n",
    "from sklearn.neighbors import KNeighborsClassifier\n",
    "from sklearn.preprocessing import LabelEncoder \n",
    "\n",
    "# load dataset\n",
    "path_sonar_data = \"https://raw.githubusercontent.com/jbrownlee/Datasets/master/sonar.csv\"\n",
    "dataset = read_csv(path_sonar_data, header=None) \n",
    "data = dataset.values\n",
    "\n",
    "# separate into input and output columns \n",
    "X, y = data[:, :-1], data[:, -1]\n",
    "\n",
    "# ensure inputs are floats and output is an integer label\n",
    "X = X.astype('float32')\n",
    "y  =  LabelEncoder().fit_transform(y.astype('str')) \n",
    "\n",
    "# define and configure the model\n",
    "model = KNeighborsClassifier()\n",
    "\n",
    "# evaluate the model\n",
    "cv = RepeatedStratifiedKFold(n_splits=10, n_repeats=3, random_state=1)\n",
    "n_scores = cross_val_score(model, X, y, scoring='accuracy', cv=cv, n_jobs=-1)\n",
    "\n",
    "# report model performance\n",
    "print('Accuracy: %.3f (%.3f)' % (mean(n_scores), std(n_scores)))"
   ]
  },
  {
   "cell_type": "markdown",
   "id": "c679b0b8-f7a3-4214-8512-4929b22ee082",
   "metadata": {},
   "source": [
    "#### Polynomial Feature Transform Example"
   ]
  },
  {
   "cell_type": "code",
   "execution_count": 47,
   "id": "86698f92-f76f-4692-beef-435ea4351c3f",
   "metadata": {},
   "outputs": [
    {
     "name": "stdout",
     "output_type": "stream",
     "text": [
      "(208, 39711)\n"
     ]
    }
   ],
   "source": [
    "# visualize a polynomial features transform of the sonar dataset \n",
    "from pandas import read_csv\n",
    "from pandas import DataFrame\n",
    "from sklearn.preprocessing import PolynomialFeatures \n",
    "\n",
    "# load dataset\n",
    "path_sonar_data = \"https://raw.githubusercontent.com/jbrownlee/Datasets/master/sonar.csv\"\n",
    "dataset = read_csv(path_sonar_data, header=None) \n",
    "\n",
    "# retrieve just the numeric input values \n",
    "data = dataset.values[:, :-1]\n",
    "\n",
    "# perform a polynomial features transform of the dataset \n",
    "trans = PolynomialFeatures(degree=3)\n",
    "data = trans.fit_transform(data)\n",
    "\n",
    "# convert the array back to a dataframe \n",
    "dataset = DataFrame(data)\n",
    "\n",
    "# summarize \n",
    "print(dataset.shape)"
   ]
  },
  {
   "cell_type": "markdown",
   "id": "22e2b20e-79b6-40ac-9615-46c0c06d3a83",
   "metadata": {},
   "source": [
    "Running the example performs the polynomial features transform on the sonar dataset. We can see that our features increased from 61 (60 input features) for the raw dataset to 39,711 features (39,710 input features)."
   ]
  },
  {
   "cell_type": "markdown",
   "id": "cf240b41-4f61-4242-a956-dca8106fa88b",
   "metadata": {},
   "source": [
    "Next, let’s evaluate the same KNN model as the previous section, but in this case on a polynomial features transform of the dataset. The complete example is listed below."
   ]
  },
  {
   "cell_type": "code",
   "execution_count": 48,
   "id": "e9e9342c-9350-4d91-80db-6c54a6c0dea2",
   "metadata": {},
   "outputs": [
    {
     "name": "stdout",
     "output_type": "stream",
     "text": [
      "Accuracy: 0.800 (0.077)\n"
     ]
    }
   ],
   "source": [
    "# evaluate knn on the sonar dataset with polynomial features transform \n",
    "from numpy import mean\n",
    "from numpy import std\n",
    "from pandas import read_csv\n",
    "from sklearn.model_selection import cross_val_score\n",
    "from sklearn.model_selection import RepeatedStratifiedKFold \n",
    "from sklearn.neighbors import KNeighborsClassifier\n",
    "from sklearn.preprocessing import LabelEncoder\n",
    "from sklearn.preprocessing import PolynomialFeatures \n",
    "from sklearn.pipeline import Pipeline\n",
    "\n",
    "# load dataset\n",
    "path_sonar_data = \"https://raw.githubusercontent.com/jbrownlee/Datasets/master/sonar.csv\"\n",
    "dataset = read_csv(path_sonar_data, header=None) \n",
    "data = dataset.values\n",
    "\n",
    "# separate into input and output columns \n",
    "X, y = data[:, :-1], data[:, -1]\n",
    "\n",
    "# ensure inputs are floats and output is an integer label\n",
    "X = X.astype('float32')\n",
    "y  =  LabelEncoder().fit_transform(y.astype('str')) \n",
    "\n",
    "# define the pipeline\n",
    "trans = PolynomialFeatures(degree=3) \n",
    "model = KNeighborsClassifier()\n",
    "pipeline = Pipeline(steps=[('t', trans), ('m', model)]) \n",
    "\n",
    "# evaluate the pipeline\n",
    "cv = RepeatedStratifiedKFold(n_splits=10, n_repeats=3, random_state=1)\n",
    "n_scores = cross_val_score(pipeline, X, y, scoring='accuracy', cv=cv, n_jobs=-1) \n",
    "\n",
    "# report pipeline performance\n",
    "print('Accuracy: %.3f (%.3f)' % (mean(n_scores), std(n_scores)))"
   ]
  },
  {
   "cell_type": "markdown",
   "id": "ccc65c53-c538-4518-b745-dbba3b8dad7c",
   "metadata": {},
   "source": [
    "Running the example, we can see that the polynomial features transform results in a lift in performance from 79.7 percent accuracy without the transform to about 80.0 percent with the transform."
   ]
  },
  {
   "cell_type": "markdown",
   "id": "6629b3be-4ba1-4861-a142-f95a05340198",
   "metadata": {},
   "source": [
    "#### Effect of Polynomial Degree"
   ]
  },
  {
   "cell_type": "markdown",
   "id": "6aefcb11-832c-423e-b541-7aae9fee3438",
   "metadata": {},
   "source": [
    "The degree of the polynomial dramatically increases the number of input features. To get an idea of how much this impacts the number of features, we can perform the transform with a range of different degrees and compare the number of features in the dataset. The complete example is listed below."
   ]
  },
  {
   "cell_type": "code",
   "execution_count": 49,
   "id": "ec5b41a5-4a58-4dda-8eb1-adbfd2c777d1",
   "metadata": {},
   "outputs": [
    {
     "name": "stdout",
     "output_type": "stream",
     "text": [
      "Degree: 1, Features: 61\n",
      "Degree: 2, Features: 1891\n",
      "Degree: 3, Features: 39711\n",
      "Degree: 4, Features: 635376\n",
      "Degree: 5, Features: 8259888\n"
     ]
    },
    {
     "data": {
      "image/png": "[encoded data removed]",
      "text/plain": [
       "<Figure size 640x480 with 1 Axes>"
      ]
     },
     "metadata": {},
     "output_type": "display_data"
    }
   ],
   "source": [
    "# compare the effect of the degree on the number of created features \n",
    "from pandas import read_csv\n",
    "from sklearn.preprocessing import LabelEncoder\n",
    "from sklearn.preprocessing import PolynomialFeatures \n",
    "from matplotlib import pyplot\n",
    "\n",
    "# get the dataset\n",
    "def get_dataset(filename):\n",
    "    # load dataset\n",
    "    dataset = read_csv(filename, header=None) \n",
    "    data = dataset.values\n",
    "    # separate into input and output columns \n",
    "    X, y = data[:, :-1], data[:, -1]\n",
    "    # ensure inputs are floats and output is an integer label\n",
    "    X = X.astype('float32')\n",
    "    y = LabelEncoder().fit_transform(y.astype('str')) \n",
    "    return X, y\n",
    "\n",
    "\n",
    "# define dataset\n",
    "path_sonar_data = \"https://raw.githubusercontent.com/jbrownlee/Datasets/master/sonar.csv\"\n",
    "X, y = get_dataset(path_sonar_data)\n",
    "\n",
    "# calculate change in number of features \n",
    "num_features = list()\n",
    "degress = [i for i in range(1, 6)] \n",
    "\n",
    "for d in degress:\n",
    "    # create transform\n",
    "    trans = PolynomialFeatures(degree=d) \n",
    "    \n",
    "    # fit and transform\n",
    "    data = trans.fit_transform(X) \n",
    "    \n",
    "    # record number of features\n",
    "    num_features.append(data.shape[1]) \n",
    "    \n",
    "    # summarize\n",
    "    print('Degree: %d, Features: %d' % (d, data.shape[1])) \n",
    "\n",
    "# plot degree vs number of features\n",
    "pyplot.plot(degress, num_features) \n",
    "pyplot.show()"
   ]
  },
  {
   "cell_type": "markdown",
   "id": "66a497b1-6791-4b9c-9ecb-ae4125d0e0c9",
   "metadata": {},
   "source": [
    "Running the example first reports the degree from 1 to 5 and the number of features in the dataset. We can see that a degree of 1 has no effect and that the number of features dramatically increases from 2 through to 5. This highlights that for anything other than very small datasets, a degree of 2 or 3 should be used to avoid a dramatic increase in input variables."
   ]
  },
  {
   "cell_type": "markdown",
   "id": "8a90591f-71e1-456c-b04e-6fcc18c33826",
   "metadata": {},
   "source": [
    "More features may result in more overfitting, and in turn, worse results. It may be a good idea to treat the degree for the polynomial features transform as a hyperparameter and test different values for your dataset. "
   ]
  },
  {
   "cell_type": "markdown",
   "id": "1c7fcf35-4881-46e0-acb9-7f5f06eb0781",
   "metadata": {},
   "source": [
    "The example below explores degree values from 1 to 4 and evaluates their effect on classification accuracy with the chosen model."
   ]
  },
  {
   "cell_type": "code",
   "execution_count": 50,
   "id": "e4910aab-326f-463d-b373-493e7dccda1f",
   "metadata": {},
   "outputs": [
    {
     "name": "stdout",
     "output_type": "stream",
     "text": [
      ">1 0.797 (0.073)\n",
      ">2 0.793 (0.085)\n"
     ]
    },
    {
     "data": {
      "image/png": "[encoded data removed]",
      "text/plain": [
       "<Figure size 640x480 with 1 Axes>"
      ]
     },
     "metadata": {},
     "output_type": "display_data"
    }
   ],
   "source": [
    "# explore the effect of degree on accuracy for the polynomial features transform \n",
    "from numpy import mean\n",
    "from numpy import std\n",
    "from pandas import read_csv\n",
    "from sklearn.model_selection import cross_val_score\n",
    "from sklearn.model_selection import RepeatedStratifiedKFold \n",
    "from sklearn.neighbors import KNeighborsClassifier\n",
    "from sklearn.preprocessing import PolynomialFeatures \n",
    "from sklearn.preprocessing import LabelEncoder\n",
    "from sklearn.pipeline import Pipeline \n",
    "from matplotlib import pyplot\n",
    "\n",
    "# get the dataset\n",
    "def get_dataset(filename):\n",
    "    # load dataset\n",
    "    dataset = read_csv(filename, header=None) \n",
    "    data = dataset.values\n",
    "    # separate into input and output columns \n",
    "    X, y = data[:, :-1], data[:, -1]\n",
    "    # ensure inputs are floats and output is an integer label\n",
    "    X = X.astype('float32')\n",
    "    y = LabelEncoder().fit_transform(y.astype('str')) \n",
    "    return X, y\n",
    "\n",
    "# get a list of models to evaluate \n",
    "def get_models():\n",
    "    models = dict()\n",
    "    for d in range(1,3):\n",
    "        # define the pipeline\n",
    "        trans = PolynomialFeatures(degree=d) \n",
    "        model = KNeighborsClassifier()\n",
    "        models[str(d)] = Pipeline(steps=[('t', trans), ('m', model)]) \n",
    "    return models\n",
    "\n",
    "# evaluate a given model using cross-validation \n",
    "def evaluate_model(model, X, y):\n",
    "    cv = RepeatedStratifiedKFold(n_splits=10, n_repeats=3, random_state=1) \n",
    "    scores = cross_val_score(model, X, y, scoring='accuracy', cv=cv, n_jobs=-1) \n",
    "    return scores\n",
    "\n",
    "# define dataset\n",
    "path_sonar_data = \"https://raw.githubusercontent.com/jbrownlee/Datasets/master/sonar.csv\"\n",
    "X, y = get_dataset(path_sonar_data) \n",
    "\n",
    "# get the models to evaluate \n",
    "models = get_models()\n",
    "\n",
    "# evaluate the models and store results \n",
    "results, names = list(), list()\n",
    "for name, model in models.items():\n",
    "    scores = evaluate_model(model, X, y) \n",
    "    results.append(scores) \n",
    "    names.append(name)\n",
    "    print('>%s %.3f (%.3f)'  % (name, mean(scores), std(scores))) \n",
    "\n",
    "# plot model performance for comparison \n",
    "pyplot.boxplot(results, tick_labels=names, showmeans=True) \n",
    "pyplot.show()"
   ]
  },
  {
   "cell_type": "markdown",
   "id": "a2105b4d-95fe-40a3-b553-35804da4f2a6",
   "metadata": {},
   "source": [
    "**/!\\ Degrees 3 and 4 not taken into account. Too computationnally expensive for my laptop configuration !**"
   ]
  },
  {
   "cell_type": "markdown",
   "id": "61d7ff3d-254f-470f-ad63-0acb722cbd52",
   "metadata": {},
   "source": [
    "Running the example reports the mean classification accuracy for each polynomial degree."
   ]
  },
  {
   "cell_type": "markdown",
   "id": "1b1fa53d-0db0-4253-81e9-c38d40791d15",
   "metadata": {},
   "source": [
    "In this case, we can see that performance is generally worse than no transform (degree 1) except for a degree 3. It might be interesting to explore scaling the data before or after performing the transform to see how it impacts model performance."
   ]
  },
  {
   "cell_type": "markdown",
   "id": "08c276b0-b115-47bf-976a-82e9c8caaf7c",
   "metadata": {},
   "source": [
    "Box and whisker plots are created to summarize the classification accuracy scores for each polynomial degree. We can see that performance remains flat, perhaps with the first signs of overfitting with a degree of 4."
   ]
  },
  {
   "cell_type": "code",
   "execution_count": null,
   "id": "3c50d037-b2ce-4c5d-a108-a93ea7d50865",
   "metadata": {},
   "outputs": [],
   "source": []
  },
  {
   "cell_type": "code",
   "execution_count": null,
   "id": "d017ad15-9917-4e9a-89e7-a4e76bf409ff",
   "metadata": {},
   "outputs": [],
   "source": []
  },
  {
   "cell_type": "code",
   "execution_count": null,
   "id": "a776ba9a-b0e0-4033-ba33-ca1f0c6abf39",
   "metadata": {},
   "outputs": [],
   "source": []
  },
  {
   "cell_type": "code",
   "execution_count": null,
   "id": "c09f717e-8dbc-437b-b9b3-3a510eff1f7e",
   "metadata": {},
   "outputs": [],
   "source": []
  }
 ],
 "metadata": {
  "kernelspec": {
   "display_name": "Python 3 (ipykernel)",
   "language": "python",
   "name": "python3"
  },
  "language_info": {
   "codemirror_mode": {
    "name": "ipython",
    "version": 3
   },
   "file_extension": ".py",
   "mimetype": "text/x-python",
   "name": "python",
   "nbconvert_exporter": "python",
   "pygments_lexer": "ipython3",
   "version": "3.10.6"
  }
 },
 "nbformat": 4,
 "nbformat_minor": 5
}
