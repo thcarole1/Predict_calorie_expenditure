{
 "cells": [
  {
   "cell_type": "markdown",
   "id": "14453f85-6254-40d1-baf4-5fdb510ffe77",
   "metadata": {},
   "source": [
    "# Data transforms"
   ]
  },
  {
   "cell_type": "code",
   "execution_count": null,
   "id": "8075d1dd-0e7a-4ac3-bdca-7a7716346a49",
   "metadata": {},
   "outputs": [],
   "source": [
    "# Libraries\n",
    "\n",
    "## Basic libraries\n",
    "import numpy as np\n",
    "import pandas as pd\n",
    "import seaborn as sns\n",
    "\n",
    "import math\n",
    "from numpy import mean \n",
    "from numpy import std\n",
    "from numpy import percentile \n",
    "# from scipy.stats import iqr\n",
    "\n",
    "## Plotting\n",
    "import matplotlib.pyplot as plt\n",
    "\n",
    "from pandas import read_csv\n",
    "import pandas as pd\n",
    "from sklearn.model_selection import train_test_split \n",
    "from sklearn.preprocessing import LabelEncoder\n",
    "from sklearn.preprocessing import OrdinalEncoder \n",
    "from sklearn.feature_selection import SelectKBest \n",
    "from sklearn.feature_selection import chi2\n",
    "from matplotlib import pyplot"
   ]
  },
  {
   "cell_type": "markdown",
   "id": "8dee2151-c7cd-4518-9b5b-451e3be58292",
   "metadata": {},
   "source": [
    "## How to Scale Numerical Data"
   ]
  },
  {
   "cell_type": "markdown",
   "id": "d9833bf4-2688-4d41-8446-3eee9cc8a045",
   "metadata": {},
   "source": [
    "📌 **Why Scale Numerical Data?**\n",
    "- Many ML algorithms perform better with scaled data.\n",
    "- Algorithms affected:<br>\n",
    "o\t**Weighted-sum models**: Linear Regression, Logistic Regression, Neural Networks.<br>\n",
    "o\t**Distance-based models**: KNN, SVM.<br>\n",
    "- Algorithms unaffected: Decision Trees, Random Forests.\n",
    "- Scaling helps:<br>\n",
    "o\tPrevent instability from large weights.<br>\n",
    "o\tImprove convergence and performance.<br>\n",
    "o\tNormalize gradients in neural networks.<br>"
   ]
  },
  {
   "cell_type": "markdown",
   "id": "60fbcb7f-40f5-4fd2-b627-de97e650eb41",
   "metadata": {},
   "source": [
    "🔢 **Two Main Scaling Techniques**<br><br>\n",
    "🔹 **Normalization (Min-Max Scaling)**<br>\n",
    "- **Range**: Scales values to **[0, 1]**.\n",
    "- Formula: **y = (x - min) / (max - min)**<br>\n",
    "- Assumes known or estimable min and max.\n",
    "- Sensitive to **outliers**.\n",
    "- Use **MinMaxScaler** from scikit-learn.<br><br>\n",
    "  \n",
    "🔹 **Standardization (Z-score Scaling)**<br>\n",
    "- **Range**: Mean = 0, Standard Deviation = 1.\n",
    "- Formula: **y = (x - mean) / standard_deviation**<br>\n",
    "- More **robust** to outliers.\n",
    "- Assumes **Gaussian distribution** (but works without it).\n",
    "- Use **StandardScaler** from scikit-learn."
   ]
  },
  {
   "cell_type": "markdown",
   "id": "d573a75c-a64b-494e-bb3e-c8cabeaf4e8d",
   "metadata": {},
   "source": [
    "🛠️ **How to Apply Scaling (Best Practice)**<br>\n",
    "1. **Fit** the scaler on **training data** only.\n",
    "2.\t**Transform** the training and future data.\n",
    "3.\tOptionally **inverse transform** for interpretation."
   ]
  },
  {
   "cell_type": "markdown",
   "id": "a06e1838-4b1c-40b3-8763-ddeee9b57b7c",
   "metadata": {},
   "source": [
    "❓ **Common Questions**<br>\n",
    "- **Normalize vs Standardize?**<br>\n",
    "o\tNormalize if distribution is unknown or not Gaussian.<br>\n",
    "o\tStandardize if distribution is Gaussian or spread is wide.<br><br>\n",
    "- **Standardize then Normalize?**<br>\n",
    "o\tOptional. Useful if mixing scaled data types or using distance-based models.<br><br>\n",
    "- **Which is best?**<br>\n",
    "o\tNo universal answer. Test both and compare performance.<br><br>\n",
    "- **Out-of-bounds values?**<br>\n",
    "o\tClamp to training min/max or set bounds manually."
   ]
  },
  {
   "cell_type": "markdown",
   "id": "364e1659-9ef7-4bad-9cc5-333749fdb9fb",
   "metadata": {},
   "source": [
    "✅ **Key Takeaways**\n",
    "- **Scaling improves model performance and stability.**\n",
    "- **Choose scaling based on data characteristics and model type.**\n",
    "- Always **evaluate impact of scaling on performance.**"
   ]
  },
  {
   "cell_type": "markdown",
   "id": "4d662404-cb34-49a0-a305-217cec270ba2",
   "metadata": {},
   "source": [
    "### Diabetes Dataset"
   ]
  },
  {
   "cell_type": "code",
   "execution_count": 3,
   "id": "2af9e0f3-764b-4450-8986-eb72dbd07af6",
   "metadata": {},
   "outputs": [
    {
     "name": "stdout",
     "output_type": "stream",
     "text": [
      "(768, 9)\n",
      "                0           1           2           3           4           5  \\\n",
      "count  768.000000  768.000000  768.000000  768.000000  768.000000  768.000000   \n",
      "mean     3.845052  120.894531   69.105469   20.536458   79.799479   31.992578   \n",
      "std      3.369578   31.972618   19.355807   15.952218  115.244002    7.884160   \n",
      "min      0.000000    0.000000    0.000000    0.000000    0.000000    0.000000   \n",
      "25%      1.000000   99.000000   62.000000    0.000000    0.000000   27.300000   \n",
      "50%      3.000000  117.000000   72.000000   23.000000   30.500000   32.000000   \n",
      "75%      6.000000  140.250000   80.000000   32.000000  127.250000   36.600000   \n",
      "max     17.000000  199.000000  122.000000   99.000000  846.000000   67.100000   \n",
      "\n",
      "                6           7           8  \n",
      "count  768.000000  768.000000  768.000000  \n",
      "mean     0.471876   33.240885    0.348958  \n",
      "std      0.331329   11.760232    0.476951  \n",
      "min      0.078000   21.000000    0.000000  \n",
      "25%      0.243750   24.000000    0.000000  \n",
      "50%      0.372500   29.000000    0.000000  \n",
      "75%      0.626250   41.000000    1.000000  \n",
      "max      2.420000   81.000000    1.000000  \n"
     ]
    },
    {
     "data": {
      "image/png": "[encoded data removed]",
      "text/plain": [
       "<Figure size 640x480 with 9 Axes>"
      ]
     },
     "metadata": {},
     "output_type": "display_data"
    }
   ],
   "source": [
    "# load and summarize the diabetes dataset \n",
    "from pandas import read_csv\n",
    "from matplotlib import pyplot \n",
    "\n",
    "# load the dataset\n",
    "path_diabetes= \"https://raw.githubusercontent.com/jbrownlee/Datasets/master/pima-indians-diabetes.csv\"\n",
    "dataset = read_csv(path_diabetes, header=None) \n",
    "\n",
    "# summarize the shape of the dataset\n",
    "print(dataset.shape)\n",
    "\n",
    "# summarize each variable \n",
    "print(dataset.describe())\n",
    "\n",
    "# histograms of the variables\n",
    "fig = dataset.hist(xlabelsize=4, ylabelsize=4) \n",
    "[x.title.set_size(4)  for  x  in  fig.ravel()]\n",
    "\n",
    "# show the plot \n",
    "pyplot.show()"
   ]
  },
  {
   "cell_type": "markdown",
   "id": "31300747-1404-4462-8879-83268fee8add",
   "metadata": {},
   "source": [
    "Next, let’s fit and evaluate a machine learning model on the raw dataset. We will use a k-nearest neighbor algorithm with default hyperparameters and evaluate it using repeated stratified k-fold cross-validation. The complete example is listed below."
   ]
  },
  {
   "cell_type": "code",
   "execution_count": 4,
   "id": "44408ea3-d83b-4166-a8ea-0a51518695ce",
   "metadata": {},
   "outputs": [
    {
     "name": "stdout",
     "output_type": "stream",
     "text": [
      "Accuracy: 0.717 (0.040)\n"
     ]
    }
   ],
   "source": [
    "# evaluate knn on the raw diabetes dataset \n",
    "from numpy import mean\n",
    "from numpy import std\n",
    "from pandas import read_csv\n",
    "from sklearn.model_selection import cross_val_score\n",
    "from sklearn.model_selection import RepeatedStratifiedKFold \n",
    "from sklearn.neighbors import KNeighborsClassifier\n",
    "from sklearn.preprocessing import LabelEncoder \n",
    "\n",
    "# load the dataset\n",
    "path_diabetes= \"https://raw.githubusercontent.com/jbrownlee/Datasets/master/pima-indians-diabetes.csv\"\n",
    "dataset = read_csv(path_diabetes, header=None) \n",
    "data = dataset.values\n",
    "\n",
    "# separate into input and output columns \n",
    "X, y = data[:, :-1], data[:, -1]\n",
    "\n",
    "# ensure inputs are floats and output is an integer label\n",
    "X = X.astype('float32')\n",
    "y  =  LabelEncoder().fit_transform(y.astype('str'))\n",
    "\n",
    "# define and configure the model\n",
    "model = KNeighborsClassifier() \n",
    "\n",
    "# evaluate the model\n",
    "cv = RepeatedStratifiedKFold(n_splits=10, n_repeats=3, random_state=1)\n",
    "n_scores = cross_val_score(model, X, y, scoring='accuracy', cv=cv, n_jobs=-1)\n",
    "\n",
    "# report model performance\n",
    "print('Accuracy: %.3f (%.3f)' % (mean(n_scores), std(n_scores)))"
   ]
  },
  {
   "cell_type": "markdown",
   "id": "3739be8f-1ea1-448c-bf5f-eb0ace8961f2",
   "metadata": {},
   "source": [
    "### MinMaxScaler Transform"
   ]
  },
  {
   "cell_type": "markdown",
   "id": "ec863543-97d7-4dc6-bdc9-847271cfa049",
   "metadata": {},
   "source": [
    "🔹 **Normalization (Min-Max Scaling)**<br>\n",
    "- **Range**: Scales values to **[0, 1]**.\n",
    "- Formula: **y = (x - min) / (max - min)**<br>\n",
    "- Assumes known or estimable min and max.\n",
    "- Sensitive to **outliers**.\n",
    "- Use **MinMaxScaler** from scikit-learn.<br><br>"
   ]
  },
  {
   "cell_type": "code",
   "execution_count": 5,
   "id": "a85b6878-a484-422d-9433-662c61f98dd8",
   "metadata": {
    "scrolled": true
   },
   "outputs": [
    {
     "name": "stdout",
     "output_type": "stream",
     "text": [
      "                0           1           2           3           4           5  \\\n",
      "count  768.000000  768.000000  768.000000  768.000000  768.000000  768.000000   \n",
      "mean     0.226180    0.607510    0.566438    0.207439    0.094326    0.476790   \n",
      "std      0.198210    0.160666    0.158654    0.161134    0.136222    0.117499   \n",
      "min      0.000000    0.000000    0.000000    0.000000    0.000000    0.000000   \n",
      "25%      0.058824    0.497487    0.508197    0.000000    0.000000    0.406855   \n",
      "50%      0.176471    0.587940    0.590164    0.232323    0.036052    0.476900   \n",
      "75%      0.352941    0.704774    0.655738    0.323232    0.150414    0.545455   \n",
      "max      1.000000    1.000000    1.000000    1.000000    1.000000    1.000000   \n",
      "\n",
      "                6           7  \n",
      "count  768.000000  768.000000  \n",
      "mean     0.168179    0.204015  \n",
      "std      0.141473    0.196004  \n",
      "min      0.000000    0.000000  \n",
      "25%      0.070773    0.050000  \n",
      "50%      0.125747    0.133333  \n",
      "75%      0.234095    0.333333  \n",
      "max      1.000000    1.000000  \n"
     ]
    },
    {
     "data": {
      "image/png": "[encoded data removed]",
      "text/plain": [
       "<Figure size 640x480 with 9 Axes>"
      ]
     },
     "metadata": {},
     "output_type": "display_data"
    }
   ],
   "source": [
    "# visualize a minmax scaler transform of the diabetes dataset \n",
    "from pandas import read_csv\n",
    "from pandas import DataFrame\n",
    "from sklearn.preprocessing import MinMaxScaler \n",
    "from matplotlib import pyplot\n",
    "\n",
    "# load the dataset\n",
    "path_diabetes= \"https://raw.githubusercontent.com/jbrownlee/Datasets/master/pima-indians-diabetes.csv\"\n",
    "dataset = read_csv(path_diabetes, header=None) \n",
    "\n",
    "# retrieve just the numeric input values\n",
    "data = dataset.values[:, :-1]\n",
    "\n",
    "# perform a robust scaler transform of the dataset \n",
    "trans = MinMaxScaler()\n",
    "data = trans.fit_transform(data)\n",
    "\n",
    "# convert the array back to a dataframe \n",
    "dataset = DataFrame(data)\n",
    "\n",
    "# summarize \n",
    "print(dataset.describe())\n",
    "\n",
    "# histograms of the variables\n",
    "fig = dataset.hist(xlabelsize=4, ylabelsize=4) \n",
    "[x.title.set_size(4) for x in fig.ravel()]\n",
    "\n",
    "# show the plot \n",
    "pyplot.show()"
   ]
  },
  {
   "cell_type": "markdown",
   "id": "5fdabe65-4104-49e9-aed5-e7ae4a105e2a",
   "metadata": {},
   "source": [
    "Next, let’s evaluate the same KNN model as the previous section, but in this case, on a MinMaxScaler transform of the dataset. The complete example is listed below."
   ]
  },
  {
   "cell_type": "code",
   "execution_count": 6,
   "id": "d3b3a6ec-40ff-4b14-9779-39b8713629a4",
   "metadata": {},
   "outputs": [
    {
     "name": "stdout",
     "output_type": "stream",
     "text": [
      "Accuracy: 0.739 (0.053)\n"
     ]
    }
   ],
   "source": [
    "# evaluate knn on the diabetes dataset with minmax scaler transform \n",
    "from numpy import mean\n",
    "from numpy import std\n",
    "from pandas import read_csv\n",
    "from sklearn.model_selection import cross_val_score\n",
    "from sklearn.model_selection import RepeatedStratifiedKFold \n",
    "from sklearn.neighbors import KNeighborsClassifier\n",
    "from sklearn.preprocessing import LabelEncoder \n",
    "from sklearn.preprocessing import MinMaxScaler \n",
    "from sklearn.pipeline import Pipeline\n",
    "\n",
    "# load the dataset\n",
    "path_diabetes= \"https://raw.githubusercontent.com/jbrownlee/Datasets/master/pima-indians-diabetes.csv\"\n",
    "dataset = read_csv(path_diabetes, header=None) \n",
    "data = dataset.values\n",
    "\n",
    "# separate into input and output columns \n",
    "X, y = data[:, :-1], data[:, -1]\n",
    "\n",
    "# ensure inputs are floats and output is an integer label\n",
    "X = X.astype('float32')\n",
    "y  =  LabelEncoder().fit_transform(y.astype('str')) \n",
    "\n",
    "# define the pipeline\n",
    "trans = MinMaxScaler()\n",
    "model  =  KNeighborsClassifier()\n",
    "pipeline = Pipeline(steps=[('t', trans), ('m', model)]) \n",
    "\n",
    "# evaluate the pipeline\n",
    "cv = RepeatedStratifiedKFold(n_splits=10, n_repeats=3, random_state=1)\n",
    "n_scores = cross_val_score(pipeline, X, y, scoring='accuracy', cv=cv, n_jobs=-1) \n",
    "\n",
    "# report pipeline performance\n",
    "print('Accuracy: %.3f (%.3f)' % (mean(n_scores), std(n_scores)))"
   ]
  },
  {
   "cell_type": "markdown",
   "id": "377648f1-0695-4261-9755-986ef34efeb1",
   "metadata": {},
   "source": [
    "### StandardScaler Transform"
   ]
  },
  {
   "cell_type": "markdown",
   "id": "cf970bee-bca8-48ee-9abc-2c0a5d15cfe1",
   "metadata": {},
   "source": [
    "🔹 **Standardization (Z-score Scaling)**<br>\n",
    "- **Range**: Mean = 0, Standard Deviation = 1.\n",
    "- Formula: **y = (x - mean) / standard_deviation**<br>\n",
    "- More **robust** to outliers.\n",
    "- Assumes **Gaussian distribution** (but works without it).\n",
    "- Use **StandardScaler** from scikit-learn."
   ]
  },
  {
   "cell_type": "code",
   "execution_count": 7,
   "id": "ea005851-d153-46ac-90ee-6deb67537c03",
   "metadata": {},
   "outputs": [
    {
     "name": "stdout",
     "output_type": "stream",
     "text": [
      "                  0             1             2             3             4  \\\n",
      "count  7.680000e+02  7.680000e+02  7.680000e+02  7.680000e+02  7.680000e+02   \n",
      "mean  -6.476301e-17 -9.251859e-18  1.503427e-17  1.006140e-16 -3.006854e-17   \n",
      "std    1.000652e+00  1.000652e+00  1.000652e+00  1.000652e+00  1.000652e+00   \n",
      "min   -1.141852e+00 -3.783654e+00 -3.572597e+00 -1.288212e+00 -6.928906e-01   \n",
      "25%   -8.448851e-01 -6.852363e-01 -3.673367e-01 -1.288212e+00 -6.928906e-01   \n",
      "50%   -2.509521e-01 -1.218877e-01  1.496408e-01  1.545332e-01 -4.280622e-01   \n",
      "75%    6.399473e-01  6.057709e-01  5.632228e-01  7.190857e-01  4.120079e-01   \n",
      "max    3.906578e+00  2.444478e+00  2.734528e+00  4.921866e+00  6.652839e+00   \n",
      "\n",
      "                  5             6             7  \n",
      "count  7.680000e+02  7.680000e+02  7.680000e+02  \n",
      "mean   2.590520e-16  2.451743e-16  1.931325e-16  \n",
      "std    1.000652e+00  1.000652e+00  1.000652e+00  \n",
      "min   -4.060474e+00 -1.189553e+00 -1.041549e+00  \n",
      "25%   -5.955785e-01 -6.889685e-01 -7.862862e-01  \n",
      "50%    9.419788e-04 -3.001282e-01 -3.608474e-01  \n",
      "75%    5.847705e-01  4.662269e-01  6.602056e-01  \n",
      "max    4.455807e+00  5.883565e+00  4.063716e+00  \n"
     ]
    },
    {
     "data": {
      "image/png": "[encoded data removed]",
      "text/plain": [
       "<Figure size 640x480 with 9 Axes>"
      ]
     },
     "metadata": {},
     "output_type": "display_data"
    }
   ],
   "source": [
    "# visualize a standard scaler transform of the diabetes dataset \n",
    "from pandas import read_csv\n",
    "from pandas import DataFrame\n",
    "from sklearn.preprocessing import StandardScaler \n",
    "from matplotlib import pyplot\n",
    "\n",
    "# load the dataset\n",
    "path_diabetes= \"https://raw.githubusercontent.com/jbrownlee/Datasets/master/pima-indians-diabetes.csv\"\n",
    "dataset = read_csv(path_diabetes, header=None) \n",
    "\n",
    "# retrieve just the numeric input values\n",
    "data = dataset.values[:, :-1]\n",
    "\n",
    "# perform a robust scaler transform of the dataset\n",
    "trans = StandardScaler()\n",
    "data = trans.fit_transform(data)\n",
    "\n",
    "# convert the array back to a dataframe \n",
    "dataset = DataFrame(data)\n",
    "# summarize \n",
    "print(dataset.describe())\n",
    "\n",
    "# histograms of the variables\n",
    "fig = dataset.hist(xlabelsize=4, ylabelsize=4)\n",
    "[x.title.set_size(4) for x in fig.ravel()]\n",
    "\n",
    "# show the plot \n",
    "pyplot.show()"
   ]
  },
  {
   "cell_type": "markdown",
   "id": "f041b3a3-0a86-4e3b-b7f7-d97659c02034",
   "metadata": {},
   "source": [
    "Next, let’s evaluate the same KNN model as the previous section, but in this case, on a StandardScaler transform of the dataset. The complete example is listed below."
   ]
  },
  {
   "cell_type": "code",
   "execution_count": 8,
   "id": "33dadaa1-5814-443c-812c-c2427b49b323",
   "metadata": {},
   "outputs": [
    {
     "name": "stdout",
     "output_type": "stream",
     "text": [
      "Accuracy: 0.741 (0.050)\n"
     ]
    }
   ],
   "source": [
    "# evaluate knn on the diabetes dataset with standard scaler transform \n",
    "from numpy import mean\n",
    "from numpy import std\n",
    "from pandas import read_csv\n",
    "from sklearn.model_selection import cross_val_score\n",
    "from sklearn.model_selection import RepeatedStratifiedKFold \n",
    "from sklearn.neighbors import KNeighborsClassifier\n",
    "from sklearn.preprocessing import LabelEncoder \n",
    "from sklearn.preprocessing import StandardScaler \n",
    "from sklearn.pipeline import Pipeline\n",
    "\n",
    "# load the dataset\n",
    "path_diabetes= \"https://raw.githubusercontent.com/jbrownlee/Datasets/master/pima-indians-diabetes.csv\"\n",
    "dataset = read_csv(path_diabetes, header=None) \n",
    "data = dataset.values\n",
    "\n",
    "# separate into input and output columns \n",
    "X, y = data[:, :-1], data[:, -1]\n",
    "\n",
    "# ensure inputs are floats and output is an integer label\n",
    "X = X.astype('float32')\n",
    "y  =  LabelEncoder().fit_transform(y.astype('str')) \n",
    "\n",
    "# define the pipeline\n",
    "trans = StandardScaler()\n",
    "model  =  KNeighborsClassifier()\n",
    "pipeline = Pipeline(steps=[('t', trans), ('m', model)]) \n",
    "\n",
    "# evaluate the pipeline\n",
    "cv = RepeatedStratifiedKFold(n_splits=10, n_repeats=3, random_state=1)\n",
    "n_scores = cross_val_score(pipeline, X, y, scoring='accuracy', cv=cv, n_jobs=-1) \n",
    "\n",
    "# report pipeline performance\n",
    "print('Accuracy: %.3f (%.3f)' % (mean(n_scores), std(n_scores)))"
   ]
  },
  {
   "cell_type": "markdown",
   "id": "652b9409-1040-4989-b0ea-19a20cf3d1a5",
   "metadata": {},
   "source": [
    "## How to Scale Data With Outliers"
   ]
  },
  {
   "cell_type": "markdown",
   "id": "5d2091c0-83d8-4783-b6e7-8043a058152d",
   "metadata": {},
   "source": [
    "📌 **Why Scale Data?**\n",
    "- Many ML algorithms perform better with scaled numerical input.\n",
    "- Algorithms like linear regression, KNN, SVM, and neural networks are sensitive to feature scale.\n",
    "- Large-valued features can dominate and bias model learning."
   ]
  },
  {
   "cell_type": "markdown",
   "id": "2c1e5a16-df1a-4ffe-9e89-c6759a963f9d",
   "metadata": {},
   "source": [
    "⚠️ **Problem with Standard Scaling**\n",
    "- **Standardization** = subtract mean + divide by standard deviation.\n",
    "- Works best with normally (Gaussian) distributed features.\n",
    "- Fails with **outliers** – they skew mean and standard deviation."
   ]
  },
  {
   "cell_type": "markdown",
   "id": "0f8d27b1-de60-4bf7-bba5-b5a22d85d9c2",
   "metadata": {},
   "source": [
    "✅ **Solution: Robust Scaling**\n",
    "- Use **median** and **IQR (Interquartile Range)** instead of mean and std.\n",
    "- Called **Robust Scaling** – less sensitive to outliers.\n",
    "- Transforms:<br>\n",
    "o\tSubtract the median (centering)<br>\n",
    "o\tDivide by IQR (scaling)<br>\n",
    "- Result: distribution centered at 0, with unit-scale, preserving outliers."
   ]
  },
  {
   "cell_type": "markdown",
   "id": "24b2680c-4207-4248-88fa-658297e02083",
   "metadata": {},
   "source": [
    "🛠️ **Using RobustScaler in Python (scikit-learn)**\n",
    "- RobustScaler() available in sklearn.preprocessing.\n",
    "- Parameters:<br>\n",
    "o\t**with_centering**=True: subtract median<br>\n",
    "o\t**with_scaling**=True: divide by IQR<br>\n",
    "o\t**quantile_range**=(25, 75): default IQR range, can be customized"
   ]
  },
  {
   "cell_type": "markdown",
   "id": "34bd8740-20ce-4214-993c-3a06a8297d56",
   "metadata": {},
   "source": [
    "🧠 **Key Takeaways for Data Scientists**\n",
    "- Always consider feature scaling before training models.\n",
    "- Prefer **RobustScaler** when data has **outliers**.\n",
    "- Tune quantile_range for better performance – no one-size-fits-all.\n",
    "- Evaluate scaling impacts using cross-validation."
   ]
  },
  {
   "cell_type": "markdown",
   "id": "087cf486-0296-4b00-a22b-fd62b551695a",
   "metadata": {},
   "source": [
    "#### Diabetes Dataset"
   ]
  },
  {
   "cell_type": "code",
   "execution_count": 9,
   "id": "5660bf71-3814-4c0c-9c43-e7573a443633",
   "metadata": {},
   "outputs": [
    {
     "name": "stdout",
     "output_type": "stream",
     "text": [
      "(768, 9)\n",
      "                0           1           2           3           4           5  \\\n",
      "count  768.000000  768.000000  768.000000  768.000000  768.000000  768.000000   \n",
      "mean     3.845052  120.894531   69.105469   20.536458   79.799479   31.992578   \n",
      "std      3.369578   31.972618   19.355807   15.952218  115.244002    7.884160   \n",
      "min      0.000000    0.000000    0.000000    0.000000    0.000000    0.000000   \n",
      "25%      1.000000   99.000000   62.000000    0.000000    0.000000   27.300000   \n",
      "50%      3.000000  117.000000   72.000000   23.000000   30.500000   32.000000   \n",
      "75%      6.000000  140.250000   80.000000   32.000000  127.250000   36.600000   \n",
      "max     17.000000  199.000000  122.000000   99.000000  846.000000   67.100000   \n",
      "\n",
      "                6           7           8  \n",
      "count  768.000000  768.000000  768.000000  \n",
      "mean     0.471876   33.240885    0.348958  \n",
      "std      0.331329   11.760232    0.476951  \n",
      "min      0.078000   21.000000    0.000000  \n",
      "25%      0.243750   24.000000    0.000000  \n",
      "50%      0.372500   29.000000    0.000000  \n",
      "75%      0.626250   41.000000    1.000000  \n",
      "max      2.420000   81.000000    1.000000  \n"
     ]
    },
    {
     "data": {
      "image/png": "[encoded data removed]",
      "text/plain": [
       "<Figure size 640x480 with 9 Axes>"
      ]
     },
     "metadata": {},
     "output_type": "display_data"
    }
   ],
   "source": [
    "# load and summarize the diabetes dataset \n",
    "from pandas import read_csv\n",
    "from matplotlib import pyplot \n",
    "\n",
    "# load the dataset\n",
    "path_diabetes= \"https://raw.githubusercontent.com/jbrownlee/Datasets/master/pima-indians-diabetes.csv\"\n",
    "dataset = read_csv(path_diabetes, header=None) \n",
    "\n",
    "# summarize the shape of the dataset\n",
    "print(dataset.shape)\n",
    "\n",
    "# summarize each variable \n",
    "print(dataset.describe())\n",
    "\n",
    "# histograms of the variables\n",
    "fig = dataset.hist(xlabelsize=4, ylabelsize=4) \n",
    "[x.title.set_size(4)  for  x  in  fig.ravel()]\n",
    "\n",
    "# show the plot \n",
    "pyplot.show()"
   ]
  },
  {
   "cell_type": "markdown",
   "id": "ca34b076-10da-4a84-8348-ffdc685b1a87",
   "metadata": {},
   "source": [
    "Next, let’s fit and evaluate a machine learning model on the raw dataset. <br>We will use a k-nearest neighbor algorithm with default hyperparameters and evaluate it using repeated stratified k-fold cross-validation. <br>The complete example is listed below."
   ]
  },
  {
   "cell_type": "code",
   "execution_count": 10,
   "id": "3a57ed58-9885-498a-822e-cfaa45820792",
   "metadata": {},
   "outputs": [
    {
     "name": "stdout",
     "output_type": "stream",
     "text": [
      "Accuracy: 0.717 (0.040)\n"
     ]
    }
   ],
   "source": [
    "# evaluate knn on the raw diabetes dataset \n",
    "from numpy import mean\n",
    "from numpy import std\n",
    "from pandas import read_csv\n",
    "from sklearn.model_selection import cross_val_score\n",
    "from sklearn.model_selection import RepeatedStratifiedKFold \n",
    "from sklearn.neighbors import KNeighborsClassifier\n",
    "from sklearn.preprocessing import LabelEncoder \n",
    "\n",
    "# load the dataset\n",
    "path_diabetes= \"https://raw.githubusercontent.com/jbrownlee/Datasets/master/pima-indians-diabetes.csv\"\n",
    "dataset = read_csv(path_diabetes, header=None) \n",
    "data = dataset.values\n",
    "\n",
    "# separate into input and output columns \n",
    "X, y = data[:, :-1], data[:, -1]\n",
    "\n",
    "# ensure inputs are floats and output is an integer label\n",
    "X = X.astype('float32')\n",
    "y  =  LabelEncoder().fit_transform(y.astype('str'))\n",
    "\n",
    "# define and configure the model\n",
    "model = KNeighborsClassifier() \n",
    "\n",
    "# evaluate the model\n",
    "cv = RepeatedStratifiedKFold(n_splits=10, n_repeats=3, random_state=1)\n",
    "n_scores = cross_val_score(model, X, y, scoring='accuracy', cv=cv, n_jobs=-1)\n",
    "\n",
    "# report model performance\n",
    "print('Accuracy: %.3f (%.3f)' % (mean(n_scores), std(n_scores)))"
   ]
  },
  {
   "cell_type": "markdown",
   "id": "1e96c877-276f-4ab9-bda9-a572379ef854",
   "metadata": {},
   "source": [
    "#### IQR Robust Scaler Transform"
   ]
  },
  {
   "cell_type": "markdown",
   "id": "61aef290-17f1-4f4a-b931-7d1d38a611b2",
   "metadata": {},
   "source": [
    "✅ **Solution: Robust Scaling**\n",
    "- Use **median** and **IQR (Interquartile Range)** instead of mean and std.\n",
    "- Called **Robust Scaling** – less sensitive to outliers.\n",
    "- Transforms:<br>\n",
    "o\tSubtract the median (centering)<br>\n",
    "o\tDivide by IQR (scaling)<br>\n",
    "- Result: distribution centered at 0, with unit-scale, preserving outliers."
   ]
  },
  {
   "cell_type": "markdown",
   "id": "a142f2cd-ea08-4144-8b73-0e9f61ac3193",
   "metadata": {},
   "source": [
    "🛠️ **Using RobustScaler in Python (scikit-learn)**\n",
    "- RobustScaler() available in sklearn.preprocessing.\n",
    "- Parameters:<br>\n",
    "o\t**with_centering**=True: subtract median<br>\n",
    "o\t**with_scaling**=True: divide by IQR<br>\n",
    "o\t**quantile_range**=(25, 75): default IQR range, can be customized"
   ]
  },
  {
   "cell_type": "code",
   "execution_count": 11,
   "id": "6724e205-0cb1-4c35-a054-9422609bd24b",
   "metadata": {},
   "outputs": [
    {
     "name": "stdout",
     "output_type": "stream",
     "text": [
      "                0           1           2           3           4           5  \\\n",
      "count  768.000000  768.000000  768.000000  768.000000  768.000000  768.000000   \n",
      "mean     0.169010    0.094413   -0.160807   -0.076986    0.387422   -0.000798   \n",
      "std      0.673916    0.775094    1.075323    0.498507    0.905650    0.847759   \n",
      "min     -0.600000   -2.836364   -4.000000   -0.718750   -0.239686   -3.440860   \n",
      "25%     -0.400000   -0.436364   -0.555556   -0.718750   -0.239686   -0.505376   \n",
      "50%      0.000000    0.000000    0.000000    0.000000    0.000000    0.000000   \n",
      "75%      0.600000    0.563636    0.444444    0.281250    0.760314    0.494624   \n",
      "max      2.800000    1.987879    2.777778    2.375000    6.408644    3.774194   \n",
      "\n",
      "                6           7  \n",
      "count  768.000000  768.000000  \n",
      "mean     0.259807    0.249464  \n",
      "std      0.866219    0.691778  \n",
      "min     -0.769935   -0.470588  \n",
      "25%     -0.336601   -0.294118  \n",
      "50%      0.000000    0.000000  \n",
      "75%      0.663399    0.705882  \n",
      "max      5.352941    3.058824  \n"
     ]
    },
    {
     "data": {
      "image/png": "[encoded data removed]",
      "text/plain": [
       "<Figure size 640x480 with 9 Axes>"
      ]
     },
     "metadata": {},
     "output_type": "display_data"
    }
   ],
   "source": [
    "# visualize a robust scaler transform of the diabetes dataset \n",
    "from pandas import read_csv\n",
    "from pandas import DataFrame\n",
    "from sklearn.preprocessing import RobustScaler \n",
    "from matplotlib import pyplot\n",
    "\n",
    "# load dataset\n",
    "path_diabetes= \"https://raw.githubusercontent.com/jbrownlee/Datasets/master/pima-indians-diabetes.csv\"\n",
    "dataset = read_csv(path_diabetes, header=None) \n",
    "\n",
    "# retrieve just the numeric input values\n",
    "data = dataset.values[:, :-1]\n",
    "\n",
    "# perform a robust scaler transform of the dataset \n",
    "trans = RobustScaler()\n",
    "data = trans.fit_transform(data)\n",
    "\n",
    "# convert the array back to a dataframe\n",
    "dataset = DataFrame(data) \n",
    "\n",
    "# summarize\n",
    "print(dataset.describe())\n",
    "\n",
    "# histograms of the variables\n",
    "fig = dataset.hist(xlabelsize=4, ylabelsize=4) \n",
    "[x.title.set_size(4) for x in fig.ravel()]\n",
    "\n",
    "# show the plot \n",
    "pyplot.show()"
   ]
  },
  {
   "cell_type": "markdown",
   "id": "821e03d4-9cfc-4d39-a19d-a0df2c86d505",
   "metadata": {},
   "source": [
    "Next, let’s evaluate the same KNN model as the previous section, but in this case on a robust scaler transform of the dataset. <br>The complete example is listed below."
   ]
  },
  {
   "cell_type": "code",
   "execution_count": 12,
   "id": "cfa0bca1-f64a-4b1b-a6d5-6b634b0eeef7",
   "metadata": {},
   "outputs": [
    {
     "name": "stdout",
     "output_type": "stream",
     "text": [
      "Accuracy: 0.734 (0.044)\n"
     ]
    }
   ],
   "source": [
    "# evaluate knn on the diabetes dataset with robust scaler transform \n",
    "from numpy import mean\n",
    "from numpy import std\n",
    "from pandas import read_csv\n",
    "from sklearn.model_selection import cross_val_score\n",
    "from sklearn.model_selection import RepeatedStratifiedKFold \n",
    "from sklearn.neighbors import KNeighborsClassifier\n",
    "from sklearn.preprocessing import LabelEncoder \n",
    "from sklearn.preprocessing import RobustScaler \n",
    "from sklearn.pipeline import Pipeline\n",
    "\n",
    "# load dataset\n",
    "path_diabetes= \"https://raw.githubusercontent.com/jbrownlee/Datasets/master/pima-indians-diabetes.csv\"\n",
    "dataset = read_csv(path_diabetes, header=None) \n",
    "data = dataset.values\n",
    "\n",
    "# separate into input and output columns \n",
    "X, y = data[:, :-1], data[:, -1]\n",
    "\n",
    "# ensure inputs are floats and output is an integer label\n",
    "X = X.astype('float32')\n",
    "y  =  LabelEncoder().fit_transform(y.astype('str'))\n",
    "\n",
    "# define the pipeline\n",
    "trans = RobustScaler()\n",
    "model  =  KNeighborsClassifier()\n",
    "pipeline = Pipeline(steps=[('t', trans), ('m', model)]) \n",
    "\n",
    "# evaluate the pipeline\n",
    "cv = RepeatedStratifiedKFold(n_splits=10, n_repeats=3, random_state=1)\n",
    "n_scores = cross_val_score(pipeline, X, y, scoring='accuracy', cv=cv, n_jobs=-1) \n",
    "\n",
    "# report pipeline performance\n",
    "print('Accuracy: %.3f (%.3f)' % (mean(n_scores), std(n_scores)))"
   ]
  },
  {
   "cell_type": "markdown",
   "id": "2d8d3c17-fd44-439c-8e58-3fc884519c1d",
   "metadata": {},
   "source": [
    "Next, let’s explore the effect of different scaling ranges."
   ]
  },
  {
   "cell_type": "markdown",
   "id": "bc83adef-42b7-4863-b515-ca5df8e17549",
   "metadata": {},
   "source": [
    "#### Explore Robust Scaler Range"
   ]
  },
  {
   "cell_type": "markdown",
   "id": "103e0d2f-dd58-4e99-966b-ef15b7124bbd",
   "metadata": {},
   "source": [
    "🛠️ **Using RobustScaler in Python (scikit-learn)**\n",
    "- RobustScaler() available in sklearn.preprocessing.\n",
    "- Parameters:<br>\n",
    "o\t**with_centering**=True: subtract median<br>\n",
    "o\t**with_scaling**=True: divide by IQR<br>\n",
    "o\t**quantile_range**=(25, 75): default IQR range, can be customized"
   ]
  },
  {
   "cell_type": "code",
   "execution_count": 13,
   "id": "21b75546-f35f-48b4-832a-8b5fbc565953",
   "metadata": {},
   "outputs": [
    {
     "name": "stdout",
     "output_type": "stream",
     "text": [
      ">1 0.734 (0.054)\n",
      ">5 0.736 (0.051)\n",
      ">10 0.739 (0.047)\n",
      ">15 0.740 (0.045)\n",
      ">20 0.734 (0.050)\n",
      ">25 0.734 (0.044)\n",
      ">30 0.735 (0.042)\n"
     ]
    },
    {
     "data": {
      "image/png": "[encoded data removed]",
      "text/plain": [
       "<Figure size 640x480 with 1 Axes>"
      ]
     },
     "metadata": {},
     "output_type": "display_data"
    }
   ],
   "source": [
    "# explore the scaling range of the robust scaler transform \n",
    "from numpy import mean\n",
    "from numpy import std\n",
    "from pandas import read_csv\n",
    "from sklearn.model_selection import cross_val_score\n",
    "from sklearn.model_selection import RepeatedStratifiedKFold \n",
    "from sklearn.neighbors import KNeighborsClassifier\n",
    "from sklearn.preprocessing import RobustScaler \n",
    "from sklearn.preprocessing import LabelEncoder \n",
    "from sklearn.pipeline import Pipeline\n",
    "from matplotlib import pyplot\n",
    "\n",
    "# get the dataset \n",
    "def get_dataset():\n",
    "    # load dataset\n",
    "    path_diabetes= \"https://raw.githubusercontent.com/jbrownlee/Datasets/master/pima-indians-diabetes.csv\"\n",
    "    dataset = read_csv(path_diabetes, header=None)     \n",
    "    data = dataset.values\n",
    "    # separate into input and output columns\n",
    "    X, y = data[:, :-1], data[:, -1]\n",
    "    # ensure inputs are floats and output is an integer label\n",
    "    X = X.astype('float32')\n",
    "    y = LabelEncoder().fit_transform(y.astype('str')) \n",
    "    return X, y\n",
    "\n",
    "# get a list of models to evaluate \n",
    "def get_models():\n",
    "    models = dict()\n",
    "    for value in [1, 5, 10, 15, 20, 25, 30]:\n",
    "        # define the pipeline\n",
    "        trans = RobustScaler(quantile_range=(value, 100-value)) \n",
    "        model = KNeighborsClassifier()\n",
    "        models[str(value)] = Pipeline(steps=[('t', trans), ('m', model)]) \n",
    "    return models\n",
    "\n",
    "# evaluate a given model using cross-validation \n",
    "def evaluate_model(model, X, y):\n",
    "    cv = RepeatedStratifiedKFold(n_splits=10, n_repeats=3, random_state=1) \n",
    "    scores = cross_val_score(model, X, y, scoring='accuracy', cv=cv, n_jobs=-1) \n",
    "    return scores\n",
    "\n",
    "\n",
    "# define dataset\n",
    "X, y = get_dataset()\n",
    "\n",
    "# get the models to evaluate \n",
    "models = get_models()\n",
    "\n",
    "# evaluate the models and store results \n",
    "results, names = list(), list()\n",
    "\n",
    "for name, model in models.items():\n",
    "    scores = evaluate_model(model, X, y) \n",
    "    results.append(scores) \n",
    "    names.append(name)\n",
    "    print('>%s %.3f (%.3f)'  % (name, mean(scores), std(scores))) \n",
    "\n",
    "# plot model performance for comparison \n",
    "pyplot.boxplot(results, tick_labels=names, showmeans=True) \n",
    "pyplot.show()"
   ]
  }
 ],
 "metadata": {
  "kernelspec": {
   "display_name": "Python 3 (ipykernel)",
   "language": "python",
   "name": "python3"
  },
  "language_info": {
   "codemirror_mode": {
    "name": "ipython",
    "version": 3
   },
   "file_extension": ".py",
   "mimetype": "text/x-python",
   "name": "python",
   "nbconvert_exporter": "python",
   "pygments_lexer": "ipython3",
   "version": "3.10.6"
  }
 },
 "nbformat": 4,
 "nbformat_minor": 5
}
