{
 "cells": [
  {
   "cell_type": "markdown",
   "id": "acac81c1-5030-456d-b971-2f8746ea825c",
   "metadata": {},
   "source": [
    "# Data Cleaning TEMPLATE"
   ]
  },
  {
   "cell_type": "code",
   "execution_count": 1,
   "id": "c801c69d-9d31-4d5b-8dde-ac271b444fb0",
   "metadata": {},
   "outputs": [],
   "source": [
    "# Libraries\n",
    "\n",
    "## Basic libraries\n",
    "import numpy as np\n",
    "import pandas as pd\n",
    "import seaborn as sns\n",
    "\n",
    "import math\n",
    "from numpy import mean \n",
    "from numpy import std\n",
    "from numpy import percentile \n",
    "# from scipy.stats import iqr\n",
    "\n",
    "## Plotting\n",
    "import matplotlib.pyplot as plt\n",
    "\n",
    "# Basic cleaning\n",
    "from sklearn.feature_selection import VarianceThreshold\n",
    "from sklearn.model_selection import train_test_split \n",
    "from sklearn.linear_model import LinearRegression \n",
    "from sklearn.ensemble import IsolationForest\n",
    "from sklearn.neighbors import LocalOutlierFactor \n",
    "from sklearn.metrics import mean_absolute_error "
   ]
  },
  {
   "cell_type": "markdown",
   "id": "b475c63b-ea42-4507-8b09-e45b16d2b7ea",
   "metadata": {},
   "source": [
    "## Basic data cleaning"
   ]
  },
  {
   "cell_type": "markdown",
   "id": "54ef2d39-98f1-4d1a-8901-6966bbed2764",
   "metadata": {},
   "source": [
    "🔍 **Why Data Cleaning Matters**\n",
    "- Essential in every ML project; often skipped at a cost.\n",
    "- Prevents model failure and misleading performance results.\n",
    "- Helps prepare trustworthy, high-quality datasets."
   ]
  },
  {
   "cell_type": "code",
   "execution_count": 2,
   "id": "ee71b219-93dd-4ce5-9e79-4d2c8220b9d2",
   "metadata": {},
   "outputs": [
    {
     "data": {
      "text/plain": [
       "'Shape of data : (750000, 8)'"
      ]
     },
     "metadata": {},
     "output_type": "display_data"
    }
   ],
   "source": [
    "# Load datasets\n",
    "# Paths\n",
    "calorie_train_data_path = \"../../data/raw_data/train.csv\"\n",
    "\n",
    "# Read train data\n",
    "data=pd.read_csv(calorie_train_data_path,index_col='id')\n",
    "display(f\"Shape of data : {data.shape}\")"
   ]
  },
  {
   "cell_type": "code",
   "execution_count": 3,
   "id": "f0cc27c5-e83d-49e6-8e46-98433c3f2e6c",
   "metadata": {},
   "outputs": [],
   "source": [
    "# Copy of datasets\n",
    "data_copy = data.copy()"
   ]
  },
  {
   "cell_type": "code",
   "execution_count": 4,
   "id": "dd0df0a6-2490-4172-be4e-95fb6320dd85",
   "metadata": {},
   "outputs": [
    {
     "data": {
      "text/html": [
       "<div>\n",
       "<style scoped>\n",
       "    .dataframe tbody tr th:only-of-type {\n",
       "        vertical-align: middle;\n",
       "    }\n",
       "\n",
       "    .dataframe tbody tr th {\n",
       "        vertical-align: top;\n",
       "    }\n",
       "\n",
       "    .dataframe thead th {\n",
       "        text-align: right;\n",
       "    }\n",
       "</style>\n",
       "<table border=\"1\" class=\"dataframe\">\n",
       "  <thead>\n",
       "    <tr style=\"text-align: right;\">\n",
       "      <th></th>\n",
       "      <th>Sex</th>\n",
       "      <th>Age</th>\n",
       "      <th>Height</th>\n",
       "      <th>Weight</th>\n",
       "      <th>Duration</th>\n",
       "      <th>Heart_Rate</th>\n",
       "      <th>Body_Temp</th>\n",
       "      <th>Calories</th>\n",
       "    </tr>\n",
       "    <tr>\n",
       "      <th>id</th>\n",
       "      <th></th>\n",
       "      <th></th>\n",
       "      <th></th>\n",
       "      <th></th>\n",
       "      <th></th>\n",
       "      <th></th>\n",
       "      <th></th>\n",
       "      <th></th>\n",
       "    </tr>\n",
       "  </thead>\n",
       "  <tbody>\n",
       "    <tr>\n",
       "      <th>0</th>\n",
       "      <td>male</td>\n",
       "      <td>36</td>\n",
       "      <td>189.0</td>\n",
       "      <td>82.0</td>\n",
       "      <td>26.0</td>\n",
       "      <td>101.0</td>\n",
       "      <td>41.0</td>\n",
       "      <td>150.0</td>\n",
       "    </tr>\n",
       "    <tr>\n",
       "      <th>1</th>\n",
       "      <td>female</td>\n",
       "      <td>64</td>\n",
       "      <td>163.0</td>\n",
       "      <td>60.0</td>\n",
       "      <td>8.0</td>\n",
       "      <td>85.0</td>\n",
       "      <td>39.7</td>\n",
       "      <td>34.0</td>\n",
       "    </tr>\n",
       "  </tbody>\n",
       "</table>\n",
       "</div>"
      ],
      "text/plain": [
       "       Sex  Age  Height  Weight  Duration  Heart_Rate  Body_Temp  Calories\n",
       "id                                                                        \n",
       "0     male   36   189.0    82.0      26.0       101.0       41.0     150.0\n",
       "1   female   64   163.0    60.0       8.0        85.0       39.7      34.0"
      ]
     },
     "execution_count": 4,
     "metadata": {},
     "output_type": "execute_result"
    }
   ],
   "source": [
    "# Overview of the first lines\n",
    "data.head(2)"
   ]
  },
  {
   "cell_type": "markdown",
   "id": "eadeda15-2bb5-4be9-af11-477294e08877",
   "metadata": {},
   "source": [
    "### Identify Columns That Contain a Single Value"
   ]
  },
  {
   "cell_type": "markdown",
   "id": "71847219-8661-49cb-a42b-b6926bb0e2ef",
   "metadata": {},
   "source": [
    "🧮 **Identify Columns with a Single Unique Value**\n",
    "- **Problem**: Zero-variance predictors (e.g., all values = 1.0).\n",
    "- **Detection**: Use .nunique() or NumPy’s unique() function.\n",
    "- **Action**: Remove these columns—they add no information and can cause errors."
   ]
  },
  {
   "cell_type": "code",
   "execution_count": 5,
   "id": "58e2d37f-3538-4abc-96fa-ef7e24858d9f",
   "metadata": {
    "scrolled": true
   },
   "outputs": [
    {
     "data": {
      "text/plain": [
       "Sex             2\n",
       "Age            60\n",
       "Height         86\n",
       "Weight         91\n",
       "Duration       30\n",
       "Heart_Rate     63\n",
       "Body_Temp      75\n",
       "Calories      277\n",
       "dtype: int64"
      ]
     },
     "execution_count": 5,
     "metadata": {},
     "output_type": "execute_result"
    }
   ],
   "source": [
    "# Summurize the number of unique values in each column\n",
    "data.nunique()"
   ]
  },
  {
   "cell_type": "markdown",
   "id": "c17a9589-7ceb-461c-8ee1-99fafe1d46d7",
   "metadata": {},
   "source": [
    "**CONCLUSION**:"
   ]
  },
  {
   "cell_type": "markdown",
   "id": "7eaf857d-2035-4d42-a326-6973d836c89b",
   "metadata": {},
   "source": [
    "### Delete Columns That Contain a Single Value"
   ]
  },
  {
   "cell_type": "markdown",
   "id": "3b46e73c-8399-4a80-b973-bed0f3be1cf3",
   "metadata": {},
   "source": [
    "🗑️ **Delete Columns with a Single Value**\n",
    "- Use Pandas drop() after identifying the column(s).\n"
   ]
  },
  {
   "cell_type": "code",
   "execution_count": 6,
   "id": "d50535e4-ca8c-4265-bad1-8d2f73089c9b",
   "metadata": {},
   "outputs": [],
   "source": [
    "# Create a function to drop columns that have a single value\n",
    "def drop_single_value_columns(df : pd.DataFrame) -> pd.DataFrame:\n",
    "        \"\"\"\n",
    "    Drop columns with a single unique value \n",
    "    Args:\n",
    "        df (DataFrame): Raw data\n",
    "    Returns:\n",
    "        df (DataFrame) with no single value columns\n",
    "    \"\"\" \n",
    "        print(f\"Shape BEFORE dropping single value columns: {df.shape}\") \n",
    "        \n",
    "        # get number of unique values for each column \n",
    "        counts = df.nunique()\n",
    "        \n",
    "        # record columns to delete (i.e columns that only contain a unique value)\n",
    "        to_del = [i for i,v in enumerate(counts) if v == 1]\n",
    "    \n",
    "        print(f\"Names of single value columns: {to_del}\") \n",
    "        \n",
    "        # drop useless columns \n",
    "        df.drop(to_del, axis=1, inplace=True) \n",
    "        \n",
    "        print(f\"Shape AFTER dropping single value columns: {df.shape}\") \n",
    "        return df"
   ]
  },
  {
   "cell_type": "code",
   "execution_count": 7,
   "id": "fedfe03a-0cef-4d21-91b3-a7a8b8e9ff11",
   "metadata": {},
   "outputs": [
    {
     "name": "stdout",
     "output_type": "stream",
     "text": [
      "Shape BEFORE dropping single value columns: (750000, 8)\n",
      "Names of single value columns: []\n",
      "Shape AFTER dropping single value columns: (750000, 8)\n"
     ]
    }
   ],
   "source": [
    "data = drop_single_value_columns(data)"
   ]
  },
  {
   "cell_type": "markdown",
   "id": "0eb93442-83e0-4a69-92a1-46623c0b3e96",
   "metadata": {},
   "source": [
    "**CONCLUSION**:"
   ]
  },
  {
   "cell_type": "markdown",
   "id": "5442fc3e-a170-4655-a10c-981631aca2ea",
   "metadata": {},
   "source": [
    "### Consider Columns That Have Very Few Values"
   ]
  },
  {
   "cell_type": "markdown",
   "id": "49aaa535-16f3-427a-977f-2ec62fd9c3b4",
   "metadata": {},
   "source": [
    "🤔 **Consider Columns with Very Few Unique Values**\n",
    "- Known as **near-zero** variance predictors.\n",
    "- These may be:<br>\n",
    "o\tCategorical in disguise.<br>\n",
    "o\tIndicators needing encoding (ordinal/categorical).\n",
    "- **Check**: Unique values as % of total rows (e.g., <1%).\n"
   ]
  },
  {
   "cell_type": "code",
   "execution_count": 8,
   "id": "e29654e7-636c-46c7-b855-c10fe8702721",
   "metadata": {},
   "outputs": [],
   "source": [
    "# Create a function that print index, number of unique values and percentage of unique values per column in regard to total number of rows per column\n",
    "def show_unique_values_percentage(df : pd.DataFrame):\n",
    "    \"\"\"\n",
    "    Print index, number of unique values and percentage of unique values \n",
    "    per column in regard to total number of rows per column\n",
    "    Args:\n",
    "        - df (DataFrame): Raw data\n",
    "    \"\"\"  \n",
    "    for i in range(df.shape[1]):\n",
    "        num = df.nunique().values[i]\n",
    "        percentage = float(num) / df.shape[0] * 100\n",
    "        print(f\"{i}, {df.columns[i]}, {num}, {round(percentage,5)}%\")"
   ]
  },
  {
   "cell_type": "code",
   "execution_count": 9,
   "id": "d7bfa95f-39d5-4a00-ab25-245bfc714385",
   "metadata": {},
   "outputs": [
    {
     "name": "stdout",
     "output_type": "stream",
     "text": [
      "0, Sex, 2, 0.00027%\n",
      "1, Age, 60, 0.008%\n",
      "2, Height, 86, 0.01147%\n",
      "3, Weight, 91, 0.01213%\n",
      "4, Duration, 30, 0.004%\n",
      "5, Heart_Rate, 63, 0.0084%\n",
      "6, Body_Temp, 75, 0.01%\n",
      "7, Calories, 277, 0.03693%\n"
     ]
    }
   ],
   "source": [
    "show_unique_values_percentage(data)"
   ]
  },
  {
   "cell_type": "markdown",
   "id": "745fbd4a-b55b-46b5-a433-1666fd6fb48c",
   "metadata": {},
   "source": [
    "**CONCLUSION**:"
   ]
  },
  {
   "cell_type": "markdown",
   "id": "9305dfaa-3e8f-41f4-9d29-8891f609e87c",
   "metadata": {},
   "source": [
    "### Remove columns that have a low variance"
   ]
  },
  {
   "cell_type": "markdown",
   "id": "0e8e9f05-f8f5-4240-8ed7-863b5b5e4ac0",
   "metadata": {},
   "source": [
    "✂️ **Remove Columns with Low Variance**\n",
    "- Use **VarianceThreshold** from sklearn.feature_selection.\n",
    "- **Threshold Tuning**: Try 0.0 to 0.5; see feature reduction effects.\n",
    "- Lower variance = less informational value, possibly noise.\n",
    "- Helps dimensionality reduction while retaining meaningful features."
   ]
  },
  {
   "cell_type": "code",
   "execution_count": 10,
   "id": "112653bf-725b-4aa4-9e81-cb50a13752bd",
   "metadata": {},
   "outputs": [],
   "source": [
    "# explore the effect of the variance thresholds on the number of selected features \n",
    "def explore_variance_threshold_effects(df : pd.DataFrame, range : np.arange):\n",
    "    \"\"\"\n",
    "    Explore the effect of the variance thresholds on \n",
    "    the number of selected features from numpy import arange \n",
    "    Args:\n",
    "        - df (DataFrame): Raw data\n",
    "        - range (np.arange) : variance range to check\n",
    "    Returns:\n",
    "        - Print number of features whose variance is over the considered threshold\n",
    "        - Plot the number of features whose variance is over the considered threshold\n",
    "    \"\"\" \n",
    "    \n",
    "    # apply transform with each threshold \n",
    "    results = list() \n",
    "\n",
    "    for t in range: \n",
    "        # define the transform \n",
    "        transform = VarianceThreshold(threshold=t) \n",
    "        \n",
    "        # transform the input data \n",
    "        df_sel = transform.fit_transform(df) \n",
    "        \n",
    "        # determine the number of input features \n",
    "        n_features = df_sel.shape[1] \n",
    "        \n",
    "        print(f\">Threshold={round(t,2)}, Features={n_features}\")\n",
    "        \n",
    "        # store the result \n",
    "        results.append(n_features) \n",
    "        \n",
    "    # plot the threshold vs the number of selected features \n",
    "    plt.plot(range, results) \n",
    "    plt.show()"
   ]
  },
  {
   "cell_type": "code",
   "execution_count": 11,
   "id": "8d3ed3f7-a8dd-466a-9dff-eb9fbfa386b7",
   "metadata": {},
   "outputs": [
    {
     "name": "stdout",
     "output_type": "stream",
     "text": [
      "(750000, 7) (750000, 1)\n",
      ">Threshold=0.0, Features=6\n",
      ">Threshold=0.05, Features=6\n",
      ">Threshold=0.1, Features=6\n",
      ">Threshold=0.15, Features=6\n",
      ">Threshold=0.2, Features=6\n",
      ">Threshold=0.25, Features=6\n",
      ">Threshold=0.3, Features=6\n",
      ">Threshold=0.35, Features=6\n",
      ">Threshold=0.4, Features=6\n",
      ">Threshold=0.45, Features=6\n"
     ]
    },
    {
     "data": {
      "image/png": "[encoded data removed]",
      "text/plain": [
       "<Figure size 640x480 with 1 Axes>"
      ]
     },
     "metadata": {},
     "output_type": "display_data"
    }
   ],
   "source": [
    "# split data into inputs (ONLY NUMERICAL FOR NOW) and outputs \n",
    "data_num = data.select_dtypes(include=\"number\")\n",
    "\n",
    "# Define X and y\n",
    "target = 'Calories'\n",
    "X = data.drop(columns=[target])\n",
    "y = data[[target]]\n",
    "print(X.shape, y.shape) \n",
    "\n",
    "# Only use the numerical columns of X\n",
    "X_num = X.select_dtypes(include='number')\n",
    "\n",
    "# define variance thresholds to check \n",
    "# thresholds = np.arange(0.0, 0.55, 0.05) \n",
    "thresholds = np.arange(0.0, 0.5, 0.05) \n",
    "\n",
    "explore_variance_threshold_effects(X_num, thresholds)"
   ]
  },
  {
   "cell_type": "markdown",
   "id": "fd447cc9-414f-49dc-9229-57e019ee0c83",
   "metadata": {},
   "source": [
    "**CONCLUSION**:"
   ]
  },
  {
   "cell_type": "markdown",
   "id": "64d7728f-c3f5-486d-8883-ba869db80ab5",
   "metadata": {},
   "source": [
    "### Identify rows that contain duplicate data"
   ]
  },
  {
   "cell_type": "markdown",
   "id": "eec2d58d-a11b-4780-af53-ff2325fb4e5c",
   "metadata": {},
   "source": [
    "🧍 **Identify Duplicate Rows**\n",
    "- **Problem**: Inflated priors, biased evaluation (e.g., in cross-validation).\n",
    "- **Action**: Check .duplicated() in Pandas.\n",
    "- **Best Practice**: Test model performance with/without duplicates."
   ]
  },
  {
   "cell_type": "code",
   "execution_count": 12,
   "id": "720f5d13-fdaf-4a3f-a26e-65fb29d286ad",
   "metadata": {
    "scrolled": true
   },
   "outputs": [
    {
     "name": "stdout",
     "output_type": "stream",
     "text": [
      "Is there any duplicated rows in the dataset ? Answer : True\n",
      "           Sex  Age  Height  Weight  Duration  Heart_Rate  Body_Temp  Calories\n",
      "id                                                                            \n",
      "11643   female   54   161.0    61.0      14.0        95.0       40.3      76.0\n",
      "18100   female   54   161.0    61.0       9.0        88.0       39.7      42.0\n",
      "22070     male   51   187.0    94.0       3.0        81.0       38.8      10.0\n",
      "26664   female   67   169.0    69.0      24.0       104.0       40.7     161.0\n",
      "31062   female   40   161.0    58.0      14.0        90.0       40.4      64.0\n",
      "...        ...  ...     ...     ...       ...         ...        ...       ...\n",
      "749584  female   39   161.0    61.0      13.0        99.0       40.3      74.0\n",
      "749823  female   29   173.0    68.0      14.0        95.0       40.2      67.0\n",
      "749852    male   21   187.0    90.0       9.0        91.0       39.7      30.0\n",
      "749889    male   40   191.0    88.0       5.0        86.0       39.0      18.0\n",
      "749949    male   21   184.0    88.0       9.0        89.0       39.7      28.0\n",
      "\n",
      "[2841 rows x 8 columns]\n"
     ]
    }
   ],
   "source": [
    "# calculate duplicates \n",
    "dups = data.duplicated() \n",
    "\n",
    "# report if there are any duplicates \n",
    "print(f\"Is there any duplicated rows in the dataset ? Answer : {dups.any()}\") \n",
    "\n",
    "# list all duplicate rows \n",
    "print(data[dups])"
   ]
  },
  {
   "cell_type": "markdown",
   "id": "31b2c532-8a68-4dca-9720-c02a744b07e7",
   "metadata": {},
   "source": [
    "**CONCLUSION**:"
   ]
  },
  {
   "cell_type": "markdown",
   "id": "cdba33e0-3ffd-40b6-b682-2fc722c3aa07",
   "metadata": {},
   "source": [
    "### Delete rows that contain duplicate data"
   ]
  },
  {
   "cell_type": "code",
   "execution_count": 13,
   "id": "be394185-9039-4f33-82c8-8c9aa55e746e",
   "metadata": {},
   "outputs": [],
   "source": [
    "def check_duplicates(df):\n",
    "    \"\"\"\n",
    "    Counts duplicated rows. If any, function drops duplicated rows.\n",
    "    Args:\n",
    "        df (DataFrame): Raw data\n",
    "    Returns:\n",
    "        - df (Dataframe) without duplicated rows, a string otherwise.\n",
    "    \"\"\"\n",
    "\n",
    "    # Check number of rows before removing duplicates\n",
    "    print(f\"Number of rows : {len(df)}\")\n",
    "\n",
    "    # Compute the number of duplicated rows\n",
    "    num_dups = df.duplicated().sum()\n",
    "    \n",
    "    print(f\"Number of duplicated rows : {num_dups}\")\n",
    "\n",
    "    if df.duplicated().any():\n",
    "        # Remove duplicates\n",
    "        df_no_duplicates = df.drop_duplicates()\n",
    "        print(f\"{num_dups} duplicated row(s) removed\")\n",
    "        return df_no_duplicates\n",
    "    else:\n",
    "        return \"No duplicated rows found !\"    "
   ]
  },
  {
   "cell_type": "code",
   "execution_count": 14,
   "id": "b935831e-901d-4989-8860-cc84e797383d",
   "metadata": {},
   "outputs": [
    {
     "name": "stdout",
     "output_type": "stream",
     "text": [
      "Number of rows : 750000\n",
      "Number of duplicated rows : 2841\n",
      "2841 duplicated row(s) removed\n"
     ]
    }
   ],
   "source": [
    "# Check for duplicates ; if found, duplicates are dropped.\n",
    "data_no_dups = check_duplicates(data)"
   ]
  },
  {
   "cell_type": "markdown",
   "id": "ddb48f31-a750-4aac-bf99-ac37cf3aa534",
   "metadata": {},
   "source": [
    "## Outlier Identification and Removal"
   ]
  },
  {
   "cell_type": "markdown",
   "id": "e18a2f3d-c572-465c-a830-9110d810c9be",
   "metadata": {},
   "source": [
    "✅ **Why Care About Outliers?**\n",
    "- Outliers = observations significantly different from others.\n",
    "- Can distort models, reduce performance.\n",
    "- Causes: measurement error, data corruption, or genuine anomaly."
   ]
  },
  {
   "cell_type": "markdown",
   "id": "0e0e6056-55ba-417d-8272-d088fc793206",
   "metadata": {},
   "source": [
    "#### Standard Deviation Method"
   ]
  },
  {
   "cell_type": "markdown",
   "id": "b0a25cf6-bab8-4a59-b0eb-8e89f36fd241",
   "metadata": {},
   "source": [
    "If we know that the distribution of values in the sample is Gaussian or Gaussian-like, we can use the standard deviation of the sample as a cut-off for identifying outliers. "
   ]
  },
  {
   "cell_type": "markdown",
   "id": "f79b3bb7-2fad-4264-b398-76d616b17c2c",
   "metadata": {},
   "source": [
    "📌 **Standard Deviation Method**\n",
    "- **Assumes Gaussian (normal) distribution.**\n",
    "- **Key concept**: Most data falls within a range of standard deviations from the mean:<br>\n",
    "o\t±1 std = 68%<br>\n",
    "o\t±2 std = 95%<br>\n",
    "o\t±3 std = 99.7%<br>\n",
    "- Outliers = values > 3 standard deviations from the mean.\n",
    "- **Steps**:\n",
    "1.\tCalculate mean and std.\n",
    "2.\tCompute cut-off bounds: mean ± 3*std.\n",
    "3.\tFilter out values outside these bounds."
   ]
  },
  {
   "cell_type": "code",
   "execution_count": 15,
   "id": "ac4e75f3-7c44-4e27-96ec-fa8bbbd2dbdc",
   "metadata": {},
   "outputs": [
    {
     "data": {
      "text/plain": [
       "'Shape of data : (750000, 8)'"
      ]
     },
     "metadata": {},
     "output_type": "display_data"
    }
   ],
   "source": [
    "# Load datasets\n",
    "# Paths\n",
    "calorie_train_data_path = \"../../data/raw_data/train.csv\"\n",
    "\n",
    "# Read train data\n",
    "data=pd.read_csv(calorie_train_data_path,index_col='id')\n",
    "display(f\"Shape of data : {data.shape}\")"
   ]
  },
  {
   "cell_type": "code",
   "execution_count": 16,
   "id": "8ec79776-8cbb-4579-b895-618d08939ded",
   "metadata": {},
   "outputs": [],
   "source": [
    "# If distribution Gaussian or Gaussian-like, we use the standard deviation of the sample as a cut-off for identifying outliers\n",
    "def identify_outliers_std_dev_method(data : pd.DataFrame):\n",
    "    \"\"\"\n",
    "    If distribution Gaussian or Gaussian-like, we use the standard deviation of the sample as a cut-off for identifying outliers\n",
    "    Args:\n",
    "        data (pd.Dataframe): Raw data\n",
    "    Returns:\n",
    "        - columns_with_outliers (list) : Numerical Columns containing outliers\n",
    "        - columns_no_outliers (list) : Numerical Columns NOT containing outliers\n",
    "    \"\"\"\n",
    "\n",
    "    # Deal ONLY with numerical columns\n",
    "    data = data.select_dtypes(include='number')\n",
    "\n",
    "    columns_with_outliers, columns_no_outliers = [], []\n",
    "    \n",
    "    for col in data.columns.tolist():\n",
    "        # calculate summary statistics \n",
    "        data_mean, data_std = mean(data[col]), std(data[col]) \n",
    "\n",
    "        # define outliers \n",
    "        cut_off = data_std * 3 \n",
    "        lower, upper = data_mean - cut_off, data_mean + cut_off \n",
    "\n",
    "        # identify outliers \n",
    "        outliers = [x for x in data[col] if x < lower or x > upper] \n",
    "       \n",
    "        # remove outliers\n",
    "        outliers_removed = [x for x in data[col] if x >= lower and x <= upper]\n",
    "\n",
    "        if len(outliers) > 0:\n",
    "            columns_with_outliers.append(col)\n",
    "        else:\n",
    "            columns_no_outliers.append(col)\n",
    "\n",
    "    return columns_with_outliers, columns_no_outliers"
   ]
  },
  {
   "cell_type": "code",
   "execution_count": 17,
   "id": "a7f3c00a-477e-4793-aa43-2563d12f52de",
   "metadata": {},
   "outputs": [
    {
     "data": {
      "text/plain": [
       "['Height', 'Weight', 'Heart_Rate', 'Body_Temp', 'Calories']"
      ]
     },
     "metadata": {},
     "output_type": "display_data"
    },
    {
     "data": {
      "text/plain": [
       "['Age', 'Duration']"
      ]
     },
     "metadata": {},
     "output_type": "display_data"
    }
   ],
   "source": [
    "# identify outliers with standard deviation \n",
    "columns_with_outliers_std_method, columns_no_outliers_std_method = identify_outliers_std_dev_method(data)\n",
    "display(columns_with_outliers_std_method)\n",
    "display(columns_no_outliers_std_method)"
   ]
  },
  {
   "cell_type": "markdown",
   "id": "c6ce4d7c-0579-4874-bd98-21fb86cf6adb",
   "metadata": {},
   "source": [
    "**CONCLUSION**:"
   ]
  },
  {
   "cell_type": "markdown",
   "id": "1e9bbe3f-c4ac-42f8-9d5d-8e77b2ec0a52",
   "metadata": {},
   "source": [
    "#### Interquartile Range Method "
   ]
  },
  {
   "cell_type": "markdown",
   "id": "81d6da33-0810-4238-8466-909c5882ee4d",
   "metadata": {},
   "source": [
    "📌 **Interquartile Range (IQR) Method**\n",
    "- **Useful when data is not Gaussian.**\n",
    "- **IQR** = Q3 - Q1 (75th percentile - 25th percentile).\n",
    "- **Outliers** = values < Q1 - 1.5×IQR or > Q3 + 1.5×IQR.\n",
    "- Can detect both mild and extreme outliers (by adjusting the factor, e.g., 1.5 or 3).\n",
    "- **Steps**:\n",
    "1.\tCompute Q1 and Q3 using percentiles.\n",
    "2.\tCalculate IQR.\n",
    "3.\tDefine bounds: Q1 - 1.5×IQR and Q3 + 1.5×IQR.\n",
    "4.\tFilter out values outside these limits."
   ]
  },
  {
   "cell_type": "code",
   "execution_count": 18,
   "id": "0fad099b-fc58-48d0-ada4-32993058ff8c",
   "metadata": {},
   "outputs": [
    {
     "data": {
      "text/plain": [
       "'Shape of data : (750000, 8)'"
      ]
     },
     "metadata": {},
     "output_type": "display_data"
    }
   ],
   "source": [
    "# Load datasets\n",
    "# Paths\n",
    "calorie_train_data_path = \"../../data/raw_data/train.csv\"\n",
    "\n",
    "# Read train data\n",
    "data=pd.read_csv(calorie_train_data_path,index_col='id')\n",
    "display(f\"Shape of data : {data.shape}\")"
   ]
  },
  {
   "cell_type": "code",
   "execution_count": 19,
   "id": "af801210-5dc4-4e42-affb-9bf98a7107fd",
   "metadata": {},
   "outputs": [],
   "source": [
    "# identify outliers with interquartile range \n",
    "def identify_outliers_iqr_method(data : pd.DataFrame):\n",
    "    \"\"\"\n",
    "    A good statistic for summarizing a non-Gaussian distribution sample of data is the Interquartile Range, or IQR for short.\n",
    "    This function identifies outliers with interquartile range (iqr).\n",
    "    Args:\n",
    "        data (pd.DataFrame): Raw data\n",
    "    Returns:\n",
    "        - outliers (ndarray) : only identified outliers\n",
    "        - outliers_removed (ndarray) : data with outliers removed\n",
    "    \"\"\"\n",
    "\n",
    "    # Deal ONLY with numerical columns\n",
    "    data = data.select_dtypes(include='number')\n",
    "\n",
    "    columns_with_outliers, columns_no_outliers = [], []\n",
    "\n",
    "    for col in data.columns.tolist():\n",
    "        # calculate interquartile range \n",
    "        q25, q75 = percentile(data[col], 25), percentile(data[col], 75) \n",
    "        iqr = q75 - q25 \n",
    "        \n",
    "        # calculate the outlier cutoff \n",
    "        cut_off = iqr * 1.5 \n",
    "        lower, upper = q25 - cut_off, q75 + cut_off \n",
    "        \n",
    "        # identify outliers \n",
    "        outliers = [x for x in data[col] if x < lower or x > upper] \n",
    "        \n",
    "        # remove outliers \n",
    "        outliers_removed = [x for x in data[col] if x >= lower and x <= upper]\n",
    "        \n",
    "        if len(outliers) > 0:\n",
    "            columns_with_outliers.append(col)\n",
    "        else:\n",
    "            columns_no_outliers.append(col)\n",
    "    \n",
    "    return columns_with_outliers, columns_no_outliers"
   ]
  },
  {
   "cell_type": "code",
   "execution_count": 20,
   "id": "7215251f-d348-4df8-aa18-1ebff94973df",
   "metadata": {},
   "outputs": [
    {
     "data": {
      "text/plain": [
       "['Height', 'Weight', 'Heart_Rate', 'Body_Temp', 'Calories']"
      ]
     },
     "metadata": {},
     "output_type": "display_data"
    },
    {
     "data": {
      "text/plain": [
       "['Age', 'Duration']"
      ]
     },
     "metadata": {},
     "output_type": "display_data"
    }
   ],
   "source": [
    "# identify outliers with interquartile range \n",
    "columns_with_outliers_iqr_method, columns_no_outliers_iqr_method = identify_outliers_iqr_method(data)\n",
    "display(columns_with_outliers_iqr_method)\n",
    "display(columns_no_outliers_iqr_method)"
   ]
  },
  {
   "cell_type": "markdown",
   "id": "216e1c65-df60-490f-82d0-942d812aa027",
   "metadata": {},
   "source": [
    "**CONCLUSION**:"
   ]
  },
  {
   "cell_type": "markdown",
   "id": "91671872-d2d1-4143-8445-5d3e764290d9",
   "metadata": {},
   "source": [
    "#### Automatic Outlier Detection "
   ]
  },
  {
   "cell_type": "markdown",
   "id": "28bcbbe7-3ef8-4db9-8635-9f3293b037f7",
   "metadata": {},
   "source": [
    "🔍 **Local Outlier Factor (LOF)**\n",
    "- **Good for multivariate**,**non-Gaussian data**.\n",
    "- Measures local deviation based on nearest neighbors.\n",
    "- Assigns score: high score = high likelihood of being an outlier.\n",
    "- **Tool**: sklearn.neighbors.LocalOutlierFactor."
   ]
  },
  {
   "cell_type": "code",
   "execution_count": 21,
   "id": "b7d56831-d498-43a8-a408-6f8dc76bc5c2",
   "metadata": {},
   "outputs": [
    {
     "data": {
      "text/plain": [
       "'Shape of data : (750000, 8)'"
      ]
     },
     "metadata": {},
     "output_type": "display_data"
    }
   ],
   "source": [
    "# Load datasets\n",
    "# Paths\n",
    "calorie_train_data_path = \"../../data/raw_data/train.csv\"\n",
    "\n",
    "# Read train data\n",
    "data=pd.read_csv(calorie_train_data_path,index_col='id')\n",
    "display(f\"Shape of data : {data.shape}\")"
   ]
  },
  {
   "cell_type": "code",
   "execution_count": 22,
   "id": "62c2c0af-37bc-4572-8d47-75f1dc9e9ea7",
   "metadata": {
    "scrolled": true
   },
   "outputs": [
    {
     "name": "stdout",
     "output_type": "stream",
     "text": [
      "(502500, 6) (502500, 1)\n",
      "(360466, 6) (360466, 1)\n"
     ]
    }
   ],
   "source": [
    "# evaluate model on training dataset with outliers removed \n",
    "\n",
    "# split into input and output elements\n",
    "target=\"Calories\"\n",
    "X, y = data.drop(columns=target), data[[target]]\n",
    "\n",
    "# Only take numerical columns into account HERE\n",
    "X = X.select_dtypes(include=\"number\")\n",
    "\n",
    "# split into train and test sets \n",
    "X_train, X_test, y_train, y_test = train_test_split(X, y, test_size=0.33, random_state=1) \n",
    "\n",
    "# summarize the shape of the training dataset \n",
    "print(X_train.shape, y_train.shape) \n",
    "\n",
    "# identify outliers in the training dataset \n",
    "# lof = LocalOutlierFactor()\n",
    "lof = IsolationForest() \n",
    "yhat = lof.fit_predict(X_train) \n",
    "\n",
    "# select all rows that are not outliers \n",
    "mask = yhat != -1 \n",
    "X_train, y_train = X_train[mask], y_train[mask] \n",
    "\n",
    "# summarize the shape of the updated training dataset \n",
    "print(X_train.shape, y_train.shape) "
   ]
  },
  {
   "cell_type": "markdown",
   "id": "62c04195-02e1-4ee3-bf9e-b4105d83fa9b",
   "metadata": {},
   "source": [
    "**CONCLUSION**:"
   ]
  },
  {
   "cell_type": "markdown",
   "id": "f0208270-9003-4d30-a6d3-04237fbed1a1",
   "metadata": {},
   "source": [
    "## How to Mark and Remove Missing Data"
   ]
  },
  {
   "cell_type": "markdown",
   "id": "c8bd9cef-25e7-435d-93ea-6257daae1a95",
   "metadata": {},
   "source": [
    "###### 🔍 **Understanding Missing Data in ML**\n",
    "- Real-world datasets often contain **missing or corrupt values** (e.g., due to non-recording or corruption).\n",
    "- Many machine learning algorithms **cannot handle missing values** and will raise errors."
   ]
  },
  {
   "cell_type": "code",
   "execution_count": 23,
   "id": "c15e2103-bb22-4a8c-b0af-eb6f0cc24c6f",
   "metadata": {},
   "outputs": [
    {
     "data": {
      "text/plain": [
       "'Shape of data : (750000, 8)'"
      ]
     },
     "metadata": {},
     "output_type": "display_data"
    }
   ],
   "source": [
    "# Load datasets\n",
    "# Paths\n",
    "calorie_train_data_path = \"../../data/raw_data/train.csv\"\n",
    "\n",
    "# Read train data\n",
    "data=pd.read_csv(calorie_train_data_path,index_col='id')\n",
    "display(f\"Shape of data : {data.shape}\")"
   ]
  },
  {
   "cell_type": "markdown",
   "id": "4d19e51b-84b6-4f5a-9184-87adb6ac08a0",
   "metadata": {},
   "source": [
    "#### Mark Missing Values"
   ]
  },
  {
   "cell_type": "markdown",
   "id": "3cae0441-4cf4-4c1f-91d8-ee423ad9bffb",
   "metadata": {},
   "source": [
    "🧼 **Step 1: Identify & Mark Missing Values**\n",
    "- **Identify invalid zeros** using summary stats (dataset.describe())\n",
    "- **Count zero entries** in those columns → gives count of missing data\n",
    "- **Replace invalid zeros with NaN** using:df.replace(0, np.nan)\n"
   ]
  },
  {
   "cell_type": "code",
   "execution_count": 24,
   "id": "e4fbee16-57a2-46c5-b087-e3fb9f79d9b2",
   "metadata": {},
   "outputs": [
    {
     "data": {
      "text/html": [
       "<div>\n",
       "<style scoped>\n",
       "    .dataframe tbody tr th:only-of-type {\n",
       "        vertical-align: middle;\n",
       "    }\n",
       "\n",
       "    .dataframe tbody tr th {\n",
       "        vertical-align: top;\n",
       "    }\n",
       "\n",
       "    .dataframe thead th {\n",
       "        text-align: right;\n",
       "    }\n",
       "</style>\n",
       "<table border=\"1\" class=\"dataframe\">\n",
       "  <thead>\n",
       "    <tr style=\"text-align: right;\">\n",
       "      <th></th>\n",
       "      <th>Age</th>\n",
       "      <th>Height</th>\n",
       "      <th>Weight</th>\n",
       "      <th>Duration</th>\n",
       "      <th>Heart_Rate</th>\n",
       "      <th>Body_Temp</th>\n",
       "      <th>Calories</th>\n",
       "    </tr>\n",
       "  </thead>\n",
       "  <tbody>\n",
       "    <tr>\n",
       "      <th>count</th>\n",
       "      <td>750000.000000</td>\n",
       "      <td>750000.000000</td>\n",
       "      <td>750000.000000</td>\n",
       "      <td>750000.000000</td>\n",
       "      <td>750000.000000</td>\n",
       "      <td>750000.000000</td>\n",
       "      <td>750000.000000</td>\n",
       "    </tr>\n",
       "    <tr>\n",
       "      <th>mean</th>\n",
       "      <td>41.420404</td>\n",
       "      <td>174.697685</td>\n",
       "      <td>75.145668</td>\n",
       "      <td>15.421015</td>\n",
       "      <td>95.483995</td>\n",
       "      <td>40.036253</td>\n",
       "      <td>88.282781</td>\n",
       "    </tr>\n",
       "    <tr>\n",
       "      <th>std</th>\n",
       "      <td>15.175049</td>\n",
       "      <td>12.824496</td>\n",
       "      <td>13.982704</td>\n",
       "      <td>8.354095</td>\n",
       "      <td>9.449845</td>\n",
       "      <td>0.779875</td>\n",
       "      <td>62.395349</td>\n",
       "    </tr>\n",
       "    <tr>\n",
       "      <th>min</th>\n",
       "      <td>20.000000</td>\n",
       "      <td>126.000000</td>\n",
       "      <td>36.000000</td>\n",
       "      <td>1.000000</td>\n",
       "      <td>67.000000</td>\n",
       "      <td>37.100000</td>\n",
       "      <td>1.000000</td>\n",
       "    </tr>\n",
       "    <tr>\n",
       "      <th>25%</th>\n",
       "      <td>28.000000</td>\n",
       "      <td>164.000000</td>\n",
       "      <td>63.000000</td>\n",
       "      <td>8.000000</td>\n",
       "      <td>88.000000</td>\n",
       "      <td>39.600000</td>\n",
       "      <td>34.000000</td>\n",
       "    </tr>\n",
       "    <tr>\n",
       "      <th>50%</th>\n",
       "      <td>40.000000</td>\n",
       "      <td>174.000000</td>\n",
       "      <td>74.000000</td>\n",
       "      <td>15.000000</td>\n",
       "      <td>95.000000</td>\n",
       "      <td>40.300000</td>\n",
       "      <td>77.000000</td>\n",
       "    </tr>\n",
       "    <tr>\n",
       "      <th>75%</th>\n",
       "      <td>52.000000</td>\n",
       "      <td>185.000000</td>\n",
       "      <td>87.000000</td>\n",
       "      <td>23.000000</td>\n",
       "      <td>103.000000</td>\n",
       "      <td>40.700000</td>\n",
       "      <td>136.000000</td>\n",
       "    </tr>\n",
       "    <tr>\n",
       "      <th>max</th>\n",
       "      <td>79.000000</td>\n",
       "      <td>222.000000</td>\n",
       "      <td>132.000000</td>\n",
       "      <td>30.000000</td>\n",
       "      <td>128.000000</td>\n",
       "      <td>41.500000</td>\n",
       "      <td>314.000000</td>\n",
       "    </tr>\n",
       "  </tbody>\n",
       "</table>\n",
       "</div>"
      ],
      "text/plain": [
       "                 Age         Height         Weight       Duration  \\\n",
       "count  750000.000000  750000.000000  750000.000000  750000.000000   \n",
       "mean       41.420404     174.697685      75.145668      15.421015   \n",
       "std        15.175049      12.824496      13.982704       8.354095   \n",
       "min        20.000000     126.000000      36.000000       1.000000   \n",
       "25%        28.000000     164.000000      63.000000       8.000000   \n",
       "50%        40.000000     174.000000      74.000000      15.000000   \n",
       "75%        52.000000     185.000000      87.000000      23.000000   \n",
       "max        79.000000     222.000000     132.000000      30.000000   \n",
       "\n",
       "          Heart_Rate      Body_Temp       Calories  \n",
       "count  750000.000000  750000.000000  750000.000000  \n",
       "mean       95.483995      40.036253      88.282781  \n",
       "std         9.449845       0.779875      62.395349  \n",
       "min        67.000000      37.100000       1.000000  \n",
       "25%        88.000000      39.600000      34.000000  \n",
       "50%        95.000000      40.300000      77.000000  \n",
       "75%       103.000000      40.700000     136.000000  \n",
       "max       128.000000      41.500000     314.000000  "
      ]
     },
     "metadata": {},
     "output_type": "display_data"
    }
   ],
   "source": [
    "# Summarize the dataset from pandas import read_csv\n",
    "display(data.describe())"
   ]
  },
  {
   "cell_type": "markdown",
   "id": "b0023cfc-b492-414d-a2e4-69e2b545d414",
   "metadata": {},
   "source": [
    "This is useful. We can see that there are columns that have a minimum value of zero (0). On some columns, a value of zero does not make sense and indicates an invalid or missing value."
   ]
  },
  {
   "cell_type": "code",
   "execution_count": 25,
   "id": "8dd2c17f-94c6-41a9-b677-c90ee4ea24cd",
   "metadata": {},
   "outputs": [
    {
     "name": "stdout",
     "output_type": "stream",
     "text": [
      "Sex           0\n",
      "Age           0\n",
      "Height        0\n",
      "Weight        0\n",
      "Duration      0\n",
      "Heart_Rate    0\n",
      "Body_Temp     0\n",
      "Calories      0\n",
      "dtype: int64\n"
     ]
    }
   ],
   "source": [
    "# example of summarizing the number of missing values for each variable \n",
    "\n",
    "from pandas import read_csv\n",
    "# count the number of missing values for each column \n",
    "num_missing = (data== 0).sum()\n",
    "\n",
    "# report the results \n",
    "print(num_missing)"
   ]
  },
  {
   "cell_type": "markdown",
   "id": "383bde98-420b-4955-b113-d36f1b09b870",
   "metadata": {},
   "source": [
    "In Python, specifically Pandas, NumPy and Scikit-Learn, we mark missing values as NaN. Values with a NaN value are ignored from operations like sum, count, etc. We can mark values as NaN easily with the Pandas DataFrame by using the replace() function on a subset of the columns we are interested in. After we have marked the missing values, we can use the isnull() function to mark all of the NaN values in the dataset as True and get a count of the missing values for each column."
   ]
  },
  {
   "cell_type": "code",
   "execution_count": 26,
   "id": "9af38b5b-8fc7-4f36-a231-54e0b3c3f1a1",
   "metadata": {},
   "outputs": [
    {
     "name": "stdout",
     "output_type": "stream",
     "text": [
      "Sex           0\n",
      "Age           0\n",
      "Height        0\n",
      "Weight        0\n",
      "Duration      0\n",
      "Heart_Rate    0\n",
      "Body_Temp     0\n",
      "Calories      0\n",
      "dtype: int64\n"
     ]
    }
   ],
   "source": [
    "# example of marking missing values with nan values \n",
    "\n",
    "from numpy import nan\n",
    " # replace '0' values with 'nan'\n",
    "data  =  data.replace(0,  np.nan) \n",
    "\n",
    "# count the number of nan values in each column \n",
    "print(data.isnull().sum())"
   ]
  },
  {
   "cell_type": "code",
   "execution_count": 27,
   "id": "7c1619e5-e0b2-4009-8933-884ffcbd52ec",
   "metadata": {},
   "outputs": [
    {
     "name": "stdout",
     "output_type": "stream",
     "text": [
      "Sex           0\n",
      "Age           0\n",
      "Height        0\n",
      "Weight        0\n",
      "Duration      0\n",
      "Heart_Rate    0\n",
      "Body_Temp     0\n",
      "Calories      0\n",
      "dtype: int64\n"
     ]
    }
   ],
   "source": [
    "# example of marking missing values with nan values from numpy import nan\n",
    " # replace '0' values with 'nan'\n",
    "data =  data.replace(0,  np.nan) \n",
    "\n",
    "# count the number of nan values in each column \n",
    "print(data.isnull().sum())\n"
   ]
  },
  {
   "cell_type": "markdown",
   "id": "19399d20-0a4f-493d-995d-d0b904f8a616",
   "metadata": {},
   "source": [
    "This is a useful summary, as we want to confirm that we have not fooled ourselves somehow.\n",
    "Below is the same example, except we print the first 20 rows of data."
   ]
  },
  {
   "cell_type": "code",
   "execution_count": 28,
   "id": "247288f6-1e5b-4803-90f1-eefad250f28b",
   "metadata": {
    "scrolled": true
   },
   "outputs": [
    {
     "data": {
      "text/html": [
       "<div>\n",
       "<style scoped>\n",
       "    .dataframe tbody tr th:only-of-type {\n",
       "        vertical-align: middle;\n",
       "    }\n",
       "\n",
       "    .dataframe tbody tr th {\n",
       "        vertical-align: top;\n",
       "    }\n",
       "\n",
       "    .dataframe thead th {\n",
       "        text-align: right;\n",
       "    }\n",
       "</style>\n",
       "<table border=\"1\" class=\"dataframe\">\n",
       "  <thead>\n",
       "    <tr style=\"text-align: right;\">\n",
       "      <th></th>\n",
       "      <th>Sex</th>\n",
       "      <th>Age</th>\n",
       "      <th>Height</th>\n",
       "      <th>Weight</th>\n",
       "      <th>Duration</th>\n",
       "      <th>Heart_Rate</th>\n",
       "      <th>Body_Temp</th>\n",
       "      <th>Calories</th>\n",
       "    </tr>\n",
       "    <tr>\n",
       "      <th>id</th>\n",
       "      <th></th>\n",
       "      <th></th>\n",
       "      <th></th>\n",
       "      <th></th>\n",
       "      <th></th>\n",
       "      <th></th>\n",
       "      <th></th>\n",
       "      <th></th>\n",
       "    </tr>\n",
       "  </thead>\n",
       "  <tbody>\n",
       "    <tr>\n",
       "      <th>0</th>\n",
       "      <td>male</td>\n",
       "      <td>36</td>\n",
       "      <td>189.0</td>\n",
       "      <td>82.0</td>\n",
       "      <td>26.0</td>\n",
       "      <td>101.0</td>\n",
       "      <td>41.0</td>\n",
       "      <td>150.0</td>\n",
       "    </tr>\n",
       "    <tr>\n",
       "      <th>1</th>\n",
       "      <td>female</td>\n",
       "      <td>64</td>\n",
       "      <td>163.0</td>\n",
       "      <td>60.0</td>\n",
       "      <td>8.0</td>\n",
       "      <td>85.0</td>\n",
       "      <td>39.7</td>\n",
       "      <td>34.0</td>\n",
       "    </tr>\n",
       "    <tr>\n",
       "      <th>2</th>\n",
       "      <td>female</td>\n",
       "      <td>51</td>\n",
       "      <td>161.0</td>\n",
       "      <td>64.0</td>\n",
       "      <td>7.0</td>\n",
       "      <td>84.0</td>\n",
       "      <td>39.8</td>\n",
       "      <td>29.0</td>\n",
       "    </tr>\n",
       "    <tr>\n",
       "      <th>3</th>\n",
       "      <td>male</td>\n",
       "      <td>20</td>\n",
       "      <td>192.0</td>\n",
       "      <td>90.0</td>\n",
       "      <td>25.0</td>\n",
       "      <td>105.0</td>\n",
       "      <td>40.7</td>\n",
       "      <td>140.0</td>\n",
       "    </tr>\n",
       "    <tr>\n",
       "      <th>4</th>\n",
       "      <td>female</td>\n",
       "      <td>38</td>\n",
       "      <td>166.0</td>\n",
       "      <td>61.0</td>\n",
       "      <td>25.0</td>\n",
       "      <td>102.0</td>\n",
       "      <td>40.6</td>\n",
       "      <td>146.0</td>\n",
       "    </tr>\n",
       "    <tr>\n",
       "      <th>5</th>\n",
       "      <td>female</td>\n",
       "      <td>26</td>\n",
       "      <td>156.0</td>\n",
       "      <td>56.0</td>\n",
       "      <td>19.0</td>\n",
       "      <td>100.0</td>\n",
       "      <td>40.5</td>\n",
       "      <td>103.0</td>\n",
       "    </tr>\n",
       "    <tr>\n",
       "      <th>6</th>\n",
       "      <td>female</td>\n",
       "      <td>21</td>\n",
       "      <td>172.0</td>\n",
       "      <td>73.0</td>\n",
       "      <td>3.0</td>\n",
       "      <td>81.0</td>\n",
       "      <td>38.3</td>\n",
       "      <td>9.0</td>\n",
       "    </tr>\n",
       "    <tr>\n",
       "      <th>7</th>\n",
       "      <td>male</td>\n",
       "      <td>46</td>\n",
       "      <td>188.0</td>\n",
       "      <td>94.0</td>\n",
       "      <td>23.0</td>\n",
       "      <td>100.0</td>\n",
       "      <td>40.8</td>\n",
       "      <td>145.0</td>\n",
       "    </tr>\n",
       "    <tr>\n",
       "      <th>8</th>\n",
       "      <td>female</td>\n",
       "      <td>33</td>\n",
       "      <td>166.0</td>\n",
       "      <td>63.0</td>\n",
       "      <td>25.0</td>\n",
       "      <td>107.0</td>\n",
       "      <td>40.5</td>\n",
       "      <td>161.0</td>\n",
       "    </tr>\n",
       "    <tr>\n",
       "      <th>9</th>\n",
       "      <td>male</td>\n",
       "      <td>65</td>\n",
       "      <td>185.0</td>\n",
       "      <td>88.0</td>\n",
       "      <td>23.0</td>\n",
       "      <td>104.0</td>\n",
       "      <td>41.0</td>\n",
       "      <td>185.0</td>\n",
       "    </tr>\n",
       "    <tr>\n",
       "      <th>10</th>\n",
       "      <td>male</td>\n",
       "      <td>20</td>\n",
       "      <td>186.0</td>\n",
       "      <td>89.0</td>\n",
       "      <td>21.0</td>\n",
       "      <td>94.0</td>\n",
       "      <td>40.3</td>\n",
       "      <td>86.0</td>\n",
       "    </tr>\n",
       "    <tr>\n",
       "      <th>11</th>\n",
       "      <td>female</td>\n",
       "      <td>41</td>\n",
       "      <td>161.0</td>\n",
       "      <td>63.0</td>\n",
       "      <td>6.0</td>\n",
       "      <td>91.0</td>\n",
       "      <td>39.1</td>\n",
       "      <td>28.0</td>\n",
       "    </tr>\n",
       "    <tr>\n",
       "      <th>12</th>\n",
       "      <td>male</td>\n",
       "      <td>25</td>\n",
       "      <td>203.0</td>\n",
       "      <td>99.0</td>\n",
       "      <td>29.0</td>\n",
       "      <td>111.0</td>\n",
       "      <td>40.8</td>\n",
       "      <td>202.0</td>\n",
       "    </tr>\n",
       "    <tr>\n",
       "      <th>13</th>\n",
       "      <td>male</td>\n",
       "      <td>57</td>\n",
       "      <td>188.0</td>\n",
       "      <td>91.0</td>\n",
       "      <td>12.0</td>\n",
       "      <td>105.0</td>\n",
       "      <td>40.1</td>\n",
       "      <td>87.0</td>\n",
       "    </tr>\n",
       "    <tr>\n",
       "      <th>14</th>\n",
       "      <td>female</td>\n",
       "      <td>44</td>\n",
       "      <td>179.0</td>\n",
       "      <td>77.0</td>\n",
       "      <td>6.0</td>\n",
       "      <td>84.0</td>\n",
       "      <td>39.3</td>\n",
       "      <td>23.0</td>\n",
       "    </tr>\n",
       "    <tr>\n",
       "      <th>15</th>\n",
       "      <td>male</td>\n",
       "      <td>38</td>\n",
       "      <td>180.0</td>\n",
       "      <td>85.0</td>\n",
       "      <td>11.0</td>\n",
       "      <td>92.0</td>\n",
       "      <td>40.0</td>\n",
       "      <td>47.0</td>\n",
       "    </tr>\n",
       "    <tr>\n",
       "      <th>16</th>\n",
       "      <td>male</td>\n",
       "      <td>27</td>\n",
       "      <td>186.0</td>\n",
       "      <td>81.0</td>\n",
       "      <td>15.0</td>\n",
       "      <td>101.0</td>\n",
       "      <td>40.1</td>\n",
       "      <td>80.0</td>\n",
       "    </tr>\n",
       "    <tr>\n",
       "      <th>17</th>\n",
       "      <td>female</td>\n",
       "      <td>51</td>\n",
       "      <td>171.0</td>\n",
       "      <td>71.0</td>\n",
       "      <td>1.0</td>\n",
       "      <td>77.0</td>\n",
       "      <td>37.7</td>\n",
       "      <td>3.0</td>\n",
       "    </tr>\n",
       "    <tr>\n",
       "      <th>18</th>\n",
       "      <td>male</td>\n",
       "      <td>26</td>\n",
       "      <td>198.0</td>\n",
       "      <td>99.0</td>\n",
       "      <td>3.0</td>\n",
       "      <td>89.0</td>\n",
       "      <td>38.6</td>\n",
       "      <td>10.0</td>\n",
       "    </tr>\n",
       "    <tr>\n",
       "      <th>19</th>\n",
       "      <td>male</td>\n",
       "      <td>51</td>\n",
       "      <td>187.0</td>\n",
       "      <td>94.0</td>\n",
       "      <td>3.0</td>\n",
       "      <td>81.0</td>\n",
       "      <td>38.8</td>\n",
       "      <td>10.0</td>\n",
       "    </tr>\n",
       "  </tbody>\n",
       "</table>\n",
       "</div>"
      ],
      "text/plain": [
       "       Sex  Age  Height  Weight  Duration  Heart_Rate  Body_Temp  Calories\n",
       "id                                                                        \n",
       "0     male   36   189.0    82.0      26.0       101.0       41.0     150.0\n",
       "1   female   64   163.0    60.0       8.0        85.0       39.7      34.0\n",
       "2   female   51   161.0    64.0       7.0        84.0       39.8      29.0\n",
       "3     male   20   192.0    90.0      25.0       105.0       40.7     140.0\n",
       "4   female   38   166.0    61.0      25.0       102.0       40.6     146.0\n",
       "5   female   26   156.0    56.0      19.0       100.0       40.5     103.0\n",
       "6   female   21   172.0    73.0       3.0        81.0       38.3       9.0\n",
       "7     male   46   188.0    94.0      23.0       100.0       40.8     145.0\n",
       "8   female   33   166.0    63.0      25.0       107.0       40.5     161.0\n",
       "9     male   65   185.0    88.0      23.0       104.0       41.0     185.0\n",
       "10    male   20   186.0    89.0      21.0        94.0       40.3      86.0\n",
       "11  female   41   161.0    63.0       6.0        91.0       39.1      28.0\n",
       "12    male   25   203.0    99.0      29.0       111.0       40.8     202.0\n",
       "13    male   57   188.0    91.0      12.0       105.0       40.1      87.0\n",
       "14  female   44   179.0    77.0       6.0        84.0       39.3      23.0\n",
       "15    male   38   180.0    85.0      11.0        92.0       40.0      47.0\n",
       "16    male   27   186.0    81.0      15.0       101.0       40.1      80.0\n",
       "17  female   51   171.0    71.0       1.0        77.0       37.7       3.0\n",
       "18    male   26   198.0    99.0       3.0        89.0       38.6      10.0\n",
       "19    male   51   187.0    94.0       3.0        81.0       38.8      10.0"
      ]
     },
     "metadata": {},
     "output_type": "display_data"
    }
   ],
   "source": [
    "# example of review data with missing values marked with a nan \n",
    "from numpy import nan\n",
    "\n",
    "# replace '0' values with 'nan'\n",
    "data =  data.replace(0,  np.nan) \n",
    "\n",
    "# summarize the first 20 rows of data \n",
    "display(data.head(20))"
   ]
  },
  {
   "cell_type": "markdown",
   "id": "cd5ee9ed-d8ae-4878-a1f4-9c9260128138",
   "metadata": {},
   "source": [
    "#### Missing Values Cause Problems"
   ]
  },
  {
   "cell_type": "markdown",
   "id": "dc09c864-0216-4191-ad6a-69a1a9a8fc56",
   "metadata": {},
   "source": [
    "Having missing values in a dataset can cause errors with some machine learning algorithms.\n",
    "In this section, we will try to evaluate the Linear Discriminant Analysis (LDA) algorithm on the dataset with missing values. This is an algorithm that does not work when there are missing values in the dataset. The example below marks the missing values in the dataset, as we did in the previous section, then attempts to evaluate LDA using 3-fold cross-validation and print the mean accuracy\n"
   ]
  },
  {
   "cell_type": "markdown",
   "id": "37e6a1b8-382f-4c5d-bcad-8b2d795722bb",
   "metadata": {},
   "source": [
    "#### Remove Rows With Missing Values"
   ]
  },
  {
   "cell_type": "markdown",
   "id": "6f77eb9f-85d0-4ab2-9160-b752acf34111",
   "metadata": {},
   "source": [
    "The simplest strategy for handling missing data is to remove records that contain a missing value."
   ]
  },
  {
   "cell_type": "code",
   "execution_count": 29,
   "id": "d2eee4bf-860e-4a3c-af94-7459b1850892",
   "metadata": {},
   "outputs": [
    {
     "name": "stdout",
     "output_type": "stream",
     "text": [
      "(750000, 8)\n",
      "(750000, 8)\n"
     ]
    }
   ],
   "source": [
    "# example of removing rows that contain missing values from numpy import nan\n",
    "from pandas import read_csv \n",
    "\n",
    "# load the dataset\n",
    "# Paths\n",
    "calorie_train_data_path = \"../../data/raw_data/train.csv\"\n",
    "\n",
    "# Read train data\n",
    "data=pd.read_csv(calorie_train_data_path,index_col='id')\n",
    "\n",
    "# summarize the shape of the raw data\n",
    "print(data.shape)\n",
    "\n",
    "# replace '0' values with 'nan'\n",
    "data  =  data.replace(0,  np.nan) \n",
    "\n",
    "# drop rows with missing values \n",
    "data.dropna(inplace=True)\n",
    "\n",
    "# summarize the shape of the data with missing rows removed \n",
    "print(data.shape)"
   ]
  },
  {
   "cell_type": "markdown",
   "id": "8d281703-a6b0-40e2-8427-4ac7e89f5bcc",
   "metadata": {},
   "source": [
    "**Removing rows with missing values can be too limiting on some predictive modeling problems, an alternative is to impute missing values.**"
   ]
  },
  {
   "cell_type": "markdown",
   "id": "540dfc01-6636-40fe-ac88-66b1a2c42086",
   "metadata": {},
   "source": [
    "### How to Use Statistical Imputation"
   ]
  },
  {
   "cell_type": "code",
   "execution_count": 30,
   "id": "c462139d-fcc9-4cf3-812e-9e429444125e",
   "metadata": {},
   "outputs": [],
   "source": [
    "# load the dataset\n",
    "# Paths\n",
    "calorie_train_data_path = \"../../data/raw_data/train.csv\"\n",
    "\n",
    "# Read train data\n",
    "data=pd.read_csv(calorie_train_data_path,index_col='id')"
   ]
  },
  {
   "cell_type": "code",
   "execution_count": 31,
   "id": "472aa5df-cc09-46e0-95b5-90bb1150a339",
   "metadata": {},
   "outputs": [
    {
     "data": {
      "text/html": [
       "<div>\n",
       "<style scoped>\n",
       "    .dataframe tbody tr th:only-of-type {\n",
       "        vertical-align: middle;\n",
       "    }\n",
       "\n",
       "    .dataframe tbody tr th {\n",
       "        vertical-align: top;\n",
       "    }\n",
       "\n",
       "    .dataframe thead th {\n",
       "        text-align: right;\n",
       "    }\n",
       "</style>\n",
       "<table border=\"1\" class=\"dataframe\">\n",
       "  <thead>\n",
       "    <tr style=\"text-align: right;\">\n",
       "      <th></th>\n",
       "      <th>Sex</th>\n",
       "      <th>Age</th>\n",
       "      <th>Height</th>\n",
       "      <th>Weight</th>\n",
       "      <th>Duration</th>\n",
       "      <th>Heart_Rate</th>\n",
       "      <th>Body_Temp</th>\n",
       "      <th>Calories</th>\n",
       "    </tr>\n",
       "    <tr>\n",
       "      <th>id</th>\n",
       "      <th></th>\n",
       "      <th></th>\n",
       "      <th></th>\n",
       "      <th></th>\n",
       "      <th></th>\n",
       "      <th></th>\n",
       "      <th></th>\n",
       "      <th></th>\n",
       "    </tr>\n",
       "  </thead>\n",
       "  <tbody>\n",
       "    <tr>\n",
       "      <th>0</th>\n",
       "      <td>male</td>\n",
       "      <td>36</td>\n",
       "      <td>189.0</td>\n",
       "      <td>82.0</td>\n",
       "      <td>26.0</td>\n",
       "      <td>101.0</td>\n",
       "      <td>41.0</td>\n",
       "      <td>150.0</td>\n",
       "    </tr>\n",
       "    <tr>\n",
       "      <th>1</th>\n",
       "      <td>female</td>\n",
       "      <td>64</td>\n",
       "      <td>163.0</td>\n",
       "      <td>60.0</td>\n",
       "      <td>8.0</td>\n",
       "      <td>85.0</td>\n",
       "      <td>39.7</td>\n",
       "      <td>34.0</td>\n",
       "    </tr>\n",
       "    <tr>\n",
       "      <th>2</th>\n",
       "      <td>female</td>\n",
       "      <td>51</td>\n",
       "      <td>161.0</td>\n",
       "      <td>64.0</td>\n",
       "      <td>7.0</td>\n",
       "      <td>84.0</td>\n",
       "      <td>39.8</td>\n",
       "      <td>29.0</td>\n",
       "    </tr>\n",
       "    <tr>\n",
       "      <th>3</th>\n",
       "      <td>male</td>\n",
       "      <td>20</td>\n",
       "      <td>192.0</td>\n",
       "      <td>90.0</td>\n",
       "      <td>25.0</td>\n",
       "      <td>105.0</td>\n",
       "      <td>40.7</td>\n",
       "      <td>140.0</td>\n",
       "    </tr>\n",
       "    <tr>\n",
       "      <th>4</th>\n",
       "      <td>female</td>\n",
       "      <td>38</td>\n",
       "      <td>166.0</td>\n",
       "      <td>61.0</td>\n",
       "      <td>25.0</td>\n",
       "      <td>102.0</td>\n",
       "      <td>40.6</td>\n",
       "      <td>146.0</td>\n",
       "    </tr>\n",
       "  </tbody>\n",
       "</table>\n",
       "</div>"
      ],
      "text/plain": [
       "       Sex  Age  Height  Weight  Duration  Heart_Rate  Body_Temp  Calories\n",
       "id                                                                        \n",
       "0     male   36   189.0    82.0      26.0       101.0       41.0     150.0\n",
       "1   female   64   163.0    60.0       8.0        85.0       39.7      34.0\n",
       "2   female   51   161.0    64.0       7.0        84.0       39.8      29.0\n",
       "3     male   20   192.0    90.0      25.0       105.0       40.7     140.0\n",
       "4   female   38   166.0    61.0      25.0       102.0       40.6     146.0"
      ]
     },
     "execution_count": 31,
     "metadata": {},
     "output_type": "execute_result"
    }
   ],
   "source": [
    "# Head of data\n",
    "data.head()"
   ]
  },
  {
   "cell_type": "markdown",
   "id": "28a2be19-39d3-4632-8f9d-a04cdd2b6d72",
   "metadata": {},
   "source": [
    "Marking missing values with a NaN (not a number) value in a loaded dataset using Python is a best practice. \n",
    "**We can load the dataset using the read csv() Pandas function and specify the na values to load values of “?” as missing, marked with a NaN value.**"
   ]
  },
  {
   "cell_type": "code",
   "execution_count": 32,
   "id": "42614f17-75e3-4f73-b748-d6c0ad06b7fe",
   "metadata": {},
   "outputs": [
    {
     "data": {
      "text/plain": [
       "'Shape of data : (750000, 8)'"
      ]
     },
     "metadata": {},
     "output_type": "display_data"
    }
   ],
   "source": [
    "# load dataset\n",
    "data = read_csv(calorie_train_data_path,index_col='id', na_values='?')\n",
    "display(f\"Shape of data : {data.shape}\")"
   ]
  },
  {
   "cell_type": "code",
   "execution_count": 33,
   "id": "f7e26a53-4d86-4aef-bdfc-cb3c71523474",
   "metadata": {},
   "outputs": [
    {
     "data": {
      "text/html": [
       "<div>\n",
       "<style scoped>\n",
       "    .dataframe tbody tr th:only-of-type {\n",
       "        vertical-align: middle;\n",
       "    }\n",
       "\n",
       "    .dataframe tbody tr th {\n",
       "        vertical-align: top;\n",
       "    }\n",
       "\n",
       "    .dataframe thead th {\n",
       "        text-align: right;\n",
       "    }\n",
       "</style>\n",
       "<table border=\"1\" class=\"dataframe\">\n",
       "  <thead>\n",
       "    <tr style=\"text-align: right;\">\n",
       "      <th></th>\n",
       "      <th>Sex</th>\n",
       "      <th>Age</th>\n",
       "      <th>Height</th>\n",
       "      <th>Weight</th>\n",
       "      <th>Duration</th>\n",
       "      <th>Heart_Rate</th>\n",
       "      <th>Body_Temp</th>\n",
       "      <th>Calories</th>\n",
       "    </tr>\n",
       "    <tr>\n",
       "      <th>id</th>\n",
       "      <th></th>\n",
       "      <th></th>\n",
       "      <th></th>\n",
       "      <th></th>\n",
       "      <th></th>\n",
       "      <th></th>\n",
       "      <th></th>\n",
       "      <th></th>\n",
       "    </tr>\n",
       "  </thead>\n",
       "  <tbody>\n",
       "    <tr>\n",
       "      <th>0</th>\n",
       "      <td>male</td>\n",
       "      <td>36</td>\n",
       "      <td>189.0</td>\n",
       "      <td>82.0</td>\n",
       "      <td>26.0</td>\n",
       "      <td>101.0</td>\n",
       "      <td>41.0</td>\n",
       "      <td>150.0</td>\n",
       "    </tr>\n",
       "    <tr>\n",
       "      <th>1</th>\n",
       "      <td>female</td>\n",
       "      <td>64</td>\n",
       "      <td>163.0</td>\n",
       "      <td>60.0</td>\n",
       "      <td>8.0</td>\n",
       "      <td>85.0</td>\n",
       "      <td>39.7</td>\n",
       "      <td>34.0</td>\n",
       "    </tr>\n",
       "    <tr>\n",
       "      <th>2</th>\n",
       "      <td>female</td>\n",
       "      <td>51</td>\n",
       "      <td>161.0</td>\n",
       "      <td>64.0</td>\n",
       "      <td>7.0</td>\n",
       "      <td>84.0</td>\n",
       "      <td>39.8</td>\n",
       "      <td>29.0</td>\n",
       "    </tr>\n",
       "    <tr>\n",
       "      <th>3</th>\n",
       "      <td>male</td>\n",
       "      <td>20</td>\n",
       "      <td>192.0</td>\n",
       "      <td>90.0</td>\n",
       "      <td>25.0</td>\n",
       "      <td>105.0</td>\n",
       "      <td>40.7</td>\n",
       "      <td>140.0</td>\n",
       "    </tr>\n",
       "    <tr>\n",
       "      <th>4</th>\n",
       "      <td>female</td>\n",
       "      <td>38</td>\n",
       "      <td>166.0</td>\n",
       "      <td>61.0</td>\n",
       "      <td>25.0</td>\n",
       "      <td>102.0</td>\n",
       "      <td>40.6</td>\n",
       "      <td>146.0</td>\n",
       "    </tr>\n",
       "  </tbody>\n",
       "</table>\n",
       "</div>"
      ],
      "text/plain": [
       "       Sex  Age  Height  Weight  Duration  Heart_Rate  Body_Temp  Calories\n",
       "id                                                                        \n",
       "0     male   36   189.0    82.0      26.0       101.0       41.0     150.0\n",
       "1   female   64   163.0    60.0       8.0        85.0       39.7      34.0\n",
       "2   female   51   161.0    64.0       7.0        84.0       39.8      29.0\n",
       "3     male   20   192.0    90.0      25.0       105.0       40.7     140.0\n",
       "4   female   38   166.0    61.0      25.0       102.0       40.6     146.0"
      ]
     },
     "execution_count": 33,
     "metadata": {},
     "output_type": "execute_result"
    }
   ],
   "source": [
    "# Head of data\n",
    "data.head()"
   ]
  },
  {
   "cell_type": "code",
   "execution_count": 34,
   "id": "b30b4439-eeec-4c26-8934-67784449f72e",
   "metadata": {},
   "outputs": [
    {
     "name": "stdout",
     "output_type": "stream",
     "text": [
      "> 0, Missing: 0 (0.0%)\n",
      "> 1, Missing: 0 (0.0%)\n",
      "> 2, Missing: 0 (0.0%)\n",
      "> 3, Missing: 0 (0.0%)\n",
      "> 4, Missing: 0 (0.0%)\n",
      "> 5, Missing: 0 (0.0%)\n",
      "> 6, Missing: 0 (0.0%)\n",
      "> 7, Missing: 0 (0.0%)\n"
     ]
    }
   ],
   "source": [
    "# summarize the number of rows with missing values for each column \n",
    "for i in range(data.shape[1]):\n",
    "    # count number of rows with missing values \n",
    "    n_miss = data.iloc[i].isnull().sum()\n",
    "    perc = n_miss / data.shape[0] * 100\n",
    "    perc = round(perc,1)\n",
    "    print(f'> {i}, Missing: {n_miss} ({perc}%)' )"
   ]
  },
  {
   "cell_type": "markdown",
   "id": "6e37d161-cbb3-496e-8c57-2a731969f79e",
   "metadata": {},
   "source": [
    "#### Statistical Imputation With SimpleImputer"
   ]
  },
  {
   "cell_type": "markdown",
   "id": "3cb67f1d-4c24-4d51-8fd7-d82bd5a96dae",
   "metadata": {},
   "source": [
    "The scikit-learn machine learning library provides the **SimpleImputer class** that supports statistical imputation. <br>In this section, we will explore how to effectively use the **SimpleImputer class**."
   ]
  },
  {
   "cell_type": "markdown",
   "id": "2af88f32-b56f-4eec-87d1-a06bdc01eeae",
   "metadata": {},
   "source": [
    "📌 **What is Statistical Imputation?**\n",
    "- Process of replacing missing values in a dataset.\n",
    "- Required because most ML algorithms can't handle missing values.\n",
    "- Imputation = replacing missing values (e.g., NaN) with calculated statistics."
   ]
  },
  {
   "cell_type": "markdown",
   "id": "571a3919-1564-4f4a-ac51-80bac674024a",
   "metadata": {},
   "source": [
    "📌 **Common Statistical Imputation Methods**\n",
    "- **Mean**: Replace missing values with the average of the column.\n",
    "- **Median**: Replace with the median (middle value).\n",
    "- **Mode** (most frequent): Replace with the most common value."
   ]
  },
  {
   "cell_type": "code",
   "execution_count": 35,
   "id": "fa95316b-e608-478e-9792-29d492e430b3",
   "metadata": {},
   "outputs": [
    {
     "name": "stdout",
     "output_type": "stream",
     "text": [
      "Missing:\n",
      "  Age           0\n",
      "Height        0\n",
      "Weight        0\n",
      "Duration      0\n",
      "Heart_Rate    0\n",
      "Body_Temp     0\n",
      "dtype: int64\n",
      "Missing:\n",
      "  Age           0\n",
      "Height        0\n",
      "Weight        0\n",
      "Duration      0\n",
      "Heart_Rate    0\n",
      "Body_Temp     0\n",
      "dtype: int64\n"
     ]
    }
   ],
   "source": [
    "# statistical imputation transform for the horse colic dataset from numpy import isnan\n",
    "from pandas import read_csv\n",
    "from sklearn.impute import SimpleImputer\n",
    "\n",
    "# load the dataset\n",
    "# Paths\n",
    "calorie_train_data_path = \"../../data/raw_data/train.csv\"\n",
    "# Read train data\n",
    "data=pd.read_csv(calorie_train_data_path,index_col='id',na_values='?')\n",
    "\n",
    "# split into input and output elements\n",
    "target = \"Calories\"\n",
    "X, y = data.drop(columns=target), data[[target]]\n",
    "\n",
    "# Only take into account numerical features HERE\n",
    "X=X.select_dtypes(include=\"number\")\n",
    "\n",
    "# summarize total missing\n",
    "print(f\"Missing:\\n  {X.isna().sum()}\") \n",
    "\n",
    "# define imputer\n",
    "imputer = SimpleImputer(strategy='mean') \n",
    "\n",
    "# fit on the dataset\n",
    "imputer.fit(X)\n",
    "\n",
    "# transform the dataset \n",
    "Xtrans = imputer.transform(X) \n",
    "\n",
    "# summarize total missing\n",
    "print(f\"Missing:\\n  {X.isna().sum()}\") "
   ]
  },
  {
   "cell_type": "markdown",
   "id": "178935bd-ee65-430a-b86d-beabd9feb61a",
   "metadata": {},
   "source": [
    "📌 **Avoiding Data Leakage with Pipelines**\n",
    "- Use **Pipeline** to combine imputation and model training:\n",
    "- pipeline = Pipeline(steps=[('i', imputer), ('m', model)])\n",
    "- Ensures that imputation is based **only on training folds** during cross-validation.\n",
    "- Use repeated k-fold CV to evaluate accuracy."
   ]
  },
  {
   "cell_type": "code",
   "execution_count": 36,
   "id": "2007497e-1920-4b3a-8277-454bcc172657",
   "metadata": {},
   "outputs": [
    {
     "name": "stdout",
     "output_type": "stream",
     "text": [
      ">mean 8.102071945639569 (0.02625270061795735)\n",
      ">median 8.102071945639569 (0.02625270061795735)\n",
      ">most_frequent 8.102071945639569 (0.02625270061795735)\n",
      ">constant 8.102071945639569 (0.02625270061795735)\n"
     ]
    },
    {
     "data": {
      "image/png": "[encoded data removed]",
      "text/plain": [
       "<Figure size 640x480 with 1 Axes>"
      ]
     },
     "metadata": {},
     "output_type": "display_data"
    }
   ],
   "source": [
    "# compare statistical imputation strategies for the horse colic dataset from numpy import mean\n",
    "from numpy import std\n",
    "import pandas as pd\n",
    "import numpy as np\n",
    "from pandas import read_csv\n",
    "from sklearn.ensemble import RandomForestClassifier \n",
    "from sklearn.linear_model import LinearRegression\n",
    "from sklearn.impute import SimpleImputer\n",
    "from sklearn.model_selection import cross_val_score\n",
    "from sklearn.model_selection import RepeatedStratifiedKFold \n",
    "from sklearn.pipeline import Pipeline\n",
    "from matplotlib import pyplot \n",
    "\n",
    "# load the dataset\n",
    "# Paths\n",
    "calorie_train_data_path = \"../../data/raw_data/train.csv\"\n",
    "# Read train data\n",
    "data=pd.read_csv(calorie_train_data_path,index_col='id')\n",
    "\n",
    "# split into input and output elements\n",
    "target = \"Calories\"\n",
    "X, y = data.drop(columns=target), data[[target]]\n",
    "\n",
    "\n",
    "# Only take into account numerical features HERE\n",
    "X=X.select_dtypes(include=\"number\")\n",
    "\n",
    "# evaluate each strategy on the dataset \n",
    "results = list()\n",
    "strategies = ['mean', 'median', 'most_frequent', 'constant'] \n",
    "\n",
    "for s in strategies:\n",
    "    # create the modeling pipeline\n",
    "    pipeline = Pipeline(steps=[('i', SimpleImputer(strategy=s)), ('m', LinearRegression())])\n",
    "\n",
    "    # evaluate the model\n",
    "    cv = RepeatedStratifiedKFold(n_splits=10, n_repeats=3, random_state=1)\n",
    "    scores = -cross_val_score(pipeline, X, y, scoring='neg_mean_absolute_error', cv=cv, n_jobs=-1) \n",
    "\n",
    "    # store results\n",
    "    results.append(scores)\n",
    "    # print('>%s %.3f (%.3f)' % (s, -np.mean(scores), np.std(scores))) \n",
    "    print( f\">{s} {np.mean(scores)} ({np.std(scores)})\") \n",
    "\n",
    "# plot model performance for comparison \n",
    "pyplot.boxplot(results, tick_labels=strategies, showmeans=True) \n",
    "pyplot.show()"
   ]
  },
  {
   "cell_type": "markdown",
   "id": "636639f4-a265-483b-ab7b-1fd2f52331d7",
   "metadata": {},
   "source": [
    "📌 **Visual Comparison**\n",
    "- Use boxplot to compare performance of strategies:\n",
    "- pyplot.boxplot(results, labels=strategies, showmeans=True)"
   ]
  },
  {
   "cell_type": "markdown",
   "id": "e794f86a-a953-484b-9a75-d7da91e0cc80",
   "metadata": {},
   "source": [
    "#### SimpleImputer Transform When Making a Prediction"
   ]
  },
  {
   "cell_type": "markdown",
   "id": "b78a76db-d45f-4244-864d-358b2d8aa527",
   "metadata": {},
   "source": [
    "📌 **Predicting New Data with Missing Values**\n",
    "- Define a row with missing values as NaN.\n",
    "- Fit pipeline on full dataset:\n",
    "- pipeline.fit(X, y)\n",
    "- yhat = pipeline.predict([row])\n",
    "- Example output: Predicted Class: 2"
   ]
  },
  {
   "cell_type": "code",
   "execution_count": 37,
   "id": "48b09b80-4677-4320-9ed2-72d7199678f6",
   "metadata": {},
   "outputs": [
    {
     "name": "stdout",
     "output_type": "stream",
     "text": [
      "Prediction : [22.53500109]\n"
     ]
    }
   ],
   "source": [
    "# constant imputation strategy and prediction for the horse colic dataset from numpy import nan\n",
    "from pandas import read_csv\n",
    "from sklearn.ensemble import RandomForestClassifier \n",
    "from sklearn.linear_model import LinearRegression\n",
    "from sklearn.impute import SimpleImputer\n",
    "from sklearn.pipeline import Pipeline\n",
    "\n",
    "# load the dataset\n",
    "# Paths\n",
    "calorie_train_data_path = \"../../data/raw_data/train.csv\"\n",
    "# Read train data\n",
    "data=pd.read_csv(calorie_train_data_path,index_col='id')\n",
    "\n",
    "# split into input and output elements\n",
    "target = \"Calories\"\n",
    "X, y = data.drop(columns=target), data[[target]]\n",
    "\n",
    "# Only take into account numerical features HERE\n",
    "X_num=X.select_dtypes(include=\"number\")\n",
    "\n",
    "# create the modeling pipeline\n",
    "pipeline = Pipeline(steps=[('i', SimpleImputer(strategy='constant')), ('m', LinearRegression())])\n",
    "\n",
    "# fit the model \n",
    "pipeline.fit(X_num, y) \n",
    "\n",
    "# define new data\n",
    "row = [64,\t163.0,\tnp.nan,\t8.0,\t85.0,\t39.7]\n",
    "to_predict = pd.DataFrame([row], columns=X_num.columns)\n",
    "\n",
    "# make a prediction\n",
    "yhat = pipeline.predict(to_predict) \n",
    "\n",
    "# summarize prediction\n",
    "print(f\"Prediction : {yhat[0]}\")"
   ]
  },
  {
   "cell_type": "markdown",
   "id": "c9fa92b0-2bbb-47b5-aaa4-16a3e0432c87",
   "metadata": {},
   "source": [
    "✅ **Key Takeaways**\n",
    "- Always mark missing data as NaN.\n",
    "- Use statistical imputation to fill missing values.\n",
    "- Avoid data leakage by using Pipeline.\n",
    "- Experiment to find the best imputation strategy.\n",
    "- Integrate imputation when making real-world predictions."
   ]
  },
  {
   "cell_type": "markdown",
   "id": "5803441e-529d-4820-a044-9b83494317f6",
   "metadata": {},
   "source": [
    "### How to Use KNN Imputation"
   ]
  },
  {
   "cell_type": "markdown",
   "id": "f0ff434d-3cf1-4d22-be86-864f601062aa",
   "metadata": {},
   "source": [
    "📌 **Understanding KNN Imputation**\n",
    "- **Imputation** is replacing missing values (NaN) in a dataset.\n",
    "- **KNN Imputation** predicts missing values using the k-nearest neighbor algorithm.\n",
    "- Each missing value is estimated based on similar (nearest) rows using distance metrics (typically Euclidean).\n",
    "- It’s a model-based strategy that works well across many datasets."
   ]
  },
  {
   "cell_type": "markdown",
   "id": "2be1a8b2-36d4-44c7-a922-62401da21ff9",
   "metadata": {},
   "source": [
    "🧠 **Why It’s Important**\n",
    "- Many ML algorithms can't handle missing data.\n",
    "- KNN Imputation improves data quality and supports model accuracy.\n",
    "- Avoids bias from simple methods like mean/median imputation."
   ]
  },
  {
   "cell_type": "code",
   "execution_count": 38,
   "id": "eb1477be-f5fb-466b-acfd-c9078274c098",
   "metadata": {},
   "outputs": [
    {
     "data": {
      "text/plain": [
       "'Shape of data : (750000, 8)'"
      ]
     },
     "metadata": {},
     "output_type": "display_data"
    }
   ],
   "source": [
    "# load the dataset\n",
    "# Paths\n",
    "calorie_train_data_path = \"../../data/raw_data/train.csv\"\n",
    "# Read train data\n",
    "data=pd.read_csv(calorie_train_data_path,index_col='id')\n",
    "display(f\"Shape of data : {data.shape}\")"
   ]
  },
  {
   "cell_type": "code",
   "execution_count": 39,
   "id": "60510e9b-7b85-4247-bd84-9295f25f7e9b",
   "metadata": {},
   "outputs": [
    {
     "data": {
      "text/html": [
       "<div>\n",
       "<style scoped>\n",
       "    .dataframe tbody tr th:only-of-type {\n",
       "        vertical-align: middle;\n",
       "    }\n",
       "\n",
       "    .dataframe tbody tr th {\n",
       "        vertical-align: top;\n",
       "    }\n",
       "\n",
       "    .dataframe thead th {\n",
       "        text-align: right;\n",
       "    }\n",
       "</style>\n",
       "<table border=\"1\" class=\"dataframe\">\n",
       "  <thead>\n",
       "    <tr style=\"text-align: right;\">\n",
       "      <th></th>\n",
       "      <th>Sex</th>\n",
       "      <th>Age</th>\n",
       "      <th>Height</th>\n",
       "      <th>Weight</th>\n",
       "      <th>Duration</th>\n",
       "      <th>Heart_Rate</th>\n",
       "      <th>Body_Temp</th>\n",
       "      <th>Calories</th>\n",
       "    </tr>\n",
       "    <tr>\n",
       "      <th>id</th>\n",
       "      <th></th>\n",
       "      <th></th>\n",
       "      <th></th>\n",
       "      <th></th>\n",
       "      <th></th>\n",
       "      <th></th>\n",
       "      <th></th>\n",
       "      <th></th>\n",
       "    </tr>\n",
       "  </thead>\n",
       "  <tbody>\n",
       "    <tr>\n",
       "      <th>0</th>\n",
       "      <td>male</td>\n",
       "      <td>36</td>\n",
       "      <td>189.0</td>\n",
       "      <td>82.0</td>\n",
       "      <td>26.0</td>\n",
       "      <td>101.0</td>\n",
       "      <td>41.0</td>\n",
       "      <td>150.0</td>\n",
       "    </tr>\n",
       "    <tr>\n",
       "      <th>1</th>\n",
       "      <td>female</td>\n",
       "      <td>64</td>\n",
       "      <td>163.0</td>\n",
       "      <td>60.0</td>\n",
       "      <td>8.0</td>\n",
       "      <td>85.0</td>\n",
       "      <td>39.7</td>\n",
       "      <td>34.0</td>\n",
       "    </tr>\n",
       "    <tr>\n",
       "      <th>2</th>\n",
       "      <td>female</td>\n",
       "      <td>51</td>\n",
       "      <td>161.0</td>\n",
       "      <td>64.0</td>\n",
       "      <td>7.0</td>\n",
       "      <td>84.0</td>\n",
       "      <td>39.8</td>\n",
       "      <td>29.0</td>\n",
       "    </tr>\n",
       "    <tr>\n",
       "      <th>3</th>\n",
       "      <td>male</td>\n",
       "      <td>20</td>\n",
       "      <td>192.0</td>\n",
       "      <td>90.0</td>\n",
       "      <td>25.0</td>\n",
       "      <td>105.0</td>\n",
       "      <td>40.7</td>\n",
       "      <td>140.0</td>\n",
       "    </tr>\n",
       "    <tr>\n",
       "      <th>4</th>\n",
       "      <td>female</td>\n",
       "      <td>38</td>\n",
       "      <td>166.0</td>\n",
       "      <td>61.0</td>\n",
       "      <td>25.0</td>\n",
       "      <td>102.0</td>\n",
       "      <td>40.6</td>\n",
       "      <td>146.0</td>\n",
       "    </tr>\n",
       "  </tbody>\n",
       "</table>\n",
       "</div>"
      ],
      "text/plain": [
       "       Sex  Age  Height  Weight  Duration  Heart_Rate  Body_Temp  Calories\n",
       "id                                                                        \n",
       "0     male   36   189.0    82.0      26.0       101.0       41.0     150.0\n",
       "1   female   64   163.0    60.0       8.0        85.0       39.7      34.0\n",
       "2   female   51   161.0    64.0       7.0        84.0       39.8      29.0\n",
       "3     male   20   192.0    90.0      25.0       105.0       40.7     140.0\n",
       "4   female   38   166.0    61.0      25.0       102.0       40.6     146.0"
      ]
     },
     "execution_count": 39,
     "metadata": {},
     "output_type": "execute_result"
    }
   ],
   "source": [
    "# Head of data\n",
    "data.head()"
   ]
  },
  {
   "cell_type": "markdown",
   "id": "a930280b-6b58-46b6-b68e-35ab03b0e5fe",
   "metadata": {},
   "source": [
    "Marking missing values with a NaN (not a number) value in a loaded dataset using Python is a best practice. \n",
    "**We can load the dataset using the read csv() Pandas function and specify the na values to load values of “?” as missing, marked with a NaN value.**"
   ]
  },
  {
   "cell_type": "code",
   "execution_count": 40,
   "id": "0b97a9fd-0914-40d8-923e-4e2207ffc72f",
   "metadata": {},
   "outputs": [
    {
     "data": {
      "text/plain": [
       "'Shape of data : (750000, 8)'"
      ]
     },
     "metadata": {},
     "output_type": "display_data"
    }
   ],
   "source": [
    "# load the dataset\n",
    "# Paths\n",
    "calorie_train_data_path = \"../../data/raw_data/train.csv\"\n",
    "# Read train data\n",
    "data=pd.read_csv(calorie_train_data_path,index_col='id',na_values='?')\n",
    "display(f\"Shape of data : {data.shape}\")"
   ]
  },
  {
   "cell_type": "code",
   "execution_count": 41,
   "id": "c7814c7d-dac5-4b6f-aeaf-91ba9089c5ff",
   "metadata": {},
   "outputs": [
    {
     "data": {
      "text/html": [
       "<div>\n",
       "<style scoped>\n",
       "    .dataframe tbody tr th:only-of-type {\n",
       "        vertical-align: middle;\n",
       "    }\n",
       "\n",
       "    .dataframe tbody tr th {\n",
       "        vertical-align: top;\n",
       "    }\n",
       "\n",
       "    .dataframe thead th {\n",
       "        text-align: right;\n",
       "    }\n",
       "</style>\n",
       "<table border=\"1\" class=\"dataframe\">\n",
       "  <thead>\n",
       "    <tr style=\"text-align: right;\">\n",
       "      <th></th>\n",
       "      <th>Sex</th>\n",
       "      <th>Age</th>\n",
       "      <th>Height</th>\n",
       "      <th>Weight</th>\n",
       "      <th>Duration</th>\n",
       "      <th>Heart_Rate</th>\n",
       "      <th>Body_Temp</th>\n",
       "      <th>Calories</th>\n",
       "    </tr>\n",
       "    <tr>\n",
       "      <th>id</th>\n",
       "      <th></th>\n",
       "      <th></th>\n",
       "      <th></th>\n",
       "      <th></th>\n",
       "      <th></th>\n",
       "      <th></th>\n",
       "      <th></th>\n",
       "      <th></th>\n",
       "    </tr>\n",
       "  </thead>\n",
       "  <tbody>\n",
       "    <tr>\n",
       "      <th>0</th>\n",
       "      <td>male</td>\n",
       "      <td>36</td>\n",
       "      <td>189.0</td>\n",
       "      <td>82.0</td>\n",
       "      <td>26.0</td>\n",
       "      <td>101.0</td>\n",
       "      <td>41.0</td>\n",
       "      <td>150.0</td>\n",
       "    </tr>\n",
       "    <tr>\n",
       "      <th>1</th>\n",
       "      <td>female</td>\n",
       "      <td>64</td>\n",
       "      <td>163.0</td>\n",
       "      <td>60.0</td>\n",
       "      <td>8.0</td>\n",
       "      <td>85.0</td>\n",
       "      <td>39.7</td>\n",
       "      <td>34.0</td>\n",
       "    </tr>\n",
       "    <tr>\n",
       "      <th>2</th>\n",
       "      <td>female</td>\n",
       "      <td>51</td>\n",
       "      <td>161.0</td>\n",
       "      <td>64.0</td>\n",
       "      <td>7.0</td>\n",
       "      <td>84.0</td>\n",
       "      <td>39.8</td>\n",
       "      <td>29.0</td>\n",
       "    </tr>\n",
       "    <tr>\n",
       "      <th>3</th>\n",
       "      <td>male</td>\n",
       "      <td>20</td>\n",
       "      <td>192.0</td>\n",
       "      <td>90.0</td>\n",
       "      <td>25.0</td>\n",
       "      <td>105.0</td>\n",
       "      <td>40.7</td>\n",
       "      <td>140.0</td>\n",
       "    </tr>\n",
       "    <tr>\n",
       "      <th>4</th>\n",
       "      <td>female</td>\n",
       "      <td>38</td>\n",
       "      <td>166.0</td>\n",
       "      <td>61.0</td>\n",
       "      <td>25.0</td>\n",
       "      <td>102.0</td>\n",
       "      <td>40.6</td>\n",
       "      <td>146.0</td>\n",
       "    </tr>\n",
       "  </tbody>\n",
       "</table>\n",
       "</div>"
      ],
      "text/plain": [
       "       Sex  Age  Height  Weight  Duration  Heart_Rate  Body_Temp  Calories\n",
       "id                                                                        \n",
       "0     male   36   189.0    82.0      26.0       101.0       41.0     150.0\n",
       "1   female   64   163.0    60.0       8.0        85.0       39.7      34.0\n",
       "2   female   51   161.0    64.0       7.0        84.0       39.8      29.0\n",
       "3     male   20   192.0    90.0      25.0       105.0       40.7     140.0\n",
       "4   female   38   166.0    61.0      25.0       102.0       40.6     146.0"
      ]
     },
     "execution_count": 41,
     "metadata": {},
     "output_type": "execute_result"
    }
   ],
   "source": [
    "# Head of data\n",
    "data.head()"
   ]
  },
  {
   "cell_type": "code",
   "execution_count": 42,
   "id": "5bc0d666-f5fe-4805-b0ef-b90021cf5e36",
   "metadata": {},
   "outputs": [
    {
     "name": "stdout",
     "output_type": "stream",
     "text": [
      "> 0, Missing: 0 (0.0%)\n",
      "> 1, Missing: 0 (0.0%)\n",
      "> 2, Missing: 0 (0.0%)\n",
      "> 3, Missing: 0 (0.0%)\n",
      "> 4, Missing: 0 (0.0%)\n",
      "> 5, Missing: 0 (0.0%)\n",
      "> 6, Missing: 0 (0.0%)\n",
      "> 7, Missing: 0 (0.0%)\n"
     ]
    }
   ],
   "source": [
    "# summarize the number of rows with missing values for each column \n",
    "for i in range(data.shape[1]):\n",
    "    # count number of rows with missing values \n",
    "    n_miss = data.iloc[i].isnull().sum()\n",
    "    perc = n_miss / data.shape[0] * 100\n",
    "    perc = round(perc,1)\n",
    "    print(f'> {i}, Missing: {n_miss} ({perc}%)')"
   ]
  },
  {
   "cell_type": "markdown",
   "id": "cc88cfd3-2f21-46ad-8718-6e292684d30d",
   "metadata": {},
   "source": [
    "#### KNNImputer Data Transform"
   ]
  },
  {
   "cell_type": "markdown",
   "id": "ed7c34d6-ddd4-4efa-9c3c-bad4fd2a39c0",
   "metadata": {},
   "source": [
    "**Impute Using KNNImputer**\n",
    "- Use sklearn.impute.KNNImputer:\n",
    "- imputer = KNNImputer(n_neighbors=5, weights='uniform', metric='nan_euclidean')\n",
    "- imputer.fit(X)\n",
    "- X_filled = imputer.transform(X)\n",
    "- Default settings: n_neighbors=5, uniform weights, Euclidean distance."
   ]
  },
  {
   "cell_type": "code",
   "execution_count": 43,
   "id": "17de9b4b-c937-4edb-8639-8d8af68067f7",
   "metadata": {
    "scrolled": true
   },
   "outputs": [
    {
     "name": "stdout",
     "output_type": "stream",
     "text": [
      "Missing:\n",
      "  Age           0\n",
      "Height        0\n",
      "Weight        0\n",
      "Duration      0\n",
      "Heart_Rate    0\n",
      "Body_Temp     0\n",
      "dtype: int64\n",
      "Missing:\n",
      "  Age           0\n",
      "Height        0\n",
      "Weight        0\n",
      "Duration      0\n",
      "Heart_Rate    0\n",
      "Body_Temp     0\n",
      "dtype: int64\n"
     ]
    }
   ],
   "source": [
    "# knn imputation transform for the horse colic dataset \n",
    "from numpy import isnan\n",
    "from pandas import read_csv\n",
    "from sklearn.impute import KNNImputer \n",
    "\n",
    "# load the dataset\n",
    "# Paths\n",
    "calorie_train_data_path = \"../../data/raw_data/train.csv\"\n",
    "# Read train data\n",
    "data=pd.read_csv(calorie_train_data_path,index_col='id',na_values='?')\n",
    "\n",
    "# split into input and output elements\n",
    "target = \"Calories\"\n",
    "X, y = data.drop(columns=target), data[[target]]\n",
    "\n",
    "# Only take into account numerical features HERE\n",
    "X_num=X.select_dtypes(include=\"number\")\n",
    "\n",
    "# summarize total missing\n",
    "print(f\"Missing:\\n  {X_num.isna().sum()}\") \n",
    "\n",
    "# define imputer\n",
    "imputer = KNNImputer() \n",
    "\n",
    "# fit on the dataset \n",
    "imputer.fit(X_num)\n",
    "\n",
    "# transform the dataset \n",
    "Xtrans = imputer.transform(X_num) \n",
    "\n",
    "# summarize total missing\n",
    "print(f\"Missing:\\n  {X_num.isna().sum()}\") "
   ]
  },
  {
   "cell_type": "markdown",
   "id": "92fd7e2f-b63a-4f4a-8913-b139c9362bfa",
   "metadata": {},
   "source": [
    "#### KNNImputer and Model Evaluation"
   ]
  },
  {
   "cell_type": "markdown",
   "id": "a34026f0-3032-4ada-bcdf-9066d1bddf37",
   "metadata": {},
   "source": [
    "📊 **Evaluate KNN Imputation in a Pipeline**\n",
    "- Use Pipeline to combine KNNImputer with models (e.g., RandomForestClassifier).\n",
    "- Use **k-fold cross-validation** to avoid data leakage:\n",
    "- pipeline = Pipeline([('i', KNNImputer()), ('m', RandomForestClassifier())])\n",
    "- Use RepeatedStratifiedKFold for robust evaluation."
   ]
  },
  {
   "cell_type": "code",
   "execution_count": 44,
   "id": "49db75dd-31ad-4e55-a656-8f20b2748079",
   "metadata": {},
   "outputs": [
    {
     "name": "stdout",
     "output_type": "stream",
     "text": [
      "Mean score: 8.102091794649645 (0.025861848329009222)\n"
     ]
    }
   ],
   "source": [
    "# evaluate knn imputation and random forest for the horse colic dataset \n",
    "from numpy import mean\n",
    "from numpy import std\n",
    "import pandas as pd\n",
    "import numpy as np\n",
    "from pandas import read_csv\n",
    "from sklearn.ensemble import RandomForestClassifier \n",
    "from sklearn.impute import KNNImputer\n",
    "from sklearn.model_selection import cross_val_score\n",
    "from sklearn.model_selection import RepeatedStratifiedKFold,RepeatedKFold\n",
    "from sklearn.pipeline import Pipeline\n",
    "from sklearn.linear_model import LinearRegression\n",
    "\n",
    "# load the dataset\n",
    "# Paths\n",
    "calorie_train_data_path = \"../../data/raw_data/train.csv\"\n",
    "# Read train data\n",
    "data=pd.read_csv(calorie_train_data_path,index_col='id')\n",
    "\n",
    "# split into input and output elements\n",
    "target = \"Calories\"\n",
    "X, y = data.drop(columns=target), data[[target]]\n",
    "\n",
    "# Only take into account numerical features HERE\n",
    "X_num=X.select_dtypes(include=\"number\")\n",
    "\n",
    "# define modeling pipeline\n",
    "model = LinearRegression() \n",
    "imputer = KNNImputer()\n",
    "pipeline = Pipeline(steps=[('i', imputer), ('m', model)])\n",
    "\n",
    "# define model evaluation\n",
    "cv = RepeatedKFold(n_splits=10, n_repeats=3, random_state=1) \n",
    "\n",
    "# evaluate model\n",
    "scores = -cross_val_score(pipeline, X_num, y, scoring='neg_mean_absolute_error', cv=cv, n_jobs=-1) \n",
    "print(f'Mean score: {np.mean(scores)} ({np.std(scores)})') "
   ]
  },
  {
   "cell_type": "markdown",
   "id": "a0dbda97-a543-44c3-b615-e70a8cacfca4",
   "metadata": {},
   "source": [
    "#### KNNImputer and Different Number of Neighbors"
   ]
  },
  {
   "cell_type": "markdown",
   "id": "e575457b-24ba-44d1-8a8c-b85c903b588e",
   "metadata": {},
   "source": [
    "⚙️ **Optimize k (Number of Neighbors)**\n",
    "- Try different values of k (1, 3, 5, ..., 21) and evaluate model performance.\n",
    "- Higher k may improve performance, but test multiple values.\n",
    "- Use boxplots to visualize and compare performance across k."
   ]
  },
  {
   "cell_type": "code",
   "execution_count": 45,
   "id": "82e8cf4d-509b-42d5-b190-e41a9fa81174",
   "metadata": {},
   "outputs": [
    {
     "name": "stdout",
     "output_type": "stream",
     "text": [
      ">1 8.102 (0.026)\n",
      ">3 8.102 (0.026)\n",
      ">5 8.102 (0.026)\n",
      ">7 8.102 (0.026)\n",
      ">9 8.102 (0.026)\n",
      ">15 8.102 (0.026)\n",
      ">18 8.102 (0.026)\n",
      ">21 8.102 (0.026)\n"
     ]
    },
    {
     "data": {
      "image/png": "[encoded data removed]",
      "text/plain": [
       "<Figure size 640x480 with 1 Axes>"
      ]
     },
     "metadata": {},
     "output_type": "display_data"
    }
   ],
   "source": [
    "# compare knn imputation strategies for the horse colic dataset from numpy import mean\n",
    "from numpy import std\n",
    "from pandas import read_csv\n",
    "from sklearn.ensemble import RandomForestClassifier \n",
    "from sklearn.impute import KNNImputer\n",
    "from sklearn.model_selection import cross_val_score\n",
    "from sklearn.model_selection import RepeatedStratifiedKFold \n",
    "from sklearn.pipeline import Pipeline\n",
    "from matplotlib import pyplot\n",
    "from sklearn.linear_model import LinearRegression\n",
    "\n",
    "## load the dataset\n",
    "# Paths\n",
    "calorie_train_data_path = \"../../data/raw_data/train.csv\"\n",
    "# Read train data\n",
    "data=pd.read_csv(calorie_train_data_path,index_col='id')\n",
    "\n",
    "# split into input and output elements\n",
    "target = \"Calories\"\n",
    "X, y = data.drop(columns=target), data[[target]]\n",
    "\n",
    "# Only take into account numerical features HERE\n",
    "X_num=X.select_dtypes(include=\"number\")\n",
    "\n",
    "# evaluate each strategy on the dataset \n",
    "results = list()\n",
    "strategies = [str(i) for i in [1,3,5,7,9,15,18,21]] \n",
    "\n",
    "for s in strategies:\n",
    "    # create the modeling pipeline\n",
    "    pipeline = Pipeline(steps=[('i', KNNImputer(n_neighbors=int(s))), ('m', LinearRegression())])\n",
    "    \n",
    "    # evaluate the model\n",
    "    cv = RepeatedKFold(n_splits=10, n_repeats=3, random_state=1)\n",
    "    scores = -cross_val_score(pipeline, X_num, y, scoring='neg_mean_absolute_error', cv=cv, n_jobs=-1) \n",
    "    \n",
    "    # store results\n",
    "    results.append(scores)  \n",
    "    print('>%s %.3f (%.3f)' % (s, mean(scores), std(scores))) \n",
    "\n",
    "# plot model performance for comparison \n",
    "pyplot.boxplot(results, tick_labels=strategies, showmeans=True) \n",
    "pyplot.show()"
   ]
  },
  {
   "cell_type": "markdown",
   "id": "8d820be7-0398-4d3a-99a3-b0c2988b6da2",
   "metadata": {},
   "source": [
    "#### KNNImputer Transform When Making a Prediction"
   ]
  },
  {
   "cell_type": "markdown",
   "id": "cb51ed21-956d-4536-afaf-6a4867a45c2e",
   "metadata": {},
   "source": [
    "🔮 **Make Predictions with Missing Data**\n",
    "- After training, pipeline can predict on new rows with missing values: <br>\n",
    "o\tNew samples must use NaN for missing fields.<br>\n",
    "o\tExample: yhat = pipeline.predict([new_row_with_nans])"
   ]
  },
  {
   "cell_type": "code",
   "execution_count": 46,
   "id": "3ec5da17-77d1-40a5-b611-0dee55f887a0",
   "metadata": {},
   "outputs": [
    {
     "name": "stdout",
     "output_type": "stream",
     "text": [
      "Prediction : [35.04495853]\n"
     ]
    }
   ],
   "source": [
    "# knn imputation strategy and prediction for the horse colic dataset from numpy import nan\n",
    "from pandas import read_csv\n",
    "from sklearn.ensemble import RandomForestClassifier\n",
    "from sklearn.impute import KNNImputer\n",
    "from sklearn.pipeline import Pipeline\n",
    "from sklearn.linear_model import LinearRegression\n",
    "\n",
    "## load the dataset\n",
    "# Paths\n",
    "calorie_train_data_path = \"../../data/raw_data/train.csv\"\n",
    "# Read train data\n",
    "data=pd.read_csv(calorie_train_data_path,index_col='id')\n",
    "\n",
    "# split into input and output elements\n",
    "target = \"Calories\"\n",
    "X, y = data.drop(columns=target), data[[target]]\n",
    "\n",
    "# Only take into account numerical features HERE\n",
    "X_num=X.select_dtypes(include=\"number\")\n",
    "\n",
    "# create the modeling pipeline\n",
    "pipeline = Pipeline(steps=[('i', KNNImputer(n_neighbors=21)), ('m', LinearRegression())])\n",
    "\n",
    "# fit the model \n",
    "pipeline.fit(X_num, y) \n",
    "\n",
    "# define new data\n",
    "row = [64,\t163.0,\tnp.nan,\t8.0,\t85.0,\t39.7]\n",
    "to_predict = pd.DataFrame([row], columns=X_num.columns)\n",
    "\n",
    "# make a prediction\n",
    "yhat = pipeline.predict(to_predict) \n",
    "\n",
    "# summarize prediction\n",
    "print(f\"Prediction : {yhat[0]}\")"
   ]
  },
  {
   "cell_type": "markdown",
   "id": "298f285c-8e34-4a87-8e49-e3177b411db1",
   "metadata": {},
   "source": [
    "✅ **Key Takeaways**\n",
    "- ✅ Mark missing values with NaN.\n",
    "- ✅ Use KNNImputer for effective, model-based imputation.\n",
    "- ✅ Integrate imputation into ML pipelines to prevent data leakage.\n",
    "- ✅ Tune k for optimal performance.\n",
    "- ✅ Enable robust prediction even on incomplete data."
   ]
  },
  {
   "cell_type": "markdown",
   "id": "e4b72523-15a0-406b-b54d-b0b97a4ca3b6",
   "metadata": {},
   "source": [
    "### How to Use Iterative Imputation"
   ]
  },
  {
   "cell_type": "markdown",
   "id": "558cc319-4a35-44d4-8137-537a6a40a225",
   "metadata": {},
   "source": [
    "🌟 **Core Concept: Iterative Imputation**\n",
    "- **Purpose**: Handle missing values in datasets using repeated estimation.\n",
    "- **Approach**: <br>\n",
    "o\tPredict each missing feature as a function of all other features.<br>\n",
    "o\tRepeatedly refine predictions in multiple iterations (e.g., 10 times).<br>\n",
    "- **Techniques**: Also known as Fully Conditional Specification (FCS) or Multivariate Imputation by Chained Equations (MICE).\n",
    "-  **Tools Used**: IterativeImputer from scikit-learn (experimental).\n"
   ]
  },
  {
   "cell_type": "markdown",
   "id": "a0fccf00-ec93-4501-abb8-5a40e6833ace",
   "metadata": {},
   "source": [
    "#### IterativeImputer Data Transform"
   ]
  },
  {
   "cell_type": "markdown",
   "id": "a55d759f-d981-4b54-9587-dc9c4ccc8cfa",
   "metadata": {},
   "source": [
    "🔹 **1. Identify Missing Values**\n",
    "- Represent missing entries using NaN.\n",
    "- Use **pandas.read_csv() with na_values=[\"?\"]** to convert special characters.\n",
    "- Summarize columns: <br>\n",
    "o\tNumber of missing entries.<br>\n",
    "o\tPercentage of missing data."
   ]
  },
  {
   "cell_type": "code",
   "execution_count": 47,
   "id": "146c8599-fed7-4c77-82d5-989d24b3d338",
   "metadata": {},
   "outputs": [
    {
     "name": "stdout",
     "output_type": "stream",
     "text": [
      "Missing:\n",
      "  Age           0\n",
      "Height        0\n",
      "Weight        0\n",
      "Duration      0\n",
      "Heart_Rate    0\n",
      "Body_Temp     0\n",
      "dtype: int64\n",
      "Missing:\n",
      "  Age           0\n",
      "Height        0\n",
      "Weight        0\n",
      "Duration      0\n",
      "Heart_Rate    0\n",
      "Body_Temp     0\n",
      "dtype: int64\n"
     ]
    }
   ],
   "source": [
    "# iterative imputation transform for the horse colic dataset from numpy import isnan\n",
    "from pandas import read_csv\n",
    "from sklearn.experimental import enable_iterative_imputer \n",
    "from sklearn.impute import IterativeImputer\n",
    "\n",
    "## load the dataset\n",
    "# Paths\n",
    "calorie_train_data_path = \"../../data/raw_data/train.csv\"\n",
    "# Read train data\n",
    "data=pd.read_csv(calorie_train_data_path,index_col='id',na_values='?')\n",
    "\n",
    "# split into input and output elements\n",
    "target = \"Calories\"\n",
    "X, y = data.drop(columns=target), data[[target]]\n",
    "\n",
    "# Only take into account numerical features HERE\n",
    "X_num=X.select_dtypes(include=\"number\")\n",
    "\n",
    "# summarize total missing\n",
    "print(f\"Missing:\\n  {X_num.isna().sum()}\") \n",
    "\n",
    "# define imputer\n",
    "imputer = IterativeImputer() \n",
    "\n",
    "# fit on the dataset \n",
    "imputer.fit(X_num)\n",
    "\n",
    "# transform the dataset \n",
    "Xtrans = imputer.transform(X_num) \n",
    "\n",
    "# summarize total missing\n",
    "print(f\"Missing:\\n  {X_num.isna().sum()}\") "
   ]
  },
  {
   "cell_type": "markdown",
   "id": "059765f9-985e-4f23-acdf-ef3de5579153",
   "metadata": {},
   "source": [
    "#### IterativeImputer and Model Evaluation"
   ]
  },
  {
   "cell_type": "code",
   "execution_count": 48,
   "id": "843ab8b9-fb2d-4c09-8b23-374679be71ba",
   "metadata": {},
   "outputs": [
    {
     "name": "stdout",
     "output_type": "stream",
     "text": [
      "Mean Accuracy: 8.102 (0.026)\n"
     ]
    }
   ],
   "source": [
    "# evaluate iterative imputation and random forest for the horse colic dataset from numpy import mean\n",
    "from numpy import std\n",
    "from pandas import read_csv\n",
    "from sklearn.ensemble import RandomForestClassifier\n",
    "from sklearn.experimental import enable_iterative_imputer \n",
    "from sklearn.impute import IterativeImputer\n",
    "from sklearn.model_selection import cross_val_score\n",
    "from sklearn.model_selection import RepeatedStratifiedKFold, RepeatedKFold\n",
    "from sklearn.pipeline import Pipeline\n",
    "from sklearn.linear_model import LinearRegression\n",
    "\n",
    "## load the dataset\n",
    "# Paths\n",
    "calorie_train_data_path = \"../../data/raw_data/train.csv\"\n",
    "# Read train data\n",
    "data=pd.read_csv(calorie_train_data_path,index_col='id',na_values='?')\n",
    "\n",
    "# split into input and output elements\n",
    "target = \"Calories\"\n",
    "X, y = data.drop(columns=target), data[[target]]\n",
    "\n",
    "# Only take into account numerical features HERE\n",
    "X_num=X.select_dtypes(include=\"number\")\n",
    "\n",
    "# define modeling pipeline\n",
    "model = LinearRegression() \n",
    "imputer = IterativeImputer()\n",
    "pipeline = Pipeline(steps=[('i', imputer), ('m', model)])\n",
    "\n",
    "# define model evaluation\n",
    "cv = RepeatedKFold(n_splits=10, n_repeats=3, random_state=1) \n",
    "\n",
    "# evaluate model\n",
    "scores = -cross_val_score(pipeline, X_num, y, scoring='neg_mean_absolute_error', cv=cv, n_jobs=-1)\n",
    "print('Mean Accuracy: %.3f (%.3f)' % (mean(scores), std(scores)))"
   ]
  },
  {
   "cell_type": "markdown",
   "id": "e213af81-5117-4a76-af4b-d9201eca3a65",
   "metadata": {},
   "source": [
    "#### IterativeImputer and Different Imputation Order"
   ]
  },
  {
   "cell_type": "markdown",
   "id": "13fd45e7-d072-448e-9288-542bd1193dcf",
   "metadata": {},
   "source": [
    "🔄 **Key Variations for Optimization**<br><br>\n",
    "📚 **Imputation Order**\n",
    "- Strategies: <br>\n",
    "o\tAscending (default)<br>\n",
    "o\tDescending<br>\n",
    "o\tLeft-to-right (Roman)<br>\n",
    "o\tRight-to-left (Arabic)<br>\n",
    "o\tRandom<br>\n",
    "- Minor accuracy differences observed; left-to-right may slightly outperform.<br><br>"
   ]
  },
  {
   "cell_type": "code",
   "execution_count": 49,
   "id": "8c1a9a36-071f-4a7f-8061-58d212e91ff2",
   "metadata": {},
   "outputs": [
    {
     "name": "stdout",
     "output_type": "stream",
     "text": [
      ">ascending 8.102 (0.026)\n",
      ">descending 8.102 (0.026)\n",
      ">roman 8.102 (0.026)\n",
      ">arabic 8.102 (0.026)\n",
      ">random 8.102 (0.026)\n"
     ]
    },
    {
     "data": {
      "image/png": "[encoded data removed]",
      "text/plain": [
       "<Figure size 640x480 with 1 Axes>"
      ]
     },
     "metadata": {},
     "output_type": "display_data"
    }
   ],
   "source": [
    "# compare iterative imputation strategies for the horse colic dataset from numpy import mean\n",
    "from numpy import std\n",
    "from pandas import read_csv\n",
    "from sklearn.ensemble import RandomForestClassifier\n",
    "from sklearn.experimental import enable_iterative_imputer \n",
    "from sklearn.impute import IterativeImputer\n",
    "from sklearn.model_selection import cross_val_score\n",
    "from sklearn.model_selection import RepeatedStratifiedKFold, RepeatedKFold\n",
    "from sklearn.pipeline import Pipeline\n",
    "from matplotlib import pyplot \n",
    "from sklearn.linear_model import LinearRegression\n",
    "\n",
    "## load the dataset\n",
    "# Paths\n",
    "calorie_train_data_path = \"../../data/raw_data/train.csv\"\n",
    "# Read train data\n",
    "data=pd.read_csv(calorie_train_data_path,index_col='id',na_values='?')\n",
    "\n",
    "# split into input and output elements\n",
    "target = \"Calories\"\n",
    "X, y = data.drop(columns=target), data[[target]]\n",
    "\n",
    "# Only take into account numerical features HERE\n",
    "X_num=X.select_dtypes(include=\"number\")\n",
    "\n",
    "# evaluate each strategy on the dataset \n",
    "results = list()\n",
    "strategies = ['ascending', 'descending', 'roman', 'arabic', 'random'] \n",
    "for s in strategies:\n",
    "    # create the modeling pipeline\n",
    "    pipeline = Pipeline(steps=[('i', IterativeImputer(imputation_order=s)), ('m', LinearRegression())])\n",
    "    # evaluate the model\n",
    "    cv = RepeatedKFold(n_splits=10, n_repeats=3, random_state=1)\n",
    "    scores = -cross_val_score(pipeline, X_num, y, scoring='neg_mean_absolute_error', cv=cv, n_jobs=-1) \n",
    "    # store results\n",
    "    results.append(scores)\n",
    "    print('>%s %.3f (%.3f)' % (s, mean(scores), std(scores))) \n",
    "\n",
    "# plot model performance for comparison \n",
    "pyplot.boxplot(results, tick_labels=strategies, showmeans=True) \n",
    "pyplot.show()"
   ]
  },
  {
   "cell_type": "markdown",
   "id": "e2cef0da-fad2-4690-a8fa-f0372d02bfcb",
   "metadata": {},
   "source": [
    "#### IterativeImputer and Different Number of Iterations"
   ]
  },
  {
   "cell_type": "markdown",
   "id": "d661cb5a-b814-4076-8576-34f2fa20a592",
   "metadata": {},
   "source": [
    "🔄 **Key Variations for Optimization**<br><br>\n",
    "🔁 **Number of Iterations**\n",
    "- Default: 10 iterations.\n",
    "- Tested values: 1 to 20.\n",
    "- Findings: Around 4 iterations may be as effective as 9–12 on certain datasets."
   ]
  },
  {
   "cell_type": "code",
   "execution_count": 50,
   "id": "7bce1990-d0e3-4fc9-a527-7bb33016b3b8",
   "metadata": {},
   "outputs": [
    {
     "name": "stdout",
     "output_type": "stream",
     "text": [
      ">1 -8.102 (0.026)\n",
      ">2 -8.102 (0.026)\n",
      ">3 -8.102 (0.026)\n",
      ">4 -8.102 (0.026)\n"
     ]
    },
    {
     "data": {
      "image/png": "[encoded data removed]",
      "text/plain": [
       "<Figure size 640x480 with 1 Axes>"
      ]
     },
     "metadata": {},
     "output_type": "display_data"
    }
   ],
   "source": [
    "# compare iterative imputation number of iterations for the horse colic dataset from numpy import mean\n",
    "from numpy import std\n",
    "from pandas import read_csv\n",
    "from sklearn.ensemble import RandomForestClassifier\n",
    "from sklearn.experimental import enable_iterative_imputer \n",
    "from sklearn.impute import IterativeImputer\n",
    "from sklearn.model_selection import cross_val_score\n",
    "from sklearn.model_selection import RepeatedStratifiedKFold, RepeatedKFold\n",
    "from sklearn.pipeline import Pipeline\n",
    "from matplotlib import pyplot \n",
    "from sklearn.linear_model import LinearRegression\n",
    "\n",
    "## load the dataset\n",
    "# Paths\n",
    "calorie_train_data_path = \"../../data/raw_data/train.csv\"\n",
    "# Read train data\n",
    "data=pd.read_csv(calorie_train_data_path,index_col='id',na_values='?')\n",
    "\n",
    "# split into input and output elements\n",
    "target = \"Calories\"\n",
    "X, y = data.drop(columns=target), data[[target]]\n",
    "\n",
    "# Only take into account numerical features HERE\n",
    "X_num=X.select_dtypes(include=\"number\")\n",
    "\n",
    "# evaluate each strategy on the dataset \n",
    "results = list()\n",
    "strategies = [str(i) for i in range(1, 5)] \n",
    "\n",
    "for s in strategies:\n",
    "    # create the modeling pipeline\n",
    "    pipeline = Pipeline(steps=[('i', IterativeImputer(max_iter=int(s))), ('m', LinearRegression())])\n",
    "    \n",
    "    # evaluate the model\n",
    "    cv = RepeatedKFold(n_splits=10, n_repeats=3, random_state=1)\n",
    "    scores = cross_val_score(pipeline, X_num, y, scoring='neg_mean_absolute_error', cv=cv, n_jobs=-1) \n",
    "    \n",
    "    # store results\n",
    "    results.append(scores)\n",
    "    print('>%s %.3f (%.3f)' % (s, mean(scores), std(scores))) \n",
    "\n",
    "# plot model performance for comparison \n",
    "pyplot.boxplot(results, tick_labels=strategies, showmeans=True) \n",
    "pyplot.show()"
   ]
  },
  {
   "cell_type": "markdown",
   "id": "1d8c4625-315e-4691-b092-f112ca4db158",
   "metadata": {},
   "source": [
    "#### IterativeImputer Transform When Making a Prediction"
   ]
  },
  {
   "cell_type": "markdown",
   "id": "260e6d4c-250a-4805-a9ec-51b2bed754b2",
   "metadata": {},
   "source": [
    "🔮 **Final Model Deployment**\n",
    "- Use the trained pipeline (imputer + model) for **new predictions**.\n",
    "- Ensure new input data uses NaN to denote missing values.\n",
    "- Apply .predict() on the pipeline."
   ]
  },
  {
   "cell_type": "code",
   "execution_count": 51,
   "id": "433683a1-107a-4eda-ae69-37ecd034c4da",
   "metadata": {},
   "outputs": [
    {
     "name": "stdout",
     "output_type": "stream",
     "text": [
      "Prediction : [35.16109987]\n"
     ]
    }
   ],
   "source": [
    "# iterative imputation strategy and prediction for the horse colic dataset from numpy import nan\n",
    "from pandas import read_csv\n",
    "import pandas as pd\n",
    "import numpy as np\n",
    "from sklearn.ensemble import RandomForestClassifier\n",
    "from sklearn.experimental import enable_iterative_imputer \n",
    "from sklearn.impute import IterativeImputer\n",
    "from sklearn.pipeline import Pipeline \n",
    "from sklearn.linear_model import LinearRegression\n",
    "\n",
    "# load dataset\n",
    "path_horse_colic= \"https://raw.githubusercontent.com/jbrownlee/Datasets/master/horse-colic.csv\"\n",
    "horse_colic_data = read_csv(path_horse_colic, header=None, na_values='?')\n",
    "\n",
    "## load the dataset\n",
    "# Paths\n",
    "calorie_train_data_path = \"../../data/raw_data/train.csv\"\n",
    "# Read train data\n",
    "data=pd.read_csv(calorie_train_data_path,index_col='id',na_values='?')\n",
    "\n",
    "# split into input and output elements\n",
    "target = \"Calories\"\n",
    "X, y = data.drop(columns=target), data[[target]]\n",
    "\n",
    "# Only take into account numerical features HERE\n",
    "X_num=X.select_dtypes(include=\"number\")\n",
    "\n",
    "# create the modeling pipeline\n",
    "pipeline = Pipeline(steps=[('i', IterativeImputer()), ('m', LinearRegression())]) \n",
    "\n",
    "# fit the model\n",
    "pipeline.fit(X_num, y) \n",
    "\n",
    "# define new data\n",
    "row = [64,\t163.0,\tnp.nan,\t8.0,\t85.0,\t39.7]\n",
    "to_predict = pd.DataFrame([row], columns=X_num.columns)\n",
    "\n",
    "# make a prediction\n",
    "yhat = pipeline.predict(to_predict) \n",
    "\n",
    "# summarize prediction\n",
    "print(f\"Prediction : {yhat[0]}\")"
   ]
  },
  {
   "cell_type": "markdown",
   "id": "ba2a2b15-2636-4a63-a174-1ff1fcc0b840",
   "metadata": {},
   "source": [
    "🧠 **Key Takeaways for Data Scientists**\n",
    "- **Iterative imputation** is a powerful way to recover missing data.\n",
    "- **Always use imputation inside a pipeline** to avoid data leakage.\n",
    "- **Tune imputation parameters** (e.g., order, iterations) for performance optimization.\n",
    "- Enables robust modeling even with incomplete datasets."
   ]
  }
 ],
 "metadata": {
  "kernelspec": {
   "display_name": "Python 3 (ipykernel)",
   "language": "python",
   "name": "python3"
  },
  "language_info": {
   "codemirror_mode": {
    "name": "ipython",
    "version": 3
   },
   "file_extension": ".py",
   "mimetype": "text/x-python",
   "name": "python",
   "nbconvert_exporter": "python",
   "pygments_lexer": "ipython3",
   "version": "3.10.6"
  }
 },
 "nbformat": 4,
 "nbformat_minor": 5
}
