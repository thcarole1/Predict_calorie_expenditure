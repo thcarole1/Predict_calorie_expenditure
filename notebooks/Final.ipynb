{
 "cells": [
  {
   "cell_type": "markdown",
   "id": "3a945f48-9b7a-4632-8578-036242994850",
   "metadata": {},
   "source": [
    "# Final predictions"
   ]
  },
  {
   "cell_type": "markdown",
   "id": "44351216-636f-4ba2-af12-49b2b814892e",
   "metadata": {},
   "source": [
    "## Libraries"
   ]
  },
  {
   "cell_type": "code",
   "execution_count": 1,
   "id": "411a4c60-ccf9-4fb7-b167-a35e553ee8a8",
   "metadata": {},
   "outputs": [],
   "source": [
    "# Libraries\n",
    "import warnings\n",
    "warnings.filterwarnings(action = 'ignore')\n",
    "\n",
    "## Basic libraries\n",
    "import numpy as np\n",
    "import pandas as pd\n",
    "import seaborn as sns\n",
    "from datetime import datetime\n",
    "import math\n",
    "\n",
    "## Plotting\n",
    "import matplotlib.pyplot as plt\n",
    "\n",
    "from sklearn.model_selection import cross_val_score, RepeatedKFold\n",
    "from sklearn.metrics import mean_squared_log_error, make_scorer, mean_squared_error\n",
    "\n",
    "from sklearn.model_selection import train_test_split \n",
    "from sklearn.preprocessing import OneHotEncoder\n",
    "from sklearn.pipeline import make_pipeline\n",
    "\n",
    "from sklearn.tree import DecisionTreeRegressor\n",
    "from sklearn.preprocessing import QuantileTransformer \n",
    "from sklearn.compose import make_column_transformer"
   ]
  },
  {
   "cell_type": "markdown",
   "id": "0a9bde34-c52b-48d7-b829-66195a336c87",
   "metadata": {},
   "source": [
    "## Functions"
   ]
  },
  {
   "cell_type": "code",
   "execution_count": 2,
   "id": "5cb7cd32-8f2c-4a88-92f4-5bc7f406bbfd",
   "metadata": {},
   "outputs": [],
   "source": [
    "def check_duplicates(df):\n",
    "    # Check number of rows before removing duplicates\n",
    "    print(f\"Number of rows : {len(df)}\")\n",
    "\n",
    "    # Compute the number of duplicated rows\n",
    "    num_dups = df.duplicated().sum()\n",
    "    \n",
    "    print(f\"Number of duplicated rows : {num_dups}\")\n",
    "\n",
    "    if df.duplicated().any():\n",
    "        # Remove duplicates\n",
    "        df_no_duplicates = df.drop_duplicates()\n",
    "        print(f\"{num_dups} duplicated row(s) removed\")\n",
    "        return df_no_duplicates\n",
    "    else:\n",
    "        return \"No duplicated rows found !\"  "
   ]
  },
  {
   "cell_type": "code",
   "execution_count": 3,
   "id": "aed032ae-ebf4-41b9-9053-40356fcf39f8",
   "metadata": {},
   "outputs": [],
   "source": [
    "# load the dataset\n",
    "def load_dataset(filename, target):\n",
    "    # load the dataset\n",
    "    data = pd.read_csv(filename, index_col='id') \n",
    "\n",
    "    #Check duplicates (Any duplicated rows are dropped)\n",
    "    data_no_dups = check_duplicates(data)\n",
    "    \n",
    "    # split into input and output variables\n",
    "    X = data_no_dups.drop(columns=[target])\n",
    "    y = data_no_dups[[target]]\n",
    "\n",
    "    # Display shapes\n",
    "    display(f\"Shape of X : {X.shape}\")\n",
    "    display(f\"Shape of y : {y.shape}\")\n",
    "    \n",
    "    return X, y"
   ]
  },
  {
   "cell_type": "code",
   "execution_count": 4,
   "id": "569c6195-c8c8-4fdf-9fb7-e634603449ca",
   "metadata": {},
   "outputs": [],
   "source": [
    "# Prepare target\n",
    "def preprocess_output_data(y):\n",
    "    # Apply log1p transform to y\n",
    "    y_log = np.log1p(y)\n",
    "    return y_log"
   ]
  },
  {
   "cell_type": "markdown",
   "id": "3013fd94-1890-46b6-a93c-b237ca84a188",
   "metadata": {},
   "source": [
    "## Predictions"
   ]
  },
  {
   "cell_type": "markdown",
   "id": "0831c5a6-2b48-4c60-85c1-ff13c1fc582a",
   "metadata": {},
   "source": [
    "### Using Train_data"
   ]
  },
  {
   "cell_type": "code",
   "execution_count": 5,
   "id": "b558caaa-6f0e-42ba-828e-3b9d8a511197",
   "metadata": {},
   "outputs": [
    {
     "name": "stdout",
     "output_type": "stream",
     "text": [
      "Number of rows : 750000\n",
      "Number of duplicated rows : 2841\n",
      "2841 duplicated row(s) removed\n"
     ]
    },
    {
     "data": {
      "text/plain": [
       "'Shape of X : (747159, 7)'"
      ]
     },
     "metadata": {},
     "output_type": "display_data"
    },
    {
     "data": {
      "text/plain": [
       "'Shape of y : (747159, 1)'"
      ]
     },
     "metadata": {},
     "output_type": "display_data"
    },
    {
     "data": {
      "text/html": [
       "<div>\n",
       "<style scoped>\n",
       "    .dataframe tbody tr th:only-of-type {\n",
       "        vertical-align: middle;\n",
       "    }\n",
       "\n",
       "    .dataframe tbody tr th {\n",
       "        vertical-align: top;\n",
       "    }\n",
       "\n",
       "    .dataframe thead th {\n",
       "        text-align: right;\n",
       "    }\n",
       "</style>\n",
       "<table border=\"1\" class=\"dataframe\">\n",
       "  <thead>\n",
       "    <tr style=\"text-align: right;\">\n",
       "      <th></th>\n",
       "      <th>Predictions</th>\n",
       "    </tr>\n",
       "    <tr>\n",
       "      <th>id</th>\n",
       "      <th></th>\n",
       "    </tr>\n",
       "  </thead>\n",
       "  <tbody>\n",
       "    <tr>\n",
       "      <th>102083</th>\n",
       "      <td>64.0</td>\n",
       "    </tr>\n",
       "    <tr>\n",
       "      <th>135855</th>\n",
       "      <td>146.0</td>\n",
       "    </tr>\n",
       "    <tr>\n",
       "      <th>81092</th>\n",
       "      <td>86.0</td>\n",
       "    </tr>\n",
       "    <tr>\n",
       "      <th>112227</th>\n",
       "      <td>85.0</td>\n",
       "    </tr>\n",
       "    <tr>\n",
       "      <th>147816</th>\n",
       "      <td>178.0</td>\n",
       "    </tr>\n",
       "    <tr>\n",
       "      <th>...</th>\n",
       "      <td>...</td>\n",
       "    </tr>\n",
       "    <tr>\n",
       "      <th>299109</th>\n",
       "      <td>20.0</td>\n",
       "    </tr>\n",
       "    <tr>\n",
       "      <th>91423</th>\n",
       "      <td>53.0</td>\n",
       "    </tr>\n",
       "    <tr>\n",
       "      <th>104015</th>\n",
       "      <td>65.0</td>\n",
       "    </tr>\n",
       "    <tr>\n",
       "      <th>86823</th>\n",
       "      <td>21.0</td>\n",
       "    </tr>\n",
       "    <tr>\n",
       "      <th>190833</th>\n",
       "      <td>38.0</td>\n",
       "    </tr>\n",
       "  </tbody>\n",
       "</table>\n",
       "<p>246563 rows × 1 columns</p>\n",
       "</div>"
      ],
      "text/plain": [
       "        Predictions\n",
       "id                 \n",
       "102083         64.0\n",
       "135855        146.0\n",
       "81092          86.0\n",
       "112227         85.0\n",
       "147816        178.0\n",
       "...             ...\n",
       "299109         20.0\n",
       "91423          53.0\n",
       "104015         65.0\n",
       "86823          21.0\n",
       "190833         38.0\n",
       "\n",
       "[246563 rows x 1 columns]"
      ]
     },
     "metadata": {},
     "output_type": "display_data"
    },
    {
     "data": {
      "text/html": [
       "<div>\n",
       "<style scoped>\n",
       "    .dataframe tbody tr th:only-of-type {\n",
       "        vertical-align: middle;\n",
       "    }\n",
       "\n",
       "    .dataframe tbody tr th {\n",
       "        vertical-align: top;\n",
       "    }\n",
       "\n",
       "    .dataframe thead th {\n",
       "        text-align: right;\n",
       "    }\n",
       "</style>\n",
       "<table border=\"1\" class=\"dataframe\">\n",
       "  <thead>\n",
       "    <tr style=\"text-align: right;\">\n",
       "      <th></th>\n",
       "      <th>Calories</th>\n",
       "    </tr>\n",
       "    <tr>\n",
       "      <th>id</th>\n",
       "      <th></th>\n",
       "    </tr>\n",
       "  </thead>\n",
       "  <tbody>\n",
       "    <tr>\n",
       "      <th>102083</th>\n",
       "      <td>65.0</td>\n",
       "    </tr>\n",
       "    <tr>\n",
       "      <th>135855</th>\n",
       "      <td>147.0</td>\n",
       "    </tr>\n",
       "    <tr>\n",
       "      <th>81092</th>\n",
       "      <td>84.0</td>\n",
       "    </tr>\n",
       "    <tr>\n",
       "      <th>112227</th>\n",
       "      <td>75.0</td>\n",
       "    </tr>\n",
       "    <tr>\n",
       "      <th>147816</th>\n",
       "      <td>177.0</td>\n",
       "    </tr>\n",
       "    <tr>\n",
       "      <th>...</th>\n",
       "      <td>...</td>\n",
       "    </tr>\n",
       "    <tr>\n",
       "      <th>299109</th>\n",
       "      <td>18.0</td>\n",
       "    </tr>\n",
       "    <tr>\n",
       "      <th>91423</th>\n",
       "      <td>50.0</td>\n",
       "    </tr>\n",
       "    <tr>\n",
       "      <th>104015</th>\n",
       "      <td>66.0</td>\n",
       "    </tr>\n",
       "    <tr>\n",
       "      <th>86823</th>\n",
       "      <td>21.0</td>\n",
       "    </tr>\n",
       "    <tr>\n",
       "      <th>190833</th>\n",
       "      <td>36.0</td>\n",
       "    </tr>\n",
       "  </tbody>\n",
       "</table>\n",
       "<p>246563 rows × 1 columns</p>\n",
       "</div>"
      ],
      "text/plain": [
       "        Calories\n",
       "id              \n",
       "102083      65.0\n",
       "135855     147.0\n",
       "81092       84.0\n",
       "112227      75.0\n",
       "147816     177.0\n",
       "...          ...\n",
       "299109      18.0\n",
       "91423       50.0\n",
       "104015      66.0\n",
       "86823       21.0\n",
       "190833      36.0\n",
       "\n",
       "[246563 rows x 1 columns]"
      ]
     },
     "metadata": {},
     "output_type": "display_data"
    }
   ],
   "source": [
    "# Paths\n",
    "calorie_train_data_path = \"../data/raw_data/train.csv\"\n",
    "target_name = \"Calories\"\n",
    "\n",
    "# Load dataset\n",
    "X,y = load_dataset(calorie_train_data_path,target_name)\n",
    "\n",
    "# split into train and test sets\n",
    "X_train, X_test, y_train, y_test = train_test_split(X, y, test_size=0.33, random_state=1) \n",
    "\n",
    "# Preprocess output data\n",
    "y_train_log = preprocess_output_data(y_train)\n",
    "\n",
    "# Prepare features columns names\n",
    "categorical_columns = X_train.select_dtypes(exclude='number').columns.tolist()\n",
    "numerical_columns = X_train.select_dtypes(include='number').columns.tolist()\n",
    "\n",
    "# Prepare Column Transformer (input features)\n",
    "preproc = make_column_transformer((OneHotEncoder(drop='if_binary', sparse_output=False),categorical_columns),\n",
    "                                  (QuantileTransformer(n_quantiles=10, output_distribution='uniform'), numerical_columns))\n",
    "\n",
    "# define and configure the model\n",
    "pipeline = make_pipeline(preproc, DecisionTreeRegressor(random_state=1))\n",
    "\n",
    "# Fit pipeline\n",
    "pipeline.fit(X_train, y_train_log)\n",
    "\n",
    "# Predict and inverse log\n",
    "y_pred_log = pipeline.predict(X_test)\n",
    "y_pred = np.expm1(y_pred_log)\n",
    "# y_pred = np.trunc(y_pred * 1000) / 1000\n",
    "y_pred = pd.DataFrame(y_pred, index=y_test.index, columns=['Predictions'])\n",
    "display(y_pred)\n",
    "display(y_test)"
   ]
  },
  {
   "cell_type": "markdown",
   "id": "3fd96c37-3623-46a7-a340-03806e42f3b5",
   "metadata": {},
   "source": [
    "### Using Test_data"
   ]
  },
  {
   "cell_type": "markdown",
   "id": "861c2e94-9ebe-4bc8-b8f8-276460d876a9",
   "metadata": {},
   "source": [
    "I will train the pipeline on the entire train set. And Then I will predict the test set."
   ]
  },
  {
   "cell_type": "code",
   "execution_count": 6,
   "id": "9df01519-36f9-4334-ab45-4e64ca42f13d",
   "metadata": {},
   "outputs": [
    {
     "name": "stdout",
     "output_type": "stream",
     "text": [
      "Number of rows : 750000\n",
      "Number of duplicated rows : 2841\n",
      "2841 duplicated row(s) removed\n"
     ]
    },
    {
     "data": {
      "text/plain": [
       "'Shape of X : (747159, 7)'"
      ]
     },
     "metadata": {},
     "output_type": "display_data"
    },
    {
     "data": {
      "text/plain": [
       "'Shape of y : (747159, 1)'"
      ]
     },
     "metadata": {},
     "output_type": "display_data"
    },
    {
     "data": {
      "text/html": [
       "<div>\n",
       "<style scoped>\n",
       "    .dataframe tbody tr th:only-of-type {\n",
       "        vertical-align: middle;\n",
       "    }\n",
       "\n",
       "    .dataframe tbody tr th {\n",
       "        vertical-align: top;\n",
       "    }\n",
       "\n",
       "    .dataframe thead th {\n",
       "        text-align: right;\n",
       "    }\n",
       "</style>\n",
       "<table border=\"1\" class=\"dataframe\">\n",
       "  <thead>\n",
       "    <tr style=\"text-align: right;\">\n",
       "      <th></th>\n",
       "      <th>Calories</th>\n",
       "    </tr>\n",
       "    <tr>\n",
       "      <th>id</th>\n",
       "      <th></th>\n",
       "    </tr>\n",
       "  </thead>\n",
       "  <tbody>\n",
       "    <tr>\n",
       "      <th>750000</th>\n",
       "      <td>27.0</td>\n",
       "    </tr>\n",
       "    <tr>\n",
       "      <th>750001</th>\n",
       "      <td>103.0</td>\n",
       "    </tr>\n",
       "    <tr>\n",
       "      <th>750002</th>\n",
       "      <td>88.0</td>\n",
       "    </tr>\n",
       "    <tr>\n",
       "      <th>750003</th>\n",
       "      <td>133.0</td>\n",
       "    </tr>\n",
       "    <tr>\n",
       "      <th>750004</th>\n",
       "      <td>78.0</td>\n",
       "    </tr>\n",
       "    <tr>\n",
       "      <th>...</th>\n",
       "      <td>...</td>\n",
       "    </tr>\n",
       "    <tr>\n",
       "      <th>999995</th>\n",
       "      <td>26.0</td>\n",
       "    </tr>\n",
       "    <tr>\n",
       "      <th>999996</th>\n",
       "      <td>8.0</td>\n",
       "    </tr>\n",
       "    <tr>\n",
       "      <th>999997</th>\n",
       "      <td>75.0</td>\n",
       "    </tr>\n",
       "    <tr>\n",
       "      <th>999998</th>\n",
       "      <td>166.0</td>\n",
       "    </tr>\n",
       "    <tr>\n",
       "      <th>999999</th>\n",
       "      <td>79.0</td>\n",
       "    </tr>\n",
       "  </tbody>\n",
       "</table>\n",
       "<p>250000 rows × 1 columns</p>\n",
       "</div>"
      ],
      "text/plain": [
       "        Calories\n",
       "id              \n",
       "750000      27.0\n",
       "750001     103.0\n",
       "750002      88.0\n",
       "750003     133.0\n",
       "750004      78.0\n",
       "...          ...\n",
       "999995      26.0\n",
       "999996       8.0\n",
       "999997      75.0\n",
       "999998     166.0\n",
       "999999      79.0\n",
       "\n",
       "[250000 rows x 1 columns]"
      ]
     },
     "metadata": {},
     "output_type": "display_data"
    }
   ],
   "source": [
    "# Paths\n",
    "calorie_train_data_path = \"../data/raw_data/train.csv\"\n",
    "calorie_test_data_path = \"../data/raw_data/test.csv\"\n",
    "target_name = \"Calories\"\n",
    "\n",
    "# Load TRAIN dataset (Features AND target)\n",
    "X_train,y_train = load_dataset(calorie_train_data_path,target_name)\n",
    "\n",
    "# load TEST dataset (ONLY  FEATURES)\n",
    "X_test = pd.read_csv(calorie_test_data_path, index_col='id') \n",
    "\n",
    "# Preprocess output data\n",
    "y_train_log = preprocess_output_data(y_train)\n",
    "\n",
    "# Prepare features columns names\n",
    "categorical_columns = X_train.select_dtypes(exclude='number').columns.tolist()\n",
    "numerical_columns = X_train.select_dtypes(include='number').columns.tolist()\n",
    "\n",
    "# Prepare Column Transformer (input features)\n",
    "preproc = make_column_transformer((OneHotEncoder(drop='if_binary', sparse_output=False),categorical_columns),\n",
    "                                  (QuantileTransformer(n_quantiles=10, output_distribution='uniform'), numerical_columns))\n",
    "\n",
    "# define and configure the model\n",
    "pipeline = make_pipeline(preproc, DecisionTreeRegressor(random_state=1))\n",
    "DecisionTreeRegressor()\n",
    "# Fit pipeline\n",
    "pipeline.fit(X_train, y_train_log)\n",
    "\n",
    "# Predict and inverse log\n",
    "y_pred_log = pipeline.predict(X_test)\n",
    "y_pred = np.expm1(y_pred_log)\n",
    "y_pred = np.round(y_pred,4)\n",
    "# y_pred = np.trunc(y_pred * 1000) / 1000\n",
    "y_pred = pd.DataFrame(y_pred, index=X_test.index, columns=['Calories'])\n",
    "display(y_pred)"
   ]
  },
  {
   "cell_type": "code",
   "execution_count": 7,
   "id": "5bd337a2-f646-408a-b1db-ae42d6f95097",
   "metadata": {},
   "outputs": [
    {
     "data": {
      "text/plain": [
       "(250000, 1)"
      ]
     },
     "execution_count": 7,
     "metadata": {},
     "output_type": "execute_result"
    }
   ],
   "source": [
    "y_pred.shape"
   ]
  },
  {
   "cell_type": "markdown",
   "id": "1ed20e0e-0c9a-4c1f-8da9-6a03d1ae7464",
   "metadata": {},
   "source": [
    "# Save predictions"
   ]
  },
  {
   "cell_type": "code",
   "execution_count": 8,
   "id": "81493a82-6d70-407b-9a76-ba81df836be9",
   "metadata": {},
   "outputs": [],
   "source": [
    "# Generate filename\n",
    "filename = \"submission_calories.csv\"\n",
    "now = datetime.now()\n",
    "dated_filename = now.strftime(\"%Y%m%d_%H-%M-%S_\"+filename)\n",
    "saving_path = \"../data/processed_data/\" + dated_filename\n",
    "y_pred.to_csv(saving_path, index=True, sep=',', encoding='utf-8')"
   ]
  }
 ],
 "metadata": {
  "kernelspec": {
   "display_name": "Python 3 (ipykernel)",
   "language": "python",
   "name": "python3"
  },
  "language_info": {
   "codemirror_mode": {
    "name": "ipython",
    "version": 3
   },
   "file_extension": ".py",
   "mimetype": "text/x-python",
   "name": "python",
   "nbconvert_exporter": "python",
   "pygments_lexer": "ipython3",
   "version": "3.10.6"
  }
 },
 "nbformat": 4,
 "nbformat_minor": 5
}
