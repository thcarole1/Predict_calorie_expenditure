{
 "cells": [
  {
   "cell_type": "markdown",
   "id": "acac81c1-5030-456d-b971-2f8746ea825c",
   "metadata": {},
   "source": [
    "# Data Cleaning TEMPLATE"
   ]
  },
  {
   "cell_type": "code",
   "execution_count": 1,
   "id": "c801c69d-9d31-4d5b-8dde-ac271b444fb0",
   "metadata": {},
   "outputs": [],
   "source": [
    "# Libraries\n",
    "\n",
    "## Basic libraries\n",
    "import numpy as np\n",
    "import pandas as pd\n",
    "import seaborn as sns\n",
    "\n",
    "import math\n",
    "from numpy import mean \n",
    "from numpy import std\n",
    "from numpy import percentile \n",
    "# from scipy.stats import iqr\n",
    "\n",
    "## Plotting\n",
    "import matplotlib.pyplot as plt\n",
    "\n",
    "# Basic cleaning\n",
    "from sklearn.feature_selection import VarianceThreshold\n",
    "from sklearn.model_selection import train_test_split \n",
    "from sklearn.linear_model import LinearRegression \n",
    "from sklearn.ensemble import IsolationForest\n",
    "from sklearn.neighbors import LocalOutlierFactor \n",
    "from sklearn.metrics import mean_absolute_error "
   ]
  },
  {
   "cell_type": "markdown",
   "id": "b475c63b-ea42-4507-8b09-e45b16d2b7ea",
   "metadata": {},
   "source": [
    "## Basic data cleaning"
   ]
  },
  {
   "cell_type": "markdown",
   "id": "54ef2d39-98f1-4d1a-8901-6966bbed2764",
   "metadata": {},
   "source": [
    "🔍 **Why Data Cleaning Matters**\n",
    "- Essential in every ML project; often skipped at a cost.\n",
    "- Prevents model failure and misleading performance results.\n",
    "- Helps prepare trustworthy, high-quality datasets."
   ]
  },
  {
   "cell_type": "code",
   "execution_count": 2,
   "id": "ee71b219-93dd-4ce5-9e79-4d2c8220b9d2",
   "metadata": {},
   "outputs": [
    {
     "data": {
      "text/plain": [
       "'Shape of data : (750000, 8)'"
      ]
     },
     "metadata": {},
     "output_type": "display_data"
    }
   ],
   "source": [
    "# Load datasets\n",
    "# Paths\n",
    "calorie_train_data_path = \"../../data/raw_data/train.csv\"\n",
    "\n",
    "# Read train data\n",
    "data=pd.read_csv(calorie_train_data_path,index_col='id')\n",
    "display(f\"Shape of data : {data.shape}\")"
   ]
  },
  {
   "cell_type": "code",
   "execution_count": 3,
   "id": "f0cc27c5-e83d-49e6-8e46-98433c3f2e6c",
   "metadata": {},
   "outputs": [],
   "source": [
    "# Copy of datasets\n",
    "data_copy = data.copy()"
   ]
  },
  {
   "cell_type": "code",
   "execution_count": 4,
   "id": "dd0df0a6-2490-4172-be4e-95fb6320dd85",
   "metadata": {},
   "outputs": [
    {
     "data": {
      "text/html": [
       "<div>\n",
       "<style scoped>\n",
       "    .dataframe tbody tr th:only-of-type {\n",
       "        vertical-align: middle;\n",
       "    }\n",
       "\n",
       "    .dataframe tbody tr th {\n",
       "        vertical-align: top;\n",
       "    }\n",
       "\n",
       "    .dataframe thead th {\n",
       "        text-align: right;\n",
       "    }\n",
       "</style>\n",
       "<table border=\"1\" class=\"dataframe\">\n",
       "  <thead>\n",
       "    <tr style=\"text-align: right;\">\n",
       "      <th></th>\n",
       "      <th>Sex</th>\n",
       "      <th>Age</th>\n",
       "      <th>Height</th>\n",
       "      <th>Weight</th>\n",
       "      <th>Duration</th>\n",
       "      <th>Heart_Rate</th>\n",
       "      <th>Body_Temp</th>\n",
       "      <th>Calories</th>\n",
       "    </tr>\n",
       "    <tr>\n",
       "      <th>id</th>\n",
       "      <th></th>\n",
       "      <th></th>\n",
       "      <th></th>\n",
       "      <th></th>\n",
       "      <th></th>\n",
       "      <th></th>\n",
       "      <th></th>\n",
       "      <th></th>\n",
       "    </tr>\n",
       "  </thead>\n",
       "  <tbody>\n",
       "    <tr>\n",
       "      <th>0</th>\n",
       "      <td>male</td>\n",
       "      <td>36</td>\n",
       "      <td>189.0</td>\n",
       "      <td>82.0</td>\n",
       "      <td>26.0</td>\n",
       "      <td>101.0</td>\n",
       "      <td>41.0</td>\n",
       "      <td>150.0</td>\n",
       "    </tr>\n",
       "    <tr>\n",
       "      <th>1</th>\n",
       "      <td>female</td>\n",
       "      <td>64</td>\n",
       "      <td>163.0</td>\n",
       "      <td>60.0</td>\n",
       "      <td>8.0</td>\n",
       "      <td>85.0</td>\n",
       "      <td>39.7</td>\n",
       "      <td>34.0</td>\n",
       "    </tr>\n",
       "  </tbody>\n",
       "</table>\n",
       "</div>"
      ],
      "text/plain": [
       "       Sex  Age  Height  Weight  Duration  Heart_Rate  Body_Temp  Calories\n",
       "id                                                                        \n",
       "0     male   36   189.0    82.0      26.0       101.0       41.0     150.0\n",
       "1   female   64   163.0    60.0       8.0        85.0       39.7      34.0"
      ]
     },
     "execution_count": 4,
     "metadata": {},
     "output_type": "execute_result"
    }
   ],
   "source": [
    "# Overview of the first lines\n",
    "data.head(2)"
   ]
  },
  {
   "cell_type": "markdown",
   "id": "eadeda15-2bb5-4be9-af11-477294e08877",
   "metadata": {},
   "source": [
    "### Identify Columns That Contain a Single Value"
   ]
  },
  {
   "cell_type": "markdown",
   "id": "71847219-8661-49cb-a42b-b6926bb0e2ef",
   "metadata": {},
   "source": [
    "🧮 **Identify Columns with a Single Unique Value**\n",
    "- **Problem**: Zero-variance predictors (e.g., all values = 1.0).\n",
    "- **Detection**: Use .nunique() or NumPy’s unique() function.\n",
    "- **Action**: Remove these columns—they add no information and can cause errors."
   ]
  },
  {
   "cell_type": "code",
   "execution_count": 5,
   "id": "58e2d37f-3538-4abc-96fa-ef7e24858d9f",
   "metadata": {
    "scrolled": true
   },
   "outputs": [
    {
     "data": {
      "text/plain": [
       "Sex             2\n",
       "Age            60\n",
       "Height         86\n",
       "Weight         91\n",
       "Duration       30\n",
       "Heart_Rate     63\n",
       "Body_Temp      75\n",
       "Calories      277\n",
       "dtype: int64"
      ]
     },
     "execution_count": 5,
     "metadata": {},
     "output_type": "execute_result"
    }
   ],
   "source": [
    "# Summurize the number of unique values in each column\n",
    "data.nunique()"
   ]
  },
  {
   "cell_type": "markdown",
   "id": "c17a9589-7ceb-461c-8ee1-99fafe1d46d7",
   "metadata": {},
   "source": [
    "**CONCLUSION**:"
   ]
  },
  {
   "cell_type": "markdown",
   "id": "7eaf857d-2035-4d42-a326-6973d836c89b",
   "metadata": {},
   "source": [
    "### Delete Columns That Contain a Single Value"
   ]
  },
  {
   "cell_type": "markdown",
   "id": "3b46e73c-8399-4a80-b973-bed0f3be1cf3",
   "metadata": {},
   "source": [
    "🗑️ **Delete Columns with a Single Value**\n",
    "- Use Pandas drop() after identifying the column(s).\n"
   ]
  },
  {
   "cell_type": "code",
   "execution_count": 6,
   "id": "d50535e4-ca8c-4265-bad1-8d2f73089c9b",
   "metadata": {},
   "outputs": [],
   "source": [
    "# Create a function to drop columns that have a single value\n",
    "def drop_single_value_columns(df : pd.DataFrame) -> pd.DataFrame:\n",
    "        \"\"\"\n",
    "    Drop columns with a single unique value \n",
    "    Args:\n",
    "        df (DataFrame): Raw data\n",
    "    Returns:\n",
    "        df (DataFrame) with no single value columns\n",
    "    \"\"\" \n",
    "        print(f\"Shape BEFORE dropping single value columns: {df.shape}\") \n",
    "        \n",
    "        # get number of unique values for each column \n",
    "        counts = df.nunique()\n",
    "        \n",
    "        # record columns to delete (i.e columns that only contain a unique value)\n",
    "        to_del = [i for i,v in enumerate(counts) if v == 1]\n",
    "    \n",
    "        print(f\"Names of single value columns: {to_del}\") \n",
    "        \n",
    "        # drop useless columns \n",
    "        df.drop(to_del, axis=1, inplace=True) \n",
    "        \n",
    "        print(f\"Shape AFTER dropping single value columns: {df.shape}\") \n",
    "        return df"
   ]
  },
  {
   "cell_type": "code",
   "execution_count": 7,
   "id": "fedfe03a-0cef-4d21-91b3-a7a8b8e9ff11",
   "metadata": {},
   "outputs": [
    {
     "name": "stdout",
     "output_type": "stream",
     "text": [
      "Shape BEFORE dropping single value columns: (750000, 8)\n",
      "Names of single value columns: []\n",
      "Shape AFTER dropping single value columns: (750000, 8)\n"
     ]
    }
   ],
   "source": [
    "data = drop_single_value_columns(data)"
   ]
  },
  {
   "cell_type": "markdown",
   "id": "0eb93442-83e0-4a69-92a1-46623c0b3e96",
   "metadata": {},
   "source": [
    "**CONCLUSION**:"
   ]
  },
  {
   "cell_type": "markdown",
   "id": "5442fc3e-a170-4655-a10c-981631aca2ea",
   "metadata": {},
   "source": [
    "### Consider Columns That Have Very Few Values"
   ]
  },
  {
   "cell_type": "markdown",
   "id": "49aaa535-16f3-427a-977f-2ec62fd9c3b4",
   "metadata": {},
   "source": [
    "🤔 **Consider Columns with Very Few Unique Values**\n",
    "- Known as **near-zero** variance predictors.\n",
    "- These may be:<br>\n",
    "o\tCategorical in disguise.<br>\n",
    "o\tIndicators needing encoding (ordinal/categorical).\n",
    "- **Check**: Unique values as % of total rows (e.g., <1%).\n"
   ]
  },
  {
   "cell_type": "code",
   "execution_count": 8,
   "id": "e29654e7-636c-46c7-b855-c10fe8702721",
   "metadata": {},
   "outputs": [],
   "source": [
    "# Create a function that print index, number of unique values and percentage of unique values per column in regard to total number of rows per column\n",
    "def show_unique_values_percentage(df : pd.DataFrame):\n",
    "    \"\"\"\n",
    "    Print index, number of unique values and percentage of unique values \n",
    "    per column in regard to total number of rows per column\n",
    "    Args:\n",
    "        - df (DataFrame): Raw data\n",
    "    \"\"\"  \n",
    "    for i in range(df.shape[1]):\n",
    "        num = df.nunique().values[i]\n",
    "        percentage = float(num) / df.shape[0] * 100\n",
    "        print(f\"{i}, {df.columns[i]}, {num}, {round(percentage,5)}%\")"
   ]
  },
  {
   "cell_type": "code",
   "execution_count": 9,
   "id": "d7bfa95f-39d5-4a00-ab25-245bfc714385",
   "metadata": {},
   "outputs": [
    {
     "name": "stdout",
     "output_type": "stream",
     "text": [
      "0, Sex, 2, 0.00027%\n",
      "1, Age, 60, 0.008%\n",
      "2, Height, 86, 0.01147%\n",
      "3, Weight, 91, 0.01213%\n",
      "4, Duration, 30, 0.004%\n",
      "5, Heart_Rate, 63, 0.0084%\n",
      "6, Body_Temp, 75, 0.01%\n",
      "7, Calories, 277, 0.03693%\n"
     ]
    }
   ],
   "source": [
    "show_unique_values_percentage(data)"
   ]
  },
  {
   "cell_type": "markdown",
   "id": "745fbd4a-b55b-46b5-a433-1666fd6fb48c",
   "metadata": {},
   "source": [
    "**CONCLUSION**:"
   ]
  },
  {
   "cell_type": "markdown",
   "id": "9305dfaa-3e8f-41f4-9d29-8891f609e87c",
   "metadata": {},
   "source": [
    "### Remove columns that have a low variance"
   ]
  },
  {
   "cell_type": "markdown",
   "id": "0e8e9f05-f8f5-4240-8ed7-863b5b5e4ac0",
   "metadata": {},
   "source": [
    "✂️ **Remove Columns with Low Variance**\n",
    "- Use **VarianceThreshold** from sklearn.feature_selection.\n",
    "- **Threshold Tuning**: Try 0.0 to 0.5; see feature reduction effects.\n",
    "- Lower variance = less informational value, possibly noise.\n",
    "- Helps dimensionality reduction while retaining meaningful features."
   ]
  },
  {
   "cell_type": "code",
   "execution_count": 10,
   "id": "112653bf-725b-4aa4-9e81-cb50a13752bd",
   "metadata": {},
   "outputs": [],
   "source": [
    "# explore the effect of the variance thresholds on the number of selected features \n",
    "def explore_variance_threshold_effects(df : pd.DataFrame, range : np.arange):\n",
    "    \"\"\"\n",
    "    Explore the effect of the variance thresholds on \n",
    "    the number of selected features from numpy import arange \n",
    "    Args:\n",
    "        - df (DataFrame): Raw data\n",
    "        - range (np.arange) : variance range to check\n",
    "    Returns:\n",
    "        - Print number of features whose variance is over the considered threshold\n",
    "        - Plot the number of features whose variance is over the considered threshold\n",
    "    \"\"\" \n",
    "    \n",
    "    # apply transform with each threshold \n",
    "    results = list() \n",
    "\n",
    "    for t in range: \n",
    "        # define the transform \n",
    "        transform = VarianceThreshold(threshold=t) \n",
    "        \n",
    "        # transform the input data \n",
    "        df_sel = transform.fit_transform(df) \n",
    "        \n",
    "        # determine the number of input features \n",
    "        n_features = df_sel.shape[1] \n",
    "        \n",
    "        print(f\">Threshold={round(t,2)}, Features={n_features}\")\n",
    "        \n",
    "        # store the result \n",
    "        results.append(n_features) \n",
    "        \n",
    "    # plot the threshold vs the number of selected features \n",
    "    plt.plot(range, results) \n",
    "    plt.show()"
   ]
  },
  {
   "cell_type": "code",
   "execution_count": 11,
   "id": "8d3ed3f7-a8dd-466a-9dff-eb9fbfa386b7",
   "metadata": {},
   "outputs": [
    {
     "name": "stdout",
     "output_type": "stream",
     "text": [
      "(750000, 7) (750000, 1)\n",
      ">Threshold=0.0, Features=6\n",
      ">Threshold=0.05, Features=6\n",
      ">Threshold=0.1, Features=6\n",
      ">Threshold=0.15, Features=6\n",
      ">Threshold=0.2, Features=6\n",
      ">Threshold=0.25, Features=6\n",
      ">Threshold=0.3, Features=6\n",
      ">Threshold=0.35, Features=6\n",
      ">Threshold=0.4, Features=6\n",
      ">Threshold=0.45, Features=6\n"
     ]
    },
    {
     "data": {
      "image/png": "[encoded data removed]",
      "text/plain": [
       "<Figure size 640x480 with 1 Axes>"
      ]
     },
     "metadata": {},
     "output_type": "display_data"
    }
   ],
   "source": [
    "# split data into inputs (ONLY NUMERICAL FOR NOW) and outputs \n",
    "data_num = data.select_dtypes(include=\"number\")\n",
    "\n",
    "# Define X and y\n",
    "target = 'Calories'\n",
    "X = data.drop(columns=[target])\n",
    "y = data[[target]]\n",
    "print(X.shape, y.shape) \n",
    "\n",
    "# Only use the numerical columns of X\n",
    "X_num = X.select_dtypes(include='number')\n",
    "\n",
    "# define variance thresholds to check \n",
    "# thresholds = np.arange(0.0, 0.55, 0.05) \n",
    "thresholds = np.arange(0.0, 0.5, 0.05) \n",
    "\n",
    "explore_variance_threshold_effects(X_num, thresholds)"
   ]
  },
  {
   "cell_type": "markdown",
   "id": "fd447cc9-414f-49dc-9229-57e019ee0c83",
   "metadata": {},
   "source": [
    "**CONCLUSION**:"
   ]
  },
  {
   "cell_type": "markdown",
   "id": "64d7728f-c3f5-486d-8883-ba869db80ab5",
   "metadata": {},
   "source": [
    "### Identify rows that contain duplicate data"
   ]
  },
  {
   "cell_type": "markdown",
   "id": "eec2d58d-a11b-4780-af53-ff2325fb4e5c",
   "metadata": {},
   "source": [
    "🧍 **Identify Duplicate Rows**\n",
    "- **Problem**: Inflated priors, biased evaluation (e.g., in cross-validation).\n",
    "- **Action**: Check .duplicated() in Pandas.\n",
    "- **Best Practice**: Test model performance with/without duplicates."
   ]
  },
  {
   "cell_type": "code",
   "execution_count": 12,
   "id": "720f5d13-fdaf-4a3f-a26e-65fb29d286ad",
   "metadata": {
    "scrolled": true
   },
   "outputs": [
    {
     "name": "stdout",
     "output_type": "stream",
     "text": [
      "Is there any duplicated rows in the dataset ? Answer : True\n",
      "           Sex  Age  Height  Weight  Duration  Heart_Rate  Body_Temp  Calories\n",
      "id                                                                            \n",
      "11643   female   54   161.0    61.0      14.0        95.0       40.3      76.0\n",
      "18100   female   54   161.0    61.0       9.0        88.0       39.7      42.0\n",
      "22070     male   51   187.0    94.0       3.0        81.0       38.8      10.0\n",
      "26664   female   67   169.0    69.0      24.0       104.0       40.7     161.0\n",
      "31062   female   40   161.0    58.0      14.0        90.0       40.4      64.0\n",
      "...        ...  ...     ...     ...       ...         ...        ...       ...\n",
      "749584  female   39   161.0    61.0      13.0        99.0       40.3      74.0\n",
      "749823  female   29   173.0    68.0      14.0        95.0       40.2      67.0\n",
      "749852    male   21   187.0    90.0       9.0        91.0       39.7      30.0\n",
      "749889    male   40   191.0    88.0       5.0        86.0       39.0      18.0\n",
      "749949    male   21   184.0    88.0       9.0        89.0       39.7      28.0\n",
      "\n",
      "[2841 rows x 8 columns]\n"
     ]
    }
   ],
   "source": [
    "# calculate duplicates \n",
    "dups = data.duplicated() \n",
    "\n",
    "# report if there are any duplicates \n",
    "print(f\"Is there any duplicated rows in the dataset ? Answer : {dups.any()}\") \n",
    "\n",
    "# list all duplicate rows \n",
    "print(data[dups])"
   ]
  },
  {
   "cell_type": "markdown",
   "id": "31b2c532-8a68-4dca-9720-c02a744b07e7",
   "metadata": {},
   "source": [
    "**CONCLUSION**:"
   ]
  },
  {
   "cell_type": "markdown",
   "id": "cdba33e0-3ffd-40b6-b682-2fc722c3aa07",
   "metadata": {},
   "source": [
    "### Delete rows that contain duplicate data"
   ]
  },
  {
   "cell_type": "code",
   "execution_count": 13,
   "id": "be394185-9039-4f33-82c8-8c9aa55e746e",
   "metadata": {},
   "outputs": [],
   "source": [
    "def check_duplicates(df):\n",
    "    \"\"\"\n",
    "    Counts duplicated rows. If any, function drops duplicated rows.\n",
    "    Args:\n",
    "        df (DataFrame): Raw data\n",
    "    Returns:\n",
    "        - df (Dataframe) without duplicated rows, a string otherwise.\n",
    "    \"\"\"\n",
    "\n",
    "    # Check number of rows before removing duplicates\n",
    "    print(f\"Number of rows : {len(df)}\")\n",
    "\n",
    "    # Compute the number of duplicated rows\n",
    "    num_dups = df.duplicated().sum()\n",
    "    \n",
    "    print(f\"Number of duplicated rows : {num_dups}\")\n",
    "\n",
    "    if df.duplicated().any():\n",
    "        # Remove duplicates\n",
    "        df_no_duplicates = df.drop_duplicates()\n",
    "        print(f\"{num_dups} duplicated row(s) removed\")\n",
    "        return df_no_duplicates\n",
    "    else:\n",
    "        return \"No duplicated rows found !\"    "
   ]
  },
  {
   "cell_type": "code",
   "execution_count": 14,
   "id": "b935831e-901d-4989-8860-cc84e797383d",
   "metadata": {},
   "outputs": [
    {
     "name": "stdout",
     "output_type": "stream",
     "text": [
      "Number of rows : 750000\n",
      "Number of duplicated rows : 2841\n",
      "2841 duplicated row(s) removed\n"
     ]
    }
   ],
   "source": [
    "# Check for duplicates ; if found, duplicates are dropped.\n",
    "data_no_dups = check_duplicates(data)"
   ]
  },
  {
   "cell_type": "markdown",
   "id": "ddb48f31-a750-4aac-bf99-ac37cf3aa534",
   "metadata": {},
   "source": [
    "## Outlier Identification and Removal"
   ]
  },
  {
   "cell_type": "markdown",
   "id": "e18a2f3d-c572-465c-a830-9110d810c9be",
   "metadata": {},
   "source": [
    "✅ **Why Care About Outliers?**\n",
    "- Outliers = observations significantly different from others.\n",
    "- Can distort models, reduce performance.\n",
    "- Causes: measurement error, data corruption, or genuine anomaly."
   ]
  },
  {
   "cell_type": "markdown",
   "id": "0e0e6056-55ba-417d-8272-d088fc793206",
   "metadata": {},
   "source": [
    "#### Standard Deviation Method"
   ]
  },
  {
   "cell_type": "markdown",
   "id": "b0a25cf6-bab8-4a59-b0eb-8e89f36fd241",
   "metadata": {},
   "source": [
    "If we know that the distribution of values in the sample is Gaussian or Gaussian-like, we can use the standard deviation of the sample as a cut-off for identifying outliers. "
   ]
  },
  {
   "cell_type": "markdown",
   "id": "f79b3bb7-2fad-4264-b398-76d616b17c2c",
   "metadata": {},
   "source": [
    "📌 **Standard Deviation Method**\n",
    "- **Assumes Gaussian (normal) distribution.**\n",
    "- **Key concept**: Most data falls within a range of standard deviations from the mean:<br>\n",
    "o\t±1 std = 68%<br>\n",
    "o\t±2 std = 95%<br>\n",
    "o\t±3 std = 99.7%<br>\n",
    "- Outliers = values > 3 standard deviations from the mean.\n",
    "- **Steps**:\n",
    "1.\tCalculate mean and std.\n",
    "2.\tCompute cut-off bounds: mean ± 3*std.\n",
    "3.\tFilter out values outside these bounds."
   ]
  },
  {
   "cell_type": "code",
   "execution_count": 15,
   "id": "ac4e75f3-7c44-4e27-96ec-fa8bbbd2dbdc",
   "metadata": {},
   "outputs": [
    {
     "data": {
      "text/plain": [
       "'Shape of data : (750000, 8)'"
      ]
     },
     "metadata": {},
     "output_type": "display_data"
    }
   ],
   "source": [
    "# Load datasets\n",
    "# Paths\n",
    "calorie_train_data_path = \"../../data/raw_data/train.csv\"\n",
    "\n",
    "# Read train data\n",
    "data=pd.read_csv(calorie_train_data_path,index_col='id')\n",
    "display(f\"Shape of data : {data.shape}\")"
   ]
  },
  {
   "cell_type": "code",
   "execution_count": 16,
   "id": "8ec79776-8cbb-4579-b895-618d08939ded",
   "metadata": {},
   "outputs": [],
   "source": [
    "# If distribution Gaussian or Gaussian-like, we use the standard deviation of the sample as a cut-off for identifying outliers\n",
    "def identify_outliers_std_dev_method(data : pd.DataFrame):\n",
    "    \"\"\"\n",
    "    If distribution Gaussian or Gaussian-like, we use the standard deviation of the sample as a cut-off for identifying outliers\n",
    "    Args:\n",
    "        data (pd.Dataframe): Raw data\n",
    "    Returns:\n",
    "        - columns_with_outliers (list) : Numerical Columns containing outliers\n",
    "        - columns_no_outliers (list) : Numerical Columns NOT containing outliers\n",
    "    \"\"\"\n",
    "\n",
    "    # Deal ONLY with numerical columns\n",
    "    data = data.select_dtypes(include='number')\n",
    "\n",
    "    columns_with_outliers, columns_no_outliers = [], []\n",
    "    \n",
    "    for col in data.columns.tolist():\n",
    "        # calculate summary statistics \n",
    "        data_mean, data_std = mean(data[col]), std(data[col]) \n",
    "\n",
    "        # define outliers \n",
    "        cut_off = data_std * 3 \n",
    "        lower, upper = data_mean - cut_off, data_mean + cut_off \n",
    "\n",
    "        # identify outliers \n",
    "        outliers = [x for x in data[col] if x < lower or x > upper] \n",
    "       \n",
    "        # remove outliers\n",
    "        outliers_removed = [x for x in data[col] if x >= lower and x <= upper]\n",
    "\n",
    "        if len(outliers) > 0:\n",
    "            columns_with_outliers.append(col)\n",
    "        else:\n",
    "            columns_no_outliers.append(col)\n",
    "\n",
    "    return columns_with_outliers, columns_no_outliers"
   ]
  },
  {
   "cell_type": "code",
   "execution_count": 17,
   "id": "a7f3c00a-477e-4793-aa43-2563d12f52de",
   "metadata": {},
   "outputs": [
    {
     "data": {
      "text/plain": [
       "['Height', 'Weight', 'Heart_Rate', 'Body_Temp', 'Calories']"
      ]
     },
     "metadata": {},
     "output_type": "display_data"
    },
    {
     "data": {
      "text/plain": [
       "['Age', 'Duration']"
      ]
     },
     "metadata": {},
     "output_type": "display_data"
    }
   ],
   "source": [
    "# identify outliers with standard deviation \n",
    "columns_with_outliers_std_method, columns_no_outliers_std_method = identify_outliers_std_dev_method(data)\n",
    "display(columns_with_outliers_std_method)\n",
    "display(columns_no_outliers_std_method)"
   ]
  },
  {
   "cell_type": "markdown",
   "id": "c6ce4d7c-0579-4874-bd98-21fb86cf6adb",
   "metadata": {},
   "source": [
    "**CONCLUSION**:"
   ]
  },
  {
   "cell_type": "markdown",
   "id": "1e9bbe3f-c4ac-42f8-9d5d-8e77b2ec0a52",
   "metadata": {},
   "source": [
    "#### Interquartile Range Method "
   ]
  },
  {
   "cell_type": "markdown",
   "id": "81d6da33-0810-4238-8466-909c5882ee4d",
   "metadata": {},
   "source": [
    "📌 **Interquartile Range (IQR) Method**\n",
    "- **Useful when data is not Gaussian.**\n",
    "- **IQR** = Q3 - Q1 (75th percentile - 25th percentile).\n",
    "- **Outliers** = values < Q1 - 1.5×IQR or > Q3 + 1.5×IQR.\n",
    "- Can detect both mild and extreme outliers (by adjusting the factor, e.g., 1.5 or 3).\n",
    "- **Steps**:\n",
    "1.\tCompute Q1 and Q3 using percentiles.\n",
    "2.\tCalculate IQR.\n",
    "3.\tDefine bounds: Q1 - 1.5×IQR and Q3 + 1.5×IQR.\n",
    "4.\tFilter out values outside these limits."
   ]
  },
  {
   "cell_type": "code",
   "execution_count": 18,
   "id": "0fad099b-fc58-48d0-ada4-32993058ff8c",
   "metadata": {},
   "outputs": [
    {
     "data": {
      "text/plain": [
       "'Shape of data : (750000, 8)'"
      ]
     },
     "metadata": {},
     "output_type": "display_data"
    }
   ],
   "source": [
    "# Load datasets\n",
    "# Paths\n",
    "calorie_train_data_path = \"../../data/raw_data/train.csv\"\n",
    "\n",
    "# Read train data\n",
    "data=pd.read_csv(calorie_train_data_path,index_col='id')\n",
    "display(f\"Shape of data : {data.shape}\")"
   ]
  },
  {
   "cell_type": "code",
   "execution_count": 19,
   "id": "af801210-5dc4-4e42-affb-9bf98a7107fd",
   "metadata": {},
   "outputs": [],
   "source": [
    "# identify outliers with interquartile range \n",
    "def identify_outliers_iqr_method(data : pd.DataFrame):\n",
    "    \"\"\"\n",
    "    A good statistic for summarizing a non-Gaussian distribution sample of data is the Interquartile Range, or IQR for short.\n",
    "    This function identifies outliers with interquartile range (iqr).\n",
    "    Args:\n",
    "        data (pd.DataFrame): Raw data\n",
    "    Returns:\n",
    "        - outliers (ndarray) : only identified outliers\n",
    "        - outliers_removed (ndarray) : data with outliers removed\n",
    "    \"\"\"\n",
    "\n",
    "    # Deal ONLY with numerical columns\n",
    "    data = data.select_dtypes(include='number')\n",
    "\n",
    "    columns_with_outliers, columns_no_outliers = [], []\n",
    "\n",
    "    for col in data.columns.tolist():\n",
    "        # calculate interquartile range \n",
    "        q25, q75 = percentile(data[col], 25), percentile(data[col], 75) \n",
    "        iqr = q75 - q25 \n",
    "        \n",
    "        # calculate the outlier cutoff \n",
    "        cut_off = iqr * 1.5 \n",
    "        lower, upper = q25 - cut_off, q75 + cut_off \n",
    "        \n",
    "        # identify outliers \n",
    "        outliers = [x for x in data[col] if x < lower or x > upper] \n",
    "        \n",
    "        # remove outliers \n",
    "        outliers_removed = [x for x in data[col] if x >= lower and x <= upper]\n",
    "        \n",
    "        if len(outliers) > 0:\n",
    "            columns_with_outliers.append(col)\n",
    "        else:\n",
    "            columns_no_outliers.append(col)\n",
    "    \n",
    "    return columns_with_outliers, columns_no_outliers"
   ]
  },
  {
   "cell_type": "code",
   "execution_count": 20,
   "id": "7215251f-d348-4df8-aa18-1ebff94973df",
   "metadata": {},
   "outputs": [
    {
     "data": {
      "text/plain": [
       "['Height', 'Weight', 'Heart_Rate', 'Body_Temp', 'Calories']"
      ]
     },
     "metadata": {},
     "output_type": "display_data"
    },
    {
     "data": {
      "text/plain": [
       "['Age', 'Duration']"
      ]
     },
     "metadata": {},
     "output_type": "display_data"
    }
   ],
   "source": [
    "# identify outliers with interquartile range \n",
    "columns_with_outliers_iqr_method, columns_no_outliers_iqr_method = identify_outliers_iqr_method(data)\n",
    "display(columns_with_outliers_iqr_method)\n",
    "display(columns_no_outliers_iqr_method)"
   ]
  },
  {
   "cell_type": "markdown",
   "id": "216e1c65-df60-490f-82d0-942d812aa027",
   "metadata": {},
   "source": [
    "**CONCLUSION**:"
   ]
  },
  {
   "cell_type": "markdown",
   "id": "91671872-d2d1-4143-8445-5d3e764290d9",
   "metadata": {},
   "source": [
    "#### Automatic Outlier Detection "
   ]
  },
  {
   "cell_type": "markdown",
   "id": "28bcbbe7-3ef8-4db9-8635-9f3293b037f7",
   "metadata": {},
   "source": [
    "🔍 **Local Outlier Factor (LOF)**\n",
    "- **Good for multivariate**,**non-Gaussian data**.\n",
    "- Measures local deviation based on nearest neighbors.\n",
    "- Assigns score: high score = high likelihood of being an outlier.\n",
    "- **Tool**: sklearn.neighbors.LocalOutlierFactor."
   ]
  },
  {
   "cell_type": "code",
   "execution_count": 21,
   "id": "b7d56831-d498-43a8-a408-6f8dc76bc5c2",
   "metadata": {},
   "outputs": [
    {
     "data": {
      "text/plain": [
       "'Shape of data : (750000, 8)'"
      ]
     },
     "metadata": {},
     "output_type": "display_data"
    }
   ],
   "source": [
    "# Load datasets\n",
    "# Paths\n",
    "calorie_train_data_path = \"../../data/raw_data/train.csv\"\n",
    "\n",
    "# Read train data\n",
    "data=pd.read_csv(calorie_train_data_path,index_col='id')\n",
    "display(f\"Shape of data : {data.shape}\")"
   ]
  },
  {
   "cell_type": "code",
   "execution_count": 22,
   "id": "62c2c0af-37bc-4572-8d47-75f1dc9e9ea7",
   "metadata": {
    "scrolled": true
   },
   "outputs": [
    {
     "name": "stdout",
     "output_type": "stream",
     "text": [
      "(502500, 6) (502500, 1)\n",
      "(370780, 6) (370780, 1)\n"
     ]
    }
   ],
   "source": [
    "# evaluate model on training dataset with outliers removed \n",
    "\n",
    "# split into input and output elements\n",
    "target=\"Calories\"\n",
    "X, y = data.drop(columns=target), data[[target]]\n",
    "\n",
    "# Only take numerical columns into account HERE\n",
    "X = X.select_dtypes(include=\"number\")\n",
    "\n",
    "# split into train and test sets \n",
    "X_train, X_test, y_train, y_test = train_test_split(X, y, test_size=0.33, random_state=1) \n",
    "\n",
    "# summarize the shape of the training dataset \n",
    "print(X_train.shape, y_train.shape) \n",
    "\n",
    "# identify outliers in the training dataset \n",
    "# lof = LocalOutlierFactor()\n",
    "lof = IsolationForest() \n",
    "yhat = lof.fit_predict(X_train) \n",
    "\n",
    "# select all rows that are not outliers \n",
    "mask = yhat != -1 \n",
    "X_train, y_train = X_train[mask], y_train[mask] \n",
    "\n",
    "# summarize the shape of the updated training dataset \n",
    "print(X_train.shape, y_train.shape) "
   ]
  },
  {
   "cell_type": "markdown",
   "id": "62c04195-02e1-4ee3-bf9e-b4105d83fa9b",
   "metadata": {},
   "source": [
    "**CONCLUSION**:"
   ]
  }
 ],
 "metadata": {
  "kernelspec": {
   "display_name": "Python 3 (ipykernel)",
   "language": "python",
   "name": "python3"
  },
  "language_info": {
   "codemirror_mode": {
    "name": "ipython",
    "version": 3
   },
   "file_extension": ".py",
   "mimetype": "text/x-python",
   "name": "python",
   "nbconvert_exporter": "python",
   "pygments_lexer": "ipython3",
   "version": "3.10.6"
  }
 },
 "nbformat": 4,
 "nbformat_minor": 5
}
