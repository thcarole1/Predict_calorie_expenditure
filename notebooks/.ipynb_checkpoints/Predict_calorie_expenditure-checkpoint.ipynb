{
 "cells": [
  {
   "cell_type": "markdown",
   "id": "6a027c7a-0b21-4d8a-b138-6f883f1193d7",
   "metadata": {},
   "source": [
    "Predict calorie expenditure"
   ]
  },
  {
   "cell_type": "code",
   "execution_count": null,
   "id": "a07354a6-9096-4eeb-8ea4-55b104811870",
   "metadata": {},
   "outputs": [],
   "source": []
  },
  {
   "cell_type": "markdown",
   "id": "996daa3a-5d20-4abb-9605-3f66b1a25f01",
   "metadata": {},
   "source": [
    "## Data cleaning"
   ]
  },
  {
   "cell_type": "markdown",
   "id": "9b98efed-c3a7-4a3a-b9dc-431d7c5e1ab6",
   "metadata": {},
   "source": [
    "### Basic data cleaning"
   ]
  },
  {
   "cell_type": "code",
   "execution_count": null,
   "id": "c4850787-ed46-4f6b-9f89-1e3036c43efc",
   "metadata": {},
   "outputs": [],
   "source": []
  },
  {
   "cell_type": "code",
   "execution_count": null,
   "id": "bcb4d0ee-d1ed-43df-bed4-86f9501af6b8",
   "metadata": {},
   "outputs": [],
   "source": []
  },
  {
   "cell_type": "code",
   "execution_count": null,
   "id": "073b8fe6-99e6-4567-ba35-8e0bd030033e",
   "metadata": {},
   "outputs": [],
   "source": []
  },
  {
   "cell_type": "code",
   "execution_count": null,
   "id": "f093332d-7fc3-4ed6-934b-a5062ac555c2",
   "metadata": {},
   "outputs": [],
   "source": []
  },
  {
   "cell_type": "code",
   "execution_count": null,
   "id": "c9ca9da4-9122-4761-acb8-2843dcf17329",
   "metadata": {},
   "outputs": [],
   "source": []
  },
  {
   "cell_type": "code",
   "execution_count": null,
   "id": "d849c099-cdc5-4097-8a7b-f93232e461c2",
   "metadata": {},
   "outputs": [],
   "source": []
  }
 ],
 "metadata": {
  "kernelspec": {
   "display_name": "Python 3 (ipykernel)",
   "language": "python",
   "name": "python3"
  },
  "language_info": {
   "codemirror_mode": {
    "name": "ipython",
    "version": 3
   },
   "file_extension": ".py",
   "mimetype": "text/x-python",
   "name": "python",
   "nbconvert_exporter": "python",
   "pygments_lexer": "ipython3",
   "version": "3.10.6"
  }
 },
 "nbformat": 4,
 "nbformat_minor": 5
}
